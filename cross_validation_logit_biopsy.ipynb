{
  "nbformat": 4,
  "nbformat_minor": 0,
  "metadata": {
    "colab": {
      "name": "cross_validation_logit_biopsy.ipynb",
      "provenance": [],
      "collapsed_sections": [
        "H7N18LP6zFiE",
        "yhPayHmhzAY8",
        "ivx0kJsZwCsV",
        "Uqz574GywLBW"
      ]
    },
    "kernelspec": {
      "name": "ir",
      "display_name": "R"
    },
    "language_info": {
      "name": "R"
    }
  },
  "cells": [
    {
      "cell_type": "markdown",
      "metadata": {
        "id": "H7N18LP6zFiE"
      },
      "source": [
        "## Regressão Logística com Cross Validation\n",
        "\n",
        "Dados do dataset biopsy com dados de biopsias de amostras malignas e benignas, em que as malignas representam a presennça de celulas cacerosas. O modelo visa identificar com precisão quais são as malignas e as benignas."
      ]
    },
    {
      "cell_type": "code",
      "metadata": {
        "colab": {
          "base_uri": "https://localhost:8080/"
        },
        "id": "K3RBdfxhitk7",
        "outputId": "ae16e254-5bf5-4c1a-a1fe-87e26e50283e"
      },
      "source": [
        "install.packages(\"ROCR\")\n",
        "install.packages(\"dummies\")\n",
        "install.packages(\"caret\") \n",
        "install.packages(\"e1071\") \n",
        "library(ROCR)\n",
        "library(dummies)\n",
        "library(caret) # for Cross Validation functions\n",
        "library(e1071)\n",
        "\n",
        "library(MASS) # Biblioteca com a base de dados \"biopsy\" que será usada neste estudo\n",
        "library(dplyr) # Analises estatisticas\n",
        "library(ggplot2) # Exploração Gráfica\n",
        "library(class) # Para usar a função knn() para o modelo de k-vizinhos mais próximos\n",
        "library(glue) # print especial"
      ],
      "execution_count": null,
      "outputs": [
        {
          "output_type": "stream",
          "name": "stderr",
          "text": [
            "Installing package into ‘/usr/local/lib/R/site-library’\n",
            "(as ‘lib’ is unspecified)\n",
            "\n",
            "Installing package into ‘/usr/local/lib/R/site-library’\n",
            "(as ‘lib’ is unspecified)\n",
            "\n",
            "Installing package into ‘/usr/local/lib/R/site-library’\n",
            "(as ‘lib’ is unspecified)\n",
            "\n",
            "Installing package into ‘/usr/local/lib/R/site-library’\n",
            "(as ‘lib’ is unspecified)\n",
            "\n"
          ]
        }
      ]
    },
    {
      "cell_type": "markdown",
      "metadata": {
        "id": "yhPayHmhzAY8"
      },
      "source": [
        "## Transformando os dados"
      ]
    },
    {
      "cell_type": "code",
      "metadata": {
        "colab": {
          "base_uri": "https://localhost:8080/",
          "height": 33
        },
        "id": "Kgi8pf1GjFe8",
        "outputId": "d864f30b-bee3-4f5b-f668-f18b7b70acbe"
      },
      "source": [
        "df <- na.omit(biopsy[,-c(1)])\n",
        "sum(is.na(df$V6))"
      ],
      "execution_count": null,
      "outputs": [
        {
          "output_type": "display_data",
          "data": {
            "text/plain": [
              "[1] 0"
            ],
            "text/latex": "0",
            "text/markdown": "0",
            "text/html": [
              "0"
            ]
          },
          "metadata": {}
        }
      ]
    },
    {
      "cell_type": "code",
      "metadata": {
        "colab": {
          "base_uri": "https://localhost:8080/",
          "height": 274
        },
        "id": "ivyFEEpW5Zk3",
        "outputId": "84837053-2c5f-4080-b35c-627cba3eeec9"
      },
      "source": [
        "head(df)\n",
        "df$class <- as.character(df$class)"
      ],
      "execution_count": null,
      "outputs": [
        {
          "output_type": "display_data",
          "data": {
            "text/plain": [
              "  V1 V2 V3 V4 V5 V6 V7 V8 V9 class    \n",
              "1 5   1  1 1  2   1 3  1  1  benign   \n",
              "2 5   4  4 5  7  10 3  2  1  benign   \n",
              "3 3   1  1 1  2   2 3  1  1  benign   \n",
              "4 6   8  8 1  3   4 3  7  1  benign   \n",
              "5 4   1  1 3  2   1 3  1  1  benign   \n",
              "6 8  10 10 8  7  10 9  7  1  malignant"
            ],
            "text/latex": "A data.frame: 6 × 10\n\\begin{tabular}{r|llllllllll}\n  & V1 & V2 & V3 & V4 & V5 & V6 & V7 & V8 & V9 & class\\\\\n  & <int> & <int> & <int> & <int> & <int> & <int> & <int> & <int> & <int> & <fct>\\\\\n\\hline\n\t1 & 5 &  1 &  1 & 1 & 2 &  1 & 3 & 1 & 1 & benign   \\\\\n\t2 & 5 &  4 &  4 & 5 & 7 & 10 & 3 & 2 & 1 & benign   \\\\\n\t3 & 3 &  1 &  1 & 1 & 2 &  2 & 3 & 1 & 1 & benign   \\\\\n\t4 & 6 &  8 &  8 & 1 & 3 &  4 & 3 & 7 & 1 & benign   \\\\\n\t5 & 4 &  1 &  1 & 3 & 2 &  1 & 3 & 1 & 1 & benign   \\\\\n\t6 & 8 & 10 & 10 & 8 & 7 & 10 & 9 & 7 & 1 & malignant\\\\\n\\end{tabular}\n",
            "text/markdown": "\nA data.frame: 6 × 10\n\n| <!--/--> | V1 &lt;int&gt; | V2 &lt;int&gt; | V3 &lt;int&gt; | V4 &lt;int&gt; | V5 &lt;int&gt; | V6 &lt;int&gt; | V7 &lt;int&gt; | V8 &lt;int&gt; | V9 &lt;int&gt; | class &lt;fct&gt; |\n|---|---|---|---|---|---|---|---|---|---|---|\n| 1 | 5 |  1 |  1 | 1 | 2 |  1 | 3 | 1 | 1 | benign    |\n| 2 | 5 |  4 |  4 | 5 | 7 | 10 | 3 | 2 | 1 | benign    |\n| 3 | 3 |  1 |  1 | 1 | 2 |  2 | 3 | 1 | 1 | benign    |\n| 4 | 6 |  8 |  8 | 1 | 3 |  4 | 3 | 7 | 1 | benign    |\n| 5 | 4 |  1 |  1 | 3 | 2 |  1 | 3 | 1 | 1 | benign    |\n| 6 | 8 | 10 | 10 | 8 | 7 | 10 | 9 | 7 | 1 | malignant |\n\n",
            "text/html": [
              "<table class=\"dataframe\">\n",
              "<caption>A data.frame: 6 × 10</caption>\n",
              "<thead>\n",
              "\t<tr><th></th><th scope=col>V1</th><th scope=col>V2</th><th scope=col>V3</th><th scope=col>V4</th><th scope=col>V5</th><th scope=col>V6</th><th scope=col>V7</th><th scope=col>V8</th><th scope=col>V9</th><th scope=col>class</th></tr>\n",
              "\t<tr><th></th><th scope=col>&lt;int&gt;</th><th scope=col>&lt;int&gt;</th><th scope=col>&lt;int&gt;</th><th scope=col>&lt;int&gt;</th><th scope=col>&lt;int&gt;</th><th scope=col>&lt;int&gt;</th><th scope=col>&lt;int&gt;</th><th scope=col>&lt;int&gt;</th><th scope=col>&lt;int&gt;</th><th scope=col>&lt;fct&gt;</th></tr>\n",
              "</thead>\n",
              "<tbody>\n",
              "\t<tr><th scope=row>1</th><td>5</td><td> 1</td><td> 1</td><td>1</td><td>2</td><td> 1</td><td>3</td><td>1</td><td>1</td><td>benign   </td></tr>\n",
              "\t<tr><th scope=row>2</th><td>5</td><td> 4</td><td> 4</td><td>5</td><td>7</td><td>10</td><td>3</td><td>2</td><td>1</td><td>benign   </td></tr>\n",
              "\t<tr><th scope=row>3</th><td>3</td><td> 1</td><td> 1</td><td>1</td><td>2</td><td> 2</td><td>3</td><td>1</td><td>1</td><td>benign   </td></tr>\n",
              "\t<tr><th scope=row>4</th><td>6</td><td> 8</td><td> 8</td><td>1</td><td>3</td><td> 4</td><td>3</td><td>7</td><td>1</td><td>benign   </td></tr>\n",
              "\t<tr><th scope=row>5</th><td>4</td><td> 1</td><td> 1</td><td>3</td><td>2</td><td> 1</td><td>3</td><td>1</td><td>1</td><td>benign   </td></tr>\n",
              "\t<tr><th scope=row>6</th><td>8</td><td>10</td><td>10</td><td>8</td><td>7</td><td>10</td><td>9</td><td>7</td><td>1</td><td>malignant</td></tr>\n",
              "</tbody>\n",
              "</table>\n"
            ]
          },
          "metadata": {}
        }
      ]
    },
    {
      "cell_type": "code",
      "metadata": {
        "id": "gsedQphq5ZqL"
      },
      "source": [
        "df[\"class\"][df[\"class\"] == \"malignant\"] <- 0\n",
        "df[\"class\"][df[\"class\"] == \"benign\"] <- 1"
      ],
      "execution_count": null,
      "outputs": []
    },
    {
      "cell_type": "code",
      "metadata": {
        "id": "gS7d3rCm6sd4"
      },
      "source": [
        "df$class <- as.factor(df$class)"
      ],
      "execution_count": null,
      "outputs": []
    },
    {
      "cell_type": "code",
      "metadata": {
        "colab": {
          "base_uri": "https://localhost:8080/",
          "height": 274
        },
        "id": "I4bSo_Ht5Zuq",
        "outputId": "fd723fb6-4506-4cb5-b66b-9063e0d7bd15"
      },
      "source": [
        "head(df)"
      ],
      "execution_count": null,
      "outputs": [
        {
          "output_type": "display_data",
          "data": {
            "text/plain": [
              "  V1 V2 V3 V4 V5 V6 V7 V8 V9 class\n",
              "1 5   1  1 1  2   1 3  1  1  1    \n",
              "2 5   4  4 5  7  10 3  2  1  1    \n",
              "3 3   1  1 1  2   2 3  1  1  1    \n",
              "4 6   8  8 1  3   4 3  7  1  1    \n",
              "5 4   1  1 3  2   1 3  1  1  1    \n",
              "6 8  10 10 8  7  10 9  7  1  0    "
            ],
            "text/latex": "A data.frame: 6 × 10\n\\begin{tabular}{r|llllllllll}\n  & V1 & V2 & V3 & V4 & V5 & V6 & V7 & V8 & V9 & class\\\\\n  & <int> & <int> & <int> & <int> & <int> & <int> & <int> & <int> & <int> & <fct>\\\\\n\\hline\n\t1 & 5 &  1 &  1 & 1 & 2 &  1 & 3 & 1 & 1 & 1\\\\\n\t2 & 5 &  4 &  4 & 5 & 7 & 10 & 3 & 2 & 1 & 1\\\\\n\t3 & 3 &  1 &  1 & 1 & 2 &  2 & 3 & 1 & 1 & 1\\\\\n\t4 & 6 &  8 &  8 & 1 & 3 &  4 & 3 & 7 & 1 & 1\\\\\n\t5 & 4 &  1 &  1 & 3 & 2 &  1 & 3 & 1 & 1 & 1\\\\\n\t6 & 8 & 10 & 10 & 8 & 7 & 10 & 9 & 7 & 1 & 0\\\\\n\\end{tabular}\n",
            "text/markdown": "\nA data.frame: 6 × 10\n\n| <!--/--> | V1 &lt;int&gt; | V2 &lt;int&gt; | V3 &lt;int&gt; | V4 &lt;int&gt; | V5 &lt;int&gt; | V6 &lt;int&gt; | V7 &lt;int&gt; | V8 &lt;int&gt; | V9 &lt;int&gt; | class &lt;fct&gt; |\n|---|---|---|---|---|---|---|---|---|---|---|\n| 1 | 5 |  1 |  1 | 1 | 2 |  1 | 3 | 1 | 1 | 1 |\n| 2 | 5 |  4 |  4 | 5 | 7 | 10 | 3 | 2 | 1 | 1 |\n| 3 | 3 |  1 |  1 | 1 | 2 |  2 | 3 | 1 | 1 | 1 |\n| 4 | 6 |  8 |  8 | 1 | 3 |  4 | 3 | 7 | 1 | 1 |\n| 5 | 4 |  1 |  1 | 3 | 2 |  1 | 3 | 1 | 1 | 1 |\n| 6 | 8 | 10 | 10 | 8 | 7 | 10 | 9 | 7 | 1 | 0 |\n\n",
            "text/html": [
              "<table class=\"dataframe\">\n",
              "<caption>A data.frame: 6 × 10</caption>\n",
              "<thead>\n",
              "\t<tr><th></th><th scope=col>V1</th><th scope=col>V2</th><th scope=col>V3</th><th scope=col>V4</th><th scope=col>V5</th><th scope=col>V6</th><th scope=col>V7</th><th scope=col>V8</th><th scope=col>V9</th><th scope=col>class</th></tr>\n",
              "\t<tr><th></th><th scope=col>&lt;int&gt;</th><th scope=col>&lt;int&gt;</th><th scope=col>&lt;int&gt;</th><th scope=col>&lt;int&gt;</th><th scope=col>&lt;int&gt;</th><th scope=col>&lt;int&gt;</th><th scope=col>&lt;int&gt;</th><th scope=col>&lt;int&gt;</th><th scope=col>&lt;int&gt;</th><th scope=col>&lt;fct&gt;</th></tr>\n",
              "</thead>\n",
              "<tbody>\n",
              "\t<tr><th scope=row>1</th><td>5</td><td> 1</td><td> 1</td><td>1</td><td>2</td><td> 1</td><td>3</td><td>1</td><td>1</td><td>1</td></tr>\n",
              "\t<tr><th scope=row>2</th><td>5</td><td> 4</td><td> 4</td><td>5</td><td>7</td><td>10</td><td>3</td><td>2</td><td>1</td><td>1</td></tr>\n",
              "\t<tr><th scope=row>3</th><td>3</td><td> 1</td><td> 1</td><td>1</td><td>2</td><td> 2</td><td>3</td><td>1</td><td>1</td><td>1</td></tr>\n",
              "\t<tr><th scope=row>4</th><td>6</td><td> 8</td><td> 8</td><td>1</td><td>3</td><td> 4</td><td>3</td><td>7</td><td>1</td><td>1</td></tr>\n",
              "\t<tr><th scope=row>5</th><td>4</td><td> 1</td><td> 1</td><td>3</td><td>2</td><td> 1</td><td>3</td><td>1</td><td>1</td><td>1</td></tr>\n",
              "\t<tr><th scope=row>6</th><td>8</td><td>10</td><td>10</td><td>8</td><td>7</td><td>10</td><td>9</td><td>7</td><td>1</td><td>0</td></tr>\n",
              "</tbody>\n",
              "</table>\n"
            ]
          },
          "metadata": {}
        }
      ]
    },
    {
      "cell_type": "code",
      "metadata": {
        "colab": {
          "base_uri": "https://localhost:8080/",
          "height": 33
        },
        "id": "Sdm1nHSy7TY2",
        "outputId": "182e47b3-71a7-494e-98a5-d718d52bb35a"
      },
      "source": [
        "sum(is.na(df))"
      ],
      "execution_count": null,
      "outputs": [
        {
          "output_type": "display_data",
          "data": {
            "text/plain": [
              "[1] 0"
            ],
            "text/latex": "0",
            "text/markdown": "0",
            "text/html": [
              "0"
            ]
          },
          "metadata": {}
        }
      ]
    },
    {
      "cell_type": "markdown",
      "metadata": {
        "id": "ivx0kJsZwCsV"
      },
      "source": [
        "## Criando o modelo de regressão logística com cross validation"
      ]
    },
    {
      "cell_type": "markdown",
      "metadata": {
        "id": "QcY-OFiTzQYV"
      },
      "source": [
        "Mesmo que o modelo sendo aplicado em loop para a reamostragem, há a chance de nem todos os dados serem usados como treino e teste, podendo ser repetidos. O crossvalidation faz a repartição dos dados em n vezes e reparte os dados de forma que todos os dados sejam usados como treino e teste ao menos uma vez, otimizando a seleção da amostra."
      ]
    },
    {
      "cell_type": "code",
      "metadata": {
        "id": "PQcPE4Ao6nFv"
      },
      "source": [
        "ctrl <- trainControl(method=\"repeatedcv\", number=683, repeats=1)"
      ],
      "execution_count": null,
      "outputs": []
    },
    {
      "cell_type": "code",
      "metadata": {
        "colab": {
          "base_uri": "https://localhost:8080/",
          "height": 33
        },
        "id": "b_Ea-XfkmXcr",
        "outputId": "5b646127-e642-43a3-8b5a-6bf59e046df3"
      },
      "source": [
        "nrow(df)"
      ],
      "execution_count": null,
      "outputs": [
        {
          "output_type": "display_data",
          "data": {
            "text/plain": [
              "[1] 683"
            ],
            "text/latex": "683",
            "text/markdown": "683",
            "text/html": [
              "683"
            ]
          },
          "metadata": {}
        }
      ]
    },
    {
      "cell_type": "code",
      "metadata": {
        "colab": {
          "base_uri": "https://localhost:8080/",
          "height": 283
        },
        "id": "4l-0NpMi7hzL",
        "outputId": "80418165-3469-4956-9a03-48c3d6a2cbbb"
      },
      "source": [
        "fit <- train(class~., data=df, method=\"glm\", family=\"binomial\", trControl=ctrl, preProcess = c(\"center\", \"scale\"))\n",
        "fit"
      ],
      "execution_count": null,
      "outputs": [
        {
          "output_type": "stream",
          "name": "stderr",
          "text": [
            "Warning message in nominalTrainWorkflow(x = x, y = y, wts = weights, info = trainInfo, :\n",
            "“There were missing values in resampled performance measures.”\n"
          ]
        },
        {
          "output_type": "display_data",
          "data": {
            "text/plain": [
              "Generalized Linear Model \n",
              "\n",
              "683 samples\n",
              "  9 predictor\n",
              "  2 classes: '0', '1' \n",
              "\n",
              "Pre-processing: centered (9), scaled (9) \n",
              "Resampling: Cross-Validated (683 fold, repeated 1 times) \n",
              "Summary of sample sizes: 682, 682, 682, 682, 682, 682, ... \n",
              "Resampling results:\n",
              "\n",
              "  Accuracy   Kappa\n",
              "  0.9677892  0    \n"
            ]
          },
          "metadata": {}
        }
      ]
    },
    {
      "cell_type": "code",
      "metadata": {
        "colab": {
          "base_uri": "https://localhost:8080/",
          "height": 550
        },
        "id": "L1jSfzX9v4gJ",
        "outputId": "ff93b758-d2f3-4564-a7cc-2c1889ae2954"
      },
      "source": [
        "summary(fit)"
      ],
      "execution_count": null,
      "outputs": [
        {
          "output_type": "display_data",
          "data": {
            "text/plain": [
              "\n",
              "Call:\n",
              "NULL\n",
              "\n",
              "Deviance Residuals: \n",
              "    Min       1Q   Median       3Q      Max  \n",
              "-2.4698  -0.0222   0.0619   0.1153   3.4841  \n",
              "\n",
              "Coefficients:\n",
              "            Estimate Std. Error z value Pr(>|z|)    \n",
              "(Intercept)  1.09414    0.32333   3.384 0.000714 ***\n",
              "V1          -1.50915    0.40060  -3.767 0.000165 ***\n",
              "V2           0.01925    0.64085   0.030 0.976039    \n",
              "V3          -0.96443    0.68917  -1.399 0.161688    \n",
              "V4          -0.94713    0.35363  -2.678 0.007400 ** \n",
              "V5          -0.21483    0.34812  -0.617 0.537159    \n",
              "V6          -1.39569    0.34195  -4.082 4.47e-05 ***\n",
              "V7          -1.09547    0.41983  -2.609 0.009073 ** \n",
              "V8          -0.65031    0.34457  -1.887 0.059115 .  \n",
              "V9          -0.92670    0.56966  -1.627 0.103788    \n",
              "---\n",
              "Signif. codes:  0 ‘***’ 0.001 ‘**’ 0.01 ‘*’ 0.05 ‘.’ 0.1 ‘ ’ 1\n",
              "\n",
              "(Dispersion parameter for binomial family taken to be 1)\n",
              "\n",
              "    Null deviance: 884.35  on 682  degrees of freedom\n",
              "Residual deviance: 102.89  on 673  degrees of freedom\n",
              "AIC: 122.89\n",
              "\n",
              "Number of Fisher Scoring iterations: 8\n"
            ]
          },
          "metadata": {}
        }
      ]
    },
    {
      "cell_type": "code",
      "metadata": {
        "colab": {
          "base_uri": "https://localhost:8080/",
          "height": 274
        },
        "id": "YgVGJcaGqzHF",
        "outputId": "86ec8037-3042-4a2c-cc59-20cd5c2dc72f"
      },
      "source": [
        "# A probailidade de pertencer a uma ou à outra classe\n",
        "predict_test_prob = predict(fit, newdata= df, type=\"prob\")\n",
        "head(round(predict_test_prob,3))"
      ],
      "execution_count": null,
      "outputs": [
        {
          "output_type": "display_data",
          "data": {
            "text/plain": [
              "  0     1    \n",
              "1 0.016 0.984\n",
              "2 0.909 0.091\n",
              "3 0.008 0.992\n",
              "4 0.761 0.239\n",
              "5 0.018 0.982\n",
              "6 1.000 0.000"
            ],
            "text/latex": "A data.frame: 6 × 2\n\\begin{tabular}{r|ll}\n  & 0 & 1\\\\\n  & <dbl> & <dbl>\\\\\n\\hline\n\t1 & 0.016 & 0.984\\\\\n\t2 & 0.909 & 0.091\\\\\n\t3 & 0.008 & 0.992\\\\\n\t4 & 0.761 & 0.239\\\\\n\t5 & 0.018 & 0.982\\\\\n\t6 & 1.000 & 0.000\\\\\n\\end{tabular}\n",
            "text/markdown": "\nA data.frame: 6 × 2\n\n| <!--/--> | 0 &lt;dbl&gt; | 1 &lt;dbl&gt; |\n|---|---|---|\n| 1 | 0.016 | 0.984 |\n| 2 | 0.909 | 0.091 |\n| 3 | 0.008 | 0.992 |\n| 4 | 0.761 | 0.239 |\n| 5 | 0.018 | 0.982 |\n| 6 | 1.000 | 0.000 |\n\n",
            "text/html": [
              "<table class=\"dataframe\">\n",
              "<caption>A data.frame: 6 × 2</caption>\n",
              "<thead>\n",
              "\t<tr><th></th><th scope=col>0</th><th scope=col>1</th></tr>\n",
              "\t<tr><th></th><th scope=col>&lt;dbl&gt;</th><th scope=col>&lt;dbl&gt;</th></tr>\n",
              "</thead>\n",
              "<tbody>\n",
              "\t<tr><th scope=row>1</th><td>0.016</td><td>0.984</td></tr>\n",
              "\t<tr><th scope=row>2</th><td>0.909</td><td>0.091</td></tr>\n",
              "\t<tr><th scope=row>3</th><td>0.008</td><td>0.992</td></tr>\n",
              "\t<tr><th scope=row>4</th><td>0.761</td><td>0.239</td></tr>\n",
              "\t<tr><th scope=row>5</th><td>0.018</td><td>0.982</td></tr>\n",
              "\t<tr><th scope=row>6</th><td>1.000</td><td>0.000</td></tr>\n",
              "</tbody>\n",
              "</table>\n"
            ]
          },
          "metadata": {}
        }
      ]
    },
    {
      "cell_type": "code",
      "metadata": {
        "colab": {
          "base_uri": "https://localhost:8080/",
          "height": 261
        },
        "id": "FFFUM8yNrMmS",
        "outputId": "0c119f2a-3d91-429e-8eea-0f6cef87f302"
      },
      "source": [
        "# Ajustanto para ver apenas os valores acima de 50% temos a classificação como 0 ou 1\n",
        "# Probabilidade acima de 50% para 0 será 0, acima de 50% para 1 será 1\n",
        "predict_test_prob = predict(fit, newdata= df, type=\"prob\")>0.5\n",
        "head(predict_test_prob)"
      ],
      "execution_count": null,
      "outputs": [
        {
          "output_type": "display_data",
          "data": {
            "text/plain": [
              "  0     1    \n",
              "1 FALSE  TRUE\n",
              "2  TRUE FALSE\n",
              "3 FALSE  TRUE\n",
              "4  TRUE FALSE\n",
              "5 FALSE  TRUE\n",
              "6  TRUE FALSE"
            ],
            "text/latex": "A matrix: 6 × 2 of type lgl\n\\begin{tabular}{r|ll}\n  & 0 & 1\\\\\n\\hline\n\t1 & FALSE &  TRUE\\\\\n\t2 &  TRUE & FALSE\\\\\n\t3 & FALSE &  TRUE\\\\\n\t4 &  TRUE & FALSE\\\\\n\t5 & FALSE &  TRUE\\\\\n\t6 &  TRUE & FALSE\\\\\n\\end{tabular}\n",
            "text/markdown": "\nA matrix: 6 × 2 of type lgl\n\n| <!--/--> | 0 | 1 |\n|---|---|---|\n| 1 | FALSE |  TRUE |\n| 2 |  TRUE | FALSE |\n| 3 | FALSE |  TRUE |\n| 4 |  TRUE | FALSE |\n| 5 | FALSE |  TRUE |\n| 6 |  TRUE | FALSE |\n\n",
            "text/html": [
              "<table class=\"dataframe\">\n",
              "<caption>A matrix: 6 × 2 of type lgl</caption>\n",
              "<thead>\n",
              "\t<tr><th></th><th scope=col>0</th><th scope=col>1</th></tr>\n",
              "</thead>\n",
              "<tbody>\n",
              "\t<tr><th scope=row>1</th><td>FALSE</td><td> TRUE</td></tr>\n",
              "\t<tr><th scope=row>2</th><td> TRUE</td><td>FALSE</td></tr>\n",
              "\t<tr><th scope=row>3</th><td>FALSE</td><td> TRUE</td></tr>\n",
              "\t<tr><th scope=row>4</th><td> TRUE</td><td>FALSE</td></tr>\n",
              "\t<tr><th scope=row>5</th><td>FALSE</td><td> TRUE</td></tr>\n",
              "\t<tr><th scope=row>6</th><td> TRUE</td><td>FALSE</td></tr>\n",
              "</tbody>\n",
              "</table>\n"
            ]
          },
          "metadata": {}
        }
      ]
    },
    {
      "cell_type": "code",
      "metadata": {
        "colab": {
          "base_uri": "https://localhost:8080/",
          "height": 133
        },
        "id": "8Fx5XgjD7iSN",
        "outputId": "6596297f-97fe-4dd0-ea15-aaf9cc79f224"
      },
      "source": [
        "predict_test = predict(fit, newdata= df, type=\"raw\")\n",
        "predict_test"
      ],
      "execution_count": null,
      "outputs": [
        {
          "output_type": "display_data",
          "data": {
            "text/plain": [
              "  [1] 1 0 1 0 1 0 1 1 1 1 1 1 1 1 0 0 1 1 0 1 0 0 1 1 0 1 1 1 1 1 1 0 1 1 1 0 1\n",
              " [38] 0 0 0 0 1 0 1 0 1 1 0 0 1 0 0 0 0 0 0 0 0 0 1 0 1 1 0 1 0 0 1 1 0 1 0 0 1\n",
              " [75] 1 1 1 1 1 1 1 1 0 0 0 0 1 1 1 1 1 1 1 1 1 1 0 0 0 1 1 0 0 0 0 0 1 0 1 0 0\n",
              "[112] 0 1 1 1 0 1 1 1 1 0 0 0 1 0 1 0 1 1 1 0 1 1 1 1 1 1 1 1 0 1 1 1 1 1 0 1 0\n",
              "[149] 0 1 1 0 1 1 0 0 1 1 1 1 0 0 1 1 1 1 1 0 0 0 1 0 1 0 1 1 1 0 0 1 0 0 0 1 0\n",
              "[186] 0 1 1 1 1 0 1 1 1 0 0 1 1 1 0 0 1 1 1 0 0 1 0 0 0 1 1 0 1 1 0 1 0 0 1 0 0\n",
              "[223] 1 0 0 0 0 0 1 0 0 0 0 1 1 1 1 1 1 0 0 1 1 0 0 0 0 0 1 1 1 0 0 0 0 0 0 1 0\n",
              "[260] 0 0 1 0 1 0 1 1 1 1 1 0 1 1 0 0 0 0 0 1 0 0 1 1 0 0 0 1 0 0 1 0 1 0 0 1 1\n",
              "[297] 0 1 1 1 0 1 1 0 0 1 0 0 1 0 1 1 0 1 0 0 0 1 1 0 0 1 0 1 1 0 0 1 1 1 0 1 1\n",
              "[334] 1 1 0 1 1 1 0 1 1 1 0 0 0 0 0 1 1 1 1 0 0 1 1 1 1 1 1 1 1 1 1 1 1 1 0 1 1\n",
              "[371] 1 1 0 1 1 1 1 0 1 1 1 1 1 1 1 1 0 1 1 1 1 1 1 1 1 1 1 0 1 0 1 0 1 1 1 1 0\n",
              "[408] 1 1 1 0 1 0 1 1 1 1 1 1 0 0 0 1 1 1 0 1 1 1 1 1 1 1 1 0 1 1 1 0 1 0 0 0 1\n",
              "[445] 1 1 1 1 1 1 0 0 0 1 1 1 1 1 1 1 1 1 1 1 0 1 1 0 0 1 1 1 0 0 1 1 0 1 0 0 1\n",
              "[482] 1 1 1 1 1 1 1 1 1 1 0 1 1 1 1 1 1 1 0 0 1 1 1 0 1 1 0 0 1 1 1 1 1 1 0 1 1\n",
              "[519] 1 1 1 1 1 1 1 1 1 1 1 1 1 0 1 1 0 1 1 1 1 1 1 1 1 1 1 1 1 1 1 1 0 1 1 0 0\n",
              "[556] 0 0 1 1 0 1 1 1 1 1 1 0 0 1 1 1 0 1 0 1 0 0 0 1 0 1 1 1 1 1 1 1 1 0 0 0 1\n",
              "[593] 1 0 1 0 0 0 1 1 1 1 1 1 1 1 1 1 1 1 0 1 1 1 1 1 1 0 1 1 0 1 1 1 1 1 1 1 1\n",
              "[630] 1 1 1 0 1 1 1 1 1 1 1 1 1 0 1 1 1 1 1 1 1 1 1 0 0 0 1 1 1 1 1 1 1 1 1 0 0\n",
              "[667] 1 1 1 1 1 1 1 1 1 0 1 1 1 1 0 0 0\n",
              "Levels: 0 1"
            ],
            "text/latex": "\\begin{enumerate*}\n\\item 1\n\\item 0\n\\item 1\n\\item 0\n\\item 1\n\\item 0\n\\item 1\n\\item 1\n\\item 1\n\\item 1\n\\item 1\n\\item 1\n\\item 1\n\\item 1\n\\item 0\n\\item 0\n\\item 1\n\\item 1\n\\item 0\n\\item 1\n\\item 0\n\\item 0\n\\item 1\n\\item 1\n\\item 0\n\\item 1\n\\item 1\n\\item 1\n\\item 1\n\\item 1\n\\item 1\n\\item 0\n\\item 1\n\\item 1\n\\item 1\n\\item 0\n\\item 1\n\\item 0\n\\item 0\n\\item 0\n\\item 0\n\\item 1\n\\item 0\n\\item 1\n\\item 0\n\\item 1\n\\item 1\n\\item 0\n\\item 0\n\\item 1\n\\item 0\n\\item 0\n\\item 0\n\\item 0\n\\item 0\n\\item 0\n\\item 0\n\\item 0\n\\item 0\n\\item 1\n\\item 0\n\\item 1\n\\item 1\n\\item 0\n\\item 1\n\\item 0\n\\item 0\n\\item 1\n\\item 1\n\\item 0\n\\item 1\n\\item 0\n\\item 0\n\\item 1\n\\item 1\n\\item 1\n\\item 1\n\\item 1\n\\item 1\n\\item 1\n\\item 1\n\\item 1\n\\item 0\n\\item 0\n\\item 0\n\\item 0\n\\item 1\n\\item 1\n\\item 1\n\\item 1\n\\item 1\n\\item 1\n\\item 1\n\\item 1\n\\item 1\n\\item 1\n\\item 0\n\\item 0\n\\item 0\n\\item 1\n\\item 1\n\\item 0\n\\item 0\n\\item 0\n\\item 0\n\\item 0\n\\item 1\n\\item 0\n\\item 1\n\\item 0\n\\item 0\n\\item 0\n\\item 1\n\\item 1\n\\item 1\n\\item 0\n\\item 1\n\\item 1\n\\item 1\n\\item 1\n\\item 0\n\\item 0\n\\item 0\n\\item 1\n\\item 0\n\\item 1\n\\item 0\n\\item 1\n\\item 1\n\\item 1\n\\item 0\n\\item 1\n\\item 1\n\\item 1\n\\item 1\n\\item 1\n\\item 1\n\\item 1\n\\item 1\n\\item 0\n\\item 1\n\\item 1\n\\item 1\n\\item 1\n\\item 1\n\\item 0\n\\item 1\n\\item 0\n\\item 0\n\\item 1\n\\item 1\n\\item 0\n\\item 1\n\\item 1\n\\item 0\n\\item 0\n\\item 1\n\\item 1\n\\item 1\n\\item 1\n\\item 0\n\\item 0\n\\item 1\n\\item 1\n\\item 1\n\\item 1\n\\item 1\n\\item 0\n\\item 0\n\\item 0\n\\item 1\n\\item 0\n\\item 1\n\\item 0\n\\item 1\n\\item 1\n\\item 1\n\\item 0\n\\item 0\n\\item 1\n\\item 0\n\\item 0\n\\item 0\n\\item 1\n\\item 0\n\\item 0\n\\item 1\n\\item 1\n\\item 1\n\\item 1\n\\item 0\n\\item 1\n\\item 1\n\\item 1\n\\item 0\n\\item 0\n\\item 1\n\\item 1\n\\item 1\n\\item 0\n\\item ⋯\n\\item 1\n\\item 1\n\\item 1\n\\item 1\n\\item 1\n\\item 1\n\\item 1\n\\item 1\n\\item 0\n\\item 1\n\\item 1\n\\item 1\n\\item 1\n\\item 1\n\\item 1\n\\item 1\n\\item 0\n\\item 0\n\\item 1\n\\item 1\n\\item 1\n\\item 0\n\\item 1\n\\item 1\n\\item 0\n\\item 0\n\\item 1\n\\item 1\n\\item 1\n\\item 1\n\\item 1\n\\item 1\n\\item 0\n\\item 1\n\\item 1\n\\item 1\n\\item 1\n\\item 1\n\\item 1\n\\item 1\n\\item 1\n\\item 1\n\\item 1\n\\item 1\n\\item 1\n\\item 1\n\\item 1\n\\item 1\n\\item 0\n\\item 1\n\\item 1\n\\item 0\n\\item 1\n\\item 1\n\\item 1\n\\item 1\n\\item 1\n\\item 1\n\\item 1\n\\item 1\n\\item 1\n\\item 1\n\\item 1\n\\item 1\n\\item 1\n\\item 1\n\\item 1\n\\item 0\n\\item 1\n\\item 1\n\\item 0\n\\item 0\n\\item 0\n\\item 0\n\\item 1\n\\item 1\n\\item 0\n\\item 1\n\\item 1\n\\item 1\n\\item 1\n\\item 1\n\\item 1\n\\item 0\n\\item 0\n\\item 1\n\\item 1\n\\item 1\n\\item 0\n\\item 1\n\\item 0\n\\item 1\n\\item 0\n\\item 0\n\\item 0\n\\item 1\n\\item 0\n\\item 1\n\\item 1\n\\item 1\n\\item 1\n\\item 1\n\\item 1\n\\item 1\n\\item 1\n\\item 0\n\\item 0\n\\item 0\n\\item 1\n\\item 1\n\\item 0\n\\item 1\n\\item 0\n\\item 0\n\\item 0\n\\item 1\n\\item 1\n\\item 1\n\\item 1\n\\item 1\n\\item 1\n\\item 1\n\\item 1\n\\item 1\n\\item 1\n\\item 1\n\\item 1\n\\item 0\n\\item 1\n\\item 1\n\\item 1\n\\item 1\n\\item 1\n\\item 1\n\\item 0\n\\item 1\n\\item 1\n\\item 0\n\\item 1\n\\item 1\n\\item 1\n\\item 1\n\\item 1\n\\item 1\n\\item 1\n\\item 1\n\\item 1\n\\item 1\n\\item 1\n\\item 0\n\\item 1\n\\item 1\n\\item 1\n\\item 1\n\\item 1\n\\item 1\n\\item 1\n\\item 1\n\\item 1\n\\item 0\n\\item 1\n\\item 1\n\\item 1\n\\item 1\n\\item 1\n\\item 1\n\\item 1\n\\item 1\n\\item 1\n\\item 0\n\\item 0\n\\item 0\n\\item 1\n\\item 1\n\\item 1\n\\item 1\n\\item 1\n\\item 1\n\\item 1\n\\item 1\n\\item 1\n\\item 0\n\\item 0\n\\item 1\n\\item 1\n\\item 1\n\\item 1\n\\item 1\n\\item 1\n\\item 1\n\\item 1\n\\item 1\n\\item 0\n\\item 1\n\\item 1\n\\item 1\n\\item 1\n\\item 0\n\\item 0\n\\item 0\n\\end{enumerate*}\n\n\\emph{Levels}: \\begin{enumerate*}\n\\item '0'\n\\item '1'\n\\end{enumerate*}\n",
            "text/markdown": "1. 1\n2. 0\n3. 1\n4. 0\n5. 1\n6. 0\n7. 1\n8. 1\n9. 1\n10. 1\n11. 1\n12. 1\n13. 1\n14. 1\n15. 0\n16. 0\n17. 1\n18. 1\n19. 0\n20. 1\n21. 0\n22. 0\n23. 1\n24. 1\n25. 0\n26. 1\n27. 1\n28. 1\n29. 1\n30. 1\n31. 1\n32. 0\n33. 1\n34. 1\n35. 1\n36. 0\n37. 1\n38. 0\n39. 0\n40. 0\n41. 0\n42. 1\n43. 0\n44. 1\n45. 0\n46. 1\n47. 1\n48. 0\n49. 0\n50. 1\n51. 0\n52. 0\n53. 0\n54. 0\n55. 0\n56. 0\n57. 0\n58. 0\n59. 0\n60. 1\n61. 0\n62. 1\n63. 1\n64. 0\n65. 1\n66. 0\n67. 0\n68. 1\n69. 1\n70. 0\n71. 1\n72. 0\n73. 0\n74. 1\n75. 1\n76. 1\n77. 1\n78. 1\n79. 1\n80. 1\n81. 1\n82. 1\n83. 0\n84. 0\n85. 0\n86. 0\n87. 1\n88. 1\n89. 1\n90. 1\n91. 1\n92. 1\n93. 1\n94. 1\n95. 1\n96. 1\n97. 0\n98. 0\n99. 0\n100. 1\n101. 1\n102. 0\n103. 0\n104. 0\n105. 0\n106. 0\n107. 1\n108. 0\n109. 1\n110. 0\n111. 0\n112. 0\n113. 1\n114. 1\n115. 1\n116. 0\n117. 1\n118. 1\n119. 1\n120. 1\n121. 0\n122. 0\n123. 0\n124. 1\n125. 0\n126. 1\n127. 0\n128. 1\n129. 1\n130. 1\n131. 0\n132. 1\n133. 1\n134. 1\n135. 1\n136. 1\n137. 1\n138. 1\n139. 1\n140. 0\n141. 1\n142. 1\n143. 1\n144. 1\n145. 1\n146. 0\n147. 1\n148. 0\n149. 0\n150. 1\n151. 1\n152. 0\n153. 1\n154. 1\n155. 0\n156. 0\n157. 1\n158. 1\n159. 1\n160. 1\n161. 0\n162. 0\n163. 1\n164. 1\n165. 1\n166. 1\n167. 1\n168. 0\n169. 0\n170. 0\n171. 1\n172. 0\n173. 1\n174. 0\n175. 1\n176. 1\n177. 1\n178. 0\n179. 0\n180. 1\n181. 0\n182. 0\n183. 0\n184. 1\n185. 0\n186. 0\n187. 1\n188. 1\n189. 1\n190. 1\n191. 0\n192. 1\n193. 1\n194. 1\n195. 0\n196. 0\n197. 1\n198. 1\n199. 1\n200. 0\n201. ⋯\n202. 1\n203. 1\n204. 1\n205. 1\n206. 1\n207. 1\n208. 1\n209. 1\n210. 0\n211. 1\n212. 1\n213. 1\n214. 1\n215. 1\n216. 1\n217. 1\n218. 0\n219. 0\n220. 1\n221. 1\n222. 1\n223. 0\n224. 1\n225. 1\n226. 0\n227. 0\n228. 1\n229. 1\n230. 1\n231. 1\n232. 1\n233. 1\n234. 0\n235. 1\n236. 1\n237. 1\n238. 1\n239. 1\n240. 1\n241. 1\n242. 1\n243. 1\n244. 1\n245. 1\n246. 1\n247. 1\n248. 1\n249. 1\n250. 0\n251. 1\n252. 1\n253. 0\n254. 1\n255. 1\n256. 1\n257. 1\n258. 1\n259. 1\n260. 1\n261. 1\n262. 1\n263. 1\n264. 1\n265. 1\n266. 1\n267. 1\n268. 1\n269. 0\n270. 1\n271. 1\n272. 0\n273. 0\n274. 0\n275. 0\n276. 1\n277. 1\n278. 0\n279. 1\n280. 1\n281. 1\n282. 1\n283. 1\n284. 1\n285. 0\n286. 0\n287. 1\n288. 1\n289. 1\n290. 0\n291. 1\n292. 0\n293. 1\n294. 0\n295. 0\n296. 0\n297. 1\n298. 0\n299. 1\n300. 1\n301. 1\n302. 1\n303. 1\n304. 1\n305. 1\n306. 1\n307. 0\n308. 0\n309. 0\n310. 1\n311. 1\n312. 0\n313. 1\n314. 0\n315. 0\n316. 0\n317. 1\n318. 1\n319. 1\n320. 1\n321. 1\n322. 1\n323. 1\n324. 1\n325. 1\n326. 1\n327. 1\n328. 1\n329. 0\n330. 1\n331. 1\n332. 1\n333. 1\n334. 1\n335. 1\n336. 0\n337. 1\n338. 1\n339. 0\n340. 1\n341. 1\n342. 1\n343. 1\n344. 1\n345. 1\n346. 1\n347. 1\n348. 1\n349. 1\n350. 1\n351. 0\n352. 1\n353. 1\n354. 1\n355. 1\n356. 1\n357. 1\n358. 1\n359. 1\n360. 1\n361. 0\n362. 1\n363. 1\n364. 1\n365. 1\n366. 1\n367. 1\n368. 1\n369. 1\n370. 1\n371. 0\n372. 0\n373. 0\n374. 1\n375. 1\n376. 1\n377. 1\n378. 1\n379. 1\n380. 1\n381. 1\n382. 1\n383. 0\n384. 0\n385. 1\n386. 1\n387. 1\n388. 1\n389. 1\n390. 1\n391. 1\n392. 1\n393. 1\n394. 0\n395. 1\n396. 1\n397. 1\n398. 1\n399. 0\n400. 0\n401. 0\n\n\n\n**Levels**: 1. '0'\n2. '1'\n\n\n",
            "text/html": [
              "<style>\n",
              ".list-inline {list-style: none; margin:0; padding: 0}\n",
              ".list-inline>li {display: inline-block}\n",
              ".list-inline>li:not(:last-child)::after {content: \"\\00b7\"; padding: 0 .5ex}\n",
              "</style>\n",
              "<ol class=list-inline><li>1</li><li>0</li><li>1</li><li>0</li><li>1</li><li>0</li><li>1</li><li>1</li><li>1</li><li>1</li><li>1</li><li>1</li><li>1</li><li>1</li><li>0</li><li>0</li><li>1</li><li>1</li><li>0</li><li>1</li><li>0</li><li>0</li><li>1</li><li>1</li><li>0</li><li>1</li><li>1</li><li>1</li><li>1</li><li>1</li><li>1</li><li>0</li><li>1</li><li>1</li><li>1</li><li>0</li><li>1</li><li>0</li><li>0</li><li>0</li><li>0</li><li>1</li><li>0</li><li>1</li><li>0</li><li>1</li><li>1</li><li>0</li><li>0</li><li>1</li><li>0</li><li>0</li><li>0</li><li>0</li><li>0</li><li>0</li><li>0</li><li>0</li><li>0</li><li>1</li><li>0</li><li>1</li><li>1</li><li>0</li><li>1</li><li>0</li><li>0</li><li>1</li><li>1</li><li>0</li><li>1</li><li>0</li><li>0</li><li>1</li><li>1</li><li>1</li><li>1</li><li>1</li><li>1</li><li>1</li><li>1</li><li>1</li><li>0</li><li>0</li><li>0</li><li>0</li><li>1</li><li>1</li><li>1</li><li>1</li><li>1</li><li>1</li><li>1</li><li>1</li><li>1</li><li>1</li><li>0</li><li>0</li><li>0</li><li>1</li><li>1</li><li>0</li><li>0</li><li>0</li><li>0</li><li>0</li><li>1</li><li>0</li><li>1</li><li>0</li><li>0</li><li>0</li><li>1</li><li>1</li><li>1</li><li>0</li><li>1</li><li>1</li><li>1</li><li>1</li><li>0</li><li>0</li><li>0</li><li>1</li><li>0</li><li>1</li><li>0</li><li>1</li><li>1</li><li>1</li><li>0</li><li>1</li><li>1</li><li>1</li><li>1</li><li>1</li><li>1</li><li>1</li><li>1</li><li>0</li><li>1</li><li>1</li><li>1</li><li>1</li><li>1</li><li>0</li><li>1</li><li>0</li><li>0</li><li>1</li><li>1</li><li>0</li><li>1</li><li>1</li><li>0</li><li>0</li><li>1</li><li>1</li><li>1</li><li>1</li><li>0</li><li>0</li><li>1</li><li>1</li><li>1</li><li>1</li><li>1</li><li>0</li><li>0</li><li>0</li><li>1</li><li>0</li><li>1</li><li>0</li><li>1</li><li>1</li><li>1</li><li>0</li><li>0</li><li>1</li><li>0</li><li>0</li><li>0</li><li>1</li><li>0</li><li>0</li><li>1</li><li>1</li><li>1</li><li>1</li><li>0</li><li>1</li><li>1</li><li>1</li><li>0</li><li>0</li><li>1</li><li>1</li><li>1</li><li>0</li><li>⋯</li><li>1</li><li>1</li><li>1</li><li>1</li><li>1</li><li>1</li><li>1</li><li>1</li><li>0</li><li>1</li><li>1</li><li>1</li><li>1</li><li>1</li><li>1</li><li>1</li><li>0</li><li>0</li><li>1</li><li>1</li><li>1</li><li>0</li><li>1</li><li>1</li><li>0</li><li>0</li><li>1</li><li>1</li><li>1</li><li>1</li><li>1</li><li>1</li><li>0</li><li>1</li><li>1</li><li>1</li><li>1</li><li>1</li><li>1</li><li>1</li><li>1</li><li>1</li><li>1</li><li>1</li><li>1</li><li>1</li><li>1</li><li>1</li><li>0</li><li>1</li><li>1</li><li>0</li><li>1</li><li>1</li><li>1</li><li>1</li><li>1</li><li>1</li><li>1</li><li>1</li><li>1</li><li>1</li><li>1</li><li>1</li><li>1</li><li>1</li><li>1</li><li>0</li><li>1</li><li>1</li><li>0</li><li>0</li><li>0</li><li>0</li><li>1</li><li>1</li><li>0</li><li>1</li><li>1</li><li>1</li><li>1</li><li>1</li><li>1</li><li>0</li><li>0</li><li>1</li><li>1</li><li>1</li><li>0</li><li>1</li><li>0</li><li>1</li><li>0</li><li>0</li><li>0</li><li>1</li><li>0</li><li>1</li><li>1</li><li>1</li><li>1</li><li>1</li><li>1</li><li>1</li><li>1</li><li>0</li><li>0</li><li>0</li><li>1</li><li>1</li><li>0</li><li>1</li><li>0</li><li>0</li><li>0</li><li>1</li><li>1</li><li>1</li><li>1</li><li>1</li><li>1</li><li>1</li><li>1</li><li>1</li><li>1</li><li>1</li><li>1</li><li>0</li><li>1</li><li>1</li><li>1</li><li>1</li><li>1</li><li>1</li><li>0</li><li>1</li><li>1</li><li>0</li><li>1</li><li>1</li><li>1</li><li>1</li><li>1</li><li>1</li><li>1</li><li>1</li><li>1</li><li>1</li><li>1</li><li>0</li><li>1</li><li>1</li><li>1</li><li>1</li><li>1</li><li>1</li><li>1</li><li>1</li><li>1</li><li>0</li><li>1</li><li>1</li><li>1</li><li>1</li><li>1</li><li>1</li><li>1</li><li>1</li><li>1</li><li>0</li><li>0</li><li>0</li><li>1</li><li>1</li><li>1</li><li>1</li><li>1</li><li>1</li><li>1</li><li>1</li><li>1</li><li>0</li><li>0</li><li>1</li><li>1</li><li>1</li><li>1</li><li>1</li><li>1</li><li>1</li><li>1</li><li>1</li><li>0</li><li>1</li><li>1</li><li>1</li><li>1</li><li>0</li><li>0</li><li>0</li></ol>\n",
              "\n",
              "<details>\n",
              "\t<summary style=display:list-item;cursor:pointer>\n",
              "\t\t<strong>Levels</strong>:\n",
              "\t</summary>\n",
              "\t<style>\n",
              "\t.list-inline {list-style: none; margin:0; padding: 0}\n",
              "\t.list-inline>li {display: inline-block}\n",
              "\t.list-inline>li:not(:last-child)::after {content: \"\\00b7\"; padding: 0 .5ex}\n",
              "\t</style>\n",
              "\t<ol class=list-inline><li>'0'</li><li>'1'</li></ol>\n",
              "</details>"
            ]
          },
          "metadata": {}
        }
      ]
    },
    {
      "cell_type": "markdown",
      "metadata": {
        "id": "Uqz574GywLBW"
      },
      "source": [
        "## Avaliando o modelo"
      ]
    },
    {
      "cell_type": "code",
      "metadata": {
        "colab": {
          "base_uri": "https://localhost:8080/",
          "height": 87
        },
        "id": "447uRVzGqIit",
        "outputId": "e4e63e9c-e2ff-402d-aacb-8734fc22a522"
      },
      "source": [
        "matconf <- table(df$class, predict_test, dnn = list(\"Previsto\", \"Real\"))\n",
        "matconf"
      ],
      "execution_count": null,
      "outputs": [
        {
          "output_type": "display_data",
          "data": {
            "text/plain": [
              "        Real\n",
              "Previsto   0   1\n",
              "       0 228  11\n",
              "       1  10 434"
            ]
          },
          "metadata": {}
        }
      ]
    },
    {
      "cell_type": "code",
      "metadata": {
        "id": "4D3rxnGGsdM9"
      },
      "source": [
        "VP <- matconf[4]\n",
        "VN <- matconf[1]\n",
        "FP <- matconf[2]\n",
        "FN <- matconf[3]\n",
        "P <- VP + FN\n",
        "N <- VN + FP"
      ],
      "execution_count": null,
      "outputs": []
    },
    {
      "cell_type": "code",
      "metadata": {
        "colab": {
          "base_uri": "https://localhost:8080/",
          "height": 116
        },
        "id": "2Expal8AtOPH",
        "outputId": "a37d627b-820f-4959-872f-201aae9dcbce"
      },
      "source": [
        "glue('Verdadeiro Positivo = {VP}')\n",
        "glue('Verdadeiro Negativo = {VN}')\n",
        "glue('Falso Positivo =      {FP}')\n",
        "glue('Falso Negativo =      {FN}')\n",
        "glue('Número de eventos = {P}')\n",
        "glue('Número de não eventos = {N}')"
      ],
      "execution_count": null,
      "outputs": [
        {
          "output_type": "display_data",
          "data": {
            "text/plain": [
              "Verdadeiro Positivo = 434"
            ],
            "text/latex": "'Verdadeiro Positivo = 434'",
            "text/markdown": "'Verdadeiro Positivo = 434'",
            "text/html": [
              "'Verdadeiro Positivo = 434'"
            ]
          },
          "metadata": {}
        },
        {
          "output_type": "display_data",
          "data": {
            "text/plain": [
              "Verdadeiro Negativo = 228"
            ],
            "text/latex": "'Verdadeiro Negativo = 228'",
            "text/markdown": "'Verdadeiro Negativo = 228'",
            "text/html": [
              "'Verdadeiro Negativo = 228'"
            ]
          },
          "metadata": {}
        },
        {
          "output_type": "display_data",
          "data": {
            "text/plain": [
              "Falso Positivo =      10"
            ],
            "text/latex": "'Falso Positivo =      10'",
            "text/markdown": "<span style=white-space:pre-wrap>'Falso Positivo =      10'</span>",
            "text/html": [
              "<span style=white-space:pre-wrap>'Falso Positivo =      10'</span>"
            ]
          },
          "metadata": {}
        },
        {
          "output_type": "display_data",
          "data": {
            "text/plain": [
              "Falso Negativo =      11"
            ],
            "text/latex": "'Falso Negativo =      11'",
            "text/markdown": "<span style=white-space:pre-wrap>'Falso Negativo =      11'</span>",
            "text/html": [
              "<span style=white-space:pre-wrap>'Falso Negativo =      11'</span>"
            ]
          },
          "metadata": {}
        },
        {
          "output_type": "display_data",
          "data": {
            "text/plain": [
              "Número de eventos = 0"
            ],
            "text/latex": "'Número de eventos = 0'",
            "text/markdown": "'Número de eventos = 0'",
            "text/html": [
              "'Número de eventos = 0'"
            ]
          },
          "metadata": {}
        },
        {
          "output_type": "display_data",
          "data": {
            "text/plain": [
              "Número de não eventos = 0"
            ],
            "text/latex": "'Número de não eventos = 0'",
            "text/markdown": "'Número de não eventos = 0'",
            "text/html": [
              "'Número de não eventos = 0'"
            ]
          },
          "metadata": {}
        }
      ]
    },
    {
      "cell_type": "code",
      "metadata": {
        "colab": {
          "base_uri": "https://localhost:8080/",
          "height": 33
        },
        "id": "IkxN6zyOthts",
        "outputId": "82501a6e-4a71-4695-ddfd-b855a174ac57"
      },
      "source": [
        "acuracia <- (VN + VP) / (P + N) \n",
        "round(acuracia,3)"
      ],
      "execution_count": null,
      "outputs": [
        {
          "output_type": "display_data",
          "data": {
            "text/plain": [
              "[1] 0.969"
            ],
            "text/latex": "0.969",
            "text/markdown": "0.969",
            "text/html": [
              "0.969"
            ]
          },
          "metadata": {}
        }
      ]
    },
    {
      "cell_type": "code",
      "metadata": {
        "colab": {
          "base_uri": "https://localhost:8080/",
          "height": 33
        },
        "id": "E0_KKlF6tiSz",
        "outputId": "e706c1e4-88e5-42dd-bbc3-bdb6861f4886"
      },
      "source": [
        "sensibilidade <- VP / (VP + FN)\n",
        "round(sensibilidade,3)"
      ],
      "execution_count": null,
      "outputs": [
        {
          "output_type": "display_data",
          "data": {
            "text/plain": [
              "[1] 0.975"
            ],
            "text/latex": "0.975",
            "text/markdown": "0.975",
            "text/html": [
              "0.975"
            ]
          },
          "metadata": {}
        }
      ]
    },
    {
      "cell_type": "code",
      "metadata": {
        "colab": {
          "base_uri": "https://localhost:8080/",
          "height": 33
        },
        "id": "kamAql8CtifJ",
        "outputId": "953939c0-d7ed-48b4-9f24-259ff2d8788e"
      },
      "source": [
        "especificidade <- VN / (VN + FP)\n",
        "round(especificidade,3)"
      ],
      "execution_count": null,
      "outputs": [
        {
          "output_type": "display_data",
          "data": {
            "text/plain": [
              "[1] 0.958"
            ],
            "text/latex": "0.958",
            "text/markdown": "0.958",
            "text/html": [
              "0.958"
            ]
          },
          "metadata": {}
        }
      ]
    },
    {
      "cell_type": "markdown",
      "metadata": {
        "id": "_Xf13CAYymuB"
      },
      "source": [
        "A Curva ROCR\n",
        "\n",
        "A curva ROC é construída com base nos valores true positive (tpr)\n",
        "e false positive (fpr). A área AUC representa a área abaixo da linha\n",
        "ROC, sendo seu valor ideal, de máxima predição, igual a 1. (pacote ROCR)"
      ]
    },
    {
      "cell_type": "code",
      "metadata": {
        "colab": {
          "base_uri": "https://localhost:8080/",
          "height": 436
        },
        "id": "prtGzkEPnPd-",
        "outputId": "8f65261b-4973-47f7-ad3d-2147355028b9"
      },
      "source": [
        "# ROC curve \n",
        "pr=prediction(as.numeric(predict_test), as.numeric(df$class))\n",
        "prf=performance(pr, measure=\"tpr\", x.measure=\"fpr\")\n",
        "plot(prf,colorize=TRUE)"
      ],
      "execution_count": null,
      "outputs": [
        {
          "output_type": "display_data",
          "data": {
            "image/png": "[encoded data removed]",
            "text/plain": [
              "plot without title"
            ]
          },
          "metadata": {
            "image/png": {
              "width": 420,
              "height": 420
            }
          }
        }
      ]
    },
    {
      "cell_type": "code",
      "metadata": {
        "colab": {
          "base_uri": "https://localhost:8080/",
          "height": 33
        },
        "id": "q7Ni-SCTnPmN",
        "outputId": "21deffa4-ca3e-4109-ed15-5fd0c3c0d4ce"
      },
      "source": [
        "# Area under ROC curve \n",
        "auc=performance(pr, measure=\"auc\")\n",
        "auc=auc@y.values[[1]]\n",
        "auc"
      ],
      "execution_count": null,
      "outputs": [
        {
          "output_type": "display_data",
          "data": {
            "text/plain": [
              "[1] 0.9657262"
            ],
            "text/latex": "0.965726186437484",
            "text/markdown": "0.965726186437484",
            "text/html": [
              "0.965726186437484"
            ]
          },
          "metadata": {}
        }
      ]
    },
    {
      "cell_type": "markdown",
      "metadata": {
        "id": "qnjpZucOyf9w"
      },
      "source": [
        "A área AUC representa a área abaixo da linha\n",
        "ROC, sendo seu valor ideal, de máxima predição, igual a 1."
      ]
    }
  ]
}