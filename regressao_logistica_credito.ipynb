{
  "nbformat": 4,
  "nbformat_minor": 0,
  "metadata": {
    "colab": {
      "name": "regressao_logistica_credito.ipynb",
      "provenance": [],
      "collapsed_sections": [
        "TN7U22ojmiRe",
        "w3P_lSXcgOfE",
        "P2Te55zWBN5F",
        "P5ppJzQMu902"
      ]
    },
    "kernelspec": {
      "name": "ir",
      "display_name": "R"
    },
    "language_info": {
      "name": "R"
    }
  },
  "cells": [
    {
      "cell_type": "markdown",
      "metadata": {
        "id": "84R12D14mftU"
      },
      "source": [
        "## Regressão Logística com Cross Validation\n",
        "Regressão logística aplicada à dados bancários para classificação da viabilidade de aprovação do crédito para cliente com base em 16 atributos quantitativos e qualitativos"
      ]
    },
    {
      "cell_type": "markdown",
      "metadata": {
        "id": "TN7U22ojmiRe"
      },
      "source": [
        "## Preparação"
      ]
    },
    {
      "cell_type": "code",
      "metadata": {
        "colab": {
          "base_uri": "https://localhost:8080/"
        },
        "id": "PyFEX1U6fHxC",
        "outputId": "56b0b280-d77b-4866-e296-a2cdec1d01b6"
      },
      "source": [
        "install.packages(\"ROCR\")\n",
        "install.packages(\"dummies\")\n",
        "install.packages(\"caret\") \n",
        "install.packages(\"e1071\") \n",
        "\n",
        "library(ROCR)    # para explorar graficamente o modelo com a curva ROC\n",
        "library(dummies) # para a codificação dos dados qualitativos\n",
        "library(caret)   # for Cross Validation functions\n",
        "library(e1071)   # para o uso da função de regressão logística\n",
        "library(dplyr)   # Analises estatisticas\n",
        "library(ggplot2) # Exploração Gráfica\n",
        "library(class)   # Para usar a função knn() para o modelo de k-vizinhos mais próximos\n",
        "library(glue)    # print especial"
      ],
      "execution_count": null,
      "outputs": [
        {
          "output_type": "stream",
          "name": "stderr",
          "text": [
            "Installing package into ‘/usr/local/lib/R/site-library’\n",
            "(as ‘lib’ is unspecified)\n",
            "\n",
            "also installing the dependencies ‘bitops’, ‘gtools’, ‘caTools’, ‘gplots’\n",
            "\n",
            "\n",
            "Installing package into ‘/usr/local/lib/R/site-library’\n",
            "(as ‘lib’ is unspecified)\n",
            "\n",
            "Installing package into ‘/usr/local/lib/R/site-library’\n",
            "(as ‘lib’ is unspecified)\n",
            "\n",
            "also installing the dependencies ‘listenv’, ‘parallelly’, ‘future’, ‘globals’, ‘future.apply’, ‘progressr’, ‘numDeriv’, ‘SQUAREM’, ‘lava’, ‘prodlim’, ‘proxy’, ‘iterators’, ‘gower’, ‘ipred’, ‘timeDate’, ‘e1071’, ‘foreach’, ‘ModelMetrics’, ‘plyr’, ‘pROC’, ‘recipes’, ‘reshape2’\n",
            "\n",
            "\n",
            "Installing package into ‘/usr/local/lib/R/site-library’\n",
            "(as ‘lib’ is unspecified)\n",
            "\n",
            "dummies-1.5.6 provided by Decision Patterns\n",
            "\n",
            "\n",
            "Loading required package: ggplot2\n",
            "\n",
            "Loading required package: lattice\n",
            "\n",
            "Warning message in system(\"timedatectl\", intern = TRUE):\n",
            "“running command 'timedatectl' had status 1”\n",
            "\n",
            "Attaching package: ‘dplyr’\n",
            "\n",
            "\n",
            "The following objects are masked from ‘package:stats’:\n",
            "\n",
            "    filter, lag\n",
            "\n",
            "\n",
            "The following objects are masked from ‘package:base’:\n",
            "\n",
            "    intersect, setdiff, setequal, union\n",
            "\n",
            "\n",
            "\n",
            "Attaching package: ‘glue’\n",
            "\n",
            "\n",
            "The following object is masked from ‘package:dplyr’:\n",
            "\n",
            "    collapse\n",
            "\n",
            "\n"
          ]
        }
      ]
    },
    {
      "cell_type": "code",
      "metadata": {
        "colab": {
          "base_uri": "https://localhost:8080/",
          "height": 34
        },
        "id": "NI8mUnfdfo5h",
        "outputId": "16cbe015-d635-4419-a9e9-c6fadacd4457"
      },
      "source": [
        "colnames(df)"
      ],
      "execution_count": null,
      "outputs": [
        {
          "output_type": "display_data",
          "data": {
            "text/plain": [
              "NULL"
            ]
          },
          "metadata": {}
        }
      ]
    },
    {
      "cell_type": "markdown",
      "metadata": {
        "id": "w3P_lSXcgOfE"
      },
      "source": [
        "## Analise Exploratória dos dados"
      ]
    },
    {
      "cell_type": "markdown",
      "metadata": {
        "id": "8VPpvEuUhU-c"
      },
      "source": [
        "### Informações da fonte\n",
        "'http://archive.ics.uci.edu/ml/datasets/credit+approval'"
      ]
    },
    {
      "cell_type": "markdown",
      "metadata": {
        "id": "kkarGaTPg7u_"
      },
      "source": [
        "![image.png](data:image/png;base64,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)"
      ]
    },
    {
      "cell_type": "markdown",
      "metadata": {
        "id": "HcFN996KgO0Q"
      },
      "source": [
        "Rótulo do dataset disponibilizado pela fonte:\n",
        "\n",
        "\"This file concerns credit card applications. All attribute names and values have been changed to meaningless symbols to protect confidentiality of the data.\n",
        "\n",
        "This dataset is interesting because there is a good mix of attributes -- continuous, nominal with small numbers of values, and nominal with larger numbers of values. There are also a few missing values.\""
      ]
    },
    {
      "cell_type": "markdown",
      "metadata": {
        "id": "kKlJEEmegOpW"
      },
      "source": [
        "Dicionário de dados:\n",
        "\n",
        "A1: b, a.\n",
        "\n",
        "A2: continuous.\n",
        "\n",
        "A3: continuous.\n",
        "\n",
        "A4: u, y, l, t.\n",
        "\n",
        "A5: g, p, gg.\n",
        "\n",
        "A6: c, d, cc, i, j, k, m, r, q, w, x, e, aa, ff.\n",
        "\n",
        "A7: v, h, bb, j, n, z, dd, ff, o.\n",
        "\n",
        "A8: continuous.\n",
        "\n",
        "A9: t, f.\n",
        "\n",
        "A10: t, f.\n",
        "\n",
        "A11: continuous.\n",
        "\n",
        "A12: t, f.\n",
        "\n",
        "A13: g, p, s.\n",
        "\n",
        "A14: continuous.\n",
        "\n",
        "A15: continuous.\n",
        "\n",
        "A16: +,- (class attribute)\n"
      ]
    },
    {
      "cell_type": "markdown",
      "metadata": {
        "id": "75B913tj4Wf4"
      },
      "source": [
        "A variável resposta pode conter o valor \"+\" que representa Aprovado e \"-\" que significa Recusado"
      ]
    },
    {
      "cell_type": "markdown",
      "metadata": {
        "id": "7Sglqq0ljv9U"
      },
      "source": [
        "### Visualizando a base"
      ]
    },
    {
      "cell_type": "code",
      "metadata": {
        "colab": {
          "base_uri": "https://localhost:8080/"
        },
        "id": "L0EFDSB6feee",
        "outputId": "3d8020d8-70b0-4c01-cccb-e8f49d8ad491"
      },
      "source": [
        "df <- read.csv('/content/crx.data')\n",
        "head(df)"
      ],
      "execution_count": null,
      "outputs": [
        {
          "output_type": "display_data",
          "data": {
            "text/plain": [
              "  b X30.83 X0    u g w v X1.25 t t.1 X01 f g.1 X00202 X0.1  X.\n",
              "1 a 58.67  4.460 u g q h 3.04  t t   6   f g   00043    560 + \n",
              "2 a 24.50  0.500 u g q h 1.50  t f   0   f g   00280    824 + \n",
              "3 b 27.83  1.540 u g w v 3.75  t t   5   t g   00100      3 + \n",
              "4 b 20.17  5.625 u g w v 1.71  t f   0   f s   00120      0 + \n",
              "5 b 32.08  4.000 u g m v 2.50  t f   0   t g   00360      0 + \n",
              "6 b 33.17  1.040 u g r h 6.50  t f   0   t g   00164  31285 + "
            ],
            "text/latex": "A data.frame: 6 × 16\n\\begin{tabular}{r|llllllllllllllll}\n  & b & X30.83 & X0 & u & g & w & v & X1.25 & t & t.1 & X01 & f & g.1 & X00202 & X0.1 & X.\\\\\n  & <chr> & <chr> & <dbl> & <chr> & <chr> & <chr> & <chr> & <dbl> & <chr> & <chr> & <int> & <chr> & <chr> & <chr> & <int> & <chr>\\\\\n\\hline\n\t1 & a & 58.67 & 4.460 & u & g & q & h & 3.04 & t & t & 6 & f & g & 00043 &   560 & +\\\\\n\t2 & a & 24.50 & 0.500 & u & g & q & h & 1.50 & t & f & 0 & f & g & 00280 &   824 & +\\\\\n\t3 & b & 27.83 & 1.540 & u & g & w & v & 3.75 & t & t & 5 & t & g & 00100 &     3 & +\\\\\n\t4 & b & 20.17 & 5.625 & u & g & w & v & 1.71 & t & f & 0 & f & s & 00120 &     0 & +\\\\\n\t5 & b & 32.08 & 4.000 & u & g & m & v & 2.50 & t & f & 0 & t & g & 00360 &     0 & +\\\\\n\t6 & b & 33.17 & 1.040 & u & g & r & h & 6.50 & t & f & 0 & t & g & 00164 & 31285 & +\\\\\n\\end{tabular}\n",
            "text/markdown": "\nA data.frame: 6 × 16\n\n| <!--/--> | b &lt;chr&gt; | X30.83 &lt;chr&gt; | X0 &lt;dbl&gt; | u &lt;chr&gt; | g &lt;chr&gt; | w &lt;chr&gt; | v &lt;chr&gt; | X1.25 &lt;dbl&gt; | t &lt;chr&gt; | t.1 &lt;chr&gt; | X01 &lt;int&gt; | f &lt;chr&gt; | g.1 &lt;chr&gt; | X00202 &lt;chr&gt; | X0.1 &lt;int&gt; | X. &lt;chr&gt; |\n|---|---|---|---|---|---|---|---|---|---|---|---|---|---|---|---|---|\n| 1 | a | 58.67 | 4.460 | u | g | q | h | 3.04 | t | t | 6 | f | g | 00043 |   560 | + |\n| 2 | a | 24.50 | 0.500 | u | g | q | h | 1.50 | t | f | 0 | f | g | 00280 |   824 | + |\n| 3 | b | 27.83 | 1.540 | u | g | w | v | 3.75 | t | t | 5 | t | g | 00100 |     3 | + |\n| 4 | b | 20.17 | 5.625 | u | g | w | v | 1.71 | t | f | 0 | f | s | 00120 |     0 | + |\n| 5 | b | 32.08 | 4.000 | u | g | m | v | 2.50 | t | f | 0 | t | g | 00360 |     0 | + |\n| 6 | b | 33.17 | 1.040 | u | g | r | h | 6.50 | t | f | 0 | t | g | 00164 | 31285 | + |\n\n",
            "text/html": [
              "<table class=\"dataframe\">\n",
              "<caption>A data.frame: 6 × 16</caption>\n",
              "<thead>\n",
              "\t<tr><th></th><th scope=col>b</th><th scope=col>X30.83</th><th scope=col>X0</th><th scope=col>u</th><th scope=col>g</th><th scope=col>w</th><th scope=col>v</th><th scope=col>X1.25</th><th scope=col>t</th><th scope=col>t.1</th><th scope=col>X01</th><th scope=col>f</th><th scope=col>g.1</th><th scope=col>X00202</th><th scope=col>X0.1</th><th scope=col>X.</th></tr>\n",
              "\t<tr><th></th><th scope=col>&lt;chr&gt;</th><th scope=col>&lt;chr&gt;</th><th scope=col>&lt;dbl&gt;</th><th scope=col>&lt;chr&gt;</th><th scope=col>&lt;chr&gt;</th><th scope=col>&lt;chr&gt;</th><th scope=col>&lt;chr&gt;</th><th scope=col>&lt;dbl&gt;</th><th scope=col>&lt;chr&gt;</th><th scope=col>&lt;chr&gt;</th><th scope=col>&lt;int&gt;</th><th scope=col>&lt;chr&gt;</th><th scope=col>&lt;chr&gt;</th><th scope=col>&lt;chr&gt;</th><th scope=col>&lt;int&gt;</th><th scope=col>&lt;chr&gt;</th></tr>\n",
              "</thead>\n",
              "<tbody>\n",
              "\t<tr><th scope=row>1</th><td>a</td><td>58.67</td><td>4.460</td><td>u</td><td>g</td><td>q</td><td>h</td><td>3.04</td><td>t</td><td>t</td><td>6</td><td>f</td><td>g</td><td>00043</td><td>  560</td><td>+</td></tr>\n",
              "\t<tr><th scope=row>2</th><td>a</td><td>24.50</td><td>0.500</td><td>u</td><td>g</td><td>q</td><td>h</td><td>1.50</td><td>t</td><td>f</td><td>0</td><td>f</td><td>g</td><td>00280</td><td>  824</td><td>+</td></tr>\n",
              "\t<tr><th scope=row>3</th><td>b</td><td>27.83</td><td>1.540</td><td>u</td><td>g</td><td>w</td><td>v</td><td>3.75</td><td>t</td><td>t</td><td>5</td><td>t</td><td>g</td><td>00100</td><td>    3</td><td>+</td></tr>\n",
              "\t<tr><th scope=row>4</th><td>b</td><td>20.17</td><td>5.625</td><td>u</td><td>g</td><td>w</td><td>v</td><td>1.71</td><td>t</td><td>f</td><td>0</td><td>f</td><td>s</td><td>00120</td><td>    0</td><td>+</td></tr>\n",
              "\t<tr><th scope=row>5</th><td>b</td><td>32.08</td><td>4.000</td><td>u</td><td>g</td><td>m</td><td>v</td><td>2.50</td><td>t</td><td>f</td><td>0</td><td>t</td><td>g</td><td>00360</td><td>    0</td><td>+</td></tr>\n",
              "\t<tr><th scope=row>6</th><td>b</td><td>33.17</td><td>1.040</td><td>u</td><td>g</td><td>r</td><td>h</td><td>6.50</td><td>t</td><td>f</td><td>0</td><td>t</td><td>g</td><td>00164</td><td>31285</td><td>+</td></tr>\n",
              "</tbody>\n",
              "</table>\n"
            ]
          },
          "metadata": {}
        }
      ]
    },
    {
      "cell_type": "code",
      "metadata": {
        "colab": {
          "base_uri": "https://localhost:8080/"
        },
        "id": "PbcQiBV8gPOU",
        "outputId": "53c7edc8-0d7b-4523-ad50-e3e9d4fb1f1b"
      },
      "source": [
        "colnames(df)"
      ],
      "execution_count": null,
      "outputs": [
        {
          "output_type": "display_data",
          "data": {
            "text/plain": [
              " [1] \"b\"      \"X30.83\" \"X0\"     \"u\"      \"g\"      \"w\"      \"v\"      \"X1.25\" \n",
              " [9] \"t\"      \"t.1\"    \"X01\"    \"f\"      \"g.1\"    \"X00202\" \"X0.1\"   \"X.\"    "
            ],
            "text/latex": "\\begin{enumerate*}\n\\item 'b'\n\\item 'X30.83'\n\\item 'X0'\n\\item 'u'\n\\item 'g'\n\\item 'w'\n\\item 'v'\n\\item 'X1.25'\n\\item 't'\n\\item 't.1'\n\\item 'X01'\n\\item 'f'\n\\item 'g.1'\n\\item 'X00202'\n\\item 'X0.1'\n\\item 'X.'\n\\end{enumerate*}\n",
            "text/markdown": "1. 'b'\n2. 'X30.83'\n3. 'X0'\n4. 'u'\n5. 'g'\n6. 'w'\n7. 'v'\n8. 'X1.25'\n9. 't'\n10. 't.1'\n11. 'X01'\n12. 'f'\n13. 'g.1'\n14. 'X00202'\n15. 'X0.1'\n16. 'X.'\n\n\n",
            "text/html": [
              "<style>\n",
              ".list-inline {list-style: none; margin:0; padding: 0}\n",
              ".list-inline>li {display: inline-block}\n",
              ".list-inline>li:not(:last-child)::after {content: \"\\00b7\"; padding: 0 .5ex}\n",
              "</style>\n",
              "<ol class=list-inline><li>'b'</li><li>'X30.83'</li><li>'X0'</li><li>'u'</li><li>'g'</li><li>'w'</li><li>'v'</li><li>'X1.25'</li><li>'t'</li><li>'t.1'</li><li>'X01'</li><li>'f'</li><li>'g.1'</li><li>'X00202'</li><li>'X0.1'</li><li>'X.'</li></ol>\n"
            ]
          },
          "metadata": {}
        }
      ]
    },
    {
      "cell_type": "code",
      "metadata": {
        "colab": {
          "base_uri": "https://localhost:8080/"
        },
        "id": "ZFPf_OgKjtjC",
        "outputId": "d13f8af5-c91d-41a0-9639-a031d4421119"
      },
      "source": [
        "nrow(df)"
      ],
      "execution_count": null,
      "outputs": [
        {
          "output_type": "display_data",
          "data": {
            "text/plain": [
              "[1] 689"
            ],
            "text/latex": "689",
            "text/markdown": "689",
            "text/html": [
              "689"
            ]
          },
          "metadata": {}
        }
      ]
    },
    {
      "cell_type": "code",
      "metadata": {
        "colab": {
          "base_uri": "https://localhost:8080/"
        },
        "id": "y_KhBYDxj65L",
        "outputId": "6e305180-fbc4-48fd-e772-1a2514f783fa"
      },
      "source": [
        "ncol(df)"
      ],
      "execution_count": null,
      "outputs": [
        {
          "output_type": "display_data",
          "data": {
            "text/plain": [
              "[1] 16"
            ],
            "text/latex": "16",
            "text/markdown": "16",
            "text/html": [
              "16"
            ]
          },
          "metadata": {}
        }
      ]
    },
    {
      "cell_type": "code",
      "metadata": {
        "colab": {
          "base_uri": "https://localhost:8080/"
        },
        "id": "ZNYA7rQVj75e",
        "outputId": "ddef55b1-3edc-4954-9fc1-fa953da370ae"
      },
      "source": [
        "str(df)"
      ],
      "execution_count": null,
      "outputs": [
        {
          "output_type": "stream",
          "name": "stdout",
          "text": [
            "'data.frame':\t689 obs. of  16 variables:\n",
            " $ b     : chr  \"a\" \"a\" \"b\" \"b\" ...\n",
            " $ X30.83: chr  \"58.67\" \"24.50\" \"27.83\" \"20.17\" ...\n",
            " $ X0    : num  4.46 0.5 1.54 5.62 4 ...\n",
            " $ u     : chr  \"u\" \"u\" \"u\" \"u\" ...\n",
            " $ g     : chr  \"g\" \"g\" \"g\" \"g\" ...\n",
            " $ w     : chr  \"q\" \"q\" \"w\" \"w\" ...\n",
            " $ v     : chr  \"h\" \"h\" \"v\" \"v\" ...\n",
            " $ X1.25 : num  3.04 1.5 3.75 1.71 2.5 ...\n",
            " $ t     : chr  \"t\" \"t\" \"t\" \"t\" ...\n",
            " $ t.1   : chr  \"t\" \"f\" \"t\" \"f\" ...\n",
            " $ X01   : int  6 0 5 0 0 0 0 0 0 0 ...\n",
            " $ f     : chr  \"f\" \"f\" \"t\" \"f\" ...\n",
            " $ g.1   : chr  \"g\" \"g\" \"g\" \"s\" ...\n",
            " $ X00202: chr  \"00043\" \"00280\" \"00100\" \"00120\" ...\n",
            " $ X0.1  : int  560 824 3 0 0 31285 1349 314 1442 0 ...\n",
            " $ X.    : chr  \"+\" \"+\" \"+\" \"+\" ...\n"
          ]
        }
      ]
    },
    {
      "cell_type": "code",
      "metadata": {
        "colab": {
          "base_uri": "https://localhost:8080/"
        },
        "id": "mTkq6QT7j9De",
        "outputId": "19bee60c-fe06-489f-a0a0-1ccd049ba7eb"
      },
      "source": [
        "summary(df)"
      ],
      "execution_count": null,
      "outputs": [
        {
          "output_type": "display_data",
          "data": {
            "text/plain": [
              "      b                X30.83                X0              u            \n",
              " Length:689         Length:689         Min.   : 0.000   Length:689        \n",
              " Class :character   Class :character   1st Qu.: 1.000   Class :character  \n",
              " Mode  :character   Mode  :character   Median : 2.750   Mode  :character  \n",
              "                                       Mean   : 4.766                     \n",
              "                                       3rd Qu.: 7.250                     \n",
              "                                       Max.   :28.000                     \n",
              "      g                  w                  v                 X1.25       \n",
              " Length:689         Length:689         Length:689         Min.   : 0.000  \n",
              " Class :character   Class :character   Class :character   1st Qu.: 0.165  \n",
              " Mode  :character   Mode  :character   Mode  :character   Median : 1.000  \n",
              "                                                          Mean   : 2.225  \n",
              "                                                          3rd Qu.: 2.625  \n",
              "                                                          Max.   :28.500  \n",
              "      t                 t.1                 X01              f            \n",
              " Length:689         Length:689         Min.   : 0.000   Length:689        \n",
              " Class :character   Class :character   1st Qu.: 0.000   Class :character  \n",
              " Mode  :character   Mode  :character   Median : 0.000   Mode  :character  \n",
              "                                       Mean   : 2.402                     \n",
              "                                       3rd Qu.: 3.000                     \n",
              "                                       Max.   :67.000                     \n",
              "     g.1               X00202               X0.1             X.           \n",
              " Length:689         Length:689         Min.   :     0   Length:689        \n",
              " Class :character   Class :character   1st Qu.:     0   Class :character  \n",
              " Mode  :character   Mode  :character   Median :     5   Mode  :character  \n",
              "                                       Mean   :  1019                     \n",
              "                                       3rd Qu.:   396                     \n",
              "                                       Max.   :100000                     "
            ]
          },
          "metadata": {}
        }
      ]
    },
    {
      "cell_type": "code",
      "metadata": {
        "colab": {
          "base_uri": "https://localhost:8080/"
        },
        "id": "R3lxCjvTkbUQ",
        "outputId": "373804eb-f498-4eb4-efe3-5688d5a3877f"
      },
      "source": [
        "sum(is.na(df))"
      ],
      "execution_count": null,
      "outputs": [
        {
          "output_type": "display_data",
          "data": {
            "text/plain": [
              "[1] 0"
            ],
            "text/latex": "0",
            "text/markdown": "0",
            "text/html": [
              "0"
            ]
          },
          "metadata": {}
        }
      ]
    },
    {
      "cell_type": "code",
      "metadata": {
        "colab": {
          "base_uri": "https://localhost:8080/"
        },
        "id": "vg9SkPc_kzSv",
        "outputId": "933774f5-41c3-40fc-870b-ae644a606331"
      },
      "source": [
        "sum(df == '?')"
      ],
      "execution_count": null,
      "outputs": [
        {
          "output_type": "display_data",
          "data": {
            "text/plain": [
              "[1] 67"
            ],
            "text/latex": "67",
            "text/markdown": "67",
            "text/html": [
              "67"
            ]
          },
          "metadata": {}
        }
      ]
    },
    {
      "cell_type": "markdown",
      "metadata": {
        "id": "xRPE1AAzCrJG"
      },
      "source": [
        "### Tratando os dados"
      ]
    },
    {
      "cell_type": "markdown",
      "metadata": {
        "id": "g-gSgsZVCwGy"
      },
      "source": [
        "1 - Colocando um cabeçalho nas colunas"
      ]
    },
    {
      "cell_type": "code",
      "metadata": {
        "id": "YD27WMzArlQd"
      },
      "source": [
        "for (i in 1:ncol(df)) {\n",
        "  colnames(df)[i] <-  paste('v', i, sep='')\n",
        "}\n"
      ],
      "execution_count": null,
      "outputs": []
    },
    {
      "cell_type": "code",
      "metadata": {
        "colab": {
          "base_uri": "https://localhost:8080/"
        },
        "id": "PZNnSC-zsZI6",
        "outputId": "bd273e5a-b191-4d81-c987-a78aee1f0c08"
      },
      "source": [
        "head(df)"
      ],
      "execution_count": null,
      "outputs": [
        {
          "output_type": "display_data",
          "data": {
            "text/plain": [
              "  v1 v2    v3    v4 v5 v6 v7 v8   v9 v10 v11 v12 v13 v14   v15   v16\n",
              "1 a  58.67 4.460 u  g  q  h  3.04 t  t   6   f   g   00043   560 +  \n",
              "2 a  24.50 0.500 u  g  q  h  1.50 t  f   0   f   g   00280   824 +  \n",
              "3 b  27.83 1.540 u  g  w  v  3.75 t  t   5   t   g   00100     3 +  \n",
              "4 b  20.17 5.625 u  g  w  v  1.71 t  f   0   f   s   00120     0 +  \n",
              "5 b  32.08 4.000 u  g  m  v  2.50 t  f   0   t   g   00360     0 +  \n",
              "6 b  33.17 1.040 u  g  r  h  6.50 t  f   0   t   g   00164 31285 +  "
            ],
            "text/latex": "A data.frame: 6 × 16\n\\begin{tabular}{r|llllllllllllllll}\n  & v1 & v2 & v3 & v4 & v5 & v6 & v7 & v8 & v9 & v10 & v11 & v12 & v13 & v14 & v15 & v16\\\\\n  & <chr> & <chr> & <dbl> & <chr> & <chr> & <chr> & <chr> & <dbl> & <chr> & <chr> & <int> & <chr> & <chr> & <chr> & <int> & <chr>\\\\\n\\hline\n\t1 & a & 58.67 & 4.460 & u & g & q & h & 3.04 & t & t & 6 & f & g & 00043 &   560 & +\\\\\n\t2 & a & 24.50 & 0.500 & u & g & q & h & 1.50 & t & f & 0 & f & g & 00280 &   824 & +\\\\\n\t3 & b & 27.83 & 1.540 & u & g & w & v & 3.75 & t & t & 5 & t & g & 00100 &     3 & +\\\\\n\t4 & b & 20.17 & 5.625 & u & g & w & v & 1.71 & t & f & 0 & f & s & 00120 &     0 & +\\\\\n\t5 & b & 32.08 & 4.000 & u & g & m & v & 2.50 & t & f & 0 & t & g & 00360 &     0 & +\\\\\n\t6 & b & 33.17 & 1.040 & u & g & r & h & 6.50 & t & f & 0 & t & g & 00164 & 31285 & +\\\\\n\\end{tabular}\n",
            "text/markdown": "\nA data.frame: 6 × 16\n\n| <!--/--> | v1 &lt;chr&gt; | v2 &lt;chr&gt; | v3 &lt;dbl&gt; | v4 &lt;chr&gt; | v5 &lt;chr&gt; | v6 &lt;chr&gt; | v7 &lt;chr&gt; | v8 &lt;dbl&gt; | v9 &lt;chr&gt; | v10 &lt;chr&gt; | v11 &lt;int&gt; | v12 &lt;chr&gt; | v13 &lt;chr&gt; | v14 &lt;chr&gt; | v15 &lt;int&gt; | v16 &lt;chr&gt; |\n|---|---|---|---|---|---|---|---|---|---|---|---|---|---|---|---|---|\n| 1 | a | 58.67 | 4.460 | u | g | q | h | 3.04 | t | t | 6 | f | g | 00043 |   560 | + |\n| 2 | a | 24.50 | 0.500 | u | g | q | h | 1.50 | t | f | 0 | f | g | 00280 |   824 | + |\n| 3 | b | 27.83 | 1.540 | u | g | w | v | 3.75 | t | t | 5 | t | g | 00100 |     3 | + |\n| 4 | b | 20.17 | 5.625 | u | g | w | v | 1.71 | t | f | 0 | f | s | 00120 |     0 | + |\n| 5 | b | 32.08 | 4.000 | u | g | m | v | 2.50 | t | f | 0 | t | g | 00360 |     0 | + |\n| 6 | b | 33.17 | 1.040 | u | g | r | h | 6.50 | t | f | 0 | t | g | 00164 | 31285 | + |\n\n",
            "text/html": [
              "<table class=\"dataframe\">\n",
              "<caption>A data.frame: 6 × 16</caption>\n",
              "<thead>\n",
              "\t<tr><th></th><th scope=col>v1</th><th scope=col>v2</th><th scope=col>v3</th><th scope=col>v4</th><th scope=col>v5</th><th scope=col>v6</th><th scope=col>v7</th><th scope=col>v8</th><th scope=col>v9</th><th scope=col>v10</th><th scope=col>v11</th><th scope=col>v12</th><th scope=col>v13</th><th scope=col>v14</th><th scope=col>v15</th><th scope=col>v16</th></tr>\n",
              "\t<tr><th></th><th scope=col>&lt;chr&gt;</th><th scope=col>&lt;chr&gt;</th><th scope=col>&lt;dbl&gt;</th><th scope=col>&lt;chr&gt;</th><th scope=col>&lt;chr&gt;</th><th scope=col>&lt;chr&gt;</th><th scope=col>&lt;chr&gt;</th><th scope=col>&lt;dbl&gt;</th><th scope=col>&lt;chr&gt;</th><th scope=col>&lt;chr&gt;</th><th scope=col>&lt;int&gt;</th><th scope=col>&lt;chr&gt;</th><th scope=col>&lt;chr&gt;</th><th scope=col>&lt;chr&gt;</th><th scope=col>&lt;int&gt;</th><th scope=col>&lt;chr&gt;</th></tr>\n",
              "</thead>\n",
              "<tbody>\n",
              "\t<tr><th scope=row>1</th><td>a</td><td>58.67</td><td>4.460</td><td>u</td><td>g</td><td>q</td><td>h</td><td>3.04</td><td>t</td><td>t</td><td>6</td><td>f</td><td>g</td><td>00043</td><td>  560</td><td>+</td></tr>\n",
              "\t<tr><th scope=row>2</th><td>a</td><td>24.50</td><td>0.500</td><td>u</td><td>g</td><td>q</td><td>h</td><td>1.50</td><td>t</td><td>f</td><td>0</td><td>f</td><td>g</td><td>00280</td><td>  824</td><td>+</td></tr>\n",
              "\t<tr><th scope=row>3</th><td>b</td><td>27.83</td><td>1.540</td><td>u</td><td>g</td><td>w</td><td>v</td><td>3.75</td><td>t</td><td>t</td><td>5</td><td>t</td><td>g</td><td>00100</td><td>    3</td><td>+</td></tr>\n",
              "\t<tr><th scope=row>4</th><td>b</td><td>20.17</td><td>5.625</td><td>u</td><td>g</td><td>w</td><td>v</td><td>1.71</td><td>t</td><td>f</td><td>0</td><td>f</td><td>s</td><td>00120</td><td>    0</td><td>+</td></tr>\n",
              "\t<tr><th scope=row>5</th><td>b</td><td>32.08</td><td>4.000</td><td>u</td><td>g</td><td>m</td><td>v</td><td>2.50</td><td>t</td><td>f</td><td>0</td><td>t</td><td>g</td><td>00360</td><td>    0</td><td>+</td></tr>\n",
              "\t<tr><th scope=row>6</th><td>b</td><td>33.17</td><td>1.040</td><td>u</td><td>g</td><td>r</td><td>h</td><td>6.50</td><td>t</td><td>f</td><td>0</td><td>t</td><td>g</td><td>00164</td><td>31285</td><td>+</td></tr>\n",
              "</tbody>\n",
              "</table>\n"
            ]
          },
          "metadata": {}
        }
      ]
    },
    {
      "cell_type": "markdown",
      "metadata": {
        "id": "s4RZdrY7CcCC"
      },
      "source": [
        "2 - encontrando e substituindo os NA\n",
        "\n",
        "Nesta base, os missing values estão representados pelo sinal de interrogação \"?\", os converterei para o formato de dados ausentes do R \"NA\" e os excluirei em seguida com na.omit()"
      ]
    },
    {
      "cell_type": "code",
      "metadata": {
        "colab": {
          "base_uri": "https://localhost:8080/"
        },
        "id": "CL2KPmKkuVLP",
        "outputId": "ecfcdf1d-8401-4e27-c660-c7fb2e47c929"
      },
      "source": [
        "unique(df$v1)"
      ],
      "execution_count": null,
      "outputs": [
        {
          "output_type": "display_data",
          "data": {
            "text/plain": [
              "[1] \"a\" \"b\" \"?\""
            ],
            "text/latex": "\\begin{enumerate*}\n\\item 'a'\n\\item 'b'\n\\item '?'\n\\end{enumerate*}\n",
            "text/markdown": "1. 'a'\n2. 'b'\n3. '?'\n\n\n",
            "text/html": [
              "<style>\n",
              ".list-inline {list-style: none; margin:0; padding: 0}\n",
              ".list-inline>li {display: inline-block}\n",
              ".list-inline>li:not(:last-child)::after {content: \"\\00b7\"; padding: 0 .5ex}\n",
              "</style>\n",
              "<ol class=list-inline><li>'a'</li><li>'b'</li><li>'?'</li></ol>\n"
            ]
          },
          "metadata": {}
        }
      ]
    },
    {
      "cell_type": "code",
      "metadata": {
        "colab": {
          "base_uri": "https://localhost:8080/"
        },
        "id": "pM_9oR4VunNh",
        "outputId": "46dcbfd2-6b7d-40a5-d043-24fc58711a92"
      },
      "source": [
        "aaa <- select(df, v1, v4,\tv5,\tv6,\tv7,\tv9,\tv10,\tv11,\tv12,\tv13, v16)\n",
        "for (i in colnames(aaa)) {\n",
        "  print(unique(df[i]))\n",
        "}"
      ],
      "execution_count": null,
      "outputs": [
        {
          "output_type": "stream",
          "name": "stdout",
          "text": [
            "    v1\n",
            "1    a\n",
            "3    b\n",
            "248  ?\n",
            "    v4\n",
            "1    u\n",
            "8    y\n",
            "206  ?\n",
            "317  l\n",
            "    v5\n",
            "1    g\n",
            "8    p\n",
            "206  ?\n",
            "317 gg\n",
            "    v6\n",
            "1    q\n",
            "3    w\n",
            "5    m\n",
            "6    r\n",
            "7   cc\n",
            "8    k\n",
            "10   c\n",
            "18   d\n",
            "23   x\n",
            "26   i\n",
            "28   e\n",
            "30  aa\n",
            "39  ff\n",
            "89   j\n",
            "206  ?\n",
            "    v7\n",
            "1    h\n",
            "3    v\n",
            "26  bb\n",
            "39  ff\n",
            "89   j\n",
            "105  z\n",
            "206  ?\n",
            "262  o\n",
            "266 dd\n",
            "269  n\n",
            "   v9\n",
            "1   t\n",
            "10  f\n",
            "  v10\n",
            "1   t\n",
            "2   f\n",
            "    v11\n",
            "1     6\n",
            "2     0\n",
            "3     5\n",
            "14    7\n",
            "15   10\n",
            "16    3\n",
            "20   17\n",
            "23    1\n",
            "25    2\n",
            "26    9\n",
            "31    8\n",
            "32   15\n",
            "35   11\n",
            "36   12\n",
            "44   40\n",
            "46   23\n",
            "60    4\n",
            "105  20\n",
            "121  67\n",
            "147  14\n",
            "209  16\n",
            "234  13\n",
            "507  19\n",
            "  v12\n",
            "1   f\n",
            "3   t\n",
            "    v13\n",
            "1     g\n",
            "4     s\n",
            "206   p\n",
            "   v16\n",
            "1    +\n",
            "70   -\n"
          ]
        }
      ]
    },
    {
      "cell_type": "code",
      "metadata": {
        "colab": {
          "base_uri": "https://localhost:8080/"
        },
        "id": "nKgbpZEQzZLU",
        "outputId": "9fa2016b-db13-4ce4-bbaf-8afe30af07d0"
      },
      "source": [
        "sum(df == '?')"
      ],
      "execution_count": null,
      "outputs": [
        {
          "output_type": "display_data",
          "data": {
            "text/plain": [
              "[1] 67"
            ],
            "text/latex": "67",
            "text/markdown": "67",
            "text/html": [
              "67"
            ]
          },
          "metadata": {}
        }
      ]
    },
    {
      "cell_type": "code",
      "metadata": {
        "id": "-UZdWW5axZQH"
      },
      "source": [
        "df[df[]==\"?\"] <- NA"
      ],
      "execution_count": null,
      "outputs": []
    },
    {
      "cell_type": "code",
      "metadata": {
        "colab": {
          "base_uri": "https://localhost:8080/"
        },
        "id": "V9-VDC2CzcLv",
        "outputId": "88491b28-6bf6-4521-8661-8df2932ca7fc"
      },
      "source": [
        "sum(is.na(df))"
      ],
      "execution_count": null,
      "outputs": [
        {
          "output_type": "display_data",
          "data": {
            "text/plain": [
              "[1] 67"
            ],
            "text/latex": "67",
            "text/markdown": "67",
            "text/html": [
              "67"
            ]
          },
          "metadata": {}
        }
      ]
    },
    {
      "cell_type": "code",
      "metadata": {
        "id": "miy0Bw6izrkm"
      },
      "source": [
        "df <- na.omit(df)"
      ],
      "execution_count": null,
      "outputs": []
    },
    {
      "cell_type": "code",
      "metadata": {
        "colab": {
          "base_uri": "https://localhost:8080/"
        },
        "id": "tdPMxNf00F2b",
        "outputId": "bf2f1fc7-7a47-451e-b294-057d259cec7e"
      },
      "source": [
        "sum(is.na(df))"
      ],
      "execution_count": null,
      "outputs": [
        {
          "output_type": "display_data",
          "data": {
            "text/plain": [
              "[1] 0"
            ],
            "text/latex": "0",
            "text/markdown": "0",
            "text/html": [
              "0"
            ]
          },
          "metadata": {}
        }
      ]
    },
    {
      "cell_type": "markdown",
      "metadata": {
        "id": "NtZqNMN12UuV"
      },
      "source": [
        "3 - Alterando o tipo das variáveis de chr para int ou dbl com as.numeric()"
      ]
    },
    {
      "cell_type": "code",
      "metadata": {
        "colab": {
          "base_uri": "https://localhost:8080/"
        },
        "id": "WIwP83vg0PqY",
        "outputId": "eb4d43b1-6e0d-430a-88be-5a57cbcb4ed0"
      },
      "source": [
        "head(df,3)"
      ],
      "execution_count": null,
      "outputs": [
        {
          "output_type": "display_data",
          "data": {
            "text/plain": [
              "  v1 v2    v3   v4 v5 v6 v7 v8   v9 v10 v11 v12 v13 v14   v15 v16\n",
              "1 a  58.67 4.46 u  g  q  h  3.04 t  t   6   f   g   00043 560 +  \n",
              "2 a  24.50 0.50 u  g  q  h  1.50 t  f   0   f   g   00280 824 +  \n",
              "3 b  27.83 1.54 u  g  w  v  3.75 t  t   5   t   g   00100   3 +  "
            ],
            "text/latex": "A data.frame: 3 × 16\n\\begin{tabular}{r|llllllllllllllll}\n  & v1 & v2 & v3 & v4 & v5 & v6 & v7 & v8 & v9 & v10 & v11 & v12 & v13 & v14 & v15 & v16\\\\\n  & <chr> & <chr> & <dbl> & <chr> & <chr> & <chr> & <chr> & <dbl> & <chr> & <chr> & <int> & <chr> & <chr> & <chr> & <int> & <chr>\\\\\n\\hline\n\t1 & a & 58.67 & 4.46 & u & g & q & h & 3.04 & t & t & 6 & f & g & 00043 & 560 & +\\\\\n\t2 & a & 24.50 & 0.50 & u & g & q & h & 1.50 & t & f & 0 & f & g & 00280 & 824 & +\\\\\n\t3 & b & 27.83 & 1.54 & u & g & w & v & 3.75 & t & t & 5 & t & g & 00100 &   3 & +\\\\\n\\end{tabular}\n",
            "text/markdown": "\nA data.frame: 3 × 16\n\n| <!--/--> | v1 &lt;chr&gt; | v2 &lt;chr&gt; | v3 &lt;dbl&gt; | v4 &lt;chr&gt; | v5 &lt;chr&gt; | v6 &lt;chr&gt; | v7 &lt;chr&gt; | v8 &lt;dbl&gt; | v9 &lt;chr&gt; | v10 &lt;chr&gt; | v11 &lt;int&gt; | v12 &lt;chr&gt; | v13 &lt;chr&gt; | v14 &lt;chr&gt; | v15 &lt;int&gt; | v16 &lt;chr&gt; |\n|---|---|---|---|---|---|---|---|---|---|---|---|---|---|---|---|---|\n| 1 | a | 58.67 | 4.46 | u | g | q | h | 3.04 | t | t | 6 | f | g | 00043 | 560 | + |\n| 2 | a | 24.50 | 0.50 | u | g | q | h | 1.50 | t | f | 0 | f | g | 00280 | 824 | + |\n| 3 | b | 27.83 | 1.54 | u | g | w | v | 3.75 | t | t | 5 | t | g | 00100 |   3 | + |\n\n",
            "text/html": [
              "<table class=\"dataframe\">\n",
              "<caption>A data.frame: 3 × 16</caption>\n",
              "<thead>\n",
              "\t<tr><th></th><th scope=col>v1</th><th scope=col>v2</th><th scope=col>v3</th><th scope=col>v4</th><th scope=col>v5</th><th scope=col>v6</th><th scope=col>v7</th><th scope=col>v8</th><th scope=col>v9</th><th scope=col>v10</th><th scope=col>v11</th><th scope=col>v12</th><th scope=col>v13</th><th scope=col>v14</th><th scope=col>v15</th><th scope=col>v16</th></tr>\n",
              "\t<tr><th></th><th scope=col>&lt;chr&gt;</th><th scope=col>&lt;chr&gt;</th><th scope=col>&lt;dbl&gt;</th><th scope=col>&lt;chr&gt;</th><th scope=col>&lt;chr&gt;</th><th scope=col>&lt;chr&gt;</th><th scope=col>&lt;chr&gt;</th><th scope=col>&lt;dbl&gt;</th><th scope=col>&lt;chr&gt;</th><th scope=col>&lt;chr&gt;</th><th scope=col>&lt;int&gt;</th><th scope=col>&lt;chr&gt;</th><th scope=col>&lt;chr&gt;</th><th scope=col>&lt;chr&gt;</th><th scope=col>&lt;int&gt;</th><th scope=col>&lt;chr&gt;</th></tr>\n",
              "</thead>\n",
              "<tbody>\n",
              "\t<tr><th scope=row>1</th><td>a</td><td>58.67</td><td>4.46</td><td>u</td><td>g</td><td>q</td><td>h</td><td>3.04</td><td>t</td><td>t</td><td>6</td><td>f</td><td>g</td><td>00043</td><td>560</td><td>+</td></tr>\n",
              "\t<tr><th scope=row>2</th><td>a</td><td>24.50</td><td>0.50</td><td>u</td><td>g</td><td>q</td><td>h</td><td>1.50</td><td>t</td><td>f</td><td>0</td><td>f</td><td>g</td><td>00280</td><td>824</td><td>+</td></tr>\n",
              "\t<tr><th scope=row>3</th><td>b</td><td>27.83</td><td>1.54</td><td>u</td><td>g</td><td>w</td><td>v</td><td>3.75</td><td>t</td><td>t</td><td>5</td><td>t</td><td>g</td><td>00100</td><td>  3</td><td>+</td></tr>\n",
              "</tbody>\n",
              "</table>\n"
            ]
          },
          "metadata": {}
        }
      ]
    },
    {
      "cell_type": "code",
      "metadata": {
        "id": "eBrKEQ6W1dMO"
      },
      "source": [
        "df$v2 <- as.numeric(df$v2)\n",
        "df$v14 <- as.numeric(df$v14)\n",
        "df$v15 <- as.numeric(df$v15)"
      ],
      "execution_count": null,
      "outputs": []
    },
    {
      "cell_type": "markdown",
      "metadata": {
        "id": "MS9UmaxM5see"
      },
      "source": [
        "4 - Alterando a variável resposta de '+/-' para '0/1' e transformando em fator"
      ]
    },
    {
      "cell_type": "code",
      "metadata": {
        "id": "4VZ7-Mb81eVk"
      },
      "source": [
        "# Duas diferentes formas de substtuir os dados\n",
        "df$v16 <- replace(df$v16, df$v16 == '+', 1)\n",
        "df[\"v16\"][df[\"v16\"] == \"-\"] <- 0"
      ],
      "execution_count": null,
      "outputs": []
    },
    {
      "cell_type": "code",
      "metadata": {
        "id": "EBrw4bSB298P"
      },
      "source": [
        "df$v16 <- as.numeric(df$v16)"
      ],
      "execution_count": null,
      "outputs": []
    },
    {
      "cell_type": "markdown",
      "metadata": {
        "id": "AO0QU67MDhFH"
      },
      "source": [
        "5 - Codificando com one hot encode as variáveis categóricas"
      ]
    },
    {
      "cell_type": "code",
      "metadata": {
        "colab": {
          "base_uri": "https://localhost:8080/"
        },
        "id": "QbcbYFtjGhxE",
        "outputId": "7ce8c63d-3b69-4887-ce0f-906c03513ad6"
      },
      "source": [
        "df <- dummy.data.frame(df, sep = \".\")"
      ],
      "execution_count": null,
      "outputs": [
        {
          "output_type": "stream",
          "name": "stderr",
          "text": [
            "Warning message in model.matrix.default(~x - 1, model.frame(~x - 1), contrasts = FALSE):\n",
            "“non-list contrasts argument ignored”\n",
            "Warning message in model.matrix.default(~x - 1, model.frame(~x - 1), contrasts = FALSE):\n",
            "“non-list contrasts argument ignored”\n",
            "Warning message in model.matrix.default(~x - 1, model.frame(~x - 1), contrasts = FALSE):\n",
            "“non-list contrasts argument ignored”\n",
            "Warning message in model.matrix.default(~x - 1, model.frame(~x - 1), contrasts = FALSE):\n",
            "“non-list contrasts argument ignored”\n",
            "Warning message in model.matrix.default(~x - 1, model.frame(~x - 1), contrasts = FALSE):\n",
            "“non-list contrasts argument ignored”\n",
            "Warning message in model.matrix.default(~x - 1, model.frame(~x - 1), contrasts = FALSE):\n",
            "“non-list contrasts argument ignored”\n",
            "Warning message in model.matrix.default(~x - 1, model.frame(~x - 1), contrasts = FALSE):\n",
            "“non-list contrasts argument ignored”\n",
            "Warning message in model.matrix.default(~x - 1, model.frame(~x - 1), contrasts = FALSE):\n",
            "“non-list contrasts argument ignored”\n",
            "Warning message in model.matrix.default(~x - 1, model.frame(~x - 1), contrasts = FALSE):\n",
            "“non-list contrasts argument ignored”\n"
          ]
        }
      ]
    },
    {
      "cell_type": "code",
      "metadata": {
        "colab": {
          "base_uri": "https://localhost:8080/"
        },
        "id": "eNaq_TOmGh3J",
        "outputId": "e7220281-ee22-40b8-ba7c-4b784bd16b20"
      },
      "source": [
        "head(df)"
      ],
      "execution_count": null,
      "outputs": [
        {
          "output_type": "display_data",
          "data": {
            "text/plain": [
              "  v1.a v1.b v2    v3    v4.l v4.u v4.y v5.g v5.gg v5.p ⋯ v10.t v11 v12.f v12.t\n",
              "1 1    0    58.67 4.460 0    1    0    1    0     0    ⋯ 1     6   1     0    \n",
              "2 1    0    24.50 0.500 0    1    0    1    0     0    ⋯ 0     0   1     0    \n",
              "3 0    1    27.83 1.540 0    1    0    1    0     0    ⋯ 1     5   0     1    \n",
              "4 0    1    20.17 5.625 0    1    0    1    0     0    ⋯ 0     0   1     0    \n",
              "5 0    1    32.08 4.000 0    1    0    1    0     0    ⋯ 0     0   0     1    \n",
              "6 0    1    33.17 1.040 0    1    0    1    0     0    ⋯ 0     0   0     1    \n",
              "  v13.g v13.p v13.s v14 v15   v16\n",
              "1 1     0     0      43   560 1  \n",
              "2 1     0     0     280   824 1  \n",
              "3 1     0     0     100     3 1  \n",
              "4 0     0     1     120     0 1  \n",
              "5 1     0     0     360     0 1  \n",
              "6 1     0     0     164 31285 1  "
            ],
            "text/latex": "A data.frame: 6 × 47\n\\begin{tabular}{r|lllllllllllllllllllll}\n  & v1.a & v1.b & v2 & v3 & v4.l & v4.u & v4.y & v5.g & v5.gg & v5.p & ⋯ & v10.t & v11 & v12.f & v12.t & v13.g & v13.p & v13.s & v14 & v15 & v16\\\\\n  & <int> & <int> & <dbl> & <dbl> & <int> & <int> & <int> & <int> & <int> & <int> & ⋯ & <int> & <int> & <int> & <int> & <int> & <int> & <int> & <dbl> & <dbl> & <dbl>\\\\\n\\hline\n\t1 & 1 & 0 & 58.67 & 4.460 & 0 & 1 & 0 & 1 & 0 & 0 & ⋯ & 1 & 6 & 1 & 0 & 1 & 0 & 0 &  43 &   560 & 1\\\\\n\t2 & 1 & 0 & 24.50 & 0.500 & 0 & 1 & 0 & 1 & 0 & 0 & ⋯ & 0 & 0 & 1 & 0 & 1 & 0 & 0 & 280 &   824 & 1\\\\\n\t3 & 0 & 1 & 27.83 & 1.540 & 0 & 1 & 0 & 1 & 0 & 0 & ⋯ & 1 & 5 & 0 & 1 & 1 & 0 & 0 & 100 &     3 & 1\\\\\n\t4 & 0 & 1 & 20.17 & 5.625 & 0 & 1 & 0 & 1 & 0 & 0 & ⋯ & 0 & 0 & 1 & 0 & 0 & 0 & 1 & 120 &     0 & 1\\\\\n\t5 & 0 & 1 & 32.08 & 4.000 & 0 & 1 & 0 & 1 & 0 & 0 & ⋯ & 0 & 0 & 0 & 1 & 1 & 0 & 0 & 360 &     0 & 1\\\\\n\t6 & 0 & 1 & 33.17 & 1.040 & 0 & 1 & 0 & 1 & 0 & 0 & ⋯ & 0 & 0 & 0 & 1 & 1 & 0 & 0 & 164 & 31285 & 1\\\\\n\\end{tabular}\n",
            "text/markdown": "\nA data.frame: 6 × 47\n\n| <!--/--> | v1.a &lt;int&gt; | v1.b &lt;int&gt; | v2 &lt;dbl&gt; | v3 &lt;dbl&gt; | v4.l &lt;int&gt; | v4.u &lt;int&gt; | v4.y &lt;int&gt; | v5.g &lt;int&gt; | v5.gg &lt;int&gt; | v5.p &lt;int&gt; | ⋯ ⋯ | v10.t &lt;int&gt; | v11 &lt;int&gt; | v12.f &lt;int&gt; | v12.t &lt;int&gt; | v13.g &lt;int&gt; | v13.p &lt;int&gt; | v13.s &lt;int&gt; | v14 &lt;dbl&gt; | v15 &lt;dbl&gt; | v16 &lt;dbl&gt; |\n|---|---|---|---|---|---|---|---|---|---|---|---|---|---|---|---|---|---|---|---|---|---|\n| 1 | 1 | 0 | 58.67 | 4.460 | 0 | 1 | 0 | 1 | 0 | 0 | ⋯ | 1 | 6 | 1 | 0 | 1 | 0 | 0 |  43 |   560 | 1 |\n| 2 | 1 | 0 | 24.50 | 0.500 | 0 | 1 | 0 | 1 | 0 | 0 | ⋯ | 0 | 0 | 1 | 0 | 1 | 0 | 0 | 280 |   824 | 1 |\n| 3 | 0 | 1 | 27.83 | 1.540 | 0 | 1 | 0 | 1 | 0 | 0 | ⋯ | 1 | 5 | 0 | 1 | 1 | 0 | 0 | 100 |     3 | 1 |\n| 4 | 0 | 1 | 20.17 | 5.625 | 0 | 1 | 0 | 1 | 0 | 0 | ⋯ | 0 | 0 | 1 | 0 | 0 | 0 | 1 | 120 |     0 | 1 |\n| 5 | 0 | 1 | 32.08 | 4.000 | 0 | 1 | 0 | 1 | 0 | 0 | ⋯ | 0 | 0 | 0 | 1 | 1 | 0 | 0 | 360 |     0 | 1 |\n| 6 | 0 | 1 | 33.17 | 1.040 | 0 | 1 | 0 | 1 | 0 | 0 | ⋯ | 0 | 0 | 0 | 1 | 1 | 0 | 0 | 164 | 31285 | 1 |\n\n",
            "text/html": [
              "<table class=\"dataframe\">\n",
              "<caption>A data.frame: 6 × 47</caption>\n",
              "<thead>\n",
              "\t<tr><th></th><th scope=col>v1.a</th><th scope=col>v1.b</th><th scope=col>v2</th><th scope=col>v3</th><th scope=col>v4.l</th><th scope=col>v4.u</th><th scope=col>v4.y</th><th scope=col>v5.g</th><th scope=col>v5.gg</th><th scope=col>v5.p</th><th scope=col>⋯</th><th scope=col>v10.t</th><th scope=col>v11</th><th scope=col>v12.f</th><th scope=col>v12.t</th><th scope=col>v13.g</th><th scope=col>v13.p</th><th scope=col>v13.s</th><th scope=col>v14</th><th scope=col>v15</th><th scope=col>v16</th></tr>\n",
              "\t<tr><th></th><th scope=col>&lt;int&gt;</th><th scope=col>&lt;int&gt;</th><th scope=col>&lt;dbl&gt;</th><th scope=col>&lt;dbl&gt;</th><th scope=col>&lt;int&gt;</th><th scope=col>&lt;int&gt;</th><th scope=col>&lt;int&gt;</th><th scope=col>&lt;int&gt;</th><th scope=col>&lt;int&gt;</th><th scope=col>&lt;int&gt;</th><th scope=col>⋯</th><th scope=col>&lt;int&gt;</th><th scope=col>&lt;int&gt;</th><th scope=col>&lt;int&gt;</th><th scope=col>&lt;int&gt;</th><th scope=col>&lt;int&gt;</th><th scope=col>&lt;int&gt;</th><th scope=col>&lt;int&gt;</th><th scope=col>&lt;dbl&gt;</th><th scope=col>&lt;dbl&gt;</th><th scope=col>&lt;dbl&gt;</th></tr>\n",
              "</thead>\n",
              "<tbody>\n",
              "\t<tr><th scope=row>1</th><td>1</td><td>0</td><td>58.67</td><td>4.460</td><td>0</td><td>1</td><td>0</td><td>1</td><td>0</td><td>0</td><td>⋯</td><td>1</td><td>6</td><td>1</td><td>0</td><td>1</td><td>0</td><td>0</td><td> 43</td><td>  560</td><td>1</td></tr>\n",
              "\t<tr><th scope=row>2</th><td>1</td><td>0</td><td>24.50</td><td>0.500</td><td>0</td><td>1</td><td>0</td><td>1</td><td>0</td><td>0</td><td>⋯</td><td>0</td><td>0</td><td>1</td><td>0</td><td>1</td><td>0</td><td>0</td><td>280</td><td>  824</td><td>1</td></tr>\n",
              "\t<tr><th scope=row>3</th><td>0</td><td>1</td><td>27.83</td><td>1.540</td><td>0</td><td>1</td><td>0</td><td>1</td><td>0</td><td>0</td><td>⋯</td><td>1</td><td>5</td><td>0</td><td>1</td><td>1</td><td>0</td><td>0</td><td>100</td><td>    3</td><td>1</td></tr>\n",
              "\t<tr><th scope=row>4</th><td>0</td><td>1</td><td>20.17</td><td>5.625</td><td>0</td><td>1</td><td>0</td><td>1</td><td>0</td><td>0</td><td>⋯</td><td>0</td><td>0</td><td>1</td><td>0</td><td>0</td><td>0</td><td>1</td><td>120</td><td>    0</td><td>1</td></tr>\n",
              "\t<tr><th scope=row>5</th><td>0</td><td>1</td><td>32.08</td><td>4.000</td><td>0</td><td>1</td><td>0</td><td>1</td><td>0</td><td>0</td><td>⋯</td><td>0</td><td>0</td><td>0</td><td>1</td><td>1</td><td>0</td><td>0</td><td>360</td><td>    0</td><td>1</td></tr>\n",
              "\t<tr><th scope=row>6</th><td>0</td><td>1</td><td>33.17</td><td>1.040</td><td>0</td><td>1</td><td>0</td><td>1</td><td>0</td><td>0</td><td>⋯</td><td>0</td><td>0</td><td>0</td><td>1</td><td>1</td><td>0</td><td>0</td><td>164</td><td>31285</td><td>1</td></tr>\n",
              "</tbody>\n",
              "</table>\n"
            ]
          },
          "metadata": {}
        }
      ]
    },
    {
      "cell_type": "markdown",
      "metadata": {
        "id": "P2Te55zWBN5F"
      },
      "source": [
        "## Criando o modelo de Regressão Logística com CrossValidation"
      ]
    },
    {
      "cell_type": "code",
      "metadata": {
        "id": "ravLwqM0Gh8I"
      },
      "source": [
        "df$v16 <- as.factor(df$v16)"
      ],
      "execution_count": null,
      "outputs": []
    },
    {
      "cell_type": "markdown",
      "metadata": {
        "id": "cGjAVjQa2YKM"
      },
      "source": [
        "Se deixar a vriável resposta como fator o resultado do predict será dada em 0s e 1s, se deixar como numerico, a saída será apenas a probabilidade"
      ]
    },
    {
      "cell_type": "code",
      "metadata": {
        "id": "_fX9WNc1-T5R"
      },
      "source": [
        "ctrl <- trainControl(method=\"repeatedcv\", number= 20, repeats=5)"
      ],
      "execution_count": null,
      "outputs": []
    },
    {
      "cell_type": "code",
      "metadata": {
        "colab": {
          "base_uri": "https://localhost:8080/"
        },
        "id": "Hd84MEadutGf",
        "outputId": "4f11dab3-6be0-4cd0-b608-183b6822e107"
      },
      "source": [
        "fit <- train(v16~., data=df, method=\"glm\", family=\"binomial\", trControl=ctrl, preProcess = c(\"center\", \"scale\"))\n",
        "fit"
      ],
      "execution_count": null,
      "outputs": [
        {
          "output_type": "stream",
          "name": "stderr",
          "text": [
            "Warning message:\n",
            "“glm.fit: fitted probabilities numerically 0 or 1 occurred”\n",
            "Warning message in predict.lm(object, newdata, se.fit, scale = 1, type = if (type == :\n",
            "“prediction from a rank-deficient fit may be misleading”\n",
            "Warning message:\n",
            "“glm.fit: fitted probabilities numerically 0 or 1 occurred”\n",
            "Warning message in predict.lm(object, newdata, se.fit, scale = 1, type = if (type == :\n",
            "“prediction from a rank-deficient fit may be misleading”\n",
            "Warning message:\n",
            "“glm.fit: fitted probabilities numerically 0 or 1 occurred”\n",
            "Warning message in predict.lm(object, newdata, se.fit, scale = 1, type = if (type == :\n",
            "“prediction from a rank-deficient fit may be misleading”\n",
            "Warning message:\n",
            "“glm.fit: fitted probabilities numerically 0 or 1 occurred”\n",
            "Warning message in predict.lm(object, newdata, se.fit, scale = 1, type = if (type == :\n",
            "“prediction from a rank-deficient fit may be misleading”\n",
            "Warning message:\n",
            "“glm.fit: fitted probabilities numerically 0 or 1 occurred”\n",
            "Warning message in predict.lm(object, newdata, se.fit, scale = 1, type = if (type == :\n",
            "“prediction from a rank-deficient fit may be misleading”\n",
            "Warning message:\n",
            "“glm.fit: fitted probabilities numerically 0 or 1 occurred”\n",
            "Warning message in predict.lm(object, newdata, se.fit, scale = 1, type = if (type == :\n",
            "“prediction from a rank-deficient fit may be misleading”\n",
            "Warning message:\n",
            "“glm.fit: fitted probabilities numerically 0 or 1 occurred”\n",
            "Warning message in predict.lm(object, newdata, se.fit, scale = 1, type = if (type == :\n",
            "“prediction from a rank-deficient fit may be misleading”\n",
            "Warning message:\n",
            "“glm.fit: fitted probabilities numerically 0 or 1 occurred”\n",
            "Warning message in predict.lm(object, newdata, se.fit, scale = 1, type = if (type == :\n",
            "“prediction from a rank-deficient fit may be misleading”\n",
            "Warning message:\n",
            "“glm.fit: fitted probabilities numerically 0 or 1 occurred”\n",
            "Warning message in predict.lm(object, newdata, se.fit, scale = 1, type = if (type == :\n",
            "“prediction from a rank-deficient fit may be misleading”\n",
            "Warning message:\n",
            "“glm.fit: fitted probabilities numerically 0 or 1 occurred”\n",
            "Warning message in predict.lm(object, newdata, se.fit, scale = 1, type = if (type == :\n",
            "“prediction from a rank-deficient fit may be misleading”\n",
            "Warning message:\n",
            "“glm.fit: fitted probabilities numerically 0 or 1 occurred”\n",
            "Warning message in predict.lm(object, newdata, se.fit, scale = 1, type = if (type == :\n",
            "“prediction from a rank-deficient fit may be misleading”\n",
            "Warning message:\n",
            "“glm.fit: fitted probabilities numerically 0 or 1 occurred”\n",
            "Warning message in predict.lm(object, newdata, se.fit, scale = 1, type = if (type == :\n",
            "“prediction from a rank-deficient fit may be misleading”\n",
            "Warning message:\n",
            "“glm.fit: fitted probabilities numerically 0 or 1 occurred”\n",
            "Warning message in predict.lm(object, newdata, se.fit, scale = 1, type = if (type == :\n",
            "“prediction from a rank-deficient fit may be misleading”\n",
            "Warning message:\n",
            "“glm.fit: fitted probabilities numerically 0 or 1 occurred”\n",
            "Warning message in predict.lm(object, newdata, se.fit, scale = 1, type = if (type == :\n",
            "“prediction from a rank-deficient fit may be misleading”\n",
            "Warning message in predict.lm(object, newdata, se.fit, scale = 1, type = if (type == :\n",
            "“prediction from a rank-deficient fit may be misleading”\n",
            "Warning message in predict.lm(object, newdata, se.fit, scale = 1, type = if (type == :\n",
            "“prediction from a rank-deficient fit may be misleading”\n",
            "Warning message:\n",
            "“glm.fit: fitted probabilities numerically 0 or 1 occurred”\n",
            "Warning message in predict.lm(object, newdata, se.fit, scale = 1, type = if (type == :\n",
            "“prediction from a rank-deficient fit may be misleading”\n",
            "Warning message:\n",
            "“glm.fit: fitted probabilities numerically 0 or 1 occurred”\n",
            "Warning message in predict.lm(object, newdata, se.fit, scale = 1, type = if (type == :\n",
            "“prediction from a rank-deficient fit may be misleading”\n",
            "Warning message:\n",
            "“glm.fit: fitted probabilities numerically 0 or 1 occurred”\n",
            "Warning message in predict.lm(object, newdata, se.fit, scale = 1, type = if (type == :\n",
            "“prediction from a rank-deficient fit may be misleading”\n",
            "Warning message:\n",
            "“glm.fit: fitted probabilities numerically 0 or 1 occurred”\n",
            "Warning message in predict.lm(object, newdata, se.fit, scale = 1, type = if (type == :\n",
            "“prediction from a rank-deficient fit may be misleading”\n",
            "Warning message:\n",
            "“glm.fit: fitted probabilities numerically 0 or 1 occurred”\n",
            "Warning message in predict.lm(object, newdata, se.fit, scale = 1, type = if (type == :\n",
            "“prediction from a rank-deficient fit may be misleading”\n",
            "Warning message in predict.lm(object, newdata, se.fit, scale = 1, type = if (type == :\n",
            "“prediction from a rank-deficient fit may be misleading”\n",
            "Warning message in predict.lm(object, newdata, se.fit, scale = 1, type = if (type == :\n",
            "“prediction from a rank-deficient fit may be misleading”\n",
            "Warning message:\n",
            "“glm.fit: fitted probabilities numerically 0 or 1 occurred”\n",
            "Warning message in predict.lm(object, newdata, se.fit, scale = 1, type = if (type == :\n",
            "“prediction from a rank-deficient fit may be misleading”\n",
            "Warning message:\n",
            "“glm.fit: fitted probabilities numerically 0 or 1 occurred”\n",
            "Warning message in predict.lm(object, newdata, se.fit, scale = 1, type = if (type == :\n",
            "“prediction from a rank-deficient fit may be misleading”\n",
            "Warning message:\n",
            "“glm.fit: fitted probabilities numerically 0 or 1 occurred”\n",
            "Warning message in predict.lm(object, newdata, se.fit, scale = 1, type = if (type == :\n",
            "“prediction from a rank-deficient fit may be misleading”\n",
            "Warning message:\n",
            "“glm.fit: fitted probabilities numerically 0 or 1 occurred”\n",
            "Warning message in predict.lm(object, newdata, se.fit, scale = 1, type = if (type == :\n",
            "“prediction from a rank-deficient fit may be misleading”\n",
            "Warning message:\n",
            "“glm.fit: fitted probabilities numerically 0 or 1 occurred”\n",
            "Warning message in predict.lm(object, newdata, se.fit, scale = 1, type = if (type == :\n",
            "“prediction from a rank-deficient fit may be misleading”\n",
            "Warning message:\n",
            "“glm.fit: fitted probabilities numerically 0 or 1 occurred”\n",
            "Warning message in predict.lm(object, newdata, se.fit, scale = 1, type = if (type == :\n",
            "“prediction from a rank-deficient fit may be misleading”\n",
            "Warning message:\n",
            "“glm.fit: fitted probabilities numerically 0 or 1 occurred”\n",
            "Warning message in predict.lm(object, newdata, se.fit, scale = 1, type = if (type == :\n",
            "“prediction from a rank-deficient fit may be misleading”\n",
            "Warning message:\n",
            "“glm.fit: fitted probabilities numerically 0 or 1 occurred”\n",
            "Warning message in predict.lm(object, newdata, se.fit, scale = 1, type = if (type == :\n",
            "“prediction from a rank-deficient fit may be misleading”\n",
            "Warning message:\n",
            "“glm.fit: fitted probabilities numerically 0 or 1 occurred”\n",
            "Warning message in predict.lm(object, newdata, se.fit, scale = 1, type = if (type == :\n",
            "“prediction from a rank-deficient fit may be misleading”\n",
            "Warning message:\n",
            "“glm.fit: fitted probabilities numerically 0 or 1 occurred”\n",
            "Warning message in predict.lm(object, newdata, se.fit, scale = 1, type = if (type == :\n",
            "“prediction from a rank-deficient fit may be misleading”\n",
            "Warning message:\n",
            "“glm.fit: fitted probabilities numerically 0 or 1 occurred”\n",
            "Warning message in predict.lm(object, newdata, se.fit, scale = 1, type = if (type == :\n",
            "“prediction from a rank-deficient fit may be misleading”\n",
            "Warning message:\n",
            "“glm.fit: fitted probabilities numerically 0 or 1 occurred”\n",
            "Warning message in predict.lm(object, newdata, se.fit, scale = 1, type = if (type == :\n",
            "“prediction from a rank-deficient fit may be misleading”\n",
            "Warning message:\n",
            "“glm.fit: fitted probabilities numerically 0 or 1 occurred”\n",
            "Warning message in predict.lm(object, newdata, se.fit, scale = 1, type = if (type == :\n",
            "“prediction from a rank-deficient fit may be misleading”\n",
            "Warning message:\n",
            "“glm.fit: fitted probabilities numerically 0 or 1 occurred”\n",
            "Warning message in predict.lm(object, newdata, se.fit, scale = 1, type = if (type == :\n",
            "“prediction from a rank-deficient fit may be misleading”\n",
            "Warning message:\n",
            "“glm.fit: fitted probabilities numerically 0 or 1 occurred”\n",
            "Warning message in predict.lm(object, newdata, se.fit, scale = 1, type = if (type == :\n",
            "“prediction from a rank-deficient fit may be misleading”\n",
            "Warning message:\n",
            "“glm.fit: fitted probabilities numerically 0 or 1 occurred”\n",
            "Warning message in predict.lm(object, newdata, se.fit, scale = 1, type = if (type == :\n",
            "“prediction from a rank-deficient fit may be misleading”\n",
            "Warning message:\n",
            "“glm.fit: fitted probabilities numerically 0 or 1 occurred”\n",
            "Warning message in predict.lm(object, newdata, se.fit, scale = 1, type = if (type == :\n",
            "“prediction from a rank-deficient fit may be misleading”\n",
            "Warning message:\n",
            "“glm.fit: fitted probabilities numerically 0 or 1 occurred”\n",
            "Warning message in predict.lm(object, newdata, se.fit, scale = 1, type = if (type == :\n",
            "“prediction from a rank-deficient fit may be misleading”\n",
            "Warning message:\n",
            "“glm.fit: fitted probabilities numerically 0 or 1 occurred”\n",
            "Warning message in predict.lm(object, newdata, se.fit, scale = 1, type = if (type == :\n",
            "“prediction from a rank-deficient fit may be misleading”\n",
            "Warning message:\n",
            "“glm.fit: fitted probabilities numerically 0 or 1 occurred”\n",
            "Warning message in predict.lm(object, newdata, se.fit, scale = 1, type = if (type == :\n",
            "“prediction from a rank-deficient fit may be misleading”\n",
            "Warning message:\n",
            "“glm.fit: fitted probabilities numerically 0 or 1 occurred”\n",
            "Warning message in predict.lm(object, newdata, se.fit, scale = 1, type = if (type == :\n",
            "“prediction from a rank-deficient fit may be misleading”\n",
            "Warning message:\n",
            "“glm.fit: fitted probabilities numerically 0 or 1 occurred”\n",
            "Warning message in predict.lm(object, newdata, se.fit, scale = 1, type = if (type == :\n",
            "“prediction from a rank-deficient fit may be misleading”\n",
            "Warning message:\n",
            "“glm.fit: fitted probabilities numerically 0 or 1 occurred”\n",
            "Warning message in predict.lm(object, newdata, se.fit, scale = 1, type = if (type == :\n",
            "“prediction from a rank-deficient fit may be misleading”\n",
            "Warning message:\n",
            "“glm.fit: fitted probabilities numerically 0 or 1 occurred”\n",
            "Warning message in predict.lm(object, newdata, se.fit, scale = 1, type = if (type == :\n",
            "“prediction from a rank-deficient fit may be misleading”\n",
            "Warning message in predict.lm(object, newdata, se.fit, scale = 1, type = if (type == :\n",
            "“prediction from a rank-deficient fit may be misleading”\n",
            "Warning message:\n",
            "“glm.fit: fitted probabilities numerically 0 or 1 occurred”\n",
            "Warning message in predict.lm(object, newdata, se.fit, scale = 1, type = if (type == :\n",
            "“prediction from a rank-deficient fit may be misleading”\n",
            "Warning message:\n",
            "“glm.fit: fitted probabilities numerically 0 or 1 occurred”\n",
            "Warning message in predict.lm(object, newdata, se.fit, scale = 1, type = if (type == :\n",
            "“prediction from a rank-deficient fit may be misleading”\n",
            "Warning message:\n",
            "“glm.fit: fitted probabilities numerically 0 or 1 occurred”\n",
            "Warning message in predict.lm(object, newdata, se.fit, scale = 1, type = if (type == :\n",
            "“prediction from a rank-deficient fit may be misleading”\n",
            "Warning message:\n",
            "“glm.fit: fitted probabilities numerically 0 or 1 occurred”\n",
            "Warning message in predict.lm(object, newdata, se.fit, scale = 1, type = if (type == :\n",
            "“prediction from a rank-deficient fit may be misleading”\n",
            "Warning message:\n",
            "“glm.fit: fitted probabilities numerically 0 or 1 occurred”\n",
            "Warning message in predict.lm(object, newdata, se.fit, scale = 1, type = if (type == :\n",
            "“prediction from a rank-deficient fit may be misleading”\n",
            "Warning message:\n",
            "“glm.fit: fitted probabilities numerically 0 or 1 occurred”\n",
            "Warning message in predict.lm(object, newdata, se.fit, scale = 1, type = if (type == :\n",
            "“prediction from a rank-deficient fit may be misleading”\n",
            "Warning message:\n",
            "“glm.fit: fitted probabilities numerically 0 or 1 occurred”\n",
            "Warning message in predict.lm(object, newdata, se.fit, scale = 1, type = if (type == :\n",
            "“prediction from a rank-deficient fit may be misleading”\n",
            "Warning message:\n",
            "“glm.fit: fitted probabilities numerically 0 or 1 occurred”\n",
            "Warning message in predict.lm(object, newdata, se.fit, scale = 1, type = if (type == :\n",
            "“prediction from a rank-deficient fit may be misleading”\n",
            "Warning message in predict.lm(object, newdata, se.fit, scale = 1, type = if (type == :\n",
            "“prediction from a rank-deficient fit may be misleading”\n",
            "Warning message:\n",
            "“glm.fit: fitted probabilities numerically 0 or 1 occurred”\n",
            "Warning message in predict.lm(object, newdata, se.fit, scale = 1, type = if (type == :\n",
            "“prediction from a rank-deficient fit may be misleading”\n",
            "Warning message:\n",
            "“glm.fit: fitted probabilities numerically 0 or 1 occurred”\n",
            "Warning message in predict.lm(object, newdata, se.fit, scale = 1, type = if (type == :\n",
            "“prediction from a rank-deficient fit may be misleading”\n",
            "Warning message:\n",
            "“glm.fit: fitted probabilities numerically 0 or 1 occurred”\n",
            "Warning message in predict.lm(object, newdata, se.fit, scale = 1, type = if (type == :\n",
            "“prediction from a rank-deficient fit may be misleading”\n",
            "Warning message:\n",
            "“glm.fit: fitted probabilities numerically 0 or 1 occurred”\n",
            "Warning message in predict.lm(object, newdata, se.fit, scale = 1, type = if (type == :\n",
            "“prediction from a rank-deficient fit may be misleading”\n",
            "Warning message:\n",
            "“glm.fit: fitted probabilities numerically 0 or 1 occurred”\n",
            "Warning message in predict.lm(object, newdata, se.fit, scale = 1, type = if (type == :\n",
            "“prediction from a rank-deficient fit may be misleading”\n",
            "Warning message:\n",
            "“glm.fit: fitted probabilities numerically 0 or 1 occurred”\n",
            "Warning message in predict.lm(object, newdata, se.fit, scale = 1, type = if (type == :\n",
            "“prediction from a rank-deficient fit may be misleading”\n",
            "Warning message:\n",
            "“glm.fit: fitted probabilities numerically 0 or 1 occurred”\n",
            "Warning message in predict.lm(object, newdata, se.fit, scale = 1, type = if (type == :\n",
            "“prediction from a rank-deficient fit may be misleading”\n",
            "Warning message:\n",
            "“glm.fit: fitted probabilities numerically 0 or 1 occurred”\n",
            "Warning message in predict.lm(object, newdata, se.fit, scale = 1, type = if (type == :\n",
            "“prediction from a rank-deficient fit may be misleading”\n",
            "Warning message:\n",
            "“glm.fit: fitted probabilities numerically 0 or 1 occurred”\n",
            "Warning message in predict.lm(object, newdata, se.fit, scale = 1, type = if (type == :\n",
            "“prediction from a rank-deficient fit may be misleading”\n",
            "Warning message in preProcess.default(thresh = 0.95, k = 5, freqCut = 19, uniqueCut = 10, :\n",
            "“These variables have zero variances: v7.o”\n",
            "Warning message:\n",
            "“glm.fit: fitted probabilities numerically 0 or 1 occurred”\n",
            "Warning message in predict.lm(object, newdata, se.fit, scale = 1, type = if (type == :\n",
            "“prediction from a rank-deficient fit may be misleading”\n",
            "Warning message:\n",
            "“glm.fit: fitted probabilities numerically 0 or 1 occurred”\n",
            "Warning message in predict.lm(object, newdata, se.fit, scale = 1, type = if (type == :\n",
            "“prediction from a rank-deficient fit may be misleading”\n",
            "Warning message:\n",
            "“glm.fit: fitted probabilities numerically 0 or 1 occurred”\n",
            "Warning message in predict.lm(object, newdata, se.fit, scale = 1, type = if (type == :\n",
            "“prediction from a rank-deficient fit may be misleading”\n",
            "Warning message in predict.lm(object, newdata, se.fit, scale = 1, type = if (type == :\n",
            "“prediction from a rank-deficient fit may be misleading”\n",
            "Warning message:\n",
            "“glm.fit: fitted probabilities numerically 0 or 1 occurred”\n",
            "Warning message in predict.lm(object, newdata, se.fit, scale = 1, type = if (type == :\n",
            "“prediction from a rank-deficient fit may be misleading”\n",
            "Warning message:\n",
            "“glm.fit: fitted probabilities numerically 0 or 1 occurred”\n",
            "Warning message in predict.lm(object, newdata, se.fit, scale = 1, type = if (type == :\n",
            "“prediction from a rank-deficient fit may be misleading”\n",
            "Warning message:\n",
            "“glm.fit: fitted probabilities numerically 0 or 1 occurred”\n",
            "Warning message in predict.lm(object, newdata, se.fit, scale = 1, type = if (type == :\n",
            "“prediction from a rank-deficient fit may be misleading”\n",
            "Warning message:\n",
            "“glm.fit: fitted probabilities numerically 0 or 1 occurred”\n",
            "Warning message in predict.lm(object, newdata, se.fit, scale = 1, type = if (type == :\n",
            "“prediction from a rank-deficient fit may be misleading”\n",
            "Warning message:\n",
            "“glm.fit: fitted probabilities numerically 0 or 1 occurred”\n",
            "Warning message in predict.lm(object, newdata, se.fit, scale = 1, type = if (type == :\n",
            "“prediction from a rank-deficient fit may be misleading”\n",
            "Warning message:\n",
            "“glm.fit: fitted probabilities numerically 0 or 1 occurred”\n",
            "Warning message in predict.lm(object, newdata, se.fit, scale = 1, type = if (type == :\n",
            "“prediction from a rank-deficient fit may be misleading”\n",
            "Warning message:\n",
            "“glm.fit: fitted probabilities numerically 0 or 1 occurred”\n",
            "Warning message in predict.lm(object, newdata, se.fit, scale = 1, type = if (type == :\n",
            "“prediction from a rank-deficient fit may be misleading”\n",
            "Warning message:\n",
            "“glm.fit: fitted probabilities numerically 0 or 1 occurred”\n",
            "Warning message in predict.lm(object, newdata, se.fit, scale = 1, type = if (type == :\n",
            "“prediction from a rank-deficient fit may be misleading”\n",
            "Warning message in predict.lm(object, newdata, se.fit, scale = 1, type = if (type == :\n",
            "“prediction from a rank-deficient fit may be misleading”\n",
            "Warning message:\n",
            "“glm.fit: fitted probabilities numerically 0 or 1 occurred”\n",
            "Warning message in predict.lm(object, newdata, se.fit, scale = 1, type = if (type == :\n",
            "“prediction from a rank-deficient fit may be misleading”\n",
            "Warning message in predict.lm(object, newdata, se.fit, scale = 1, type = if (type == :\n",
            "“prediction from a rank-deficient fit may be misleading”\n",
            "Warning message:\n",
            "“glm.fit: fitted probabilities numerically 0 or 1 occurred”\n",
            "Warning message in predict.lm(object, newdata, se.fit, scale = 1, type = if (type == :\n",
            "“prediction from a rank-deficient fit may be misleading”\n",
            "Warning message:\n",
            "“glm.fit: fitted probabilities numerically 0 or 1 occurred”\n",
            "Warning message in predict.lm(object, newdata, se.fit, scale = 1, type = if (type == :\n",
            "“prediction from a rank-deficient fit may be misleading”\n",
            "Warning message:\n",
            "“glm.fit: fitted probabilities numerically 0 or 1 occurred”\n",
            "Warning message in predict.lm(object, newdata, se.fit, scale = 1, type = if (type == :\n",
            "“prediction from a rank-deficient fit may be misleading”\n",
            "Warning message:\n",
            "“glm.fit: fitted probabilities numerically 0 or 1 occurred”\n",
            "Warning message in predict.lm(object, newdata, se.fit, scale = 1, type = if (type == :\n",
            "“prediction from a rank-deficient fit may be misleading”\n",
            "Warning message:\n",
            "“glm.fit: fitted probabilities numerically 0 or 1 occurred”\n",
            "Warning message in predict.lm(object, newdata, se.fit, scale = 1, type = if (type == :\n",
            "“prediction from a rank-deficient fit may be misleading”\n",
            "Warning message:\n",
            "“glm.fit: fitted probabilities numerically 0 or 1 occurred”\n",
            "Warning message in predict.lm(object, newdata, se.fit, scale = 1, type = if (type == :\n",
            "“prediction from a rank-deficient fit may be misleading”\n",
            "Warning message:\n",
            "“glm.fit: fitted probabilities numerically 0 or 1 occurred”\n",
            "Warning message in predict.lm(object, newdata, se.fit, scale = 1, type = if (type == :\n",
            "“prediction from a rank-deficient fit may be misleading”\n",
            "Warning message:\n",
            "“glm.fit: fitted probabilities numerically 0 or 1 occurred”\n",
            "Warning message in predict.lm(object, newdata, se.fit, scale = 1, type = if (type == :\n",
            "“prediction from a rank-deficient fit may be misleading”\n",
            "Warning message:\n",
            "“glm.fit: fitted probabilities numerically 0 or 1 occurred”\n",
            "Warning message in predict.lm(object, newdata, se.fit, scale = 1, type = if (type == :\n",
            "“prediction from a rank-deficient fit may be misleading”\n",
            "Warning message in predict.lm(object, newdata, se.fit, scale = 1, type = if (type == :\n",
            "“prediction from a rank-deficient fit may be misleading”\n",
            "Warning message:\n",
            "“glm.fit: fitted probabilities numerically 0 or 1 occurred”\n",
            "Warning message in predict.lm(object, newdata, se.fit, scale = 1, type = if (type == :\n",
            "“prediction from a rank-deficient fit may be misleading”\n",
            "Warning message:\n",
            "“glm.fit: fitted probabilities numerically 0 or 1 occurred”\n",
            "Warning message in predict.lm(object, newdata, se.fit, scale = 1, type = if (type == :\n",
            "“prediction from a rank-deficient fit may be misleading”\n",
            "Warning message:\n",
            "“glm.fit: fitted probabilities numerically 0 or 1 occurred”\n",
            "Warning message in predict.lm(object, newdata, se.fit, scale = 1, type = if (type == :\n",
            "“prediction from a rank-deficient fit may be misleading”\n",
            "Warning message:\n",
            "“glm.fit: fitted probabilities numerically 0 or 1 occurred”\n",
            "Warning message in predict.lm(object, newdata, se.fit, scale = 1, type = if (type == :\n",
            "“prediction from a rank-deficient fit may be misleading”\n",
            "Warning message in preProcess.default(thresh = 0.95, k = 5, freqCut = 19, uniqueCut = 10, :\n",
            "“These variables have zero variances: v7.o, v13.p”\n",
            "Warning message:\n",
            "“glm.fit: fitted probabilities numerically 0 or 1 occurred”\n",
            "Warning message in predict.lm(object, newdata, se.fit, scale = 1, type = if (type == :\n",
            "“prediction from a rank-deficient fit may be misleading”\n",
            "Warning message:\n",
            "“glm.fit: fitted probabilities numerically 0 or 1 occurred”\n",
            "Warning message in predict.lm(object, newdata, se.fit, scale = 1, type = if (type == :\n",
            "“prediction from a rank-deficient fit may be misleading”\n",
            "Warning message:\n",
            "“glm.fit: fitted probabilities numerically 0 or 1 occurred”\n",
            "Warning message in predict.lm(object, newdata, se.fit, scale = 1, type = if (type == :\n",
            "“prediction from a rank-deficient fit may be misleading”\n",
            "Warning message:\n",
            "“glm.fit: fitted probabilities numerically 0 or 1 occurred”\n",
            "Warning message in predict.lm(object, newdata, se.fit, scale = 1, type = if (type == :\n",
            "“prediction from a rank-deficient fit may be misleading”\n",
            "Warning message:\n",
            "“glm.fit: fitted probabilities numerically 0 or 1 occurred”\n",
            "Warning message in predict.lm(object, newdata, se.fit, scale = 1, type = if (type == :\n",
            "“prediction from a rank-deficient fit may be misleading”\n",
            "Warning message:\n",
            "“glm.fit: fitted probabilities numerically 0 or 1 occurred”\n"
          ]
        },
        {
          "output_type": "display_data",
          "data": {
            "text/plain": [
              "Generalized Linear Model \n",
              "\n",
              "652 samples\n",
              " 46 predictor\n",
              "  2 classes: '0', '1' \n",
              "\n",
              "Pre-processing: centered (46), scaled (46) \n",
              "Resampling: Cross-Validated (20 fold, repeated 5 times) \n",
              "Summary of sample sizes: 619, 620, 619, 619, 619, 619, ... \n",
              "Resampling results:\n",
              "\n",
              "  Accuracy   Kappa    \n",
              "  0.8592015  0.7174409\n"
            ]
          },
          "metadata": {}
        }
      ]
    },
    {
      "cell_type": "code",
      "metadata": {
        "id": "SsSNDuReutYV",
        "colab": {
          "base_uri": "https://localhost:8080/"
        },
        "outputId": "bc91ed33-ef8f-49fd-d525-c1ae84b3e9a3"
      },
      "source": [
        "# A probailidade de pertencer a uma ou à outra classe\n",
        "predict_test_prob = predict(fit, newdata= df, type=\"prob\")\n",
        "head(round(predict_test_prob,3))"
      ],
      "execution_count": null,
      "outputs": [
        {
          "output_type": "stream",
          "name": "stderr",
          "text": [
            "Warning message in predict.lm(object, newdata, se.fit, scale = 1, type = if (type == :\n",
            "“prediction from a rank-deficient fit may be misleading”\n"
          ]
        },
        {
          "output_type": "display_data",
          "data": {
            "text/plain": [
              "  0     1    \n",
              "1 0.033 0.967\n",
              "2 0.224 0.776\n",
              "3 0.073 0.927\n",
              "4 0.228 0.772\n",
              "5 0.507 0.493\n",
              "6 0.000 1.000"
            ],
            "text/latex": "A data.frame: 6 × 2\n\\begin{tabular}{r|ll}\n  & 0 & 1\\\\\n  & <dbl> & <dbl>\\\\\n\\hline\n\t1 & 0.033 & 0.967\\\\\n\t2 & 0.224 & 0.776\\\\\n\t3 & 0.073 & 0.927\\\\\n\t4 & 0.228 & 0.772\\\\\n\t5 & 0.507 & 0.493\\\\\n\t6 & 0.000 & 1.000\\\\\n\\end{tabular}\n",
            "text/markdown": "\nA data.frame: 6 × 2\n\n| <!--/--> | 0 &lt;dbl&gt; | 1 &lt;dbl&gt; |\n|---|---|---|\n| 1 | 0.033 | 0.967 |\n| 2 | 0.224 | 0.776 |\n| 3 | 0.073 | 0.927 |\n| 4 | 0.228 | 0.772 |\n| 5 | 0.507 | 0.493 |\n| 6 | 0.000 | 1.000 |\n\n",
            "text/html": [
              "<table class=\"dataframe\">\n",
              "<caption>A data.frame: 6 × 2</caption>\n",
              "<thead>\n",
              "\t<tr><th></th><th scope=col>0</th><th scope=col>1</th></tr>\n",
              "\t<tr><th></th><th scope=col>&lt;dbl&gt;</th><th scope=col>&lt;dbl&gt;</th></tr>\n",
              "</thead>\n",
              "<tbody>\n",
              "\t<tr><th scope=row>1</th><td>0.033</td><td>0.967</td></tr>\n",
              "\t<tr><th scope=row>2</th><td>0.224</td><td>0.776</td></tr>\n",
              "\t<tr><th scope=row>3</th><td>0.073</td><td>0.927</td></tr>\n",
              "\t<tr><th scope=row>4</th><td>0.228</td><td>0.772</td></tr>\n",
              "\t<tr><th scope=row>5</th><td>0.507</td><td>0.493</td></tr>\n",
              "\t<tr><th scope=row>6</th><td>0.000</td><td>1.000</td></tr>\n",
              "</tbody>\n",
              "</table>\n"
            ]
          },
          "metadata": {}
        }
      ]
    },
    {
      "cell_type": "code",
      "metadata": {
        "id": "J8HGaG9Tu09i",
        "colab": {
          "base_uri": "https://localhost:8080/"
        },
        "outputId": "afdf72b7-6ad4-4019-8ef2-cbd8787231a0"
      },
      "source": [
        "# Ajustanto para ver apenas os valores acima de 50% temos a classificação como 0 ou 1\n",
        "# Probabilidade acima de 50% para 0 será 0, acima de 50% para 1 será 1\n",
        "predict_test_prob = predict(fit, newdata= df, type=\"prob\")>0.5\n",
        "head((predict_test_prob))"
      ],
      "execution_count": null,
      "outputs": [
        {
          "output_type": "stream",
          "name": "stderr",
          "text": [
            "Warning message in predict.lm(object, newdata, se.fit, scale = 1, type = if (type == :\n",
            "“prediction from a rank-deficient fit may be misleading”\n"
          ]
        },
        {
          "output_type": "display_data",
          "data": {
            "text/plain": [
              "  0     1    \n",
              "1 FALSE  TRUE\n",
              "2 FALSE  TRUE\n",
              "3 FALSE  TRUE\n",
              "4 FALSE  TRUE\n",
              "5  TRUE FALSE\n",
              "6 FALSE  TRUE"
            ],
            "text/latex": "A matrix: 6 × 2 of type lgl\n\\begin{tabular}{r|ll}\n  & 0 & 1\\\\\n\\hline\n\t1 & FALSE &  TRUE\\\\\n\t2 & FALSE &  TRUE\\\\\n\t3 & FALSE &  TRUE\\\\\n\t4 & FALSE &  TRUE\\\\\n\t5 &  TRUE & FALSE\\\\\n\t6 & FALSE &  TRUE\\\\\n\\end{tabular}\n",
            "text/markdown": "\nA matrix: 6 × 2 of type lgl\n\n| <!--/--> | 0 | 1 |\n|---|---|---|\n| 1 | FALSE |  TRUE |\n| 2 | FALSE |  TRUE |\n| 3 | FALSE |  TRUE |\n| 4 | FALSE |  TRUE |\n| 5 |  TRUE | FALSE |\n| 6 | FALSE |  TRUE |\n\n",
            "text/html": [
              "<table class=\"dataframe\">\n",
              "<caption>A matrix: 6 × 2 of type lgl</caption>\n",
              "<thead>\n",
              "\t<tr><th></th><th scope=col>0</th><th scope=col>1</th></tr>\n",
              "</thead>\n",
              "<tbody>\n",
              "\t<tr><th scope=row>1</th><td>FALSE</td><td> TRUE</td></tr>\n",
              "\t<tr><th scope=row>2</th><td>FALSE</td><td> TRUE</td></tr>\n",
              "\t<tr><th scope=row>3</th><td>FALSE</td><td> TRUE</td></tr>\n",
              "\t<tr><th scope=row>4</th><td>FALSE</td><td> TRUE</td></tr>\n",
              "\t<tr><th scope=row>5</th><td> TRUE</td><td>FALSE</td></tr>\n",
              "\t<tr><th scope=row>6</th><td>FALSE</td><td> TRUE</td></tr>\n",
              "</tbody>\n",
              "</table>\n"
            ]
          },
          "metadata": {}
        }
      ]
    },
    {
      "cell_type": "code",
      "metadata": {
        "id": "SlGb2O-nu1Mm",
        "colab": {
          "base_uri": "https://localhost:8080/"
        },
        "outputId": "6668acd0-c1b2-487c-ae47-67d6cb9bb69d"
      },
      "source": [
        "predict_test = predict(fit, newdata= df, type=\"raw\")\n",
        "head(predict_test)"
      ],
      "execution_count": null,
      "outputs": [
        {
          "output_type": "stream",
          "name": "stderr",
          "text": [
            "Warning message in predict.lm(object, newdata, se.fit, scale = 1, type = if (type == :\n",
            "“prediction from a rank-deficient fit may be misleading”\n"
          ]
        },
        {
          "output_type": "display_data",
          "data": {
            "text/plain": [
              "[1] 1 1 1 1 0 1\n",
              "Levels: 0 1"
            ],
            "text/latex": "\\begin{enumerate*}\n\\item 1\n\\item 1\n\\item 1\n\\item 1\n\\item 0\n\\item 1\n\\end{enumerate*}\n\n\\emph{Levels}: \\begin{enumerate*}\n\\item '0'\n\\item '1'\n\\end{enumerate*}\n",
            "text/markdown": "1. 1\n2. 1\n3. 1\n4. 1\n5. 0\n6. 1\n\n\n\n**Levels**: 1. '0'\n2. '1'\n\n\n",
            "text/html": [
              "<style>\n",
              ".list-inline {list-style: none; margin:0; padding: 0}\n",
              ".list-inline>li {display: inline-block}\n",
              ".list-inline>li:not(:last-child)::after {content: \"\\00b7\"; padding: 0 .5ex}\n",
              "</style>\n",
              "<ol class=list-inline><li>1</li><li>1</li><li>1</li><li>1</li><li>0</li><li>1</li></ol>\n",
              "\n",
              "<details>\n",
              "\t<summary style=display:list-item;cursor:pointer>\n",
              "\t\t<strong>Levels</strong>:\n",
              "\t</summary>\n",
              "\t<style>\n",
              "\t.list-inline {list-style: none; margin:0; padding: 0}\n",
              "\t.list-inline>li {display: inline-block}\n",
              "\t.list-inline>li:not(:last-child)::after {content: \"\\00b7\"; padding: 0 .5ex}\n",
              "\t</style>\n",
              "\t<ol class=list-inline><li>'0'</li><li>'1'</li></ol>\n",
              "</details>"
            ]
          },
          "metadata": {}
        }
      ]
    },
    {
      "cell_type": "code",
      "metadata": {
        "colab": {
          "base_uri": "https://localhost:8080/"
        },
        "id": "D0n0KjjX27lV",
        "outputId": "e52e782a-4864-4a23-a0be-6360127c5c98"
      },
      "source": [
        "summary(fit)"
      ],
      "execution_count": null,
      "outputs": [
        {
          "output_type": "display_data",
          "data": {
            "text/plain": [
              "\n",
              "Call:\n",
              "NULL\n",
              "\n",
              "Deviance Residuals: \n",
              "    Min       1Q   Median       3Q      Max  \n",
              "-2.5489  -0.3084  -0.1247   0.3974   3.3912  \n",
              "\n",
              "Coefficients: (11 not defined because of singularities)\n",
              "              Estimate Std. Error z value Pr(>|z|)    \n",
              "(Intercept)   -0.29639  184.18172  -0.002 0.998716    \n",
              "v1.a           0.03900    0.15039   0.259 0.795380    \n",
              "v1.b                NA         NA      NA       NA    \n",
              "v2             0.15298    0.16881   0.906 0.364810    \n",
              "v3            -0.12284    0.14869  -0.826 0.408706    \n",
              "v4.l           0.82604   40.42977   0.020 0.983699    \n",
              "v4.u           0.35958    0.14542   2.473 0.013413 *  \n",
              "v4.y                NA         NA      NA       NA    \n",
              "v5.g                NA         NA      NA       NA    \n",
              "v5.gg               NA         NA      NA       NA    \n",
              "v5.p                NA         NA      NA       NA    \n",
              "v6.aa         -0.76018    0.25321  -3.002 0.002681 ** \n",
              "v6.c          -1.00446    0.35531  -2.827 0.004699 ** \n",
              "v6.cc         -0.32823    0.25003  -1.313 0.189262    \n",
              "v6.d          -0.39377    0.21622  -1.821 0.068579 .  \n",
              "v6.e          -0.13394    0.25681  -0.522 0.601991    \n",
              "v6.ff         -1.75194    0.60185  -2.911 0.003604 ** \n",
              "v6.i          -0.87597    0.28110  -3.116 0.001832 ** \n",
              "v6.j          -0.87029    0.29132  -2.987 0.002813 ** \n",
              "v6.k          -0.83754    0.25280  -3.313 0.000923 ***\n",
              "v6.m          -0.61466    0.23387  -2.628 0.008584 ** \n",
              "v6.q          -0.79361    0.29366  -2.702 0.006883 ** \n",
              "v6.r          -0.31526    0.30145  -1.046 0.295643    \n",
              "v6.w          -0.55694    0.26934  -2.068 0.038659 *  \n",
              "v6.x                NA         NA      NA       NA    \n",
              "v7.bb          0.95539    0.50315   1.899 0.057589 .  \n",
              "v7.dd          0.24133    0.19081   1.265 0.205950    \n",
              "v7.ff          1.61656    0.73512   2.199 0.027876 *  \n",
              "v7.h           1.63627    0.72992   2.242 0.024979 *  \n",
              "v7.j           0.87368    0.30796   2.837 0.004554 ** \n",
              "v7.n           0.52406    0.18741   2.796 0.005168 ** \n",
              "v7.o          -0.88392 3322.93083   0.000 0.999788    \n",
              "v7.v           1.87127    0.89245   2.097 0.036014 *  \n",
              "v7.z                NA         NA      NA       NA    \n",
              "v8             0.27135    0.18794   1.444 0.148776    \n",
              "v9.f          -1.92452    0.18233 -10.555  < 2e-16 ***\n",
              "v9.t                NA         NA      NA       NA    \n",
              "v10.f         -0.20366    0.19041  -1.070 0.284790    \n",
              "v10.t               NA         NA      NA       NA    \n",
              "v11            0.64970    0.29942   2.170 0.030017 *  \n",
              "v12.f          0.11984    0.14438   0.830 0.406529    \n",
              "v12.t               NA         NA      NA       NA    \n",
              "v13.g          0.02357    0.14290   0.165 0.868988    \n",
              "v13.p         -1.09347 3322.93083   0.000 0.999737    \n",
              "v13.s               NA         NA      NA       NA    \n",
              "v14           -0.43908    0.16143  -2.720 0.006529 ** \n",
              "v15            3.00580    1.03731   2.898 0.003759 ** \n",
              "---\n",
              "Signif. codes:  0 ‘***’ 0.001 ‘**’ 0.01 ‘*’ 0.05 ‘.’ 0.1 ‘ ’ 1\n",
              "\n",
              "(Dispersion parameter for binomial family taken to be 1)\n",
              "\n",
              "    Null deviance: 897.96  on 651  degrees of freedom\n",
              "Residual deviance: 363.99  on 616  degrees of freedom\n",
              "AIC: 435.99\n",
              "\n",
              "Number of Fisher Scoring iterations: 14\n"
            ]
          },
          "metadata": {}
        }
      ]
    },
    {
      "cell_type": "markdown",
      "metadata": {
        "id": "P5ppJzQMu902"
      },
      "source": [
        "## Avaliando o modelo"
      ]
    },
    {
      "cell_type": "markdown",
      "metadata": {
        "id": "nnUzT-ax3PPb"
      },
      "source": [
        "Matriz de confusão:"
      ]
    },
    {
      "cell_type": "code",
      "metadata": {
        "id": "9wbu9OB-u9Bk",
        "colab": {
          "base_uri": "https://localhost:8080/",
          "height": 87
        },
        "outputId": "668a5f23-8a97-4cbf-cc5d-8c7ce006c5c1"
      },
      "source": [
        "matconf <- table(df$v16, predict_test, dnn = list(\"Previsto\", \"Real\"))\n",
        "matconf"
      ],
      "execution_count": null,
      "outputs": [
        {
          "output_type": "display_data",
          "data": {
            "text/plain": [
              "        Real\n",
              "Previsto   0   1\n",
              "       0 309  48\n",
              "       1  27 268"
            ]
          },
          "metadata": {}
        }
      ]
    },
    {
      "cell_type": "code",
      "metadata": {
        "id": "iRehW_huvBNQ"
      },
      "source": [
        "VP <- matconf[4]\n",
        "VN <- matconf[1]\n",
        "FP <- matconf[2]\n",
        "FN <- matconf[3]\n",
        "P <- VP + FN\n",
        "N <- VN + FP"
      ],
      "execution_count": null,
      "outputs": []
    },
    {
      "cell_type": "code",
      "metadata": {
        "id": "WXcCJ2FHvBSt",
        "colab": {
          "base_uri": "https://localhost:8080/"
        },
        "outputId": "fad2f4bc-790b-4a84-c1d8-948ed671d890"
      },
      "source": [
        "glue('Verdadeiro Positivo = {VP}')\n",
        "glue('Verdadeiro Negativo = {VN}')\n",
        "glue('Falso Positivo =      {FP}')\n",
        "glue('Falso Negativo =      {FN}')\n",
        "glue('Número de eventos = {P}')\n",
        "glue('Número de não eventos = {N}')"
      ],
      "execution_count": null,
      "outputs": [
        {
          "output_type": "display_data",
          "data": {
            "text/plain": [
              "Verdadeiro Positivo = 268"
            ],
            "text/latex": "'Verdadeiro Positivo = 268'",
            "text/markdown": "'Verdadeiro Positivo = 268'",
            "text/html": [
              "'Verdadeiro Positivo = 268'"
            ]
          },
          "metadata": {}
        },
        {
          "output_type": "display_data",
          "data": {
            "text/plain": [
              "Verdadeiro Negativo = 309"
            ],
            "text/latex": "'Verdadeiro Negativo = 309'",
            "text/markdown": "'Verdadeiro Negativo = 309'",
            "text/html": [
              "'Verdadeiro Negativo = 309'"
            ]
          },
          "metadata": {}
        },
        {
          "output_type": "display_data",
          "data": {
            "text/plain": [
              "Falso Positivo =      27"
            ],
            "text/latex": "'Falso Positivo =      27'",
            "text/markdown": "<span style=white-space:pre-wrap>'Falso Positivo =      27'</span>",
            "text/html": [
              "<span style=white-space:pre-wrap>'Falso Positivo =      27'</span>"
            ]
          },
          "metadata": {}
        },
        {
          "output_type": "display_data",
          "data": {
            "text/plain": [
              "Falso Negativo =      48"
            ],
            "text/latex": "'Falso Negativo =      48'",
            "text/markdown": "<span style=white-space:pre-wrap>'Falso Negativo =      48'</span>",
            "text/html": [
              "<span style=white-space:pre-wrap>'Falso Negativo =      48'</span>"
            ]
          },
          "metadata": {}
        },
        {
          "output_type": "display_data",
          "data": {
            "text/plain": [
              "Número de eventos = 316"
            ],
            "text/latex": "'Número de eventos = 316'",
            "text/markdown": "'Número de eventos = 316'",
            "text/html": [
              "'Número de eventos = 316'"
            ]
          },
          "metadata": {}
        },
        {
          "output_type": "display_data",
          "data": {
            "text/plain": [
              "Número de não eventos = 336"
            ],
            "text/latex": "'Número de não eventos = 336'",
            "text/markdown": "'Número de não eventos = 336'",
            "text/html": [
              "'Número de não eventos = 336'"
            ]
          },
          "metadata": {}
        }
      ]
    },
    {
      "cell_type": "code",
      "metadata": {
        "id": "x_y875tfu1bY",
        "colab": {
          "base_uri": "https://localhost:8080/"
        },
        "outputId": "e66a30f7-5b41-4c72-8164-636cd53b61b9"
      },
      "source": [
        "acuracia <- (VN + VP) / (P + N) \n",
        "round(acuracia,3)"
      ],
      "execution_count": null,
      "outputs": [
        {
          "output_type": "display_data",
          "data": {
            "text/plain": [
              "[1] 0.885"
            ],
            "text/latex": "0.885",
            "text/markdown": "0.885",
            "text/html": [
              "0.885"
            ]
          },
          "metadata": {}
        }
      ]
    },
    {
      "cell_type": "code",
      "metadata": {
        "id": "ig6ohF9bvSkN",
        "colab": {
          "base_uri": "https://localhost:8080/"
        },
        "outputId": "ff08a983-2f67-40a2-8bae-7747b26f540f"
      },
      "source": [
        "sensibilidade <- VP / (VP + FN)\n",
        "round(sensibilidade,3)"
      ],
      "execution_count": null,
      "outputs": [
        {
          "output_type": "display_data",
          "data": {
            "text/plain": [
              "[1] 0.848"
            ],
            "text/latex": "0.848",
            "text/markdown": "0.848",
            "text/html": [
              "0.848"
            ]
          },
          "metadata": {}
        }
      ]
    },
    {
      "cell_type": "code",
      "metadata": {
        "id": "xfLpGLiqvSsj",
        "colab": {
          "base_uri": "https://localhost:8080/"
        },
        "outputId": "8faed0d3-778d-4ae8-bb9c-3a14fc056c98"
      },
      "source": [
        "especificidade <- VN / (VN + FP)\n",
        "round(especificidade,3)"
      ],
      "execution_count": null,
      "outputs": [
        {
          "output_type": "display_data",
          "data": {
            "text/plain": [
              "[1] 0.92"
            ],
            "text/latex": "0.92",
            "text/markdown": "0.92",
            "text/html": [
              "0.92"
            ]
          },
          "metadata": {}
        }
      ]
    },
    {
      "cell_type": "markdown",
      "metadata": {
        "id": "cptK_IlH3T5i"
      },
      "source": [
        "A curva ROC"
      ]
    },
    {
      "cell_type": "code",
      "metadata": {
        "colab": {
          "base_uri": "https://localhost:8080/"
        },
        "id": "ZFc0F4JbwEf4",
        "outputId": "07441dac-0614-4175-b131-1ab44060aef1"
      },
      "source": [
        "# Plot da curva ROC\n",
        "pr=prediction(as.numeric(predict_test),df$v16) \n",
        "prf=performance(pr, measure=\"tpr\", x.measure=\"fpr\")\n",
        "plot(prf,colorize=TRUE)"
      ],
      "execution_count": null,
      "outputs": [
        {
          "output_type": "display_data",
          "data": {
            "image/png": "[encoded data removed]",
            "text/plain": [
              "plot without title"
            ]
          },
          "metadata": {
            "image/png": {
              "width": 420,
              "height": 420
            }
          }
        }
      ]
    },
    {
      "cell_type": "code",
      "metadata": {
        "colab": {
          "base_uri": "https://localhost:8080/"
        },
        "id": "2FaTV-MTwjXf",
        "outputId": "ac022da4-8812-4477-a0aa-dd3d0545c157"
      },
      "source": [
        "# Area under ROC curve \n",
        "auc=performance(pr, measure=\"auc\")\n",
        "auc=auc@y.values[[1]]\n",
        "auc"
      ],
      "execution_count": null,
      "outputs": [
        {
          "output_type": "display_data",
          "data": {
            "text/plain": [
              "[1] 0.8870104"
            ],
            "text/latex": "0.887010397379291",
            "text/markdown": "0.887010397379291",
            "text/html": [
              "0.887010397379291"
            ]
          },
          "metadata": {}
        }
      ]
    },
    {
      "cell_type": "markdown",
      "source": [
        "A curva ROC é uma forma gráfica de visualizar a proporção de falsos e verdadeiros positivos, e a acurácia do modelo."
      ],
      "metadata": {
        "id": "dpBYmK0JteTP"
      }
    },
    {
      "cell_type": "code",
      "source": [
        ""
      ],
      "metadata": {
        "id": "lM31kXhftsgC"
      },
      "execution_count": null,
      "outputs": []
    }
  ]
}