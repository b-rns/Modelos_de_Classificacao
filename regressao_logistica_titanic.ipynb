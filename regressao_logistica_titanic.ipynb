{
  "nbformat": 4,
  "nbformat_minor": 0,
  "metadata": {
    "colab": {
      "name": "regressao_logistica_titanic.ipynb",
      "provenance": [],
      "collapsed_sections": [
        "wkzDJsqSNQfV",
        "ayWD3kO3142W",
        "SbEivQIW2BCo",
        "ooujEZNxO_sc",
        "jzjypw3jPPOq",
        "hukvQhRW2Mbc",
        "hspnupiRVBVh",
        "GzObsugzZwoq",
        "2vt9DEgrL6VC",
        "79cbVnWkVkiT",
        "FWItwEuKVoeP",
        "XKTTx59QM_SK",
        "HvnVl-mAjkVs",
        "TqFL0wzpQWDt",
        "KFCNXMzwsDmi",
        "4adkv1HRzVhG",
        "wAmhEoL-enTs",
        "72LJJTGHeM1k",
        "rMPpfk1HfoRu",
        "QLfTlqDj1qJ9",
        "Bn3v2jzp6qjX",
        "n4MKGmFegL5c",
        "fDtzAWTxsP55"
      ]
    },
    "kernelspec": {
      "display_name": "R",
      "name": "ir"
    },
    "language_info": {
      "name": "R"
    }
  },
  "cells": [
    {
      "cell_type": "markdown",
      "metadata": {
        "id": "wkzDJsqSNQfV"
      },
      "source": [
        "### Preparação"
      ]
    },
    {
      "cell_type": "code",
      "metadata": {
        "colab": {
          "base_uri": "https://localhost:8080/"
        },
        "id": "dOb3zL2Wmo8t",
        "outputId": "1cc21716-ea01-4a49-d242-2314cda9047a"
      },
      "source": [
        "install.packages('gvlma')\n",
        "install.packages('Hmisc')\n",
        "install.packages('caret')\n",
        "\n",
        "library(caret)  # manipulação de dados\n",
        "library(dplyr)  # analises estatísticas e manipulação\n",
        "library(gvlma)  # Modelo de regressão logística\n",
        "library(tidyr)  # manipulação dos dados\n",
        "library(glue)   # Print especial\n",
        "library(Hmisc)  "
      ],
      "execution_count": null,
      "outputs": [
        {
          "output_type": "stream",
          "name": "stderr",
          "text": [
            "Installing package into ‘/usr/local/lib/R/site-library’\n",
            "(as ‘lib’ is unspecified)\n",
            "\n",
            "Installing package into ‘/usr/local/lib/R/site-library’\n",
            "(as ‘lib’ is unspecified)\n",
            "\n",
            "Installing package into ‘/usr/local/lib/R/site-library’\n",
            "(as ‘lib’ is unspecified)\n",
            "\n",
            "Loading required package: ggplot2\n",
            "\n",
            "Loading required package: lattice\n",
            "\n",
            "Warning message in system(\"timedatectl\", intern = TRUE):\n",
            "“running command 'timedatectl' had status 1”\n",
            "\n",
            "Attaching package: ‘dplyr’\n",
            "\n",
            "\n",
            "The following objects are masked from ‘package:stats’:\n",
            "\n",
            "    filter, lag\n",
            "\n",
            "\n",
            "The following objects are masked from ‘package:base’:\n",
            "\n",
            "    intersect, setdiff, setequal, union\n",
            "\n",
            "\n",
            "\n",
            "Attaching package: ‘glue’\n",
            "\n",
            "\n",
            "The following object is masked from ‘package:dplyr’:\n",
            "\n",
            "    collapse\n",
            "\n",
            "\n",
            "Loading required package: survival\n",
            "\n",
            "\n",
            "Attaching package: ‘survival’\n",
            "\n",
            "\n",
            "The following object is masked from ‘package:caret’:\n",
            "\n",
            "    cluster\n",
            "\n",
            "\n",
            "Loading required package: Formula\n",
            "\n",
            "\n",
            "Attaching package: ‘Hmisc’\n",
            "\n",
            "\n",
            "The following objects are masked from ‘package:dplyr’:\n",
            "\n",
            "    src, summarize\n",
            "\n",
            "\n",
            "The following objects are masked from ‘package:base’:\n",
            "\n",
            "    format.pval, units\n",
            "\n",
            "\n"
          ]
        }
      ]
    },
    {
      "cell_type": "code",
      "metadata": {
        "colab": {
          "base_uri": "https://localhost:8080/",
          "height": 274
        },
        "id": "T1GXPs5kuS1B",
        "outputId": "78891762-7432-4aa9-b8da-8d2e4b738769"
      },
      "source": [
        "dados <- read.csv('/content/titanic_dw_train.csv', sep = ',')\n",
        "head(dados)"
      ],
      "execution_count": null,
      "outputs": [
        {
          "output_type": "display_data",
          "data": {
            "text/plain": [
              "  PassengerId Survived Pclass Name                                           \n",
              "1  2          0        3      Johansson, Mr. Nils                            \n",
              "2  3          1        1      Minahan, Mrs. William Edward (Lillian E Thorpe)\n",
              "3  4          0        2      Hocking, Mr. Samuel James Metcalfe             \n",
              "4  5          1        1      Chibnall, Mrs. (Edith Martha Bowerman)         \n",
              "5  6          0        3      Corn, Mr. Harry                                \n",
              "6 10          0        3      Wiklund, Mr. Karl Johan                        \n",
              "  Sex    Age SibSp Parch Ticket          Fare    Cabin Embarked\n",
              "1 male   29  0     0     347467           7.8542 NA    S       \n",
              "2 female 37  1     0     19928           90.0000 C78   Q       \n",
              "3 male   36  0     0     242963          13.0000 NA    S       \n",
              "4 female NA  0     1     113505          55.0000 E33   S       \n",
              "5 male   30  0     0     SOTON/OQ 392090  8.0500 NA    S       \n",
              "6 male   21  1     0     3101266          6.4958 NA    S       "
            ],
            "text/latex": "A data.frame: 6 × 12\n\\begin{tabular}{r|llllllllllll}\n  & PassengerId & Survived & Pclass & Name & Sex & Age & SibSp & Parch & Ticket & Fare & Cabin & Embarked\\\\\n  & <int> & <int> & <int> & <chr> & <chr> & <dbl> & <int> & <int> & <chr> & <dbl> & <chr> & <chr>\\\\\n\\hline\n\t1 &  2 & 0 & 3 & Johansson, Mr. Nils                             & male   & 29 & 0 & 0 & 347467          &  7.8542 & NA  & S\\\\\n\t2 &  3 & 1 & 1 & Minahan, Mrs. William Edward (Lillian E Thorpe) & female & 37 & 1 & 0 & 19928           & 90.0000 & C78 & Q\\\\\n\t3 &  4 & 0 & 2 & Hocking, Mr. Samuel James Metcalfe              & male   & 36 & 0 & 0 & 242963          & 13.0000 & NA  & S\\\\\n\t4 &  5 & 1 & 1 & Chibnall, Mrs. (Edith Martha Bowerman)          & female & NA & 0 & 1 & 113505          & 55.0000 & E33 & S\\\\\n\t5 &  6 & 0 & 3 & Corn, Mr. Harry                                 & male   & 30 & 0 & 0 & SOTON/OQ 392090 &  8.0500 & NA  & S\\\\\n\t6 & 10 & 0 & 3 & Wiklund, Mr. Karl Johan                         & male   & 21 & 1 & 0 & 3101266         &  6.4958 & NA  & S\\\\\n\\end{tabular}\n",
            "text/markdown": "\nA data.frame: 6 × 12\n\n| <!--/--> | PassengerId &lt;int&gt; | Survived &lt;int&gt; | Pclass &lt;int&gt; | Name &lt;chr&gt; | Sex &lt;chr&gt; | Age &lt;dbl&gt; | SibSp &lt;int&gt; | Parch &lt;int&gt; | Ticket &lt;chr&gt; | Fare &lt;dbl&gt; | Cabin &lt;chr&gt; | Embarked &lt;chr&gt; |\n|---|---|---|---|---|---|---|---|---|---|---|---|---|\n| 1 |  2 | 0 | 3 | Johansson, Mr. Nils                             | male   | 29 | 0 | 0 | 347467          |  7.8542 | NA  | S |\n| 2 |  3 | 1 | 1 | Minahan, Mrs. William Edward (Lillian E Thorpe) | female | 37 | 1 | 0 | 19928           | 90.0000 | C78 | Q |\n| 3 |  4 | 0 | 2 | Hocking, Mr. Samuel James Metcalfe              | male   | 36 | 0 | 0 | 242963          | 13.0000 | NA  | S |\n| 4 |  5 | 1 | 1 | Chibnall, Mrs. (Edith Martha Bowerman)          | female | NA | 0 | 1 | 113505          | 55.0000 | E33 | S |\n| 5 |  6 | 0 | 3 | Corn, Mr. Harry                                 | male   | 30 | 0 | 0 | SOTON/OQ 392090 |  8.0500 | NA  | S |\n| 6 | 10 | 0 | 3 | Wiklund, Mr. Karl Johan                         | male   | 21 | 1 | 0 | 3101266         |  6.4958 | NA  | S |\n\n",
            "text/html": [
              "<table class=\"dataframe\">\n",
              "<caption>A data.frame: 6 × 12</caption>\n",
              "<thead>\n",
              "\t<tr><th></th><th scope=col>PassengerId</th><th scope=col>Survived</th><th scope=col>Pclass</th><th scope=col>Name</th><th scope=col>Sex</th><th scope=col>Age</th><th scope=col>SibSp</th><th scope=col>Parch</th><th scope=col>Ticket</th><th scope=col>Fare</th><th scope=col>Cabin</th><th scope=col>Embarked</th></tr>\n",
              "\t<tr><th></th><th scope=col>&lt;int&gt;</th><th scope=col>&lt;int&gt;</th><th scope=col>&lt;int&gt;</th><th scope=col>&lt;chr&gt;</th><th scope=col>&lt;chr&gt;</th><th scope=col>&lt;dbl&gt;</th><th scope=col>&lt;int&gt;</th><th scope=col>&lt;int&gt;</th><th scope=col>&lt;chr&gt;</th><th scope=col>&lt;dbl&gt;</th><th scope=col>&lt;chr&gt;</th><th scope=col>&lt;chr&gt;</th></tr>\n",
              "</thead>\n",
              "<tbody>\n",
              "\t<tr><th scope=row>1</th><td> 2</td><td>0</td><td>3</td><td>Johansson, Mr. Nils                            </td><td>male  </td><td>29</td><td>0</td><td>0</td><td>347467         </td><td> 7.8542</td><td>NA </td><td>S</td></tr>\n",
              "\t<tr><th scope=row>2</th><td> 3</td><td>1</td><td>1</td><td>Minahan, Mrs. William Edward (Lillian E Thorpe)</td><td>female</td><td>37</td><td>1</td><td>0</td><td>19928          </td><td>90.0000</td><td>C78</td><td>Q</td></tr>\n",
              "\t<tr><th scope=row>3</th><td> 4</td><td>0</td><td>2</td><td>Hocking, Mr. Samuel James Metcalfe             </td><td>male  </td><td>36</td><td>0</td><td>0</td><td>242963         </td><td>13.0000</td><td>NA </td><td>S</td></tr>\n",
              "\t<tr><th scope=row>4</th><td> 5</td><td>1</td><td>1</td><td>Chibnall, Mrs. (Edith Martha Bowerman)         </td><td>female</td><td>NA</td><td>0</td><td>1</td><td>113505         </td><td>55.0000</td><td>E33</td><td>S</td></tr>\n",
              "\t<tr><th scope=row>5</th><td> 6</td><td>0</td><td>3</td><td>Corn, Mr. Harry                                </td><td>male  </td><td>30</td><td>0</td><td>0</td><td>SOTON/OQ 392090</td><td> 8.0500</td><td>NA </td><td>S</td></tr>\n",
              "\t<tr><th scope=row>6</th><td>10</td><td>0</td><td>3</td><td>Wiklund, Mr. Karl Johan                        </td><td>male  </td><td>21</td><td>1</td><td>0</td><td>3101266        </td><td> 6.4958</td><td>NA </td><td>S</td></tr>\n",
              "</tbody>\n",
              "</table>\n"
            ]
          },
          "metadata": {}
        }
      ]
    },
    {
      "cell_type": "code",
      "metadata": {
        "colab": {
          "base_uri": "https://localhost:8080/"
        },
        "id": "0ggV4-8x1smE",
        "outputId": "388de91c-d80b-448a-f6e8-be1615735141"
      },
      "source": [
        "str(dados)"
      ],
      "execution_count": null,
      "outputs": [
        {
          "output_type": "stream",
          "name": "stdout",
          "text": [
            "'data.frame':\t891 obs. of  12 variables:\n",
            " $ PassengerId: int  2 3 4 5 6 10 11 12 13 15 ...\n",
            " $ Survived   : int  0 1 0 1 0 0 1 0 0 1 ...\n",
            " $ Pclass     : int  3 1 2 1 3 3 1 3 3 2 ...\n",
            " $ Name       : chr  \"Johansson, Mr. Nils\" \"Minahan, Mrs. William Edward (Lillian E Thorpe)\" \"Hocking, Mr. Samuel James Metcalfe\" \"Chibnall, Mrs. (Edith Martha Bowerman)\" ...\n",
            " $ Sex        : chr  \"male\" \"female\" \"male\" \"female\" ...\n",
            " $ Age        : num  29 37 36 NA 30 21 53 20 26 62 ...\n",
            " $ SibSp      : int  0 1 0 0 0 1 1 0 0 0 ...\n",
            " $ Parch      : int  0 0 0 1 0 0 1 0 0 0 ...\n",
            " $ Ticket     : chr  \"347467\" \"19928\" \"242963\" \"113505\" ...\n",
            " $ Fare       : num  7.85 90 13 55 8.05 ...\n",
            " $ Cabin      : chr  NA \"C78\" NA \"E33\" ...\n",
            " $ Embarked   : chr  \"S\" \"Q\" \"S\" \"S\" ...\n"
          ]
        }
      ]
    },
    {
      "cell_type": "code",
      "metadata": {
        "id": "Ul49_VypNlN8"
      },
      "source": [
        "set.seed(1234)\n",
        "df_divisao <- createDataPartition(dados$Survived, p=0.7, list = F)"
      ],
      "execution_count": null,
      "outputs": []
    },
    {
      "cell_type": "code",
      "metadata": {
        "id": "SBSXvEGWNlht"
      },
      "source": [
        "titanic <- dados[df_divisao, ] # 70% das observações\n",
        "titanic_teste <- dados[-df_divisao, ] # 30% das observações"
      ],
      "execution_count": null,
      "outputs": []
    },
    {
      "cell_type": "markdown",
      "metadata": {
        "id": "ayWD3kO3142W"
      },
      "source": [
        "## a)  Preparando e analisando os dados\n",
        "\n",
        "Variáveis escolhidas: Survived, Pclass, Sex, Age, SibSp, Parch, Fare, Embarked"
      ]
    },
    {
      "cell_type": "markdown",
      "metadata": {
        "id": "SbEivQIW2BCo"
      },
      "source": [
        "### i) Selecionando um subconjunto apenas com as variáveis interessantes para a análise"
      ]
    },
    {
      "cell_type": "markdown",
      "metadata": {
        "id": "ooujEZNxO_sc"
      },
      "source": [
        "#### Tratamentos dos dados de Treino"
      ]
    },
    {
      "cell_type": "code",
      "metadata": {
        "colab": {
          "base_uri": "https://localhost:8080/"
        },
        "id": "ldcBc3RZujt_",
        "outputId": "ebbbbdb5-37f2-4e5e-9c2a-471616d768aa"
      },
      "source": [
        "str(titanic)"
      ],
      "execution_count": null,
      "outputs": [
        {
          "output_type": "stream",
          "name": "stdout",
          "text": [
            "'data.frame':\t624 obs. of  12 variables:\n",
            " $ PassengerId: int  2 3 4 5 15 17 18 19 21 22 ...\n",
            " $ Survived   : int  0 1 0 1 1 1 1 0 1 1 ...\n",
            " $ Pclass     : int  3 1 2 1 2 3 1 2 3 3 ...\n",
            " $ Name       : chr  \"Johansson, Mr. Nils\" \"Minahan, Mrs. William Edward (Lillian E Thorpe)\" \"Hocking, Mr. Samuel James Metcalfe\" \"Chibnall, Mrs. (Edith Martha Bowerman)\" ...\n",
            " $ Sex        : chr  \"male\" \"female\" \"male\" \"female\" ...\n",
            " $ Age        : num  29 37 36 NA 62 24 38 27 NA 1 ...\n",
            " $ SibSp      : int  0 1 0 0 0 0 0 1 0 1 ...\n",
            " $ Parch      : int  0 0 0 1 0 0 0 0 0 2 ...\n",
            " $ Ticket     : chr  \"347467\" \"19928\" \"242963\" \"113505\" ...\n",
            " $ Fare       : num  7.85 90 13 55 10.5 ...\n",
            " $ Cabin      : chr  NA \"C78\" NA \"E33\" ...\n",
            " $ Embarked   : chr  \"S\" \"Q\" \"S\" \"S\" ...\n"
          ]
        }
      ]
    },
    {
      "cell_type": "code",
      "metadata": {
        "colab": {
          "base_uri": "https://localhost:8080/",
          "height": 1796
        },
        "id": "Jep3bvHKu2es",
        "outputId": "58bb42d4-c4c6-4da9-aaed-b34906c054f0"
      },
      "source": [
        "describe(titanic)"
      ],
      "execution_count": null,
      "outputs": [
        {
          "output_type": "display_data",
          "data": {
            "text/plain": [
              "titanic \n",
              "\n",
              " 12  Variables      624  Observations\n",
              "--------------------------------------------------------------------------------\n",
              "PassengerId \n",
              "       n  missing distinct     Info     Mean      Gmd      .05      .10 \n",
              "     624        0      624        1    660.1    430.8    77.45   137.30 \n",
              "     .25      .50      .75      .90      .95 \n",
              "  344.50   668.00   979.75  1171.40  1236.85 \n",
              "\n",
              "lowest :    2    3    4    5   15, highest: 1294 1296 1298 1303 1304\n",
              "--------------------------------------------------------------------------------\n",
              "Survived \n",
              "       n  missing distinct     Info      Sum     Mean      Gmd \n",
              "     624        0        2    0.712      242   0.3878   0.4756 \n",
              "\n",
              "--------------------------------------------------------------------------------\n",
              "Pclass \n",
              "       n  missing distinct     Info     Mean      Gmd \n",
              "     624        0        3    0.821    2.271   0.8866 \n",
              "                            \n",
              "Value          1     2     3\n",
              "Frequency    164   127   333\n",
              "Proportion 0.263 0.204 0.534\n",
              "--------------------------------------------------------------------------------\n",
              "Name \n",
              "       n  missing distinct \n",
              "     624        0      624 \n",
              "\n",
              "lowest : Abbott, Master. Eugene Joseph             Abelseth, Mr. Olaus Jorgensen             Abelson, Mrs. Samuel (Hannah Wizosky)     Abrahim, Mrs. Joseph (Sophie Halaut Easu) Adahl, Mr. Mauritz Nils Martin           \n",
              "highest: Yasbeck, Mrs. Antoni (Selini Alexander)   Young, Miss. Marie Grice                  Youseff, Mr. Gerious                      Zabour, Miss. Hileni                      Zakarian, Mr. Ortin                      \n",
              "--------------------------------------------------------------------------------\n",
              "Sex \n",
              "       n  missing distinct \n",
              "     624        0        2 \n",
              "                        \n",
              "Value      female   male\n",
              "Frequency     215    409\n",
              "Proportion  0.345  0.655\n",
              "--------------------------------------------------------------------------------\n",
              "Age \n",
              "       n  missing distinct     Info     Mean      Gmd      .05      .10 \n",
              "     506      118       87    0.999     30.3    16.32     5.25    14.75 \n",
              "     .25      .50      .75      .90      .95 \n",
              "   21.00    28.00    39.00    51.00    58.00 \n",
              "\n",
              "lowest :  0.1667  0.3333  0.4167  0.6667  0.8333\n",
              "highest: 67.0000 70.0000 74.0000 76.0000 80.0000\n",
              "--------------------------------------------------------------------------------\n",
              "SibSp \n",
              "       n  missing distinct     Info     Mean      Gmd \n",
              "     624        0        7    0.688   0.5321   0.8231 \n",
              "\n",
              "lowest : 0 1 2 3 4, highest: 2 3 4 5 8\n",
              "                                                    \n",
              "Value          0     1     2     3     4     5     8\n",
              "Frequency    416   157    23     9    11     2     6\n",
              "Proportion 0.667 0.252 0.037 0.014 0.018 0.003 0.010\n",
              "--------------------------------------------------------------------------------\n",
              "Parch \n",
              "       n  missing distinct     Info     Mean      Gmd \n",
              "     624        0        8    0.551    0.399   0.6621 \n",
              "\n",
              "lowest : 0 1 2 3 4, highest: 3 4 5 6 9\n",
              "                                                          \n",
              "Value          0     1     2     3     4     5     6     9\n",
              "Frequency    477    78    55     5     4     3     1     1\n",
              "Proportion 0.764 0.125 0.088 0.008 0.006 0.005 0.002 0.002\n",
              "--------------------------------------------------------------------------------\n",
              "Ticket \n",
              "       n  missing distinct \n",
              "     624        0      512 \n",
              "\n",
              "lowest : 110152      110413      110465      110469      110489     \n",
              "highest: W./C. 6607  W./C. 6608  W./C. 6609  W.E.P. 5734 WE/P 5735  \n",
              "--------------------------------------------------------------------------------\n",
              "Fare \n",
              "       n  missing distinct     Info     Mean      Gmd      .05      .10 \n",
              "     623        1      208        1     36.1    43.01    7.229    7.750 \n",
              "     .25      .50      .75      .90      .95 \n",
              "   7.910   14.500   31.331   79.650  136.665 \n",
              "\n",
              "lowest :   0.0000   4.0125   5.0000   6.4375   6.4500\n",
              "highest: 227.5250 247.5208 262.3750 263.0000 512.3292\n",
              "--------------------------------------------------------------------------------\n",
              "Cabin \n",
              "       n  missing distinct \n",
              "     149      475      116 \n",
              "\n",
              "lowest : A10 A14 A18 A19 A20, highest: F2  F33 F38 F4  G6 \n",
              "--------------------------------------------------------------------------------\n",
              "Embarked \n",
              "       n  missing distinct \n",
              "     624        0        3 \n",
              "                            \n",
              "Value          C     Q     S\n",
              "Frequency    128    55   441\n",
              "Proportion 0.205 0.088 0.707\n",
              "--------------------------------------------------------------------------------"
            ]
          },
          "metadata": {}
        }
      ]
    },
    {
      "cell_type": "code",
      "metadata": {
        "colab": {
          "base_uri": "https://localhost:8080/",
          "height": 52
        },
        "id": "q2a49myVyQww",
        "outputId": "eff31779-ce26-4ff1-8382-306535cf9fe8"
      },
      "source": [
        "summary(titanic$Age)"
      ],
      "execution_count": null,
      "outputs": [
        {
          "output_type": "display_data",
          "data": {
            "text/plain": [
              "   Min. 1st Qu.  Median    Mean 3rd Qu.    Max.    NA's \n",
              " 0.1667 21.0000 28.0000 30.3042 39.0000 80.0000     118 "
            ]
          },
          "metadata": {}
        }
      ]
    },
    {
      "cell_type": "code",
      "metadata": {
        "colab": {
          "base_uri": "https://localhost:8080/",
          "height": 33
        },
        "id": "O7Li3tUXyVd8",
        "outputId": "c765f2a4-3f93-49eb-feef-5a6d0c06234a"
      },
      "source": [
        "colnames(titanic)"
      ],
      "execution_count": null,
      "outputs": [
        {
          "output_type": "display_data",
          "data": {
            "text/plain": [
              " [1] \"PassengerId\" \"Survived\"    \"Pclass\"      \"Name\"        \"Sex\"        \n",
              " [6] \"Age\"         \"SibSp\"       \"Parch\"       \"Ticket\"      \"Fare\"       \n",
              "[11] \"Cabin\"       \"Embarked\"   "
            ],
            "text/latex": "\\begin{enumerate*}\n\\item 'PassengerId'\n\\item 'Survived'\n\\item 'Pclass'\n\\item 'Name'\n\\item 'Sex'\n\\item 'Age'\n\\item 'SibSp'\n\\item 'Parch'\n\\item 'Ticket'\n\\item 'Fare'\n\\item 'Cabin'\n\\item 'Embarked'\n\\end{enumerate*}\n",
            "text/markdown": "1. 'PassengerId'\n2. 'Survived'\n3. 'Pclass'\n4. 'Name'\n5. 'Sex'\n6. 'Age'\n7. 'SibSp'\n8. 'Parch'\n9. 'Ticket'\n10. 'Fare'\n11. 'Cabin'\n12. 'Embarked'\n\n\n",
            "text/html": [
              "<style>\n",
              ".list-inline {list-style: none; margin:0; padding: 0}\n",
              ".list-inline>li {display: inline-block}\n",
              ".list-inline>li:not(:last-child)::after {content: \"\\00b7\"; padding: 0 .5ex}\n",
              "</style>\n",
              "<ol class=list-inline><li>'PassengerId'</li><li>'Survived'</li><li>'Pclass'</li><li>'Name'</li><li>'Sex'</li><li>'Age'</li><li>'SibSp'</li><li>'Parch'</li><li>'Ticket'</li><li>'Fare'</li><li>'Cabin'</li><li>'Embarked'</li></ol>\n"
            ]
          },
          "metadata": {}
        }
      ]
    },
    {
      "cell_type": "code",
      "metadata": {
        "id": "prjV7OQ3yaQB"
      },
      "source": [
        "# Survived, Pclass, Sex, Age, SibSp, Parch, Fare, Embarked\n",
        "titanic['Name'] <- NULL\n",
        "titanic['Ticket'] <- NULL\n",
        "titanic['Cabin'] <- NULL"
      ],
      "execution_count": null,
      "outputs": []
    },
    {
      "cell_type": "code",
      "metadata": {
        "colab": {
          "base_uri": "https://localhost:8080/",
          "height": 244
        },
        "id": "r7r2hLiC1BLs",
        "outputId": "058552b6-5684-43ef-a20f-37641715d4f0"
      },
      "source": [
        "head(titanic,5)"
      ],
      "execution_count": null,
      "outputs": [
        {
          "output_type": "display_data",
          "data": {
            "text/plain": [
              "   PassengerId Survived Pclass Sex    Age SibSp Parch Fare    Embarked\n",
              "1   2          0        3      male   29  0     0      7.8542 S       \n",
              "2   3          1        1      female 37  1     0     90.0000 Q       \n",
              "3   4          0        2      male   36  0     0     13.0000 S       \n",
              "4   5          1        1      female NA  0     1     55.0000 S       \n",
              "10 15          1        2      male   62  0     0     10.5000 S       "
            ],
            "text/latex": "A data.frame: 5 × 9\n\\begin{tabular}{r|lllllllll}\n  & PassengerId & Survived & Pclass & Sex & Age & SibSp & Parch & Fare & Embarked\\\\\n  & <int> & <int> & <int> & <chr> & <dbl> & <int> & <int> & <dbl> & <chr>\\\\\n\\hline\n\t1 &  2 & 0 & 3 & male   & 29 & 0 & 0 &  7.8542 & S\\\\\n\t2 &  3 & 1 & 1 & female & 37 & 1 & 0 & 90.0000 & Q\\\\\n\t3 &  4 & 0 & 2 & male   & 36 & 0 & 0 & 13.0000 & S\\\\\n\t4 &  5 & 1 & 1 & female & NA & 0 & 1 & 55.0000 & S\\\\\n\t10 & 15 & 1 & 2 & male   & 62 & 0 & 0 & 10.5000 & S\\\\\n\\end{tabular}\n",
            "text/markdown": "\nA data.frame: 5 × 9\n\n| <!--/--> | PassengerId &lt;int&gt; | Survived &lt;int&gt; | Pclass &lt;int&gt; | Sex &lt;chr&gt; | Age &lt;dbl&gt; | SibSp &lt;int&gt; | Parch &lt;int&gt; | Fare &lt;dbl&gt; | Embarked &lt;chr&gt; |\n|---|---|---|---|---|---|---|---|---|---|\n| 1 |  2 | 0 | 3 | male   | 29 | 0 | 0 |  7.8542 | S |\n| 2 |  3 | 1 | 1 | female | 37 | 1 | 0 | 90.0000 | Q |\n| 3 |  4 | 0 | 2 | male   | 36 | 0 | 0 | 13.0000 | S |\n| 4 |  5 | 1 | 1 | female | NA | 0 | 1 | 55.0000 | S |\n| 10 | 15 | 1 | 2 | male   | 62 | 0 | 0 | 10.5000 | S |\n\n",
            "text/html": [
              "<table class=\"dataframe\">\n",
              "<caption>A data.frame: 5 × 9</caption>\n",
              "<thead>\n",
              "\t<tr><th></th><th scope=col>PassengerId</th><th scope=col>Survived</th><th scope=col>Pclass</th><th scope=col>Sex</th><th scope=col>Age</th><th scope=col>SibSp</th><th scope=col>Parch</th><th scope=col>Fare</th><th scope=col>Embarked</th></tr>\n",
              "\t<tr><th></th><th scope=col>&lt;int&gt;</th><th scope=col>&lt;int&gt;</th><th scope=col>&lt;int&gt;</th><th scope=col>&lt;chr&gt;</th><th scope=col>&lt;dbl&gt;</th><th scope=col>&lt;int&gt;</th><th scope=col>&lt;int&gt;</th><th scope=col>&lt;dbl&gt;</th><th scope=col>&lt;chr&gt;</th></tr>\n",
              "</thead>\n",
              "<tbody>\n",
              "\t<tr><th scope=row>1</th><td> 2</td><td>0</td><td>3</td><td>male  </td><td>29</td><td>0</td><td>0</td><td> 7.8542</td><td>S</td></tr>\n",
              "\t<tr><th scope=row>2</th><td> 3</td><td>1</td><td>1</td><td>female</td><td>37</td><td>1</td><td>0</td><td>90.0000</td><td>Q</td></tr>\n",
              "\t<tr><th scope=row>3</th><td> 4</td><td>0</td><td>2</td><td>male  </td><td>36</td><td>0</td><td>0</td><td>13.0000</td><td>S</td></tr>\n",
              "\t<tr><th scope=row>4</th><td> 5</td><td>1</td><td>1</td><td>female</td><td>NA</td><td>0</td><td>1</td><td>55.0000</td><td>S</td></tr>\n",
              "\t<tr><th scope=row>10</th><td>15</td><td>1</td><td>2</td><td>male  </td><td>62</td><td>0</td><td>0</td><td>10.5000</td><td>S</td></tr>\n",
              "</tbody>\n",
              "</table>\n"
            ]
          },
          "metadata": {}
        }
      ]
    },
    {
      "cell_type": "code",
      "metadata": {
        "colab": {
          "base_uri": "https://localhost:8080/",
          "height": 244
        },
        "id": "bRt5QCeTp5UL",
        "outputId": "e8a57313-a9ff-4d5f-a8ff-df7382c3cd08"
      },
      "source": [
        "tail(titanic,5)"
      ],
      "execution_count": null,
      "outputs": [
        {
          "output_type": "display_data",
          "data": {
            "text/plain": [
              "    PassengerId Survived Pclass Sex    Age SibSp Parch Fare    Embarked\n",
              "884 1294        0        3      female 18  0     1     14.4542 C       \n",
              "886 1296        0        3      male   NA  0     0      7.7750 S       \n",
              "888 1298        0        2      male   22  2     0     31.5000 S       \n",
              "890 1303        0        3      male   31  0     0      7.7750 S       \n",
              "891 1304        0        3      male   21  0     0      8.0500 S       "
            ],
            "text/latex": "A data.frame: 5 × 9\n\\begin{tabular}{r|lllllllll}\n  & PassengerId & Survived & Pclass & Sex & Age & SibSp & Parch & Fare & Embarked\\\\\n  & <int> & <int> & <int> & <chr> & <dbl> & <int> & <int> & <dbl> & <chr>\\\\\n\\hline\n\t884 & 1294 & 0 & 3 & female & 18 & 0 & 1 & 14.4542 & C\\\\\n\t886 & 1296 & 0 & 3 & male   & NA & 0 & 0 &  7.7750 & S\\\\\n\t888 & 1298 & 0 & 2 & male   & 22 & 2 & 0 & 31.5000 & S\\\\\n\t890 & 1303 & 0 & 3 & male   & 31 & 0 & 0 &  7.7750 & S\\\\\n\t891 & 1304 & 0 & 3 & male   & 21 & 0 & 0 &  8.0500 & S\\\\\n\\end{tabular}\n",
            "text/markdown": "\nA data.frame: 5 × 9\n\n| <!--/--> | PassengerId &lt;int&gt; | Survived &lt;int&gt; | Pclass &lt;int&gt; | Sex &lt;chr&gt; | Age &lt;dbl&gt; | SibSp &lt;int&gt; | Parch &lt;int&gt; | Fare &lt;dbl&gt; | Embarked &lt;chr&gt; |\n|---|---|---|---|---|---|---|---|---|---|\n| 884 | 1294 | 0 | 3 | female | 18 | 0 | 1 | 14.4542 | C |\n| 886 | 1296 | 0 | 3 | male   | NA | 0 | 0 |  7.7750 | S |\n| 888 | 1298 | 0 | 2 | male   | 22 | 2 | 0 | 31.5000 | S |\n| 890 | 1303 | 0 | 3 | male   | 31 | 0 | 0 |  7.7750 | S |\n| 891 | 1304 | 0 | 3 | male   | 21 | 0 | 0 |  8.0500 | S |\n\n",
            "text/html": [
              "<table class=\"dataframe\">\n",
              "<caption>A data.frame: 5 × 9</caption>\n",
              "<thead>\n",
              "\t<tr><th></th><th scope=col>PassengerId</th><th scope=col>Survived</th><th scope=col>Pclass</th><th scope=col>Sex</th><th scope=col>Age</th><th scope=col>SibSp</th><th scope=col>Parch</th><th scope=col>Fare</th><th scope=col>Embarked</th></tr>\n",
              "\t<tr><th></th><th scope=col>&lt;int&gt;</th><th scope=col>&lt;int&gt;</th><th scope=col>&lt;int&gt;</th><th scope=col>&lt;chr&gt;</th><th scope=col>&lt;dbl&gt;</th><th scope=col>&lt;int&gt;</th><th scope=col>&lt;int&gt;</th><th scope=col>&lt;dbl&gt;</th><th scope=col>&lt;chr&gt;</th></tr>\n",
              "</thead>\n",
              "<tbody>\n",
              "\t<tr><th scope=row>884</th><td>1294</td><td>0</td><td>3</td><td>female</td><td>18</td><td>0</td><td>1</td><td>14.4542</td><td>C</td></tr>\n",
              "\t<tr><th scope=row>886</th><td>1296</td><td>0</td><td>3</td><td>male  </td><td>NA</td><td>0</td><td>0</td><td> 7.7750</td><td>S</td></tr>\n",
              "\t<tr><th scope=row>888</th><td>1298</td><td>0</td><td>2</td><td>male  </td><td>22</td><td>2</td><td>0</td><td>31.5000</td><td>S</td></tr>\n",
              "\t<tr><th scope=row>890</th><td>1303</td><td>0</td><td>3</td><td>male  </td><td>31</td><td>0</td><td>0</td><td> 7.7750</td><td>S</td></tr>\n",
              "\t<tr><th scope=row>891</th><td>1304</td><td>0</td><td>3</td><td>male  </td><td>21</td><td>0</td><td>0</td><td> 8.0500</td><td>S</td></tr>\n",
              "</tbody>\n",
              "</table>\n"
            ]
          },
          "metadata": {}
        }
      ]
    },
    {
      "cell_type": "code",
      "metadata": {
        "id": "nSapAT_FaE_e"
      },
      "source": [
        "titanic$Survived <- as.factor(titanic$Survived)"
      ],
      "execution_count": null,
      "outputs": []
    },
    {
      "cell_type": "code",
      "metadata": {
        "colab": {
          "base_uri": "https://localhost:8080/"
        },
        "id": "ea7d4GhuaoNJ",
        "outputId": "032c5c19-d5e0-4ce6-e02a-5589d4c9e6fd"
      },
      "source": [
        "str(titanic)"
      ],
      "execution_count": null,
      "outputs": [
        {
          "output_type": "stream",
          "name": "stdout",
          "text": [
            "'data.frame':\t624 obs. of  9 variables:\n",
            " $ PassengerId: int  2 3 4 5 15 17 18 19 21 22 ...\n",
            " $ Survived   : Factor w/ 2 levels \"0\",\"1\": 1 2 1 2 2 2 2 1 2 2 ...\n",
            " $ Pclass     : int  3 1 2 1 2 3 1 2 3 3 ...\n",
            " $ Sex        : chr  \"male\" \"female\" \"male\" \"female\" ...\n",
            " $ Age        : num  29 37 36 NA 62 24 38 27 NA 1 ...\n",
            " $ SibSp      : int  0 1 0 0 0 0 0 1 0 1 ...\n",
            " $ Parch      : int  0 0 0 1 0 0 0 0 0 2 ...\n",
            " $ Fare       : num  7.85 90 13 55 10.5 ...\n",
            " $ Embarked   : chr  \"S\" \"Q\" \"S\" \"S\" ...\n"
          ]
        }
      ]
    },
    {
      "cell_type": "code",
      "metadata": {
        "colab": {
          "base_uri": "https://localhost:8080/",
          "height": 126
        },
        "id": "D4QLc16ga0CY",
        "outputId": "5e137ab3-8d57-487c-d4ad-96426c70f279"
      },
      "source": [
        "cbind(summary(titanic$Survived))"
      ],
      "execution_count": null,
      "outputs": [
        {
          "output_type": "display_data",
          "data": {
            "text/plain": [
              "  [,1]\n",
              "0 382 \n",
              "1 242 "
            ],
            "text/latex": "A matrix: 2 × 1 of type int\n\\begin{tabular}{r|l}\n\t0 & 382\\\\\n\t1 & 242\\\\\n\\end{tabular}\n",
            "text/markdown": "\nA matrix: 2 × 1 of type int\n\n| 0 | 382 |\n| 1 | 242 |\n\n",
            "text/html": [
              "<table class=\"dataframe\">\n",
              "<caption>A matrix: 2 × 1 of type int</caption>\n",
              "<tbody>\n",
              "\t<tr><th scope=row>0</th><td>382</td></tr>\n",
              "\t<tr><th scope=row>1</th><td>242</td></tr>\n",
              "</tbody>\n",
              "</table>\n"
            ]
          },
          "metadata": {}
        }
      ]
    },
    {
      "cell_type": "markdown",
      "metadata": {
        "id": "IStr_9PJpcP4"
      },
      "source": [
        "Percebemos, por exemplo, que a nossa amostra da base de treino é composta por 35% de mulheres e 65% de homens, a idade mediana é de 28 anos e 75% tinham menos de 40 anos. Das pessoas que estavam no navio, 26% estavam na 1ª classe, 20% na 2ª e 53% na 3ª, a maioria (415) não tinha irmãos no navio e o restante tinha ao menos 1. A base de treino possui 623 registros e 12 variáveis, destes registros 242 representam os sobreviventes e 381 mortes."
      ]
    },
    {
      "cell_type": "markdown",
      "metadata": {
        "id": "jzjypw3jPPOq"
      },
      "source": [
        "#### Tratamento dos dados de Teste"
      ]
    },
    {
      "cell_type": "code",
      "metadata": {
        "colab": {
          "base_uri": "https://localhost:8080/"
        },
        "id": "a-zutCw7Phdy",
        "outputId": "7f12ae5b-86f7-47ef-8ff2-8f8b24e61e60"
      },
      "source": [
        "str(titanic_teste)"
      ],
      "execution_count": null,
      "outputs": [
        {
          "output_type": "stream",
          "name": "stdout",
          "text": [
            "'data.frame':\t267 obs. of  12 variables:\n",
            " $ PassengerId: int  6 10 11 12 13 24 26 28 33 35 ...\n",
            " $ Survived   : int  0 0 1 0 0 0 1 1 1 1 ...\n",
            " $ Pclass     : int  3 3 1 3 3 2 1 2 1 1 ...\n",
            " $ Name       : chr  \"Corn, Mr. Harry\" \"Wiklund, Mr. Karl Johan\" \"Dodge, Dr. Washington\" \"Alhomaki, Mr. Ilmari Rudolf\" ...\n",
            " $ Sex        : chr  \"male\" \"male\" \"male\" \"male\" ...\n",
            " $ Age        : num  30 21 53 20 26 24 29 14 NA 32 ...\n",
            " $ SibSp      : int  0 1 1 0 0 2 0 1 0 0 ...\n",
            " $ Parch      : int  0 0 1 0 0 0 0 0 0 0 ...\n",
            " $ Ticket     : chr  \"SOTON/OQ 392090\" \"3101266\" \"33638\" \"SOTON/O2 3101287\" ...\n",
            " $ Fare       : num  8.05 6.5 81.86 7.92 7.9 ...\n",
            " $ Cabin      : chr  NA NA \"A34\" NA ...\n",
            " $ Embarked   : chr  \"S\" \"S\" \"S\" \"S\" ...\n"
          ]
        }
      ]
    },
    {
      "cell_type": "code",
      "metadata": {
        "colab": {
          "base_uri": "https://localhost:8080/",
          "height": 1776
        },
        "id": "AuAOzdX-PheP",
        "outputId": "40cbd4a4-759f-4032-a59c-a6ca3d20ec72"
      },
      "source": [
        "describe(titanic_teste)"
      ],
      "execution_count": null,
      "outputs": [
        {
          "output_type": "display_data",
          "data": {
            "text/plain": [
              "titanic_teste \n",
              "\n",
              " 12  Variables      267  Observations\n",
              "--------------------------------------------------------------------------------\n",
              "PassengerId \n",
              "       n  missing distinct     Info     Mean      Gmd      .05      .10 \n",
              "     267        0      267        1    646.8    444.4     58.7    109.2 \n",
              "     .25      .50      .75      .90      .95 \n",
              "   320.0    666.0    976.0   1169.2   1251.4 \n",
              "\n",
              "lowest :    6   10   11   12   13, highest: 1287 1293 1295 1297 1299\n",
              "--------------------------------------------------------------------------------\n",
              "Survived \n",
              "       n  missing distinct     Info      Sum     Mean      Gmd \n",
              "     267        0        2    0.684       94   0.3521   0.4579 \n",
              "\n",
              "--------------------------------------------------------------------------------\n",
              "Pclass \n",
              "       n  missing distinct     Info     Mean      Gmd \n",
              "     267        0        3    0.807    2.345   0.8287 \n",
              "                            \n",
              "Value          1     2     3\n",
              "Frequency     56    63   148\n",
              "Proportion 0.210 0.236 0.554\n",
              "--------------------------------------------------------------------------------\n",
              "Name \n",
              "       n  missing distinct \n",
              "     267        0      267 \n",
              "\n",
              "lowest : Abbing, Mr. Anthony           Abbott, Mr. Rossmore Edward   Abelseth, Miss. Karen Marie   Alhomaki, Mr. Ilmari Rudolf   Allen, Miss. Elisabeth Walton\n",
              "highest: Williams, Mr. Leslie          Wiseman, Mr. Phillippe        Wright, Miss. Marion          Yousif, Mr. Wazli             Zimmerman, Mr. Leo           \n",
              "--------------------------------------------------------------------------------\n",
              "Sex \n",
              "       n  missing distinct \n",
              "     267        0        2 \n",
              "                        \n",
              "Value      female   male\n",
              "Frequency     103    164\n",
              "Proportion  0.386  0.614\n",
              "--------------------------------------------------------------------------------\n",
              "Age \n",
              "       n  missing distinct     Info     Mean      Gmd      .05      .10 \n",
              "     213       54       66    0.999    29.26    17.07      3.6      9.4 \n",
              "     .25      .50      .75      .90      .95 \n",
              "    19.0     28.0     39.0     50.0     54.4 \n",
              "\n",
              "lowest :  0.7500  0.8333  0.9167  1.0000  2.0000\n",
              "highest: 62.0000 64.0000 65.0000 70.5000 71.0000\n",
              "--------------------------------------------------------------------------------\n",
              "SibSp \n",
              "       n  missing distinct     Info     Mean      Gmd \n",
              "     267        0        7    0.673   0.5206   0.8172 \n",
              "\n",
              "lowest : 0 1 2 3 4, highest: 2 3 4 5 8\n",
              "                                                    \n",
              "Value          0     1     2     3     4     5     8\n",
              "Frequency    181    66     7     3     6     2     2\n",
              "Proportion 0.678 0.247 0.026 0.011 0.022 0.007 0.007\n",
              "--------------------------------------------------------------------------------\n",
              "Parch \n",
              "       n  missing distinct     Info     Mean      Gmd \n",
              "     267        0        8    0.613   0.5056   0.8206 \n",
              "\n",
              "lowest : 0 1 2 3 4, highest: 3 4 5 6 9\n",
              "                                                          \n",
              "Value          0     1     2     3     4     5     6     9\n",
              "Frequency    194    35    30     2     1     3     1     1\n",
              "Proportion 0.727 0.131 0.112 0.007 0.004 0.011 0.004 0.004\n",
              "--------------------------------------------------------------------------------\n",
              "Ticket \n",
              "       n  missing distinct \n",
              "     267        0      235 \n",
              "\n",
              "lowest : 111240      111320      111361      111427      111428     \n",
              "highest: W./C. 14258 W./C. 14263 W./C. 14266 W./C. 6607  W./C. 6608 \n",
              "--------------------------------------------------------------------------------\n",
              "Fare \n",
              "       n  missing distinct     Info     Mean      Gmd      .05      .10 \n",
              "     267        0      123    0.999    29.25    31.21    7.226    7.650 \n",
              "     .25      .50      .75      .90      .95 \n",
              "   7.896   14.500   31.387   69.550   87.320 \n",
              "\n",
              "lowest :   0.0000   6.4375   6.4958   7.0000   7.1250\n",
              "highest: 151.5500 211.3375 247.5208 263.0000 512.3292\n",
              "--------------------------------------------------------------------------------\n",
              "Cabin \n",
              "       n  missing distinct \n",
              "      53      214       49 \n",
              "\n",
              "lowest : A11   A29   A34   A5    B18  , highest: F G73 F2    F33   F4    G6   \n",
              "--------------------------------------------------------------------------------\n",
              "Embarked \n",
              "       n  missing distinct \n",
              "     266        1        3 \n",
              "                            \n",
              "Value          C     Q     S\n",
              "Frequency     58    28   180\n",
              "Proportion 0.218 0.105 0.677\n",
              "--------------------------------------------------------------------------------"
            ]
          },
          "metadata": {}
        }
      ]
    },
    {
      "cell_type": "code",
      "metadata": {
        "colab": {
          "base_uri": "https://localhost:8080/",
          "height": 52
        },
        "id": "SXBhIbvEPheR",
        "outputId": "b91dc42c-712e-4886-b0d4-a0ac4e05274b"
      },
      "source": [
        "summary(titanic_teste$Age)"
      ],
      "execution_count": null,
      "outputs": [
        {
          "output_type": "display_data",
          "data": {
            "text/plain": [
              "   Min. 1st Qu.  Median    Mean 3rd Qu.    Max.    NA's \n",
              "   0.75   19.00   28.00   29.26   39.00   71.00      54 "
            ]
          },
          "metadata": {}
        }
      ]
    },
    {
      "cell_type": "code",
      "metadata": {
        "id": "97I-dbHzPheV"
      },
      "source": [
        "# Survived, Pclass, Sex, Age, SibSp, Parch, Fare, Embarked\n",
        "titanic_teste['Name'] <- NULL\n",
        "titanic_teste['Ticket'] <- NULL\n",
        "titanic_teste['Cabin'] <- NULL"
      ],
      "execution_count": null,
      "outputs": []
    },
    {
      "cell_type": "code",
      "metadata": {
        "colab": {
          "base_uri": "https://localhost:8080/",
          "height": 244
        },
        "id": "rJViWhVnPheX",
        "outputId": "5af1afdb-6923-409a-feb8-090f05e7fbb0"
      },
      "source": [
        "head(titanic_teste,5)"
      ],
      "execution_count": null,
      "outputs": [
        {
          "output_type": "display_data",
          "data": {
            "text/plain": [
              "  PassengerId Survived Pclass Sex  Age SibSp Parch Fare    Embarked\n",
              "5  6          0        3      male 30  0     0      8.0500 S       \n",
              "6 10          0        3      male 21  1     0      6.4958 S       \n",
              "7 11          1        1      male 53  1     1     81.8583 S       \n",
              "8 12          0        3      male 20  0     0      7.9250 S       \n",
              "9 13          0        3      male 26  0     0      7.8958 S       "
            ],
            "text/latex": "A data.frame: 5 × 9\n\\begin{tabular}{r|lllllllll}\n  & PassengerId & Survived & Pclass & Sex & Age & SibSp & Parch & Fare & Embarked\\\\\n  & <int> & <int> & <int> & <chr> & <dbl> & <int> & <int> & <dbl> & <chr>\\\\\n\\hline\n\t5 &  6 & 0 & 3 & male & 30 & 0 & 0 &  8.0500 & S\\\\\n\t6 & 10 & 0 & 3 & male & 21 & 1 & 0 &  6.4958 & S\\\\\n\t7 & 11 & 1 & 1 & male & 53 & 1 & 1 & 81.8583 & S\\\\\n\t8 & 12 & 0 & 3 & male & 20 & 0 & 0 &  7.9250 & S\\\\\n\t9 & 13 & 0 & 3 & male & 26 & 0 & 0 &  7.8958 & S\\\\\n\\end{tabular}\n",
            "text/markdown": "\nA data.frame: 5 × 9\n\n| <!--/--> | PassengerId &lt;int&gt; | Survived &lt;int&gt; | Pclass &lt;int&gt; | Sex &lt;chr&gt; | Age &lt;dbl&gt; | SibSp &lt;int&gt; | Parch &lt;int&gt; | Fare &lt;dbl&gt; | Embarked &lt;chr&gt; |\n|---|---|---|---|---|---|---|---|---|---|\n| 5 |  6 | 0 | 3 | male | 30 | 0 | 0 |  8.0500 | S |\n| 6 | 10 | 0 | 3 | male | 21 | 1 | 0 |  6.4958 | S |\n| 7 | 11 | 1 | 1 | male | 53 | 1 | 1 | 81.8583 | S |\n| 8 | 12 | 0 | 3 | male | 20 | 0 | 0 |  7.9250 | S |\n| 9 | 13 | 0 | 3 | male | 26 | 0 | 0 |  7.8958 | S |\n\n",
            "text/html": [
              "<table class=\"dataframe\">\n",
              "<caption>A data.frame: 5 × 9</caption>\n",
              "<thead>\n",
              "\t<tr><th></th><th scope=col>PassengerId</th><th scope=col>Survived</th><th scope=col>Pclass</th><th scope=col>Sex</th><th scope=col>Age</th><th scope=col>SibSp</th><th scope=col>Parch</th><th scope=col>Fare</th><th scope=col>Embarked</th></tr>\n",
              "\t<tr><th></th><th scope=col>&lt;int&gt;</th><th scope=col>&lt;int&gt;</th><th scope=col>&lt;int&gt;</th><th scope=col>&lt;chr&gt;</th><th scope=col>&lt;dbl&gt;</th><th scope=col>&lt;int&gt;</th><th scope=col>&lt;int&gt;</th><th scope=col>&lt;dbl&gt;</th><th scope=col>&lt;chr&gt;</th></tr>\n",
              "</thead>\n",
              "<tbody>\n",
              "\t<tr><th scope=row>5</th><td> 6</td><td>0</td><td>3</td><td>male</td><td>30</td><td>0</td><td>0</td><td> 8.0500</td><td>S</td></tr>\n",
              "\t<tr><th scope=row>6</th><td>10</td><td>0</td><td>3</td><td>male</td><td>21</td><td>1</td><td>0</td><td> 6.4958</td><td>S</td></tr>\n",
              "\t<tr><th scope=row>7</th><td>11</td><td>1</td><td>1</td><td>male</td><td>53</td><td>1</td><td>1</td><td>81.8583</td><td>S</td></tr>\n",
              "\t<tr><th scope=row>8</th><td>12</td><td>0</td><td>3</td><td>male</td><td>20</td><td>0</td><td>0</td><td> 7.9250</td><td>S</td></tr>\n",
              "\t<tr><th scope=row>9</th><td>13</td><td>0</td><td>3</td><td>male</td><td>26</td><td>0</td><td>0</td><td> 7.8958</td><td>S</td></tr>\n",
              "</tbody>\n",
              "</table>\n"
            ]
          },
          "metadata": {}
        }
      ]
    },
    {
      "cell_type": "code",
      "metadata": {
        "colab": {
          "base_uri": "https://localhost:8080/",
          "height": 244
        },
        "id": "A7zwdnK2PheZ",
        "outputId": "eb6e0a2b-abe9-455a-ec1e-c7df9f195511"
      },
      "source": [
        "tail(titanic_teste,5)"
      ],
      "execution_count": null,
      "outputs": [
        {
          "output_type": "display_data",
          "data": {
            "text/plain": [
              "    PassengerId Survived Pclass Sex    Age SibSp Parch Fare     Embarked\n",
              "879 1287        1        1      female 44  0     0      27.7208 C       \n",
              "883 1293        0        1      male   50  1     0     106.4250 C       \n",
              "885 1295        0        3      male   NA  0     0       7.7500 Q       \n",
              "887 1297        1        1      male   36  0     0      26.3875 S       \n",
              "889 1299        1        2      female 24  0     0      13.0000 S       "
            ],
            "text/latex": "A data.frame: 5 × 9\n\\begin{tabular}{r|lllllllll}\n  & PassengerId & Survived & Pclass & Sex & Age & SibSp & Parch & Fare & Embarked\\\\\n  & <int> & <int> & <int> & <chr> & <dbl> & <int> & <int> & <dbl> & <chr>\\\\\n\\hline\n\t879 & 1287 & 1 & 1 & female & 44 & 0 & 0 &  27.7208 & C\\\\\n\t883 & 1293 & 0 & 1 & male   & 50 & 1 & 0 & 106.4250 & C\\\\\n\t885 & 1295 & 0 & 3 & male   & NA & 0 & 0 &   7.7500 & Q\\\\\n\t887 & 1297 & 1 & 1 & male   & 36 & 0 & 0 &  26.3875 & S\\\\\n\t889 & 1299 & 1 & 2 & female & 24 & 0 & 0 &  13.0000 & S\\\\\n\\end{tabular}\n",
            "text/markdown": "\nA data.frame: 5 × 9\n\n| <!--/--> | PassengerId &lt;int&gt; | Survived &lt;int&gt; | Pclass &lt;int&gt; | Sex &lt;chr&gt; | Age &lt;dbl&gt; | SibSp &lt;int&gt; | Parch &lt;int&gt; | Fare &lt;dbl&gt; | Embarked &lt;chr&gt; |\n|---|---|---|---|---|---|---|---|---|---|\n| 879 | 1287 | 1 | 1 | female | 44 | 0 | 0 |  27.7208 | C |\n| 883 | 1293 | 0 | 1 | male   | 50 | 1 | 0 | 106.4250 | C |\n| 885 | 1295 | 0 | 3 | male   | NA | 0 | 0 |   7.7500 | Q |\n| 887 | 1297 | 1 | 1 | male   | 36 | 0 | 0 |  26.3875 | S |\n| 889 | 1299 | 1 | 2 | female | 24 | 0 | 0 |  13.0000 | S |\n\n",
            "text/html": [
              "<table class=\"dataframe\">\n",
              "<caption>A data.frame: 5 × 9</caption>\n",
              "<thead>\n",
              "\t<tr><th></th><th scope=col>PassengerId</th><th scope=col>Survived</th><th scope=col>Pclass</th><th scope=col>Sex</th><th scope=col>Age</th><th scope=col>SibSp</th><th scope=col>Parch</th><th scope=col>Fare</th><th scope=col>Embarked</th></tr>\n",
              "\t<tr><th></th><th scope=col>&lt;int&gt;</th><th scope=col>&lt;int&gt;</th><th scope=col>&lt;int&gt;</th><th scope=col>&lt;chr&gt;</th><th scope=col>&lt;dbl&gt;</th><th scope=col>&lt;int&gt;</th><th scope=col>&lt;int&gt;</th><th scope=col>&lt;dbl&gt;</th><th scope=col>&lt;chr&gt;</th></tr>\n",
              "</thead>\n",
              "<tbody>\n",
              "\t<tr><th scope=row>879</th><td>1287</td><td>1</td><td>1</td><td>female</td><td>44</td><td>0</td><td>0</td><td> 27.7208</td><td>C</td></tr>\n",
              "\t<tr><th scope=row>883</th><td>1293</td><td>0</td><td>1</td><td>male  </td><td>50</td><td>1</td><td>0</td><td>106.4250</td><td>C</td></tr>\n",
              "\t<tr><th scope=row>885</th><td>1295</td><td>0</td><td>3</td><td>male  </td><td>NA</td><td>0</td><td>0</td><td>  7.7500</td><td>Q</td></tr>\n",
              "\t<tr><th scope=row>887</th><td>1297</td><td>1</td><td>1</td><td>male  </td><td>36</td><td>0</td><td>0</td><td> 26.3875</td><td>S</td></tr>\n",
              "\t<tr><th scope=row>889</th><td>1299</td><td>1</td><td>2</td><td>female</td><td>24</td><td>0</td><td>0</td><td> 13.0000</td><td>S</td></tr>\n",
              "</tbody>\n",
              "</table>\n"
            ]
          },
          "metadata": {}
        }
      ]
    },
    {
      "cell_type": "code",
      "metadata": {
        "id": "lnnfDqufPhea"
      },
      "source": [
        "titanic_teste$Survived <- as.factor(titanic_teste$Survived)"
      ],
      "execution_count": null,
      "outputs": []
    },
    {
      "cell_type": "code",
      "metadata": {
        "colab": {
          "base_uri": "https://localhost:8080/",
          "height": 126
        },
        "id": "_HvhskwpPhed",
        "outputId": "a251cffd-426b-4c59-f610-090bbd1e498e"
      },
      "source": [
        "cbind(summary(titanic_teste$Survived))"
      ],
      "execution_count": null,
      "outputs": [
        {
          "output_type": "display_data",
          "data": {
            "text/plain": [
              "  [,1]\n",
              "0 173 \n",
              "1  94 "
            ],
            "text/latex": "A matrix: 2 × 1 of type int\n\\begin{tabular}{r|l}\n\t0 & 173\\\\\n\t1 &  94\\\\\n\\end{tabular}\n",
            "text/markdown": "\nA matrix: 2 × 1 of type int\n\n| 0 | 173 |\n| 1 |  94 |\n\n",
            "text/html": [
              "<table class=\"dataframe\">\n",
              "<caption>A matrix: 2 × 1 of type int</caption>\n",
              "<tbody>\n",
              "\t<tr><th scope=row>0</th><td>173</td></tr>\n",
              "\t<tr><th scope=row>1</th><td> 94</td></tr>\n",
              "</tbody>\n",
              "</table>\n"
            ]
          },
          "metadata": {}
        }
      ]
    },
    {
      "cell_type": "markdown",
      "metadata": {
        "id": "hukvQhRW2Mbc"
      },
      "source": [
        "###  ii) Atribuindo um valor para os NAs na variável Age. \n",
        "\n",
        "Neste caso o critério escolhido foi o de aplicar a média entre os membros de mesmo sexo e classe"
      ]
    },
    {
      "cell_type": "markdown",
      "metadata": {
        "id": "hspnupiRVBVh"
      },
      "source": [
        "#### Tratamento Treino"
      ]
    },
    {
      "cell_type": "code",
      "metadata": {
        "colab": {
          "base_uri": "https://localhost:8080/",
          "height": 310
        },
        "id": "-8B3tQr_9MUO",
        "outputId": "54f461d4-b5d1-4cbc-9d91-155edce4f3f3"
      },
      "source": [
        "class_sex <- group_by(titanic, Pclass, Sex) \n",
        "\n",
        "class_sex %>% \n",
        "summarise(média= round(mean(Age, na.rm = TRUE)), mediana = median(Age, na.rm= TRUE))"
      ],
      "execution_count": null,
      "outputs": [
        {
          "output_type": "stream",
          "name": "stderr",
          "text": [
            "`summarise()` has grouped output by 'Pclass'. You can override using the `.groups` argument.\n",
            "\n"
          ]
        },
        {
          "output_type": "display_data",
          "data": {
            "text/plain": [
              "  Pclass Sex    média mediana\n",
              "1 1      female 35    35     \n",
              "2 1      male   41    42     \n",
              "3 2      female 28    28     \n",
              "4 2      male   32    29     \n",
              "5 3      female 22    22     \n",
              "6 3      male   26    26     "
            ],
            "text/latex": "A grouped\\_df: 6 × 4\n\\begin{tabular}{llll}\n Pclass & Sex & média & mediana\\\\\n <int> & <chr> & <dbl> & <dbl>\\\\\n\\hline\n\t 1 & female & 35 & 35\\\\\n\t 1 & male   & 41 & 42\\\\\n\t 2 & female & 28 & 28\\\\\n\t 2 & male   & 32 & 29\\\\\n\t 3 & female & 22 & 22\\\\\n\t 3 & male   & 26 & 26\\\\\n\\end{tabular}\n",
            "text/markdown": "\nA grouped_df: 6 × 4\n\n| Pclass &lt;int&gt; | Sex &lt;chr&gt; | média &lt;dbl&gt; | mediana &lt;dbl&gt; |\n|---|---|---|---|\n| 1 | female | 35 | 35 |\n| 1 | male   | 41 | 42 |\n| 2 | female | 28 | 28 |\n| 2 | male   | 32 | 29 |\n| 3 | female | 22 | 22 |\n| 3 | male   | 26 | 26 |\n\n",
            "text/html": [
              "<table class=\"dataframe\">\n",
              "<caption>A grouped_df: 6 × 4</caption>\n",
              "<thead>\n",
              "\t<tr><th scope=col>Pclass</th><th scope=col>Sex</th><th scope=col>média</th><th scope=col>mediana</th></tr>\n",
              "\t<tr><th scope=col>&lt;int&gt;</th><th scope=col>&lt;chr&gt;</th><th scope=col>&lt;dbl&gt;</th><th scope=col>&lt;dbl&gt;</th></tr>\n",
              "</thead>\n",
              "<tbody>\n",
              "\t<tr><td>1</td><td>female</td><td>35</td><td>35</td></tr>\n",
              "\t<tr><td>1</td><td>male  </td><td>41</td><td>42</td></tr>\n",
              "\t<tr><td>2</td><td>female</td><td>28</td><td>28</td></tr>\n",
              "\t<tr><td>2</td><td>male  </td><td>32</td><td>29</td></tr>\n",
              "\t<tr><td>3</td><td>female</td><td>22</td><td>22</td></tr>\n",
              "\t<tr><td>3</td><td>male  </td><td>26</td><td>26</td></tr>\n",
              "</tbody>\n",
              "</table>\n"
            ]
          },
          "metadata": {}
        }
      ]
    },
    {
      "cell_type": "code",
      "metadata": {
        "colab": {
          "base_uri": "https://localhost:8080/",
          "height": 310
        },
        "id": "N98HTf7qA_TL",
        "outputId": "f4834745-8c8f-4fef-fc8d-4ae43417590a"
      },
      "source": [
        "# Criando a tabela com as medianas por grupo:\n",
        "AgePclass_medianas <- titanic %>% group_by(Sex,Pclass) %>% summarise(idade = median(Age, na.rm = T),) %>% arrange(Pclass) %>% ungroup()\n",
        "AgePclass_medianas <- AgePclass_medianas %>% rename(Age=idade) %>% select(Pclass, Sex, Age)\n",
        "\n",
        "# filtrando somente as linhas com NA em Age\n",
        "trainMissingAge <- filter(titanic, is.na(Age)) %>% select(PassengerId, Pclass, Sex, Age)\n",
        "\n",
        "# Join pra ficar com tudo em um data.frame\n",
        "PassAge <- left_join(trainMissingAge, AgePclass_medianas, by = c(\"Sex\",\"Pclass\")) %>% select(PassengerId, Age=Age.y)\n",
        "\n",
        "# Join na base train.\n",
        "train.rawAge <- left_join(titanic, PassAge, by = c(\"PassengerId\"))\n",
        "\n",
        "# Preenchendo os NAs com mutate\n",
        "titanic <- mutate(train.rawAge, Age = if_else(is.na(Age.x), Age.y, Age.x)) %>% select(-Age.x, -Age.y)\n",
        "head(titanic)"
      ],
      "execution_count": null,
      "outputs": [
        {
          "output_type": "stream",
          "name": "stderr",
          "text": [
            "`summarise()` has grouped output by 'Sex'. You can override using the `.groups` argument.\n",
            "\n"
          ]
        },
        {
          "output_type": "display_data",
          "data": {
            "text/plain": [
              "  PassengerId Survived Pclass Sex    SibSp Parch Fare    Embarked Age\n",
              "1  2          0        3      male   0     0      7.8542 S        29 \n",
              "2  3          1        1      female 1     0     90.0000 Q        37 \n",
              "3  4          0        2      male   0     0     13.0000 S        36 \n",
              "4  5          1        1      female 0     1     55.0000 S        35 \n",
              "5 15          1        2      male   0     0     10.5000 S        62 \n",
              "6 17          1        3      male   0     0      7.5500 S        24 "
            ],
            "text/latex": "A data.frame: 6 × 9\n\\begin{tabular}{r|lllllllll}\n  & PassengerId & Survived & Pclass & Sex & SibSp & Parch & Fare & Embarked & Age\\\\\n  & <int> & <fct> & <int> & <chr> & <int> & <int> & <dbl> & <chr> & <dbl>\\\\\n\\hline\n\t1 &  2 & 0 & 3 & male   & 0 & 0 &  7.8542 & S & 29\\\\\n\t2 &  3 & 1 & 1 & female & 1 & 0 & 90.0000 & Q & 37\\\\\n\t3 &  4 & 0 & 2 & male   & 0 & 0 & 13.0000 & S & 36\\\\\n\t4 &  5 & 1 & 1 & female & 0 & 1 & 55.0000 & S & 35\\\\\n\t5 & 15 & 1 & 2 & male   & 0 & 0 & 10.5000 & S & 62\\\\\n\t6 & 17 & 1 & 3 & male   & 0 & 0 &  7.5500 & S & 24\\\\\n\\end{tabular}\n",
            "text/markdown": "\nA data.frame: 6 × 9\n\n| <!--/--> | PassengerId &lt;int&gt; | Survived &lt;fct&gt; | Pclass &lt;int&gt; | Sex &lt;chr&gt; | SibSp &lt;int&gt; | Parch &lt;int&gt; | Fare &lt;dbl&gt; | Embarked &lt;chr&gt; | Age &lt;dbl&gt; |\n|---|---|---|---|---|---|---|---|---|---|\n| 1 |  2 | 0 | 3 | male   | 0 | 0 |  7.8542 | S | 29 |\n| 2 |  3 | 1 | 1 | female | 1 | 0 | 90.0000 | Q | 37 |\n| 3 |  4 | 0 | 2 | male   | 0 | 0 | 13.0000 | S | 36 |\n| 4 |  5 | 1 | 1 | female | 0 | 1 | 55.0000 | S | 35 |\n| 5 | 15 | 1 | 2 | male   | 0 | 0 | 10.5000 | S | 62 |\n| 6 | 17 | 1 | 3 | male   | 0 | 0 |  7.5500 | S | 24 |\n\n",
            "text/html": [
              "<table class=\"dataframe\">\n",
              "<caption>A data.frame: 6 × 9</caption>\n",
              "<thead>\n",
              "\t<tr><th></th><th scope=col>PassengerId</th><th scope=col>Survived</th><th scope=col>Pclass</th><th scope=col>Sex</th><th scope=col>SibSp</th><th scope=col>Parch</th><th scope=col>Fare</th><th scope=col>Embarked</th><th scope=col>Age</th></tr>\n",
              "\t<tr><th></th><th scope=col>&lt;int&gt;</th><th scope=col>&lt;fct&gt;</th><th scope=col>&lt;int&gt;</th><th scope=col>&lt;chr&gt;</th><th scope=col>&lt;int&gt;</th><th scope=col>&lt;int&gt;</th><th scope=col>&lt;dbl&gt;</th><th scope=col>&lt;chr&gt;</th><th scope=col>&lt;dbl&gt;</th></tr>\n",
              "</thead>\n",
              "<tbody>\n",
              "\t<tr><th scope=row>1</th><td> 2</td><td>0</td><td>3</td><td>male  </td><td>0</td><td>0</td><td> 7.8542</td><td>S</td><td>29</td></tr>\n",
              "\t<tr><th scope=row>2</th><td> 3</td><td>1</td><td>1</td><td>female</td><td>1</td><td>0</td><td>90.0000</td><td>Q</td><td>37</td></tr>\n",
              "\t<tr><th scope=row>3</th><td> 4</td><td>0</td><td>2</td><td>male  </td><td>0</td><td>0</td><td>13.0000</td><td>S</td><td>36</td></tr>\n",
              "\t<tr><th scope=row>4</th><td> 5</td><td>1</td><td>1</td><td>female</td><td>0</td><td>1</td><td>55.0000</td><td>S</td><td>35</td></tr>\n",
              "\t<tr><th scope=row>5</th><td>15</td><td>1</td><td>2</td><td>male  </td><td>0</td><td>0</td><td>10.5000</td><td>S</td><td>62</td></tr>\n",
              "\t<tr><th scope=row>6</th><td>17</td><td>1</td><td>3</td><td>male  </td><td>0</td><td>0</td><td> 7.5500</td><td>S</td><td>24</td></tr>\n",
              "</tbody>\n",
              "</table>\n"
            ]
          },
          "metadata": {}
        }
      ]
    },
    {
      "cell_type": "code",
      "metadata": {
        "colab": {
          "base_uri": "https://localhost:8080/",
          "height": 33
        },
        "id": "CMi-SVJvIE8V",
        "outputId": "4d813f43-be57-4713-d8cb-ef41a5a4665c"
      },
      "source": [
        "sum(is.na(titanic$Age))"
      ],
      "execution_count": null,
      "outputs": [
        {
          "output_type": "display_data",
          "data": {
            "text/plain": [
              "[1] 0"
            ],
            "text/latex": "0",
            "text/markdown": "0",
            "text/html": [
              "0"
            ]
          },
          "metadata": {}
        }
      ]
    },
    {
      "cell_type": "markdown",
      "metadata": {
        "id": "GzObsugzZwoq"
      },
      "source": [
        "#### Tratamento Teste"
      ]
    },
    {
      "cell_type": "code",
      "metadata": {
        "colab": {
          "base_uri": "https://localhost:8080/",
          "height": 310
        },
        "id": "e2VnaorzVP2u",
        "outputId": "2e88c234-c283-490e-b049-7da37250337d"
      },
      "source": [
        "class_sex <- group_by(titanic_teste, Pclass, Sex) \n",
        "\n",
        "class_sex %>% \n",
        "summarise(média= round(mean(Age, na.rm = TRUE)), mediana = median(Age, na.rm= TRUE))"
      ],
      "execution_count": null,
      "outputs": [
        {
          "output_type": "stream",
          "name": "stderr",
          "text": [
            "`summarise()` has grouped output by 'Pclass'. You can override using the `.groups` argument.\n",
            "\n"
          ]
        },
        {
          "output_type": "display_data",
          "data": {
            "text/plain": [
              "  Pclass Sex    média mediana\n",
              "1 1      female 39    38.5   \n",
              "2 1      male   43    48.0   \n",
              "3 2      female 25    24.0   \n",
              "4 2      male   30    29.5   \n",
              "5 3      female 21    22.0   \n",
              "6 3      male   27    25.5   "
            ],
            "text/latex": "A grouped\\_df: 6 × 4\n\\begin{tabular}{llll}\n Pclass & Sex & média & mediana\\\\\n <int> & <chr> & <dbl> & <dbl>\\\\\n\\hline\n\t 1 & female & 39 & 38.5\\\\\n\t 1 & male   & 43 & 48.0\\\\\n\t 2 & female & 25 & 24.0\\\\\n\t 2 & male   & 30 & 29.5\\\\\n\t 3 & female & 21 & 22.0\\\\\n\t 3 & male   & 27 & 25.5\\\\\n\\end{tabular}\n",
            "text/markdown": "\nA grouped_df: 6 × 4\n\n| Pclass &lt;int&gt; | Sex &lt;chr&gt; | média &lt;dbl&gt; | mediana &lt;dbl&gt; |\n|---|---|---|---|\n| 1 | female | 39 | 38.5 |\n| 1 | male   | 43 | 48.0 |\n| 2 | female | 25 | 24.0 |\n| 2 | male   | 30 | 29.5 |\n| 3 | female | 21 | 22.0 |\n| 3 | male   | 27 | 25.5 |\n\n",
            "text/html": [
              "<table class=\"dataframe\">\n",
              "<caption>A grouped_df: 6 × 4</caption>\n",
              "<thead>\n",
              "\t<tr><th scope=col>Pclass</th><th scope=col>Sex</th><th scope=col>média</th><th scope=col>mediana</th></tr>\n",
              "\t<tr><th scope=col>&lt;int&gt;</th><th scope=col>&lt;chr&gt;</th><th scope=col>&lt;dbl&gt;</th><th scope=col>&lt;dbl&gt;</th></tr>\n",
              "</thead>\n",
              "<tbody>\n",
              "\t<tr><td>1</td><td>female</td><td>39</td><td>38.5</td></tr>\n",
              "\t<tr><td>1</td><td>male  </td><td>43</td><td>48.0</td></tr>\n",
              "\t<tr><td>2</td><td>female</td><td>25</td><td>24.0</td></tr>\n",
              "\t<tr><td>2</td><td>male  </td><td>30</td><td>29.5</td></tr>\n",
              "\t<tr><td>3</td><td>female</td><td>21</td><td>22.0</td></tr>\n",
              "\t<tr><td>3</td><td>male  </td><td>27</td><td>25.5</td></tr>\n",
              "</tbody>\n",
              "</table>\n"
            ]
          },
          "metadata": {}
        }
      ]
    },
    {
      "cell_type": "code",
      "metadata": {
        "colab": {
          "base_uri": "https://localhost:8080/",
          "height": 310
        },
        "id": "t_M68TXJVP2x",
        "outputId": "b1ac294a-f514-4d61-d996-8f533352bd51"
      },
      "source": [
        "# Substituindo os missing values pela mediana das idades por grupo\n",
        "AgePclass_medianas <- titanic_teste %>% group_by(Sex,Pclass) %>% summarise(idade = median(Age, na.rm = T),) %>% arrange(Pclass) %>% ungroup()\n",
        "AgePclass_medianas <- AgePclass_medianas %>% rename(Age=idade) %>% select(Pclass, Sex, Age)\n",
        "trainMissingAge <- filter(titanic_teste, is.na(Age)) %>% select(PassengerId, Pclass, Sex, Age)\n",
        "PassAge <- left_join(trainMissingAge, AgePclass_medianas, by = c(\"Sex\",\"Pclass\")) %>% select(PassengerId, Age=Age.y)\n",
        "train.rawAge <- left_join(titanic_teste, PassAge, by = c(\"PassengerId\"))\n",
        "titanic_teste <- mutate(train.rawAge, Age = if_else(is.na(Age.x), Age.y, Age.x)) %>% select(-Age.x, -Age.y)\n",
        "head(titanic_teste)"
      ],
      "execution_count": null,
      "outputs": [
        {
          "output_type": "stream",
          "name": "stderr",
          "text": [
            "`summarise()` has grouped output by 'Sex'. You can override using the `.groups` argument.\n",
            "\n"
          ]
        },
        {
          "output_type": "display_data",
          "data": {
            "text/plain": [
              "  PassengerId Survived Pclass Sex  SibSp Parch Fare    Embarked Age\n",
              "1  6          0        3      male 0     0      8.0500 S        30 \n",
              "2 10          0        3      male 1     0      6.4958 S        21 \n",
              "3 11          1        1      male 1     1     81.8583 S        53 \n",
              "4 12          0        3      male 0     0      7.9250 S        20 \n",
              "5 13          0        3      male 0     0      7.8958 S        26 \n",
              "6 24          0        2      male 2     0     31.5000 S        24 "
            ],
            "text/latex": "A data.frame: 6 × 9\n\\begin{tabular}{r|lllllllll}\n  & PassengerId & Survived & Pclass & Sex & SibSp & Parch & Fare & Embarked & Age\\\\\n  & <int> & <fct> & <int> & <chr> & <int> & <int> & <dbl> & <chr> & <dbl>\\\\\n\\hline\n\t1 &  6 & 0 & 3 & male & 0 & 0 &  8.0500 & S & 30\\\\\n\t2 & 10 & 0 & 3 & male & 1 & 0 &  6.4958 & S & 21\\\\\n\t3 & 11 & 1 & 1 & male & 1 & 1 & 81.8583 & S & 53\\\\\n\t4 & 12 & 0 & 3 & male & 0 & 0 &  7.9250 & S & 20\\\\\n\t5 & 13 & 0 & 3 & male & 0 & 0 &  7.8958 & S & 26\\\\\n\t6 & 24 & 0 & 2 & male & 2 & 0 & 31.5000 & S & 24\\\\\n\\end{tabular}\n",
            "text/markdown": "\nA data.frame: 6 × 9\n\n| <!--/--> | PassengerId &lt;int&gt; | Survived &lt;fct&gt; | Pclass &lt;int&gt; | Sex &lt;chr&gt; | SibSp &lt;int&gt; | Parch &lt;int&gt; | Fare &lt;dbl&gt; | Embarked &lt;chr&gt; | Age &lt;dbl&gt; |\n|---|---|---|---|---|---|---|---|---|---|\n| 1 |  6 | 0 | 3 | male | 0 | 0 |  8.0500 | S | 30 |\n| 2 | 10 | 0 | 3 | male | 1 | 0 |  6.4958 | S | 21 |\n| 3 | 11 | 1 | 1 | male | 1 | 1 | 81.8583 | S | 53 |\n| 4 | 12 | 0 | 3 | male | 0 | 0 |  7.9250 | S | 20 |\n| 5 | 13 | 0 | 3 | male | 0 | 0 |  7.8958 | S | 26 |\n| 6 | 24 | 0 | 2 | male | 2 | 0 | 31.5000 | S | 24 |\n\n",
            "text/html": [
              "<table class=\"dataframe\">\n",
              "<caption>A data.frame: 6 × 9</caption>\n",
              "<thead>\n",
              "\t<tr><th></th><th scope=col>PassengerId</th><th scope=col>Survived</th><th scope=col>Pclass</th><th scope=col>Sex</th><th scope=col>SibSp</th><th scope=col>Parch</th><th scope=col>Fare</th><th scope=col>Embarked</th><th scope=col>Age</th></tr>\n",
              "\t<tr><th></th><th scope=col>&lt;int&gt;</th><th scope=col>&lt;fct&gt;</th><th scope=col>&lt;int&gt;</th><th scope=col>&lt;chr&gt;</th><th scope=col>&lt;int&gt;</th><th scope=col>&lt;int&gt;</th><th scope=col>&lt;dbl&gt;</th><th scope=col>&lt;chr&gt;</th><th scope=col>&lt;dbl&gt;</th></tr>\n",
              "</thead>\n",
              "<tbody>\n",
              "\t<tr><th scope=row>1</th><td> 6</td><td>0</td><td>3</td><td>male</td><td>0</td><td>0</td><td> 8.0500</td><td>S</td><td>30</td></tr>\n",
              "\t<tr><th scope=row>2</th><td>10</td><td>0</td><td>3</td><td>male</td><td>1</td><td>0</td><td> 6.4958</td><td>S</td><td>21</td></tr>\n",
              "\t<tr><th scope=row>3</th><td>11</td><td>1</td><td>1</td><td>male</td><td>1</td><td>1</td><td>81.8583</td><td>S</td><td>53</td></tr>\n",
              "\t<tr><th scope=row>4</th><td>12</td><td>0</td><td>3</td><td>male</td><td>0</td><td>0</td><td> 7.9250</td><td>S</td><td>20</td></tr>\n",
              "\t<tr><th scope=row>5</th><td>13</td><td>0</td><td>3</td><td>male</td><td>0</td><td>0</td><td> 7.8958</td><td>S</td><td>26</td></tr>\n",
              "\t<tr><th scope=row>6</th><td>24</td><td>0</td><td>2</td><td>male</td><td>2</td><td>0</td><td>31.5000</td><td>S</td><td>24</td></tr>\n",
              "</tbody>\n",
              "</table>\n"
            ]
          },
          "metadata": {}
        }
      ]
    },
    {
      "cell_type": "code",
      "metadata": {
        "colab": {
          "base_uri": "https://localhost:8080/",
          "height": 33
        },
        "id": "3hPhS41VVP21",
        "outputId": "2580ff6f-ba50-4a4f-bd44-b27299e4b212"
      },
      "source": [
        "sum(is.na(titanic_teste$Age))"
      ],
      "execution_count": null,
      "outputs": [
        {
          "output_type": "display_data",
          "data": {
            "text/plain": [
              "[1] 0"
            ],
            "text/latex": "0",
            "text/markdown": "0",
            "text/html": [
              "0"
            ]
          },
          "metadata": {}
        }
      ]
    },
    {
      "cell_type": "markdown",
      "metadata": {
        "id": "2vt9DEgrL6VC"
      },
      "source": [
        "### iii)            Removendo as linhas com dados faltantes e atribuindo valor para os NAs de Age."
      ]
    },
    {
      "cell_type": "markdown",
      "metadata": {
        "id": "79cbVnWkVkiT"
      },
      "source": [
        "#### Treino"
      ]
    },
    {
      "cell_type": "code",
      "metadata": {
        "colab": {
          "base_uri": "https://localhost:8080/",
          "height": 33
        },
        "id": "3U0gI-axMCuh",
        "outputId": "411cc4fc-1043-4a38-e7bd-fce1b7441394"
      },
      "source": [
        "sum(is.na(titanic))"
      ],
      "execution_count": null,
      "outputs": [
        {
          "output_type": "display_data",
          "data": {
            "text/plain": [
              "[1] 1"
            ],
            "text/latex": "1",
            "text/markdown": "1",
            "text/html": [
              "1"
            ]
          },
          "metadata": {}
        }
      ]
    },
    {
      "cell_type": "code",
      "metadata": {
        "colab": {
          "base_uri": "https://localhost:8080/",
          "height": 33
        },
        "id": "U1ty8i1wMJ0U",
        "outputId": "b067b28f-ee0b-4404-b682-ab05db31b977"
      },
      "source": [
        "titanic <- drop_na(titanic)\n",
        "sum(is.na(titanic))"
      ],
      "execution_count": null,
      "outputs": [
        {
          "output_type": "display_data",
          "data": {
            "text/plain": [
              "[1] 0"
            ],
            "text/latex": "0",
            "text/markdown": "0",
            "text/html": [
              "0"
            ]
          },
          "metadata": {}
        }
      ]
    },
    {
      "cell_type": "markdown",
      "metadata": {
        "id": "FWItwEuKVoeP"
      },
      "source": [
        "#### Teste"
      ]
    },
    {
      "cell_type": "code",
      "metadata": {
        "colab": {
          "base_uri": "https://localhost:8080/",
          "height": 33
        },
        "id": "Qnpul_lzVqiw",
        "outputId": "cffa7ba6-1313-4b59-9268-0f8db9bb80f0"
      },
      "source": [
        "sum(is.na(titanic_teste))"
      ],
      "execution_count": null,
      "outputs": [
        {
          "output_type": "display_data",
          "data": {
            "text/plain": [
              "[1] 1"
            ],
            "text/latex": "1",
            "text/markdown": "1",
            "text/html": [
              "1"
            ]
          },
          "metadata": {}
        }
      ]
    },
    {
      "cell_type": "code",
      "metadata": {
        "colab": {
          "base_uri": "https://localhost:8080/",
          "height": 33
        },
        "id": "JGAXcAQyVqi1",
        "outputId": "8b020da3-8155-4b60-c492-fad384eda44c"
      },
      "source": [
        "titanic_teste <- drop_na(titanic_teste)\n",
        "sum(is.na(titanic))"
      ],
      "execution_count": null,
      "outputs": [
        {
          "output_type": "display_data",
          "data": {
            "text/plain": [
              "[1] 0"
            ],
            "text/latex": "0",
            "text/markdown": "0",
            "text/html": [
              "0"
            ]
          },
          "metadata": {}
        }
      ]
    },
    {
      "cell_type": "markdown",
      "metadata": {
        "id": "XKTTx59QM_SK"
      },
      "source": [
        "## b)      Criando um modelo no qual Survived será uma função das demais variáveis."
      ]
    },
    {
      "cell_type": "code",
      "metadata": {
        "colab": {
          "base_uri": "https://localhost:8080/",
          "height": 274
        },
        "id": "hI3GecRKOH8A",
        "outputId": "47cb008e-a55d-472a-ccf5-5de77ee1ea22"
      },
      "source": [
        "head(titanic)"
      ],
      "execution_count": null,
      "outputs": [
        {
          "output_type": "display_data",
          "data": {
            "text/plain": [
              "  PassengerId Survived Pclass Sex    SibSp Parch Fare    Embarked Age\n",
              "1  2          0        3      male   0     0      7.8542 S        29 \n",
              "2  3          1        1      female 1     0     90.0000 Q        37 \n",
              "3  4          0        2      male   0     0     13.0000 S        36 \n",
              "4  5          1        1      female 0     1     55.0000 S        35 \n",
              "5 15          1        2      male   0     0     10.5000 S        62 \n",
              "6 17          1        3      male   0     0      7.5500 S        24 "
            ],
            "text/latex": "A data.frame: 6 × 9\n\\begin{tabular}{r|lllllllll}\n  & PassengerId & Survived & Pclass & Sex & SibSp & Parch & Fare & Embarked & Age\\\\\n  & <int> & <fct> & <int> & <chr> & <int> & <int> & <dbl> & <chr> & <dbl>\\\\\n\\hline\n\t1 &  2 & 0 & 3 & male   & 0 & 0 &  7.8542 & S & 29\\\\\n\t2 &  3 & 1 & 1 & female & 1 & 0 & 90.0000 & Q & 37\\\\\n\t3 &  4 & 0 & 2 & male   & 0 & 0 & 13.0000 & S & 36\\\\\n\t4 &  5 & 1 & 1 & female & 0 & 1 & 55.0000 & S & 35\\\\\n\t5 & 15 & 1 & 2 & male   & 0 & 0 & 10.5000 & S & 62\\\\\n\t6 & 17 & 1 & 3 & male   & 0 & 0 &  7.5500 & S & 24\\\\\n\\end{tabular}\n",
            "text/markdown": "\nA data.frame: 6 × 9\n\n| <!--/--> | PassengerId &lt;int&gt; | Survived &lt;fct&gt; | Pclass &lt;int&gt; | Sex &lt;chr&gt; | SibSp &lt;int&gt; | Parch &lt;int&gt; | Fare &lt;dbl&gt; | Embarked &lt;chr&gt; | Age &lt;dbl&gt; |\n|---|---|---|---|---|---|---|---|---|---|\n| 1 |  2 | 0 | 3 | male   | 0 | 0 |  7.8542 | S | 29 |\n| 2 |  3 | 1 | 1 | female | 1 | 0 | 90.0000 | Q | 37 |\n| 3 |  4 | 0 | 2 | male   | 0 | 0 | 13.0000 | S | 36 |\n| 4 |  5 | 1 | 1 | female | 0 | 1 | 55.0000 | S | 35 |\n| 5 | 15 | 1 | 2 | male   | 0 | 0 | 10.5000 | S | 62 |\n| 6 | 17 | 1 | 3 | male   | 0 | 0 |  7.5500 | S | 24 |\n\n",
            "text/html": [
              "<table class=\"dataframe\">\n",
              "<caption>A data.frame: 6 × 9</caption>\n",
              "<thead>\n",
              "\t<tr><th></th><th scope=col>PassengerId</th><th scope=col>Survived</th><th scope=col>Pclass</th><th scope=col>Sex</th><th scope=col>SibSp</th><th scope=col>Parch</th><th scope=col>Fare</th><th scope=col>Embarked</th><th scope=col>Age</th></tr>\n",
              "\t<tr><th></th><th scope=col>&lt;int&gt;</th><th scope=col>&lt;fct&gt;</th><th scope=col>&lt;int&gt;</th><th scope=col>&lt;chr&gt;</th><th scope=col>&lt;int&gt;</th><th scope=col>&lt;int&gt;</th><th scope=col>&lt;dbl&gt;</th><th scope=col>&lt;chr&gt;</th><th scope=col>&lt;dbl&gt;</th></tr>\n",
              "</thead>\n",
              "<tbody>\n",
              "\t<tr><th scope=row>1</th><td> 2</td><td>0</td><td>3</td><td>male  </td><td>0</td><td>0</td><td> 7.8542</td><td>S</td><td>29</td></tr>\n",
              "\t<tr><th scope=row>2</th><td> 3</td><td>1</td><td>1</td><td>female</td><td>1</td><td>0</td><td>90.0000</td><td>Q</td><td>37</td></tr>\n",
              "\t<tr><th scope=row>3</th><td> 4</td><td>0</td><td>2</td><td>male  </td><td>0</td><td>0</td><td>13.0000</td><td>S</td><td>36</td></tr>\n",
              "\t<tr><th scope=row>4</th><td> 5</td><td>1</td><td>1</td><td>female</td><td>0</td><td>1</td><td>55.0000</td><td>S</td><td>35</td></tr>\n",
              "\t<tr><th scope=row>5</th><td>15</td><td>1</td><td>2</td><td>male  </td><td>0</td><td>0</td><td>10.5000</td><td>S</td><td>62</td></tr>\n",
              "\t<tr><th scope=row>6</th><td>17</td><td>1</td><td>3</td><td>male  </td><td>0</td><td>0</td><td> 7.5500</td><td>S</td><td>24</td></tr>\n",
              "</tbody>\n",
              "</table>\n"
            ]
          },
          "metadata": {}
        }
      ]
    },
    {
      "cell_type": "code",
      "metadata": {
        "colab": {
          "base_uri": "https://localhost:8080/",
          "height": 550
        },
        "id": "Du3MNvHMdyg2",
        "outputId": "6dea8463-9532-4898-8755-6f1571c6153d"
      },
      "source": [
        "modelo <- glm(formula = Survived  ~ Pclass + Sex + Age + SibSp + Parch + Fare + Embarked, family = binomial(), data = titanic)\n",
        "summary(modelo)"
      ],
      "execution_count": null,
      "outputs": [
        {
          "output_type": "display_data",
          "data": {
            "text/plain": [
              "\n",
              "Call:\n",
              "glm(formula = Survived ~ Pclass + Sex + Age + SibSp + Parch + \n",
              "    Fare + Embarked, family = binomial(), data = titanic)\n",
              "\n",
              "Deviance Residuals: \n",
              "    Min       1Q   Median       3Q      Max  \n",
              "-2.3972  -0.6915  -0.5079   0.7080   2.3005  \n",
              "\n",
              "Coefficients:\n",
              "             Estimate Std. Error z value Pr(>|z|)    \n",
              "(Intercept)  4.053611   0.630768   6.426 1.31e-10 ***\n",
              "Pclass      -0.747076   0.163423  -4.571 4.84e-06 ***\n",
              "Sexmale     -2.546412   0.235950 -10.792  < 2e-16 ***\n",
              "Age         -0.027049   0.008722  -3.101  0.00193 ** \n",
              "SibSp       -0.342674   0.123568  -2.773  0.00555 ** \n",
              "Parch       -0.081500   0.123596  -0.659  0.50963    \n",
              "Fare         0.003431   0.002498   1.374  0.16950    \n",
              "EmbarkedQ   -0.529824   0.430329  -1.231  0.21825    \n",
              "EmbarkedS   -0.451552   0.263068  -1.716  0.08607 .  \n",
              "---\n",
              "Signif. codes:  0 ‘***’ 0.001 ‘**’ 0.01 ‘*’ 0.05 ‘.’ 0.1 ‘ ’ 1\n",
              "\n",
              "(Dispersion parameter for binomial family taken to be 1)\n",
              "\n",
              "    Null deviance: 832.39  on 622  degrees of freedom\n",
              "Residual deviance: 601.22  on 614  degrees of freedom\n",
              "AIC: 619.22\n",
              "\n",
              "Number of Fisher Scoring iterations: 4\n"
            ]
          },
          "metadata": {}
        }
      ]
    },
    {
      "cell_type": "markdown",
      "metadata": {
        "id": "HvnVl-mAjkVs"
      },
      "source": [
        "## c)       Avaliando o modelo, verificando a significância estatística das variáveis"
      ]
    },
    {
      "cell_type": "markdown",
      "metadata": {
        "id": "TqFL0wzpQWDt"
      },
      "source": [
        "### Avaliando os coeficientes do modelo"
      ]
    },
    {
      "cell_type": "markdown",
      "metadata": {
        "id": "DCFJ05P2Igza"
      },
      "source": [
        "Estes são os coeficientes do modelo. Podemos avaliar a partir deles que um aumento de 1 ano na idade sugere uma redução por um fator de 0,97 na chance de sobrevivência.\n",
        "\n",
        "também que ser do sexo masculino também reduz em 2,64% a chance de vida, assim como estar na Pclass 2 ou 3 sugere que há uma chance menor de sobrevivência do que estar na 1"
      ]
    },
    {
      "cell_type": "code",
      "metadata": {
        "colab": {
          "base_uri": "https://localhost:8080/",
          "height": 364
        },
        "id": "WOG13oLJe-72",
        "outputId": "ec97e8e1-fce4-4d6e-ef6a-07da49dce737"
      },
      "source": [
        "  coeficientes <- data.frame(log = coef(modelo))\n",
        "  coeficientes['odds'] <- round(exp(coeficientes$log),3)\n",
        "  coeficientes['probab'] <- round(exp(coeficientes$log)/(1 + coeficientes$log),3)\n",
        "  coeficientes"
      ],
      "execution_count": null,
      "outputs": [
        {
          "output_type": "display_data",
          "data": {
            "text/plain": [
              "            log         odds   probab\n",
              "(Intercept)  4.05361066 57.605 11.399\n",
              "Pclass      -0.74707567  0.474  1.873\n",
              "Sexmale     -2.54641158  0.078 -0.051\n",
              "Age         -0.02704865  0.973  1.000\n",
              "SibSp       -0.34267368  0.710  1.080\n",
              "Parch       -0.08150012  0.922  1.004\n",
              "Fare         0.00343121  1.003  1.000\n",
              "EmbarkedQ   -0.52982386  0.589  1.252\n",
              "EmbarkedS   -0.45155159  0.637  1.161"
            ],
            "text/latex": "A data.frame: 9 × 3\n\\begin{tabular}{r|lll}\n  & log & odds & probab\\\\\n  & <dbl> & <dbl> & <dbl>\\\\\n\\hline\n\t(Intercept) &  4.05361066 & 57.605 & 11.399\\\\\n\tPclass & -0.74707567 &  0.474 &  1.873\\\\\n\tSexmale & -2.54641158 &  0.078 & -0.051\\\\\n\tAge & -0.02704865 &  0.973 &  1.000\\\\\n\tSibSp & -0.34267368 &  0.710 &  1.080\\\\\n\tParch & -0.08150012 &  0.922 &  1.004\\\\\n\tFare &  0.00343121 &  1.003 &  1.000\\\\\n\tEmbarkedQ & -0.52982386 &  0.589 &  1.252\\\\\n\tEmbarkedS & -0.45155159 &  0.637 &  1.161\\\\\n\\end{tabular}\n",
            "text/markdown": "\nA data.frame: 9 × 3\n\n| <!--/--> | log &lt;dbl&gt; | odds &lt;dbl&gt; | probab &lt;dbl&gt; |\n|---|---|---|---|\n| (Intercept) |  4.05361066 | 57.605 | 11.399 |\n| Pclass | -0.74707567 |  0.474 |  1.873 |\n| Sexmale | -2.54641158 |  0.078 | -0.051 |\n| Age | -0.02704865 |  0.973 |  1.000 |\n| SibSp | -0.34267368 |  0.710 |  1.080 |\n| Parch | -0.08150012 |  0.922 |  1.004 |\n| Fare |  0.00343121 |  1.003 |  1.000 |\n| EmbarkedQ | -0.52982386 |  0.589 |  1.252 |\n| EmbarkedS | -0.45155159 |  0.637 |  1.161 |\n\n",
            "text/html": [
              "<table class=\"dataframe\">\n",
              "<caption>A data.frame: 9 × 3</caption>\n",
              "<thead>\n",
              "\t<tr><th></th><th scope=col>log</th><th scope=col>odds</th><th scope=col>probab</th></tr>\n",
              "\t<tr><th></th><th scope=col>&lt;dbl&gt;</th><th scope=col>&lt;dbl&gt;</th><th scope=col>&lt;dbl&gt;</th></tr>\n",
              "</thead>\n",
              "<tbody>\n",
              "\t<tr><th scope=row>(Intercept)</th><td> 4.05361066</td><td>57.605</td><td>11.399</td></tr>\n",
              "\t<tr><th scope=row>Pclass</th><td>-0.74707567</td><td> 0.474</td><td> 1.873</td></tr>\n",
              "\t<tr><th scope=row>Sexmale</th><td>-2.54641158</td><td> 0.078</td><td>-0.051</td></tr>\n",
              "\t<tr><th scope=row>Age</th><td>-0.02704865</td><td> 0.973</td><td> 1.000</td></tr>\n",
              "\t<tr><th scope=row>SibSp</th><td>-0.34267368</td><td> 0.710</td><td> 1.080</td></tr>\n",
              "\t<tr><th scope=row>Parch</th><td>-0.08150012</td><td> 0.922</td><td> 1.004</td></tr>\n",
              "\t<tr><th scope=row>Fare</th><td> 0.00343121</td><td> 1.003</td><td> 1.000</td></tr>\n",
              "\t<tr><th scope=row>EmbarkedQ</th><td>-0.52982386</td><td> 0.589</td><td> 1.252</td></tr>\n",
              "\t<tr><th scope=row>EmbarkedS</th><td>-0.45155159</td><td> 0.637</td><td> 1.161</td></tr>\n",
              "</tbody>\n",
              "</table>\n"
            ]
          },
          "metadata": {}
        }
      ]
    },
    {
      "cell_type": "code",
      "metadata": {
        "colab": {
          "base_uri": "https://localhost:8080/",
          "height": 33
        },
        "id": "kr7FLmNHefmI",
        "outputId": "3324f334-4ea5-454c-909a-420eed791e5e"
      },
      "source": [
        "deviance(modelo) / df.residual(modelo)"
      ],
      "execution_count": null,
      "outputs": [
        {
          "output_type": "display_data",
          "data": {
            "text/plain": [
              "[1] 0.9791779"
            ],
            "text/latex": "0.979177921433087",
            "text/markdown": "0.979177921433087",
            "text/html": [
              "0.979177921433087"
            ]
          },
          "metadata": {}
        }
      ]
    },
    {
      "cell_type": "markdown",
      "metadata": {
        "id": "KFCNXMzwsDmi"
      },
      "source": [
        "## d)      Atualizando o modelo como consequência da análise anterior"
      ]
    },
    {
      "cell_type": "markdown",
      "metadata": {
        "id": "4adkv1HRzVhG"
      },
      "source": [
        "### Modelo atualizado com menos variáveis\n",
        "\n",
        "Verificamos que o modelo possui variáveis sem significância estatística, então as removemos em uma nova versão do modelo:"
      ]
    },
    {
      "cell_type": "code",
      "metadata": {
        "colab": {
          "base_uri": "https://localhost:8080/",
          "height": 514
        },
        "id": "pc_2IBExiypX",
        "outputId": "427cc150-c6e0-4ed3-f98b-0f13bd536076"
      },
      "source": [
        "modelo_atualizado <- glm(formula = Survived  ~Pclass + Sex + Age + SibSp + Embarked, family = binomial(), data = titanic)\n",
        "summary(modelo_atualizado)"
      ],
      "execution_count": null,
      "outputs": [
        {
          "output_type": "display_data",
          "data": {
            "text/plain": [
              "\n",
              "Call:\n",
              "glm(formula = Survived ~ Pclass + Sex + Age + SibSp + Embarked, \n",
              "    family = binomial(), data = titanic)\n",
              "\n",
              "Deviance Residuals: \n",
              "    Min       1Q   Median       3Q      Max  \n",
              "-2.3334  -0.6981  -0.4976   0.7085   2.3100  \n",
              "\n",
              "Coefficients:\n",
              "             Estimate Std. Error z value Pr(>|z|)    \n",
              "(Intercept)  4.437708   0.555689   7.986 1.39e-15 ***\n",
              "Pclass      -0.860856   0.142210  -6.053 1.42e-09 ***\n",
              "Sexmale     -2.530979   0.228018 -11.100  < 2e-16 ***\n",
              "Age         -0.027099   0.008676  -3.123  0.00179 ** \n",
              "SibSp       -0.330394   0.117446  -2.813  0.00491 ** \n",
              "EmbarkedQ   -0.555034   0.424215  -1.308  0.19074    \n",
              "EmbarkedS   -0.537813   0.255094  -2.108  0.03501 *  \n",
              "---\n",
              "Signif. codes:  0 ‘***’ 0.001 ‘**’ 0.01 ‘*’ 0.05 ‘.’ 0.1 ‘ ’ 1\n",
              "\n",
              "(Dispersion parameter for binomial family taken to be 1)\n",
              "\n",
              "    Null deviance: 832.39  on 622  degrees of freedom\n",
              "Residual deviance: 603.43  on 616  degrees of freedom\n",
              "AIC: 617.43\n",
              "\n",
              "Number of Fisher Scoring iterations: 4\n"
            ]
          },
          "metadata": {}
        }
      ]
    },
    {
      "cell_type": "markdown",
      "metadata": {
        "id": "wAmhEoL-enTs"
      },
      "source": [
        "### Avaliando a anova para comparar as versões do modelo:"
      ]
    },
    {
      "cell_type": "code",
      "metadata": {
        "colab": {
          "base_uri": "https://localhost:8080/",
          "height": 154
        },
        "id": "3GAm7Ui2cqB6",
        "outputId": "8f0d67b5-2b20-4bb1-d5e5-9ec1aa943e75"
      },
      "source": [
        "anova(modelo_atualizado, modelo, test = \"Chisq\")"
      ],
      "execution_count": null,
      "outputs": [
        {
          "output_type": "display_data",
          "data": {
            "text/plain": [
              "  Resid. Df Resid. Dev Df Deviance Pr(>Chi) \n",
              "1 616       603.4302   NA       NA        NA\n",
              "2 614       601.2152    2 2.214922 0.3303967"
            ],
            "text/latex": "A anova: 2 × 5\n\\begin{tabular}{r|lllll}\n  & Resid. Df & Resid. Dev & Df & Deviance & Pr(>Chi)\\\\\n  & <dbl> & <dbl> & <dbl> & <dbl> & <dbl>\\\\\n\\hline\n\t1 & 616 & 603.4302 & NA &       NA &        NA\\\\\n\t2 & 614 & 601.2152 &  2 & 2.214922 & 0.3303967\\\\\n\\end{tabular}\n",
            "text/markdown": "\nA anova: 2 × 5\n\n| <!--/--> | Resid. Df &lt;dbl&gt; | Resid. Dev &lt;dbl&gt; | Df &lt;dbl&gt; | Deviance &lt;dbl&gt; | Pr(&gt;Chi) &lt;dbl&gt; |\n|---|---|---|---|---|---|\n| 1 | 616 | 603.4302 | NA |       NA |        NA |\n| 2 | 614 | 601.2152 |  2 | 2.214922 | 0.3303967 |\n\n",
            "text/html": [
              "<table class=\"dataframe\">\n",
              "<caption>A anova: 2 × 5</caption>\n",
              "<thead>\n",
              "\t<tr><th></th><th scope=col>Resid. Df</th><th scope=col>Resid. Dev</th><th scope=col>Df</th><th scope=col>Deviance</th><th scope=col>Pr(&gt;Chi)</th></tr>\n",
              "\t<tr><th></th><th scope=col>&lt;dbl&gt;</th><th scope=col>&lt;dbl&gt;</th><th scope=col>&lt;dbl&gt;</th><th scope=col>&lt;dbl&gt;</th><th scope=col>&lt;dbl&gt;</th></tr>\n",
              "</thead>\n",
              "<tbody>\n",
              "\t<tr><th scope=row>1</th><td>616</td><td>603.4302</td><td>NA</td><td>      NA</td><td>       NA</td></tr>\n",
              "\t<tr><th scope=row>2</th><td>614</td><td>601.2152</td><td> 2</td><td>2.214922</td><td>0.3303967</td></tr>\n",
              "</tbody>\n",
              "</table>\n"
            ]
          },
          "metadata": {}
        }
      ]
    },
    {
      "cell_type": "markdown",
      "metadata": {
        "id": "EcGm21e-dGcV"
      },
      "source": [
        "O valor de p acima de 0,05 (p = 0,33) sujere que o modelo reduzido se adequa tão bem quanto o modelo completo com todas as variáveis, neste caso adotamos o modelo mais simples."
      ]
    },
    {
      "cell_type": "markdown",
      "metadata": {
        "id": "72LJJTGHeM1k"
      },
      "source": [
        "### Avaliando a superdispersão\n",
        "\n",
        "A Super Dispersão (Overdispersion) ocorre quando a variância observada da variável resposta é maior do que seria esperado de uma distribuição binomial."
      ]
    },
    {
      "cell_type": "code",
      "metadata": {
        "colab": {
          "base_uri": "https://localhost:8080/",
          "height": 33
        },
        "id": "lB_zUlNzjgkW",
        "outputId": "1fcfa15e-e383-4465-cf8e-b900e4c52a25"
      },
      "source": [
        "deviance(modelo_atualizado) / df.residual(modelo_atualizado)"
      ],
      "execution_count": null,
      "outputs": [
        {
          "output_type": "display_data",
          "data": {
            "text/plain": [
              "[1] 0.9795944"
            ],
            "text/latex": "0.979594425668095",
            "text/markdown": "0.979594425668095",
            "text/html": [
              "0.979594425668095"
            ]
          },
          "metadata": {}
        }
      ]
    },
    {
      "cell_type": "markdown",
      "metadata": {
        "id": "7w_Z5vFu0dFG"
      },
      "source": [
        "O valor de 0,98 está muito próximo de 1 e isso indica que não há superdispersão"
      ]
    },
    {
      "cell_type": "markdown",
      "metadata": {
        "id": "rMPpfk1HfoRu"
      },
      "source": [
        "### Fazedo previsões"
      ]
    },
    {
      "cell_type": "code",
      "metadata": {
        "id": "_HPyqNITlxUB"
      },
      "source": [
        "df <- titanic_teste"
      ],
      "execution_count": null,
      "outputs": []
    },
    {
      "cell_type": "code",
      "metadata": {
        "id": "gIdB_TYRmcpp"
      },
      "source": [
        "previsao_pct <- predict(modelo_atualizado, type = \"response\", newdata = titanic_teste)\n",
        "df['previsao_pct'] <- round(previsao_pct,3)"
      ],
      "execution_count": null,
      "outputs": []
    },
    {
      "cell_type": "code",
      "metadata": {
        "id": "H-Y6GH7-KTRu"
      },
      "source": [
        "previsao <- if_else(previsao_pct >= 0.5, 1, 0)\n",
        "previsao <- factor(previsao, levels = c(\"0\", \"1\"), labels = c(\"morto\",\"vivo\"))"
      ],
      "execution_count": null,
      "outputs": []
    },
    {
      "cell_type": "code",
      "metadata": {
        "id": "X-mrSluXg64K"
      },
      "source": [
        "df['estimado'] <- previsao\n",
        "df['Survived'] <- factor(df$Survived, levels = c(\"0\", \"1\"), labels = c(\"morto\",\"vivo\"))"
      ],
      "execution_count": null,
      "outputs": []
    },
    {
      "cell_type": "code",
      "metadata": {
        "colab": {
          "base_uri": "https://localhost:8080/",
          "height": 394
        },
        "id": "BiwpcNWllYsj",
        "outputId": "57c8afaf-59f5-4b05-852c-726def017271"
      },
      "source": [
        "head(select(df, Survived, previsao_pct, estimado),10)"
      ],
      "execution_count": null,
      "outputs": [
        {
          "output_type": "display_data",
          "data": {
            "text/plain": [
              "   Survived previsao_pct estimado\n",
              "1  morto    0.116        morto   \n",
              "2  morto    0.108        morto   \n",
              "3  vivo     0.221        morto   \n",
              "4  morto    0.147        morto   \n",
              "5  morto    0.128        morto   \n",
              "6  morto    0.159        morto   \n",
              "7  vivo     0.905        vivo    \n",
              "8  vivo     0.881        vivo    \n",
              "9  vivo     0.926        vivo    \n",
              "10 vivo     0.545        vivo    "
            ],
            "text/latex": "A data.frame: 10 × 3\n\\begin{tabular}{r|lll}\n  & Survived & previsao\\_pct & estimado\\\\\n  & <fct> & <dbl> & <fct>\\\\\n\\hline\n\t1 & morto & 0.116 & morto\\\\\n\t2 & morto & 0.108 & morto\\\\\n\t3 & vivo  & 0.221 & morto\\\\\n\t4 & morto & 0.147 & morto\\\\\n\t5 & morto & 0.128 & morto\\\\\n\t6 & morto & 0.159 & morto\\\\\n\t7 & vivo  & 0.905 & vivo \\\\\n\t8 & vivo  & 0.881 & vivo \\\\\n\t9 & vivo  & 0.926 & vivo \\\\\n\t10 & vivo  & 0.545 & vivo \\\\\n\\end{tabular}\n",
            "text/markdown": "\nA data.frame: 10 × 3\n\n| <!--/--> | Survived &lt;fct&gt; | previsao_pct &lt;dbl&gt; | estimado &lt;fct&gt; |\n|---|---|---|---|\n| 1 | morto | 0.116 | morto |\n| 2 | morto | 0.108 | morto |\n| 3 | vivo  | 0.221 | morto |\n| 4 | morto | 0.147 | morto |\n| 5 | morto | 0.128 | morto |\n| 6 | morto | 0.159 | morto |\n| 7 | vivo  | 0.905 | vivo  |\n| 8 | vivo  | 0.881 | vivo  |\n| 9 | vivo  | 0.926 | vivo  |\n| 10 | vivo  | 0.545 | vivo  |\n\n",
            "text/html": [
              "<table class=\"dataframe\">\n",
              "<caption>A data.frame: 10 × 3</caption>\n",
              "<thead>\n",
              "\t<tr><th></th><th scope=col>Survived</th><th scope=col>previsao_pct</th><th scope=col>estimado</th></tr>\n",
              "\t<tr><th></th><th scope=col>&lt;fct&gt;</th><th scope=col>&lt;dbl&gt;</th><th scope=col>&lt;fct&gt;</th></tr>\n",
              "</thead>\n",
              "<tbody>\n",
              "\t<tr><th scope=row>1</th><td>morto</td><td>0.116</td><td>morto</td></tr>\n",
              "\t<tr><th scope=row>2</th><td>morto</td><td>0.108</td><td>morto</td></tr>\n",
              "\t<tr><th scope=row>3</th><td>vivo </td><td>0.221</td><td>morto</td></tr>\n",
              "\t<tr><th scope=row>4</th><td>morto</td><td>0.147</td><td>morto</td></tr>\n",
              "\t<tr><th scope=row>5</th><td>morto</td><td>0.128</td><td>morto</td></tr>\n",
              "\t<tr><th scope=row>6</th><td>morto</td><td>0.159</td><td>morto</td></tr>\n",
              "\t<tr><th scope=row>7</th><td>vivo </td><td>0.905</td><td>vivo </td></tr>\n",
              "\t<tr><th scope=row>8</th><td>vivo </td><td>0.881</td><td>vivo </td></tr>\n",
              "\t<tr><th scope=row>9</th><td>vivo </td><td>0.926</td><td>vivo </td></tr>\n",
              "\t<tr><th scope=row>10</th><td>vivo </td><td>0.545</td><td>vivo </td></tr>\n",
              "</tbody>\n",
              "</table>\n"
            ]
          },
          "metadata": {}
        }
      ]
    },
    {
      "cell_type": "markdown",
      "metadata": {
        "id": "QLfTlqDj1qJ9"
      },
      "source": [
        "### Matriz de confusão\n",
        "\n",
        "Acurácia, Sensibilidade e Especificidade"
      ]
    },
    {
      "cell_type": "markdown",
      "metadata": {
        "id": "FLAsUkw8f9P_"
      },
      "source": [
        "Em modelos de classificação ou modelos de regressão logística (binários), temos dois termos muito utilizados para caracterizar o desempenho do modelo: sensibilidade e especificidade.\n",
        "\n",
        "Sensibilidade é sinônimo de precisão.\n",
        "\n",
        "Contudo, a especificidade é o percentual de negativos corretamente identificados."
      ]
    },
    {
      "cell_type": "code",
      "metadata": {
        "colab": {
          "base_uri": "https://localhost:8080/",
          "height": 87
        },
        "id": "ucsv5OamhImA",
        "outputId": "50c51806-beaf-41a0-bdf3-9e4e5a3b021c"
      },
      "source": [
        "matconf <- table( df$Survived, previsao, dnn = list(\"Previsto\", \"Real\"))\n",
        "matconf"
      ],
      "execution_count": null,
      "outputs": [
        {
          "output_type": "display_data",
          "data": {
            "text/plain": [
              "        Real\n",
              "Previsto morto vivo\n",
              "   morto   143   30\n",
              "   vivo     22   71"
            ]
          },
          "metadata": {}
        }
      ]
    },
    {
      "cell_type": "code",
      "metadata": {
        "id": "Dq5rwLRqlJCF"
      },
      "source": [
        "VP <- matconf[4]\n",
        "VN <- matconf[1]\n",
        "FP <- matconf[2]\n",
        "FN <- matconf[3]\n",
        "P <- sum(df$estimado == 'vivo')\n",
        "N <- sum(df$estimado == 'morto')"
      ],
      "execution_count": null,
      "outputs": []
    },
    {
      "cell_type": "code",
      "metadata": {
        "colab": {
          "base_uri": "https://localhost:8080/",
          "height": 116
        },
        "id": "Lx3V5Vstl-nX",
        "outputId": "59b4d56d-866d-47f0-a470-5c58d88bc963"
      },
      "source": [
        "glue('Verdadeiro Positivo = {VP}')\n",
        "glue('Verdadeiro Negativo = {VN}')\n",
        "glue('Falso Positivo =      {FP}')\n",
        "glue('Falso Negativo =      {FN}')\n",
        "glue('Número de eventos = {P}')\n",
        "glue('Número de não eventos = {N}')"
      ],
      "execution_count": null,
      "outputs": [
        {
          "output_type": "display_data",
          "data": {
            "text/plain": [
              "Verdadeiro Positivo = 71"
            ],
            "text/latex": "'Verdadeiro Positivo = 71'",
            "text/markdown": "'Verdadeiro Positivo = 71'",
            "text/html": [
              "'Verdadeiro Positivo = 71'"
            ]
          },
          "metadata": {}
        },
        {
          "output_type": "display_data",
          "data": {
            "text/plain": [
              "Verdadeiro Negativo = 143"
            ],
            "text/latex": "'Verdadeiro Negativo = 143'",
            "text/markdown": "'Verdadeiro Negativo = 143'",
            "text/html": [
              "'Verdadeiro Negativo = 143'"
            ]
          },
          "metadata": {}
        },
        {
          "output_type": "display_data",
          "data": {
            "text/plain": [
              "Falso Positivo =      22"
            ],
            "text/latex": "'Falso Positivo =      22'",
            "text/markdown": "<span style=white-space:pre-wrap>'Falso Positivo =      22'</span>",
            "text/html": [
              "<span style=white-space:pre-wrap>'Falso Positivo =      22'</span>"
            ]
          },
          "metadata": {}
        },
        {
          "output_type": "display_data",
          "data": {
            "text/plain": [
              "Falso Negativo =      30"
            ],
            "text/latex": "'Falso Negativo =      30'",
            "text/markdown": "<span style=white-space:pre-wrap>'Falso Negativo =      30'</span>",
            "text/html": [
              "<span style=white-space:pre-wrap>'Falso Negativo =      30'</span>"
            ]
          },
          "metadata": {}
        },
        {
          "output_type": "display_data",
          "data": {
            "text/plain": [
              "Número de eventos = 101"
            ],
            "text/latex": "'Número de eventos = 101'",
            "text/markdown": "'Número de eventos = 101'",
            "text/html": [
              "'Número de eventos = 101'"
            ]
          },
          "metadata": {}
        },
        {
          "output_type": "display_data",
          "data": {
            "text/plain": [
              "Número de não eventos = 165"
            ],
            "text/latex": "'Número de não eventos = 165'",
            "text/markdown": "'Número de não eventos = 165'",
            "text/html": [
              "'Número de não eventos = 165'"
            ]
          },
          "metadata": {}
        }
      ]
    },
    {
      "cell_type": "markdown",
      "metadata": {
        "id": "ZpMl8tuZ2R7b"
      },
      "source": [
        "Acurácia = (VN + VP) / (P + N)\n",
        "É a proporção de predições corretas. "
      ]
    },
    {
      "cell_type": "code",
      "metadata": {
        "colab": {
          "base_uri": "https://localhost:8080/",
          "height": 33
        },
        "id": "11spQ-MAsYZO",
        "outputId": "31dce949-6467-4f5a-deb3-819df8f5381e"
      },
      "source": [
        "acuracia <- (VN + VP) / (P + N) \n",
        "round(acuracia,3)"
      ],
      "execution_count": null,
      "outputs": [
        {
          "output_type": "display_data",
          "data": {
            "text/plain": [
              "[1] 0.805"
            ],
            "text/latex": "0.805",
            "text/markdown": "0.805",
            "text/html": [
              "0.805"
            ]
          },
          "metadata": {}
        }
      ]
    },
    {
      "cell_type": "markdown",
      "metadata": {
        "id": "HjwsZSTfHIpt"
      },
      "source": [
        "Ao compararmos os resultados de estimados pelo modelo com os resutados reais da base de treino temos que houve acerto em 80% dos casos."
      ]
    },
    {
      "cell_type": "markdown",
      "metadata": {
        "id": "XfYrtUeb3H_E"
      },
      "source": [
        "Sensibilidade = VP / (VP + FN)\n",
        "É a proporção de verdadeiros positivos. "
      ]
    },
    {
      "cell_type": "code",
      "metadata": {
        "colab": {
          "base_uri": "https://localhost:8080/",
          "height": 33
        },
        "id": "VGUa9cNm3KBY",
        "outputId": "7135a6e2-f484-4b26-abc2-2f3f28f2e3ba"
      },
      "source": [
        "sensibilidade <- VP / (VP + FN)\n",
        "round(sensibilidade,3)"
      ],
      "execution_count": null,
      "outputs": [
        {
          "output_type": "display_data",
          "data": {
            "text/plain": [
              "[1] 0.703"
            ],
            "text/latex": "0.703",
            "text/markdown": "0.703",
            "text/html": [
              "0.703"
            ]
          },
          "metadata": {}
        }
      ]
    },
    {
      "cell_type": "markdown",
      "metadata": {
        "id": "JDNfRMCvHBXb"
      },
      "source": [
        "Na previsão de sobrevivência, modelo criado acertou 70% dos casos em que houve sobrevivência "
      ]
    },
    {
      "cell_type": "markdown",
      "metadata": {
        "id": "WvTbt9zP3Kvb"
      },
      "source": [
        "Especificidade = VN / (VN + FP)\n",
        "É a proporção de verdadeiros negativos."
      ]
    },
    {
      "cell_type": "code",
      "metadata": {
        "colab": {
          "base_uri": "https://localhost:8080/",
          "height": 33
        },
        "id": "JxDQ2XMg3NCb",
        "outputId": "fdaa8ccd-e788-4f06-97b9-74c481544c4a"
      },
      "source": [
        "especificidade <- VN / (VN + FP)\n",
        "round(especificidade, 3)"
      ],
      "execution_count": null,
      "outputs": [
        {
          "output_type": "display_data",
          "data": {
            "text/plain": [
              "[1] 0.867"
            ],
            "text/latex": "0.867",
            "text/markdown": "0.867",
            "text/html": [
              "0.867"
            ]
          },
          "metadata": {}
        }
      ]
    },
    {
      "cell_type": "markdown",
      "metadata": {
        "id": "98s-RRQWHzun"
      },
      "source": [
        "Ao avaliarmos os casos de mortes o modelo foi ainda mais assertivo e previu corretamente 87% dos casos"
      ]
    },
    {
      "cell_type": "markdown",
      "metadata": {
        "id": "Bn3v2jzp6qjX"
      },
      "source": [
        "## e)      Fazendo as previsões da variável Survived na base de dados não rotulada utilizando o modelo refinado, e preparando um arquivo CSV para submissão."
      ]
    },
    {
      "cell_type": "code",
      "metadata": {
        "colab": {
          "base_uri": "https://localhost:8080/",
          "height": 184
        },
        "id": "Am8wNzmBg8P5",
        "outputId": "ca49fd98-a5e6-420f-fc6a-14df8a36acb0"
      },
      "source": [
        "df_teste <- read.csv('/content/titanic_dw_test.csv')\n",
        "head(df_teste,3)"
      ],
      "execution_count": null,
      "outputs": [
        {
          "output_type": "display_data",
          "data": {
            "text/plain": [
              "  PassengerId Pclass Name                           Sex    Age SibSp Parch\n",
              "1 1           2      Stanton, Mr. Samuel Ward       male   41  0     0    \n",
              "2 7           3      Lang, Mr. Fang                 male   26  0     0    \n",
              "3 8           1      Eustis, Miss. Elizabeth Mussey female 54  1     0    \n",
              "  Ticket Fare    Cabin Embarked\n",
              "1 237734 15.0458 NA    C       \n",
              "2 1601   56.4958 NA    S       \n",
              "3 36947  78.2667 D20   C       "
            ],
            "text/latex": "A data.frame: 3 × 11\n\\begin{tabular}{r|lllllllllll}\n  & PassengerId & Pclass & Name & Sex & Age & SibSp & Parch & Ticket & Fare & Cabin & Embarked\\\\\n  & <int> & <int> & <chr> & <chr> & <dbl> & <int> & <int> & <chr> & <dbl> & <chr> & <chr>\\\\\n\\hline\n\t1 & 1 & 2 & Stanton, Mr. Samuel Ward       & male   & 41 & 0 & 0 & 237734 & 15.0458 & NA  & C\\\\\n\t2 & 7 & 3 & Lang, Mr. Fang                 & male   & 26 & 0 & 0 & 1601   & 56.4958 & NA  & S\\\\\n\t3 & 8 & 1 & Eustis, Miss. Elizabeth Mussey & female & 54 & 1 & 0 & 36947  & 78.2667 & D20 & C\\\\\n\\end{tabular}\n",
            "text/markdown": "\nA data.frame: 3 × 11\n\n| <!--/--> | PassengerId &lt;int&gt; | Pclass &lt;int&gt; | Name &lt;chr&gt; | Sex &lt;chr&gt; | Age &lt;dbl&gt; | SibSp &lt;int&gt; | Parch &lt;int&gt; | Ticket &lt;chr&gt; | Fare &lt;dbl&gt; | Cabin &lt;chr&gt; | Embarked &lt;chr&gt; |\n|---|---|---|---|---|---|---|---|---|---|---|---|\n| 1 | 1 | 2 | Stanton, Mr. Samuel Ward       | male   | 41 | 0 | 0 | 237734 | 15.0458 | NA  | C |\n| 2 | 7 | 3 | Lang, Mr. Fang                 | male   | 26 | 0 | 0 | 1601   | 56.4958 | NA  | S |\n| 3 | 8 | 1 | Eustis, Miss. Elizabeth Mussey | female | 54 | 1 | 0 | 36947  | 78.2667 | D20 | C |\n\n",
            "text/html": [
              "<table class=\"dataframe\">\n",
              "<caption>A data.frame: 3 × 11</caption>\n",
              "<thead>\n",
              "\t<tr><th></th><th scope=col>PassengerId</th><th scope=col>Pclass</th><th scope=col>Name</th><th scope=col>Sex</th><th scope=col>Age</th><th scope=col>SibSp</th><th scope=col>Parch</th><th scope=col>Ticket</th><th scope=col>Fare</th><th scope=col>Cabin</th><th scope=col>Embarked</th></tr>\n",
              "\t<tr><th></th><th scope=col>&lt;int&gt;</th><th scope=col>&lt;int&gt;</th><th scope=col>&lt;chr&gt;</th><th scope=col>&lt;chr&gt;</th><th scope=col>&lt;dbl&gt;</th><th scope=col>&lt;int&gt;</th><th scope=col>&lt;int&gt;</th><th scope=col>&lt;chr&gt;</th><th scope=col>&lt;dbl&gt;</th><th scope=col>&lt;chr&gt;</th><th scope=col>&lt;chr&gt;</th></tr>\n",
              "</thead>\n",
              "<tbody>\n",
              "\t<tr><th scope=row>1</th><td>1</td><td>2</td><td>Stanton, Mr. Samuel Ward      </td><td>male  </td><td>41</td><td>0</td><td>0</td><td>237734</td><td>15.0458</td><td>NA </td><td>C</td></tr>\n",
              "\t<tr><th scope=row>2</th><td>7</td><td>3</td><td>Lang, Mr. Fang                </td><td>male  </td><td>26</td><td>0</td><td>0</td><td>1601  </td><td>56.4958</td><td>NA </td><td>S</td></tr>\n",
              "\t<tr><th scope=row>3</th><td>8</td><td>1</td><td>Eustis, Miss. Elizabeth Mussey</td><td>female</td><td>54</td><td>1</td><td>0</td><td>36947 </td><td>78.2667</td><td>D20</td><td>C</td></tr>\n",
              "</tbody>\n",
              "</table>\n"
            ]
          },
          "metadata": {}
        }
      ]
    },
    {
      "cell_type": "code",
      "metadata": {
        "colab": {
          "base_uri": "https://localhost:8080/",
          "height": 443
        },
        "id": "bfb3EylKQf5m",
        "outputId": "fcc17f24-b4a8-4179-8c9a-b5b2145155aa"
      },
      "source": [
        "summary(df_teste)"
      ],
      "execution_count": null,
      "outputs": [
        {
          "output_type": "display_data",
          "data": {
            "text/plain": [
              "  PassengerId         Pclass          Name               Sex           \n",
              " Min.   :   1.0   Min.   :1.000   Length:418         Length:418        \n",
              " 1st Qu.: 313.2   1st Qu.:2.000   Class :character   Class :character  \n",
              " Median : 638.5   Median :3.000   Mode  :character   Mode  :character  \n",
              " Mean   : 652.7   Mean   :2.299                                        \n",
              " 3rd Qu.: 983.8   3rd Qu.:3.000                                        \n",
              " Max.   :1309.0   Max.   :3.000                                        \n",
              "                                                                       \n",
              "      Age            SibSp            Parch           Ticket         \n",
              " Min.   : 0.75   Min.   :0.0000   Min.   :0.0000   Length:418        \n",
              " 1st Qu.:21.00   1st Qu.:0.0000   1st Qu.:0.0000   Class :character  \n",
              " Median :28.00   Median :0.0000   Median :0.0000   Mode  :character  \n",
              " Mean   :29.63   Mean   :0.4354   Mean   :0.2871                     \n",
              " 3rd Qu.:38.00   3rd Qu.:1.0000   3rd Qu.:0.0000                     \n",
              " Max.   :65.00   Max.   :8.0000   Max.   :4.0000                     \n",
              " NA's   :91                                                          \n",
              "      Fare            Cabin             Embarked        \n",
              " Min.   :  0.000   Length:418         Length:418        \n",
              " 1st Qu.:  7.896   Class :character   Class :character  \n",
              " Median : 13.500   Mode  :character   Mode  :character  \n",
              " Mean   : 31.697                                        \n",
              " 3rd Qu.: 29.125                                        \n",
              " Max.   :263.000                                        \n",
              "                                                        "
            ]
          },
          "metadata": {}
        }
      ]
    },
    {
      "cell_type": "code",
      "metadata": {
        "id": "BdmYmg3LSrn-"
      },
      "source": [
        "# Survived, Pclass, Sex, Age, SibSp, Parch, Fare, Embarked\n",
        "df_teste['Name'] <- NULL\n",
        "df_teste['Ticket'] <- NULL\n",
        "df_teste['Cabin'] <- NULL"
      ],
      "execution_count": null,
      "outputs": []
    },
    {
      "cell_type": "code",
      "metadata": {
        "colab": {
          "base_uri": "https://localhost:8080/",
          "height": 68
        },
        "id": "KfbcZzK1Q62n",
        "outputId": "12ca0e6f-32e6-47c5-e0cf-a3db77be4e61"
      },
      "source": [
        "AgePclass_medianas <- df_teste %>% group_by(Sex,Pclass) %>% summarise(idade = median(Age, na.rm = T),) %>% arrange(Pclass) %>% ungroup()\n",
        "AgePclass_medianas <- AgePclass_medianas %>% rename(Age=idade) %>% select(Pclass, Sex, Age)\n",
        "trainMissingAge <- filter(df_teste, is.na(Age)) %>% select(PassengerId, Pclass, Sex, Age)\n",
        "PassAge <- left_join(trainMissingAge, AgePclass_medianas, by = c(\"Sex\",\"Pclass\")) %>% select(PassengerId, Age=Age.y)\n",
        "train.rawAge <- left_join(df_teste, PassAge, by = c(\"PassengerId\"))\n",
        "df_teste <- mutate(train.rawAge, Age = if_else(is.na(Age.x), Age.y, Age.x)) %>% select(-Age.x, -Age.y)\n",
        "head(df_teste$Age)"
      ],
      "execution_count": null,
      "outputs": [
        {
          "output_type": "stream",
          "name": "stderr",
          "text": [
            "`summarise()` has grouped output by 'Sex'. You can override using the `.groups` argument.\n",
            "\n"
          ]
        },
        {
          "output_type": "display_data",
          "data": {
            "text/plain": [
              "[1] 41 26 54 48 62 36"
            ],
            "text/latex": "\\begin{enumerate*}\n\\item 41\n\\item 26\n\\item 54\n\\item 48\n\\item 62\n\\item 36\n\\end{enumerate*}\n",
            "text/markdown": "1. 41\n2. 26\n3. 54\n4. 48\n5. 62\n6. 36\n\n\n",
            "text/html": [
              "<style>\n",
              ".list-inline {list-style: none; margin:0; padding: 0}\n",
              ".list-inline>li {display: inline-block}\n",
              ".list-inline>li:not(:last-child)::after {content: \"\\00b7\"; padding: 0 .5ex}\n",
              "</style>\n",
              "<ol class=list-inline><li>41</li><li>26</li><li>54</li><li>48</li><li>62</li><li>36</li></ol>\n"
            ]
          },
          "metadata": {}
        }
      ]
    },
    {
      "cell_type": "code",
      "metadata": {
        "colab": {
          "base_uri": "https://localhost:8080/",
          "height": 33
        },
        "id": "poIiQbxdWKeS",
        "outputId": "4a90aaff-c234-4c77-f417-8b03b113391c"
      },
      "source": [
        "sum(is.na((df_teste$Age)))"
      ],
      "execution_count": null,
      "outputs": [
        {
          "output_type": "display_data",
          "data": {
            "text/plain": [
              "[1] 0"
            ],
            "text/latex": "0",
            "text/markdown": "0",
            "text/html": [
              "0"
            ]
          },
          "metadata": {}
        }
      ]
    },
    {
      "cell_type": "code",
      "metadata": {
        "colab": {
          "base_uri": "https://localhost:8080/"
        },
        "id": "AotAp5NHRZtw",
        "outputId": "4123c971-c877-431d-e673-4b96c5983639"
      },
      "source": [
        "df_teste <- drop_na(df_teste)\n",
        "sum(is.na(df_teste))"
      ],
      "execution_count": null,
      "outputs": [
        {
          "output_type": "display_data",
          "data": {
            "text/plain": [
              "[1] 0"
            ],
            "text/latex": "0",
            "text/markdown": "0",
            "text/html": [
              "0"
            ]
          },
          "metadata": {}
        }
      ]
    },
    {
      "cell_type": "code",
      "metadata": {
        "id": "meCQO-fu9Uqw"
      },
      "source": [
        "previsao_teste <- predict(modelo_atualizado, type = \"response\", newdata = df_teste)\n",
        "previsao <- if_else(previsao_teste >= 0.5, 1, 0)\n",
        "previsao <- factor(previsao, levels = c(\"0\", \"1\"), labels = c(\"0\",\"1\"))"
      ],
      "execution_count": null,
      "outputs": []
    },
    {
      "cell_type": "code",
      "metadata": {
        "id": "z5rv-ka8MjjK"
      },
      "source": [
        "df_teste['previsao_pct'] <- round(previsao_teste,2)\n",
        "df_teste['Survived'] <- previsao"
      ],
      "execution_count": null,
      "outputs": []
    },
    {
      "cell_type": "code",
      "metadata": {
        "colab": {
          "base_uri": "https://localhost:8080/"
        },
        "id": "cEd_9DQVNT-9",
        "outputId": "4c6196b1-2780-4c6d-9add-a005c9c0090a"
      },
      "source": [
        "head(df_teste)"
      ],
      "execution_count": null,
      "outputs": [
        {
          "output_type": "display_data",
          "data": {
            "text/plain": [
              "  PassengerId Pclass Sex    SibSp Parch Fare    Embarked Age previsao_pct\n",
              "1  1          2      male   0     0     15.0458 C        41  0.28        \n",
              "2  7          3      male   0     0     56.4958 S        26  0.13        \n",
              "3  8          1      female 1     0     78.2667 C        54  0.86        \n",
              "4  9          1      female 1     1     79.2000 C        48  0.87        \n",
              "5 14          1      male   0     0     26.5500 S        62  0.24        \n",
              "6 16          1      female 0     2     71.0000 S        36  0.89        \n",
              "  Survived\n",
              "1 0       \n",
              "2 0       \n",
              "3 1       \n",
              "4 1       \n",
              "5 0       \n",
              "6 1       "
            ],
            "text/latex": "A data.frame: 6 × 10\n\\begin{tabular}{r|llllllllll}\n  & PassengerId & Pclass & Sex & SibSp & Parch & Fare & Embarked & Age & previsao\\_pct & Survived\\\\\n  & <int> & <int> & <chr> & <int> & <int> & <dbl> & <chr> & <dbl> & <dbl> & <fct>\\\\\n\\hline\n\t1 &  1 & 2 & male   & 0 & 0 & 15.0458 & C & 41 & 0.28 & 0\\\\\n\t2 &  7 & 3 & male   & 0 & 0 & 56.4958 & S & 26 & 0.13 & 0\\\\\n\t3 &  8 & 1 & female & 1 & 0 & 78.2667 & C & 54 & 0.86 & 1\\\\\n\t4 &  9 & 1 & female & 1 & 1 & 79.2000 & C & 48 & 0.87 & 1\\\\\n\t5 & 14 & 1 & male   & 0 & 0 & 26.5500 & S & 62 & 0.24 & 0\\\\\n\t6 & 16 & 1 & female & 0 & 2 & 71.0000 & S & 36 & 0.89 & 1\\\\\n\\end{tabular}\n",
            "text/markdown": "\nA data.frame: 6 × 10\n\n| <!--/--> | PassengerId &lt;int&gt; | Pclass &lt;int&gt; | Sex &lt;chr&gt; | SibSp &lt;int&gt; | Parch &lt;int&gt; | Fare &lt;dbl&gt; | Embarked &lt;chr&gt; | Age &lt;dbl&gt; | previsao_pct &lt;dbl&gt; | Survived &lt;fct&gt; |\n|---|---|---|---|---|---|---|---|---|---|---|\n| 1 |  1 | 2 | male   | 0 | 0 | 15.0458 | C | 41 | 0.28 | 0 |\n| 2 |  7 | 3 | male   | 0 | 0 | 56.4958 | S | 26 | 0.13 | 0 |\n| 3 |  8 | 1 | female | 1 | 0 | 78.2667 | C | 54 | 0.86 | 1 |\n| 4 |  9 | 1 | female | 1 | 1 | 79.2000 | C | 48 | 0.87 | 1 |\n| 5 | 14 | 1 | male   | 0 | 0 | 26.5500 | S | 62 | 0.24 | 0 |\n| 6 | 16 | 1 | female | 0 | 2 | 71.0000 | S | 36 | 0.89 | 1 |\n\n",
            "text/html": [
              "<table class=\"dataframe\">\n",
              "<caption>A data.frame: 6 × 10</caption>\n",
              "<thead>\n",
              "\t<tr><th></th><th scope=col>PassengerId</th><th scope=col>Pclass</th><th scope=col>Sex</th><th scope=col>SibSp</th><th scope=col>Parch</th><th scope=col>Fare</th><th scope=col>Embarked</th><th scope=col>Age</th><th scope=col>previsao_pct</th><th scope=col>Survived</th></tr>\n",
              "\t<tr><th></th><th scope=col>&lt;int&gt;</th><th scope=col>&lt;int&gt;</th><th scope=col>&lt;chr&gt;</th><th scope=col>&lt;int&gt;</th><th scope=col>&lt;int&gt;</th><th scope=col>&lt;dbl&gt;</th><th scope=col>&lt;chr&gt;</th><th scope=col>&lt;dbl&gt;</th><th scope=col>&lt;dbl&gt;</th><th scope=col>&lt;fct&gt;</th></tr>\n",
              "</thead>\n",
              "<tbody>\n",
              "\t<tr><th scope=row>1</th><td> 1</td><td>2</td><td>male  </td><td>0</td><td>0</td><td>15.0458</td><td>C</td><td>41</td><td>0.28</td><td>0</td></tr>\n",
              "\t<tr><th scope=row>2</th><td> 7</td><td>3</td><td>male  </td><td>0</td><td>0</td><td>56.4958</td><td>S</td><td>26</td><td>0.13</td><td>0</td></tr>\n",
              "\t<tr><th scope=row>3</th><td> 8</td><td>1</td><td>female</td><td>1</td><td>0</td><td>78.2667</td><td>C</td><td>54</td><td>0.86</td><td>1</td></tr>\n",
              "\t<tr><th scope=row>4</th><td> 9</td><td>1</td><td>female</td><td>1</td><td>1</td><td>79.2000</td><td>C</td><td>48</td><td>0.87</td><td>1</td></tr>\n",
              "\t<tr><th scope=row>5</th><td>14</td><td>1</td><td>male  </td><td>0</td><td>0</td><td>26.5500</td><td>S</td><td>62</td><td>0.24</td><td>0</td></tr>\n",
              "\t<tr><th scope=row>6</th><td>16</td><td>1</td><td>female</td><td>0</td><td>2</td><td>71.0000</td><td>S</td><td>36</td><td>0.89</td><td>1</td></tr>\n",
              "</tbody>\n",
              "</table>\n"
            ]
          },
          "metadata": {}
        }
      ]
    },
    {
      "cell_type": "markdown",
      "metadata": {
        "id": "n4MKGmFegL5c"
      },
      "source": [
        "### Entrega"
      ]
    },
    {
      "cell_type": "code",
      "metadata": {
        "colab": {
          "base_uri": "https://localhost:8080/",
          "height": 274
        },
        "id": "QEfI2g7tNW6t",
        "outputId": "6835310b-de25-4886-8232-355151075407"
      },
      "source": [
        "entrega <- select(df_teste, 'PassengerId', 'Survived')\n",
        "head(entrega)"
      ],
      "execution_count": null,
      "outputs": [
        {
          "output_type": "display_data",
          "data": {
            "text/plain": [
              "  PassengerId Survived\n",
              "1  1          0       \n",
              "2  7          0       \n",
              "3  8          1       \n",
              "4  9          1       \n",
              "5 14          0       \n",
              "6 16          1       "
            ],
            "text/latex": "A data.frame: 6 × 2\n\\begin{tabular}{r|ll}\n  & PassengerId & Survived\\\\\n  & <int> & <fct>\\\\\n\\hline\n\t1 &  1 & 0\\\\\n\t2 &  7 & 0\\\\\n\t3 &  8 & 1\\\\\n\t4 &  9 & 1\\\\\n\t5 & 14 & 0\\\\\n\t6 & 16 & 1\\\\\n\\end{tabular}\n",
            "text/markdown": "\nA data.frame: 6 × 2\n\n| <!--/--> | PassengerId &lt;int&gt; | Survived &lt;fct&gt; |\n|---|---|---|\n| 1 |  1 | 0 |\n| 2 |  7 | 0 |\n| 3 |  8 | 1 |\n| 4 |  9 | 1 |\n| 5 | 14 | 0 |\n| 6 | 16 | 1 |\n\n",
            "text/html": [
              "<table class=\"dataframe\">\n",
              "<caption>A data.frame: 6 × 2</caption>\n",
              "<thead>\n",
              "\t<tr><th></th><th scope=col>PassengerId</th><th scope=col>Survived</th></tr>\n",
              "\t<tr><th></th><th scope=col>&lt;int&gt;</th><th scope=col>&lt;fct&gt;</th></tr>\n",
              "</thead>\n",
              "<tbody>\n",
              "\t<tr><th scope=row>1</th><td> 1</td><td>0</td></tr>\n",
              "\t<tr><th scope=row>2</th><td> 7</td><td>0</td></tr>\n",
              "\t<tr><th scope=row>3</th><td> 8</td><td>1</td></tr>\n",
              "\t<tr><th scope=row>4</th><td> 9</td><td>1</td></tr>\n",
              "\t<tr><th scope=row>5</th><td>14</td><td>0</td></tr>\n",
              "\t<tr><th scope=row>6</th><td>16</td><td>1</td></tr>\n",
              "</tbody>\n",
              "</table>\n"
            ]
          },
          "metadata": {}
        }
      ]
    },
    {
      "cell_type": "code",
      "metadata": {
        "colab": {
          "base_uri": "https://localhost:8080/"
        },
        "id": "_g1jwskNTSbt",
        "outputId": "4e14b01e-b019-41a9-deca-c9406aa85412"
      },
      "source": [
        "str(entrega)"
      ],
      "execution_count": null,
      "outputs": [
        {
          "output_type": "stream",
          "name": "stdout",
          "text": [
            "'data.frame':\t417 obs. of  2 variables:\n",
            " $ PassengerId: int  1 7 8 9 14 16 20 23 29 37 ...\n",
            " $ Survived   : Factor w/ 2 levels \"0\",\"1\": 1 1 2 2 1 2 1 1 1 1 ...\n"
          ]
        }
      ]
    },
    {
      "cell_type": "code",
      "metadata": {
        "colab": {
          "base_uri": "https://localhost:8080/",
          "height": 141
        },
        "id": "hhCHYq1zRw3a",
        "outputId": "9b36b85d-db9c-4a9d-df4b-eb11c530acc4"
      },
      "source": [
        "summary(entrega)"
      ],
      "execution_count": null,
      "outputs": [
        {
          "output_type": "display_data",
          "data": {
            "text/plain": [
              "  PassengerId     Survived\n",
              " Min.   :   1.0   0:261   \n",
              " 1st Qu.: 313.0   1:156   \n",
              " Median : 636.0           \n",
              " Mean   : 652.2           \n",
              " 3rd Qu.: 984.0           \n",
              " Max.   :1309.0           "
            ]
          },
          "metadata": {}
        }
      ]
    },
    {
      "cell_type": "code",
      "metadata": {
        "colab": {
          "base_uri": "https://localhost:8080/",
          "height": 33
        },
        "id": "wQ6cyupVXShA",
        "outputId": "9245fb6a-641b-44ad-b692-d812190ac2e1"
      },
      "source": [
        "sum(is.na(entrega))"
      ],
      "execution_count": null,
      "outputs": [
        {
          "output_type": "display_data",
          "data": {
            "text/plain": [
              "[1] 0"
            ],
            "text/latex": "0",
            "text/markdown": "0",
            "text/html": [
              "0"
            ]
          },
          "metadata": {}
        }
      ]
    },
    {
      "cell_type": "markdown",
      "metadata": {
        "id": "fDtzAWTxsP55"
      },
      "source": [
        "## f)        Criando um arquivo CSV para submissão da classificação. (apenas com o índice e o resultado da classificação)"
      ]
    },
    {
      "cell_type": "code",
      "metadata": {
        "id": "0vsSfSO7YxGs"
      },
      "source": [
        "write.table(entrega, file = \"entrega.csv\", sep = \",\", quote = TRUE, row.names = FALSE, eol = \"\\r\\n\")"
      ],
      "execution_count": null,
      "outputs": []
    }
  ]
}