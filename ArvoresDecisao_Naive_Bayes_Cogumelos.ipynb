{
  "nbformat": 4,
  "nbformat_minor": 0,
  "metadata": {
    "colab": {
      "name": "ArvoresDecisao_Naive_Bayes_Cogumelos.ipynb",
      "provenance": [],
      "collapsed_sections": [
        "nC0IP2x7CwZt",
        "EJ_i3G2iqA92",
        "guiLzuzXCIQm",
        "Ulat2ZRDhYG2",
        "ikeljgilhcDj"
      ]
    },
    "kernelspec": {
      "name": "ir",
      "display_name": "R"
    },
    "language_info": {
      "name": "R"
    }
  },
  "cells": [
    {
      "cell_type": "markdown",
      "metadata": {
        "id": "nC0IP2x7CwZt"
      },
      "source": [
        "## Pacotes e Bibliotecas"
      ]
    },
    {
      "cell_type": "code",
      "metadata": {
        "colab": {
          "base_uri": "https://localhost:8080/"
        },
        "id": "j6dpC62dMUCi",
        "outputId": "4c58b7da-9d4c-44a1-8fd0-dc8d77cbc749"
      },
      "source": [
        "install.packages(\"e1071\") \n",
        "install.packages(\"party\")\n",
        "\n",
        "library(party)\n",
        "library(e1071)\n",
        "library(dplyr) # Analises estatisticas\n",
        "library(ggplot2) # Exploração Gráfica\n",
        "library(glue) # print especial"
      ],
      "execution_count": null,
      "outputs": [
        {
          "output_type": "stream",
          "name": "stderr",
          "text": [
            "Installing package into ‘/usr/local/lib/R/site-library’\n",
            "(as ‘lib’ is unspecified)\n",
            "\n",
            "Installing package into ‘/usr/local/lib/R/site-library’\n",
            "(as ‘lib’ is unspecified)\n",
            "\n",
            "Loading required package: grid\n",
            "\n",
            "Loading required package: mvtnorm\n",
            "\n",
            "Loading required package: modeltools\n",
            "\n",
            "Loading required package: stats4\n",
            "\n",
            "Loading required package: strucchange\n",
            "\n",
            "Loading required package: zoo\n",
            "\n",
            "\n",
            "Attaching package: ‘zoo’\n",
            "\n",
            "\n",
            "The following objects are masked from ‘package:base’:\n",
            "\n",
            "    as.Date, as.Date.numeric\n",
            "\n",
            "\n",
            "Loading required package: sandwich\n",
            "\n",
            "\n",
            "Attaching package: ‘dplyr’\n",
            "\n",
            "\n",
            "The following objects are masked from ‘package:stats’:\n",
            "\n",
            "    filter, lag\n",
            "\n",
            "\n",
            "The following objects are masked from ‘package:base’:\n",
            "\n",
            "    intersect, setdiff, setequal, union\n",
            "\n",
            "\n",
            "\n",
            "Attaching package: ‘glue’\n",
            "\n",
            "\n",
            "The following object is masked from ‘package:dplyr’:\n",
            "\n",
            "    collapse\n",
            "\n",
            "\n"
          ]
        }
      ]
    },
    {
      "cell_type": "markdown",
      "metadata": {
        "id": "EJ_i3G2iqA92"
      },
      "source": [
        "## Dados de Cogumelos"
      ]
    },
    {
      "cell_type": "code",
      "metadata": {
        "id": "BrPywGoBfC70"
      },
      "source": [
        "cogumelos = read.csv(\"https://www.openml.org/data/get_csv/24/dataset_24_mushroom.arff\") "
      ],
      "execution_count": null,
      "outputs": []
    },
    {
      "cell_type": "code",
      "metadata": {
        "colab": {
          "base_uri": "https://localhost:8080/",
          "height": 204
        },
        "id": "dZbe1eW-BxOI",
        "outputId": "ad852dd0-8ca9-4254-d3bf-19bd30adf8e1"
      },
      "source": [
        "head(cogumelos,3)"
      ],
      "execution_count": null,
      "outputs": [
        {
          "output_type": "display_data",
          "data": {
            "text/plain": [
              "  cap.shape cap.surface cap.color bruises.3F odor gill.attachment gill.spacing\n",
              "1 'x'       's'         'n'       't'        'p'  'f'             'c'         \n",
              "2 'x'       's'         'y'       't'        'a'  'f'             'c'         \n",
              "3 'b'       's'         'w'       't'        'l'  'f'             'c'         \n",
              "  gill.size gill.color stalk.shape ⋯ stalk.color.above.ring\n",
              "1 'n'       'k'        'e'         ⋯ 'w'                   \n",
              "2 'b'       'k'        'e'         ⋯ 'w'                   \n",
              "3 'b'       'n'        'e'         ⋯ 'w'                   \n",
              "  stalk.color.below.ring veil.type veil.color ring.number ring.type\n",
              "1 'w'                    'p'       'w'        'o'         'p'      \n",
              "2 'w'                    'p'       'w'        'o'         'p'      \n",
              "3 'w'                    'p'       'w'        'o'         'p'      \n",
              "  spore.print.color population habitat class\n",
              "1 'k'               's'        'u'     'p'  \n",
              "2 'n'               'n'        'g'     'e'  \n",
              "3 'n'               'n'        'm'     'e'  "
            ],
            "text/latex": "A data.frame: 3 × 23\n\\begin{tabular}{r|lllllllllllllllllllll}\n  & cap.shape & cap.surface & cap.color & bruises.3F & odor & gill.attachment & gill.spacing & gill.size & gill.color & stalk.shape & ⋯ & stalk.color.above.ring & stalk.color.below.ring & veil.type & veil.color & ring.number & ring.type & spore.print.color & population & habitat & class\\\\\n  & <chr> & <chr> & <chr> & <chr> & <chr> & <chr> & <chr> & <chr> & <chr> & <chr> & ⋯ & <chr> & <chr> & <chr> & <chr> & <chr> & <chr> & <chr> & <chr> & <chr> & <chr>\\\\\n\\hline\n\t1 & 'x' & 's' & 'n' & 't' & 'p' & 'f' & 'c' & 'n' & 'k' & 'e' & ⋯ & 'w' & 'w' & 'p' & 'w' & 'o' & 'p' & 'k' & 's' & 'u' & 'p'\\\\\n\t2 & 'x' & 's' & 'y' & 't' & 'a' & 'f' & 'c' & 'b' & 'k' & 'e' & ⋯ & 'w' & 'w' & 'p' & 'w' & 'o' & 'p' & 'n' & 'n' & 'g' & 'e'\\\\\n\t3 & 'b' & 's' & 'w' & 't' & 'l' & 'f' & 'c' & 'b' & 'n' & 'e' & ⋯ & 'w' & 'w' & 'p' & 'w' & 'o' & 'p' & 'n' & 'n' & 'm' & 'e'\\\\\n\\end{tabular}\n",
            "text/markdown": "\nA data.frame: 3 × 23\n\n| <!--/--> | cap.shape &lt;chr&gt; | cap.surface &lt;chr&gt; | cap.color &lt;chr&gt; | bruises.3F &lt;chr&gt; | odor &lt;chr&gt; | gill.attachment &lt;chr&gt; | gill.spacing &lt;chr&gt; | gill.size &lt;chr&gt; | gill.color &lt;chr&gt; | stalk.shape &lt;chr&gt; | ⋯ ⋯ | stalk.color.above.ring &lt;chr&gt; | stalk.color.below.ring &lt;chr&gt; | veil.type &lt;chr&gt; | veil.color &lt;chr&gt; | ring.number &lt;chr&gt; | ring.type &lt;chr&gt; | spore.print.color &lt;chr&gt; | population &lt;chr&gt; | habitat &lt;chr&gt; | class &lt;chr&gt; |\n|---|---|---|---|---|---|---|---|---|---|---|---|---|---|---|---|---|---|---|---|---|---|\n| 1 | 'x' | 's' | 'n' | 't' | 'p' | 'f' | 'c' | 'n' | 'k' | 'e' | ⋯ | 'w' | 'w' | 'p' | 'w' | 'o' | 'p' | 'k' | 's' | 'u' | 'p' |\n| 2 | 'x' | 's' | 'y' | 't' | 'a' | 'f' | 'c' | 'b' | 'k' | 'e' | ⋯ | 'w' | 'w' | 'p' | 'w' | 'o' | 'p' | 'n' | 'n' | 'g' | 'e' |\n| 3 | 'b' | 's' | 'w' | 't' | 'l' | 'f' | 'c' | 'b' | 'n' | 'e' | ⋯ | 'w' | 'w' | 'p' | 'w' | 'o' | 'p' | 'n' | 'n' | 'm' | 'e' |\n\n",
            "text/html": [
              "<table class=\"dataframe\">\n",
              "<caption>A data.frame: 3 × 23</caption>\n",
              "<thead>\n",
              "\t<tr><th></th><th scope=col>cap.shape</th><th scope=col>cap.surface</th><th scope=col>cap.color</th><th scope=col>bruises.3F</th><th scope=col>odor</th><th scope=col>gill.attachment</th><th scope=col>gill.spacing</th><th scope=col>gill.size</th><th scope=col>gill.color</th><th scope=col>stalk.shape</th><th scope=col>⋯</th><th scope=col>stalk.color.above.ring</th><th scope=col>stalk.color.below.ring</th><th scope=col>veil.type</th><th scope=col>veil.color</th><th scope=col>ring.number</th><th scope=col>ring.type</th><th scope=col>spore.print.color</th><th scope=col>population</th><th scope=col>habitat</th><th scope=col>class</th></tr>\n",
              "\t<tr><th></th><th scope=col>&lt;chr&gt;</th><th scope=col>&lt;chr&gt;</th><th scope=col>&lt;chr&gt;</th><th scope=col>&lt;chr&gt;</th><th scope=col>&lt;chr&gt;</th><th scope=col>&lt;chr&gt;</th><th scope=col>&lt;chr&gt;</th><th scope=col>&lt;chr&gt;</th><th scope=col>&lt;chr&gt;</th><th scope=col>&lt;chr&gt;</th><th scope=col>⋯</th><th scope=col>&lt;chr&gt;</th><th scope=col>&lt;chr&gt;</th><th scope=col>&lt;chr&gt;</th><th scope=col>&lt;chr&gt;</th><th scope=col>&lt;chr&gt;</th><th scope=col>&lt;chr&gt;</th><th scope=col>&lt;chr&gt;</th><th scope=col>&lt;chr&gt;</th><th scope=col>&lt;chr&gt;</th><th scope=col>&lt;chr&gt;</th></tr>\n",
              "</thead>\n",
              "<tbody>\n",
              "\t<tr><th scope=row>1</th><td>'x'</td><td>'s'</td><td>'n'</td><td>'t'</td><td>'p'</td><td>'f'</td><td>'c'</td><td>'n'</td><td>'k'</td><td>'e'</td><td>⋯</td><td>'w'</td><td>'w'</td><td>'p'</td><td>'w'</td><td>'o'</td><td>'p'</td><td>'k'</td><td>'s'</td><td>'u'</td><td>'p'</td></tr>\n",
              "\t<tr><th scope=row>2</th><td>'x'</td><td>'s'</td><td>'y'</td><td>'t'</td><td>'a'</td><td>'f'</td><td>'c'</td><td>'b'</td><td>'k'</td><td>'e'</td><td>⋯</td><td>'w'</td><td>'w'</td><td>'p'</td><td>'w'</td><td>'o'</td><td>'p'</td><td>'n'</td><td>'n'</td><td>'g'</td><td>'e'</td></tr>\n",
              "\t<tr><th scope=row>3</th><td>'b'</td><td>'s'</td><td>'w'</td><td>'t'</td><td>'l'</td><td>'f'</td><td>'c'</td><td>'b'</td><td>'n'</td><td>'e'</td><td>⋯</td><td>'w'</td><td>'w'</td><td>'p'</td><td>'w'</td><td>'o'</td><td>'p'</td><td>'n'</td><td>'n'</td><td>'m'</td><td>'e'</td></tr>\n",
              "</tbody>\n",
              "</table>\n"
            ]
          },
          "metadata": {}
        }
      ]
    },
    {
      "cell_type": "code",
      "metadata": {
        "colab": {
          "base_uri": "https://localhost:8080/",
          "height": 33
        },
        "id": "cUDtpBYbByXR",
        "outputId": "9727f0a7-14dd-4a25-b208-77dd0fbfaa69"
      },
      "source": [
        "sum(is.na(cogumelos))"
      ],
      "execution_count": null,
      "outputs": [
        {
          "output_type": "display_data",
          "data": {
            "text/plain": [
              "[1] 0"
            ],
            "text/latex": "0",
            "text/markdown": "0",
            "text/html": [
              "0"
            ]
          },
          "metadata": {}
        }
      ]
    },
    {
      "cell_type": "code",
      "metadata": {
        "id": "9Mk20WJh83xL"
      },
      "source": [
        "# Removendo as aspas das strings com a substituição com gsub() (Opcional - estético)\n",
        "for(i in 1:ncol(cogumelos)){cogumelos[,i] <- gsub(\"'\",'', cogumelos[,i])}\n",
        "\n",
        "# Forma 2: Pelo fatiamento da string com substr()\n",
        "#for(i in 1:ncol(cogumelos)){cogumelos[,i] <- substr(cogumelos[,i],2,2)}"
      ],
      "execution_count": null,
      "outputs": []
    },
    {
      "cell_type": "code",
      "metadata": {
        "id": "tfRo-mgn9zst"
      },
      "source": [
        "# Alterando todas as classes para factor - (necessário para a árvore de decisão)\n",
        "for(i in 1:ncol(cogumelos)){cogumelos[,i] <- as.factor(cogumelos[,i])}"
      ],
      "execution_count": null,
      "outputs": []
    },
    {
      "cell_type": "code",
      "metadata": {
        "id": "b1sRS5rqBOIf"
      },
      "source": [
        "# Elimina valores NA\n",
        "cogumelos=na.omit(cogumelos)"
      ],
      "execution_count": null,
      "outputs": []
    },
    {
      "cell_type": "code",
      "metadata": {
        "colab": {
          "base_uri": "https://localhost:8080/",
          "height": 294
        },
        "id": "P2i2GJ-bfDyC",
        "outputId": "a34dd4cc-b7c0-419e-bc64-3f7a35a6f4d0"
      },
      "source": [
        "head(cogumelos,3)"
      ],
      "execution_count": null,
      "outputs": [
        {
          "output_type": "display_data",
          "data": {
            "text/plain": [
              "  cap.shape cap.surface cap.color bruises.3F odor gill.attachment gill.spacing\n",
              "1 x         s           n         t          p    f               c           \n",
              "2 x         s           y         t          a    f               c           \n",
              "3 b         s           w         t          l    f               c           \n",
              "4 x         y           w         t          p    f               c           \n",
              "5 x         s           g         f          n    f               w           \n",
              "6 x         y           y         t          a    f               c           \n",
              "  gill.size gill.color stalk.shape ⋯ stalk.color.above.ring\n",
              "1 n         k          e           ⋯ w                     \n",
              "2 b         k          e           ⋯ w                     \n",
              "3 b         n          e           ⋯ w                     \n",
              "4 n         n          e           ⋯ w                     \n",
              "5 b         k          t           ⋯ w                     \n",
              "6 b         n          e           ⋯ w                     \n",
              "  stalk.color.below.ring veil.type veil.color ring.number ring.type\n",
              "1 w                      p         w          o           p        \n",
              "2 w                      p         w          o           p        \n",
              "3 w                      p         w          o           p        \n",
              "4 w                      p         w          o           p        \n",
              "5 w                      p         w          o           e        \n",
              "6 w                      p         w          o           p        \n",
              "  spore.print.color population habitat class\n",
              "1 k                 s          u       p    \n",
              "2 n                 n          g       e    \n",
              "3 n                 n          m       e    \n",
              "4 k                 s          u       p    \n",
              "5 n                 a          g       e    \n",
              "6 k                 n          g       e    "
            ],
            "text/latex": "A data.frame: 6 × 23\n\\begin{tabular}{r|lllllllllllllllllllll}\n  & cap.shape & cap.surface & cap.color & bruises.3F & odor & gill.attachment & gill.spacing & gill.size & gill.color & stalk.shape & ⋯ & stalk.color.above.ring & stalk.color.below.ring & veil.type & veil.color & ring.number & ring.type & spore.print.color & population & habitat & class\\\\\n  & <fct> & <fct> & <fct> & <fct> & <fct> & <fct> & <fct> & <fct> & <fct> & <fct> & ⋯ & <fct> & <fct> & <fct> & <fct> & <fct> & <fct> & <fct> & <fct> & <fct> & <fct>\\\\\n\\hline\n\t1 & x & s & n & t & p & f & c & n & k & e & ⋯ & w & w & p & w & o & p & k & s & u & p\\\\\n\t2 & x & s & y & t & a & f & c & b & k & e & ⋯ & w & w & p & w & o & p & n & n & g & e\\\\\n\t3 & b & s & w & t & l & f & c & b & n & e & ⋯ & w & w & p & w & o & p & n & n & m & e\\\\\n\t4 & x & y & w & t & p & f & c & n & n & e & ⋯ & w & w & p & w & o & p & k & s & u & p\\\\\n\t5 & x & s & g & f & n & f & w & b & k & t & ⋯ & w & w & p & w & o & e & n & a & g & e\\\\\n\t6 & x & y & y & t & a & f & c & b & n & e & ⋯ & w & w & p & w & o & p & k & n & g & e\\\\\n\\end{tabular}\n",
            "text/markdown": "\nA data.frame: 6 × 23\n\n| <!--/--> | cap.shape &lt;fct&gt; | cap.surface &lt;fct&gt; | cap.color &lt;fct&gt; | bruises.3F &lt;fct&gt; | odor &lt;fct&gt; | gill.attachment &lt;fct&gt; | gill.spacing &lt;fct&gt; | gill.size &lt;fct&gt; | gill.color &lt;fct&gt; | stalk.shape &lt;fct&gt; | ⋯ ⋯ | stalk.color.above.ring &lt;fct&gt; | stalk.color.below.ring &lt;fct&gt; | veil.type &lt;fct&gt; | veil.color &lt;fct&gt; | ring.number &lt;fct&gt; | ring.type &lt;fct&gt; | spore.print.color &lt;fct&gt; | population &lt;fct&gt; | habitat &lt;fct&gt; | class &lt;fct&gt; |\n|---|---|---|---|---|---|---|---|---|---|---|---|---|---|---|---|---|---|---|---|---|---|\n| 1 | x | s | n | t | p | f | c | n | k | e | ⋯ | w | w | p | w | o | p | k | s | u | p |\n| 2 | x | s | y | t | a | f | c | b | k | e | ⋯ | w | w | p | w | o | p | n | n | g | e |\n| 3 | b | s | w | t | l | f | c | b | n | e | ⋯ | w | w | p | w | o | p | n | n | m | e |\n| 4 | x | y | w | t | p | f | c | n | n | e | ⋯ | w | w | p | w | o | p | k | s | u | p |\n| 5 | x | s | g | f | n | f | w | b | k | t | ⋯ | w | w | p | w | o | e | n | a | g | e |\n| 6 | x | y | y | t | a | f | c | b | n | e | ⋯ | w | w | p | w | o | p | k | n | g | e |\n\n",
            "text/html": [
              "<table class=\"dataframe\">\n",
              "<caption>A data.frame: 6 × 23</caption>\n",
              "<thead>\n",
              "\t<tr><th></th><th scope=col>cap.shape</th><th scope=col>cap.surface</th><th scope=col>cap.color</th><th scope=col>bruises.3F</th><th scope=col>odor</th><th scope=col>gill.attachment</th><th scope=col>gill.spacing</th><th scope=col>gill.size</th><th scope=col>gill.color</th><th scope=col>stalk.shape</th><th scope=col>⋯</th><th scope=col>stalk.color.above.ring</th><th scope=col>stalk.color.below.ring</th><th scope=col>veil.type</th><th scope=col>veil.color</th><th scope=col>ring.number</th><th scope=col>ring.type</th><th scope=col>spore.print.color</th><th scope=col>population</th><th scope=col>habitat</th><th scope=col>class</th></tr>\n",
              "\t<tr><th></th><th scope=col>&lt;fct&gt;</th><th scope=col>&lt;fct&gt;</th><th scope=col>&lt;fct&gt;</th><th scope=col>&lt;fct&gt;</th><th scope=col>&lt;fct&gt;</th><th scope=col>&lt;fct&gt;</th><th scope=col>&lt;fct&gt;</th><th scope=col>&lt;fct&gt;</th><th scope=col>&lt;fct&gt;</th><th scope=col>&lt;fct&gt;</th><th scope=col>⋯</th><th scope=col>&lt;fct&gt;</th><th scope=col>&lt;fct&gt;</th><th scope=col>&lt;fct&gt;</th><th scope=col>&lt;fct&gt;</th><th scope=col>&lt;fct&gt;</th><th scope=col>&lt;fct&gt;</th><th scope=col>&lt;fct&gt;</th><th scope=col>&lt;fct&gt;</th><th scope=col>&lt;fct&gt;</th><th scope=col>&lt;fct&gt;</th></tr>\n",
              "</thead>\n",
              "<tbody>\n",
              "\t<tr><th scope=row>1</th><td>x</td><td>s</td><td>n</td><td>t</td><td>p</td><td>f</td><td>c</td><td>n</td><td>k</td><td>e</td><td>⋯</td><td>w</td><td>w</td><td>p</td><td>w</td><td>o</td><td>p</td><td>k</td><td>s</td><td>u</td><td>p</td></tr>\n",
              "\t<tr><th scope=row>2</th><td>x</td><td>s</td><td>y</td><td>t</td><td>a</td><td>f</td><td>c</td><td>b</td><td>k</td><td>e</td><td>⋯</td><td>w</td><td>w</td><td>p</td><td>w</td><td>o</td><td>p</td><td>n</td><td>n</td><td>g</td><td>e</td></tr>\n",
              "\t<tr><th scope=row>3</th><td>b</td><td>s</td><td>w</td><td>t</td><td>l</td><td>f</td><td>c</td><td>b</td><td>n</td><td>e</td><td>⋯</td><td>w</td><td>w</td><td>p</td><td>w</td><td>o</td><td>p</td><td>n</td><td>n</td><td>m</td><td>e</td></tr>\n",
              "\t<tr><th scope=row>4</th><td>x</td><td>y</td><td>w</td><td>t</td><td>p</td><td>f</td><td>c</td><td>n</td><td>n</td><td>e</td><td>⋯</td><td>w</td><td>w</td><td>p</td><td>w</td><td>o</td><td>p</td><td>k</td><td>s</td><td>u</td><td>p</td></tr>\n",
              "\t<tr><th scope=row>5</th><td>x</td><td>s</td><td>g</td><td>f</td><td>n</td><td>f</td><td>w</td><td>b</td><td>k</td><td>t</td><td>⋯</td><td>w</td><td>w</td><td>p</td><td>w</td><td>o</td><td>e</td><td>n</td><td>a</td><td>g</td><td>e</td></tr>\n",
              "\t<tr><th scope=row>6</th><td>x</td><td>y</td><td>y</td><td>t</td><td>a</td><td>f</td><td>c</td><td>b</td><td>n</td><td>e</td><td>⋯</td><td>w</td><td>w</td><td>p</td><td>w</td><td>o</td><td>p</td><td>k</td><td>n</td><td>g</td><td>e</td></tr>\n",
              "</tbody>\n",
              "</table>\n"
            ]
          },
          "metadata": {}
        }
      ]
    },
    {
      "cell_type": "code",
      "metadata": {
        "colab": {
          "base_uri": "https://localhost:8080/"
        },
        "id": "NeoKObks-flD",
        "outputId": "e059c07f-b05d-4d9d-a961-c88e76f91ddd"
      },
      "source": [
        "str(cogumelos)"
      ],
      "execution_count": null,
      "outputs": [
        {
          "output_type": "stream",
          "name": "stdout",
          "text": [
            "'data.frame':\t8124 obs. of  23 variables:\n",
            " $ cap.shape               : Factor w/ 6 levels \"b\",\"c\",\"f\",\"k\",..: 6 6 1 6 6 6 1 1 6 1 ...\n",
            " $ cap.surface             : Factor w/ 4 levels \"f\",\"g\",\"s\",\"y\": 3 3 3 4 3 4 3 4 4 3 ...\n",
            " $ cap.color               : Factor w/ 10 levels \"b\",\"c\",\"e\",\"g\",..: 5 10 9 9 4 10 9 9 9 10 ...\n",
            " $ bruises.3F              : Factor w/ 2 levels \"f\",\"t\": 2 2 2 2 1 2 2 2 2 2 ...\n",
            " $ odor                    : Factor w/ 9 levels \"a\",\"c\",\"f\",\"l\",..: 7 1 4 7 6 1 1 4 7 1 ...\n",
            " $ gill.attachment         : Factor w/ 2 levels \"a\",\"f\": 2 2 2 2 2 2 2 2 2 2 ...\n",
            " $ gill.spacing            : Factor w/ 2 levels \"c\",\"w\": 1 1 1 1 2 1 1 1 1 1 ...\n",
            " $ gill.size               : Factor w/ 2 levels \"b\",\"n\": 2 1 1 2 1 1 1 1 2 1 ...\n",
            " $ gill.color              : Factor w/ 12 levels \"b\",\"e\",\"g\",\"h\",..: 5 5 6 6 5 6 3 6 8 3 ...\n",
            " $ stalk.shape             : Factor w/ 2 levels \"e\",\"t\": 1 1 1 1 2 1 1 1 1 1 ...\n",
            " $ stalk.root              : Factor w/ 5 levels \"?\",\"b\",\"c\",\"e\",..: 4 3 3 4 4 3 3 3 4 3 ...\n",
            " $ stalk.surface.above.ring: Factor w/ 4 levels \"f\",\"k\",\"s\",\"y\": 3 3 3 3 3 3 3 3 3 3 ...\n",
            " $ stalk.surface.below.ring: Factor w/ 4 levels \"f\",\"k\",\"s\",\"y\": 3 3 3 3 3 3 3 3 3 3 ...\n",
            " $ stalk.color.above.ring  : Factor w/ 9 levels \"b\",\"c\",\"e\",\"g\",..: 8 8 8 8 8 8 8 8 8 8 ...\n",
            " $ stalk.color.below.ring  : Factor w/ 9 levels \"b\",\"c\",\"e\",\"g\",..: 8 8 8 8 8 8 8 8 8 8 ...\n",
            " $ veil.type               : Factor w/ 1 level \"p\": 1 1 1 1 1 1 1 1 1 1 ...\n",
            " $ veil.color              : Factor w/ 4 levels \"n\",\"o\",\"w\",\"y\": 3 3 3 3 3 3 3 3 3 3 ...\n",
            " $ ring.number             : Factor w/ 3 levels \"n\",\"o\",\"t\": 2 2 2 2 2 2 2 2 2 2 ...\n",
            " $ ring.type               : Factor w/ 5 levels \"e\",\"f\",\"l\",\"n\",..: 5 5 5 5 1 5 5 5 5 5 ...\n",
            " $ spore.print.color       : Factor w/ 9 levels \"b\",\"h\",\"k\",\"n\",..: 3 4 4 3 4 3 3 4 3 3 ...\n",
            " $ population              : Factor w/ 6 levels \"a\",\"c\",\"n\",\"s\",..: 4 3 3 4 1 3 3 4 5 4 ...\n",
            " $ habitat                 : Factor w/ 7 levels \"d\",\"g\",\"l\",\"m\",..: 6 2 4 6 2 2 4 4 2 4 ...\n",
            " $ class                   : Factor w/ 2 levels \"e\",\"p\": 2 1 1 2 1 1 1 1 2 1 ...\n"
          ]
        }
      ]
    },
    {
      "cell_type": "code",
      "metadata": {
        "colab": {
          "base_uri": "https://localhost:8080/",
          "height": 727
        },
        "id": "MwqqzRZA-f0G",
        "outputId": "937fd70b-4c7f-4f09-a94e-dc484d89a30c"
      },
      "source": [
        "summary(cogumelos)"
      ],
      "execution_count": null,
      "outputs": [
        {
          "output_type": "display_data",
          "data": {
            "text/plain": [
              " cap.shape cap.surface   cap.color    bruises.3F      odor      gill.attachment\n",
              " b: 452    f:2320      n      :2284   f:4748     n      :3528   a: 210         \n",
              " c:   4    g:   4      g      :1840   t:3376     f      :2160   f:7914         \n",
              " f:3152    s:2556      e      :1500              s      : 576                  \n",
              " k: 828    y:3244      y      :1072              y      : 576                  \n",
              " s:  32                w      :1040              a      : 400                  \n",
              " x:3656                b      : 168              l      : 400                  \n",
              "                       (Other): 220              (Other): 484                  \n",
              " gill.spacing gill.size   gill.color   stalk.shape stalk.root\n",
              " c:6812       b:5612    b      :1728   e:3516      ?:2480    \n",
              " w:1312       n:2512    p      :1492   t:4608      b:3776    \n",
              "                        w      :1202               c: 556    \n",
              "                        n      :1048               e:1120    \n",
              "                        g      : 752               r: 192    \n",
              "                        h      : 732                         \n",
              "                        (Other):1170                         \n",
              " stalk.surface.above.ring stalk.surface.below.ring stalk.color.above.ring\n",
              " f: 552                   f: 600                   w      :4464          \n",
              " k:2372                   k:2304                   p      :1872          \n",
              " s:5176                   s:4936                   g      : 576          \n",
              " y:  24                   y: 284                   n      : 448          \n",
              "                                                   b      : 432          \n",
              "                                                   o      : 192          \n",
              "                                                   (Other): 140          \n",
              " stalk.color.below.ring veil.type veil.color ring.number ring.type\n",
              " w      :4384           p:8124    n:  96     n:  36      e:2776   \n",
              " p      :1872                     o:  96     o:7488      f:  48   \n",
              " g      : 576                     w:7924     t: 600      l:1296   \n",
              " n      : 512                     y:   8                 n:  36   \n",
              " b      : 432                                            p:3968   \n",
              " o      : 192                                                     \n",
              " (Other): 156                                                     \n",
              " spore.print.color population habitat  class   \n",
              " w      :2388      a: 384     d:3148   e:4208  \n",
              " n      :1968      c: 340     g:2148   p:3916  \n",
              " k      :1872      n: 400     l: 832           \n",
              " h      :1632      s:1248     m: 292           \n",
              " r      :  72      v:4040     p:1144           \n",
              " b      :  48      y:1712     u: 368           \n",
              " (Other): 144                 w: 192           "
            ]
          },
          "metadata": {}
        }
      ]
    },
    {
      "cell_type": "markdown",
      "metadata": {
        "id": "guiLzuzXCIQm"
      },
      "source": [
        "## Conjuntos de treino e teste"
      ]
    },
    {
      "cell_type": "code",
      "metadata": {
        "id": "7q5l6fR3f5sJ",
        "colab": {
          "base_uri": "https://localhost:8080/"
        },
        "outputId": "c885c281-7a3d-4cc9-80fc-0e1082049d8d"
      },
      "source": [
        "# Gera Conjuntos de Treinamento e Teste\n",
        "RNGversion(\"3.5.2\")\n",
        "set.seed(1987)\n",
        "\n",
        "amostra <- sample(1:nrow(cogumelos),round(nrow(cogumelos)/3))\n",
        "train <- cogumelos[-amostra,]\n",
        "test <- cogumelos[amostra,]"
      ],
      "execution_count": null,
      "outputs": [
        {
          "output_type": "stream",
          "name": "stderr",
          "text": [
            "Warning message in RNGkind(\"Mersenne-Twister\", \"Inversion\", \"Rounding\"):\n",
            "“non-uniform 'Rounding' sampler used”\n"
          ]
        }
      ]
    },
    {
      "cell_type": "markdown",
      "metadata": {
        "id": "Ulat2ZRDhYG2"
      },
      "source": [
        "## Naive Bayes"
      ]
    },
    {
      "cell_type": "markdown",
      "metadata": {
        "id": "HwgfpDdLrRdT"
      },
      "source": [
        "CONSIDERAÇÕES SOBRE NAIVE BAYES:\n",
        "i. É um modelo de Aprendizado Supervisionado baseado no Teorema de Bayes.\n",
        "\n",
        "ii. É um modelo Generativo, no que difere por exemplo de uma Árvore de Decisão.\n",
        "\n",
        "iii. Assume que todas as variáveis são independentes, uma hipótese que dificilmente se verifica em casos reais, mas que permite uma grande simplificação da cadeia de probabilidades que passa a ter um único nível.\n",
        "\n",
        "iv. O classificador naive bayes assume que o \n",
        "efeito do valor de um preditor é independente dos valores de \n",
        "outros preditores. Essa suposição é chamada de independência \n",
        "condicional de classe. \n",
        "\n",
        "v. As variáveis numéricas precisam ser transformadas em variáveis \n",
        "categóricas (binning) antes de empregar as tabelas de freqüência. \n",
        "Outra opção é empregar a distribuição da variável numérica para \n",
        "ter um bom valor da frequência, por exemplo, assumindo uma \n",
        "distribuição normal\n",
        "\n",
        "vi. Quaisquer variáveis podem ser empregadas como preditoras e classe. Sendo assim é preciso ter o cuidado de entender quais variáveis têm características de causa e quais têm característica de efeito\n",
        "\n",
        "vii. A função naiveBayes inclui o parâmetro laplace\n",
        "(laplace=1), um inteiro positivo que será adicionado para cada \n",
        "classe, evitando o problema de frequência zero.\n",
        "\n",
        "ix. É possível obter melhores resultados discretizando as \n",
        "variáveis numéricas com os comandos cut( ) ou hist( ) para \n",
        "discretizar "
      ]
    },
    {
      "cell_type": "markdown",
      "metadata": {
        "id": "EYR6vpR76sE-"
      },
      "source": [
        "![image.png](data:image/png;base64,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)"
      ]
    },
    {
      "cell_type": "code",
      "metadata": {
        "colab": {
          "base_uri": "https://localhost:8080/",
          "height": 133
        },
        "id": "K7Yt3ei2gLqM",
        "outputId": "34e49476-1182-4dcd-9a69-f8e5f37d654e"
      },
      "source": [
        "fitBayes = naiveBayes(class~.,data=train,laplace=1)\n",
        "\n",
        "# predict Output \n",
        "predBayes = predict(fitBayes, test)\n",
        "predBayes"
      ],
      "execution_count": null,
      "outputs": [
        {
          "output_type": "display_data",
          "data": {
            "text/plain": [
              "   [1] e p p e e e e e p e p p p e e e e p p e e e p p p e e e p p p e e e e e e\n",
              "  [38] p e p e e e e p e e e p e p e e e e e e e e e p e e p e e e p e p e e p e\n",
              "  [75] e e e e e p e e p p e p e e e p p p e e e p p p p p p e e e e e e e p e e\n",
              " [112] e e e p e e e p p e p e e p e e e e p e p e e e e e e e e e e e e p e e e\n",
              " [149] e p p e e p e e e e e e e e p e e e e e p p e p e p e e e p e e e e e e p\n",
              " [186] e p e p e p p e e e p e p e e p e e e e e e e e p p p p p e p e p e e p e\n",
              " [223] e e e p p e p p e p e e p p p e p p p p e e e p e p p p p p e p p e e p p\n",
              " [260] e p e e e p e e p e e p e e e e p p e e e p e e p p e p p p p e e e p p e\n",
              " [297] e p p e p e p p e p p p p e p e p e e e e e e e p e p p e p p e e p p e e\n",
              " [334] e e p p p e e p p e p p p e e p e p e p p p e p p e p p e p e e e p e e e\n",
              " [371] e e e e p e e e e e e e p e p p p p e p e p e p e p e e e e e p e e e e e\n",
              " [408] p p p p p e e p e e e p e p e e p p p e e e p e e p e p e e p e e p p e p\n",
              " [445] p p p e p e e e p e e p p p p e e e p p e e p p e e p e e e e e p p e p p\n",
              " [482] e e p p p e e e p e e e p e e p p p p p e p e e p e p e e p e e e p e e e\n",
              " [519] e p p e p p p e p p p p p p e p e p e e e p e e e e e e e e p p p e e p e\n",
              " [556] p e p p e p p e p p p p e e e p e e e e e p e e e e p e p p p p p p p p p\n",
              " [593] e e e e e p e p p e p e e p p e e e p p e p p e p p e e e p p p e p e p e\n",
              " [630] p p p e p p e p e p e e p e e e e e p e p e e p e e e e e e p e p p p p p\n",
              " [667] e p e e p p e e p p e e p e p e p e p p p p e p p p e e e p e p p e p e e\n",
              " [704] p e p p e p p e p e p p e p e p e p p e e p p p e e e p p e e e p e e e e\n",
              " [741] p p e e e p e e e p e p e e p p p p p p p e p e p p p e e e e e e p e p p\n",
              " [778] p p e p p p e e e e e e e e e e e p e p e p e e e e p e p p e e e e p p p\n",
              " [815] e e e e p e e e p p e e e e e e p p p e e e e e p p p p p e e e p p e e p\n",
              " [852] p p e e e e p p p e p e e e e e e e p e e p p p p p e e p p p e e e e e p\n",
              " [889] p e p p e e e e e p e e p e e e p e e e p p p e e e e p e p e p e e e p e\n",
              " [926] e p p p e e p e e p p p e e p p p e e p p p p e p e e e p p e p e p e e e\n",
              " [963] e p e e e p p e e p e e p e p e e p p p p e p p p p p e e e e p p e e p p\n",
              "[1000] e e e e e e e p p e p e p e p p p e p e e e p e e p e p e e p e p p p e e\n",
              "[1037] e e e e p e p e p e e e p p p p e p p e p p p e p p e p p p p e p p p p e\n",
              "[1074] e p p e p p e p p p p e e e e p e e e e e p e e e e p e p p p e p e e p e\n",
              "[1111] p e p e e e p p e p p e e p e e p e p p e p p p e e e e e p e p p p p p p\n",
              "[1148] p e p e p e p e p p e e e e e e e e e e e e p e e p e p p e p e e e p e e\n",
              "[1185] e e p e e e p p e p e e e e p p e p p e p e p e e p p p e e e p p e e e e\n",
              "[1222] p p e e p e e e p e p e p p e e e e e e p p p p e e p e e e p p e e e e e\n",
              "[1259] p p p e p e e p e e p e e e e e e e e e e p p e p e p e e p p p p p p e p\n",
              "[1296] e e p e e e p e e p e e p p e p e e e e p p p p e e e p e e p p p e e p e\n",
              "[1333] p e p p p e p p p e e e e e e p e p e e p p p p e p e e e p e p p e p p e\n",
              "[1370] p e e e p e e p e p e e e p e e e p p p e p p e p p e p p p p e e p e p e\n",
              "[1407] e p e e e e p p p e p e e e e e p e e e e e e p e e e e p p e p p p p p p\n",
              "[1444] e e e e p e e p p e p e e e e e e p e e e p e p e p p e p p e e e e p p e\n",
              "[1481] e e p e p p e p e p e p e p p p p p p p e p e e e e e p p e p p p e p e e\n",
              "[1518] e p e e e p e e e e e e e e e p e p e p e e p e e e p e e e e e e p e e p\n",
              "[1555] p p e e e e e p p e e e p e e e e e e e p e p e e e e p p p e e e e e e e\n",
              "[1592] e p p e p e p p e p p e p e e p e p e e p e p e p p e p e e p e p p e p e\n",
              "[1629] e e p p p e p p e e p e e p e e p e p p p p p e p e p e p p e e e p p e e\n",
              "[1666] p p e e e e e e p p p e p e p p p e p e p e p p e p p e p e p e e e e e e\n",
              "[1703] e p e e p p e p p p p p p p e e p p p e e e e e p e p e e p p e e e e p p\n",
              "[1740] p e p e e e p e e p p e e p e e e e p e e p p p e e p p p p e e p e e p p\n",
              "[1777] p p e p e p p e e p e p p p p p e p p e p p e e e e e p p p e e e e p p e\n",
              "[1814] e p e e p e p e p e p e p p p p e e e p e e p p e p e e e p e p e e p p p\n",
              "[1851] e e p e p p p e e e e e p e p p e p p p p e e p e e p p e e p e e p p e p\n",
              "[1888] p p p e e e e e p e p e e p p p p e e p p e e e p e p e e p e e e e p p e\n",
              "[1925] e p e p p e p p e e p e e p e p p p e p e p p e p e e p e p e e p p e p p\n",
              "[1962] p e e p p e e p p e p e p p e e p p e p e p p p e e e e p e e e e e p p e\n",
              "[1999] e p e p p e p e p e e p p p e e e e e e e e p e p e e p e p p e p p p e p\n",
              "[2036] p p e p e e e p p p p p e e p e e p p e e e p e p p p p p p e e p e p e p\n",
              "[2073] e e e e e e p p p e e e e p e p e p p e p p e e e e p e e e e p e e e p e\n",
              "[2110] p p e p e e e e e e p p p e p p p e e e e p p e e e e p p e p p e e e e p\n",
              "[2147] e p p e p e p p p p e e p e e p e e p e p e p p p p p p e p e e e e e e p\n",
              "[2184] e p e e p e e e e e e p e e p p e e e p p e p p e p e p e e p e e e e e p\n",
              "[2221] p e p p p e p e p p e e p e p e p e e p p p p e p e e e p e e p e p e p e\n",
              "[2258] p e p p p e e e e e p e p p e p p e e e e e p e e p e p p p p e p p e e e\n",
              "[2295] e e e p e p e p e e p e e p e e p p e e p e p p e e e e p p e e e e e e e\n",
              "[2332] e e e e e e p p p p p e p p e p p e p e p e p e p p p e e e e p p p p e p\n",
              "[2369] e p p e e p e e e p p e p e e p e e e p p e e e e e p p e p e p p p e e p\n",
              "[2406] e e e p e e p e e p p e e e p e p p p e e e e e p p e p p e e e e e e e p\n",
              "[2443] e e e p p p e p p p p e e e e p e e e e p e e e p e p e e p e e p p e e e\n",
              "[2480] p e e p e e p e p p p e e p e e p e p e e e p p p e e p e e e e e e e p p\n",
              "[2517] e e p p p e p p p e e p e e e e e e p p p p e p e e p p e e p e e e p e p\n",
              "[2554] p e e p e e e p p p e p e p p e e p e e p p e p p e e e p e p p e e e p p\n",
              "[2591] p e e e p p p p p e e p e e p e e p p p e p p e p p e p p p p e p e e e p\n",
              "[2628] e e e e p e e e p p p e p p e p p e e p e e e e p p p p p e p p p e e p e\n",
              "[2665] p p e e e e e p p p e e e e p e e e e e p p e p p p e p p p e e p p p e e\n",
              "[2702] p e p e p p p\n",
              "Levels: e p"
            ],
            "text/latex": "\\begin{enumerate*}\n\\item e\n\\item p\n\\item p\n\\item e\n\\item e\n\\item e\n\\item e\n\\item e\n\\item p\n\\item e\n\\item p\n\\item p\n\\item p\n\\item e\n\\item e\n\\item e\n\\item e\n\\item p\n\\item p\n\\item e\n\\item e\n\\item e\n\\item p\n\\item p\n\\item p\n\\item e\n\\item e\n\\item e\n\\item p\n\\item p\n\\item p\n\\item e\n\\item e\n\\item e\n\\item e\n\\item e\n\\item e\n\\item p\n\\item e\n\\item p\n\\item e\n\\item e\n\\item e\n\\item e\n\\item p\n\\item e\n\\item e\n\\item e\n\\item p\n\\item e\n\\item p\n\\item e\n\\item e\n\\item e\n\\item e\n\\item e\n\\item e\n\\item e\n\\item e\n\\item e\n\\item p\n\\item e\n\\item e\n\\item p\n\\item e\n\\item e\n\\item e\n\\item p\n\\item e\n\\item p\n\\item e\n\\item e\n\\item p\n\\item e\n\\item e\n\\item e\n\\item e\n\\item e\n\\item e\n\\item p\n\\item e\n\\item e\n\\item p\n\\item p\n\\item e\n\\item p\n\\item e\n\\item e\n\\item e\n\\item p\n\\item p\n\\item p\n\\item e\n\\item e\n\\item e\n\\item p\n\\item p\n\\item p\n\\item p\n\\item p\n\\item p\n\\item e\n\\item e\n\\item e\n\\item e\n\\item e\n\\item e\n\\item e\n\\item p\n\\item e\n\\item e\n\\item e\n\\item e\n\\item e\n\\item p\n\\item e\n\\item e\n\\item e\n\\item p\n\\item p\n\\item e\n\\item p\n\\item e\n\\item e\n\\item p\n\\item e\n\\item e\n\\item e\n\\item e\n\\item p\n\\item e\n\\item p\n\\item e\n\\item e\n\\item e\n\\item e\n\\item e\n\\item e\n\\item e\n\\item e\n\\item e\n\\item e\n\\item e\n\\item e\n\\item p\n\\item e\n\\item e\n\\item e\n\\item e\n\\item p\n\\item p\n\\item e\n\\item e\n\\item p\n\\item e\n\\item e\n\\item e\n\\item e\n\\item e\n\\item e\n\\item e\n\\item e\n\\item p\n\\item e\n\\item e\n\\item e\n\\item e\n\\item e\n\\item p\n\\item p\n\\item e\n\\item p\n\\item e\n\\item p\n\\item e\n\\item e\n\\item e\n\\item p\n\\item e\n\\item e\n\\item e\n\\item e\n\\item e\n\\item e\n\\item p\n\\item e\n\\item p\n\\item e\n\\item p\n\\item e\n\\item p\n\\item p\n\\item e\n\\item e\n\\item e\n\\item p\n\\item e\n\\item p\n\\item e\n\\item e\n\\item ⋯\n\\item e\n\\item e\n\\item e\n\\item e\n\\item e\n\\item e\n\\item p\n\\item p\n\\item e\n\\item e\n\\item p\n\\item p\n\\item p\n\\item e\n\\item p\n\\item p\n\\item p\n\\item e\n\\item e\n\\item p\n\\item e\n\\item e\n\\item e\n\\item e\n\\item e\n\\item e\n\\item p\n\\item p\n\\item p\n\\item p\n\\item e\n\\item p\n\\item e\n\\item e\n\\item p\n\\item p\n\\item e\n\\item e\n\\item p\n\\item e\n\\item e\n\\item e\n\\item p\n\\item e\n\\item p\n\\item p\n\\item e\n\\item e\n\\item p\n\\item e\n\\item e\n\\item e\n\\item p\n\\item p\n\\item p\n\\item e\n\\item p\n\\item e\n\\item p\n\\item p\n\\item e\n\\item e\n\\item p\n\\item e\n\\item e\n\\item p\n\\item p\n\\item e\n\\item p\n\\item p\n\\item e\n\\item e\n\\item e\n\\item p\n\\item e\n\\item p\n\\item p\n\\item e\n\\item e\n\\item e\n\\item p\n\\item p\n\\item p\n\\item e\n\\item e\n\\item e\n\\item p\n\\item p\n\\item p\n\\item p\n\\item p\n\\item e\n\\item e\n\\item p\n\\item e\n\\item e\n\\item p\n\\item e\n\\item e\n\\item p\n\\item p\n\\item p\n\\item e\n\\item p\n\\item p\n\\item e\n\\item p\n\\item p\n\\item e\n\\item p\n\\item p\n\\item p\n\\item p\n\\item e\n\\item p\n\\item e\n\\item e\n\\item e\n\\item p\n\\item e\n\\item e\n\\item e\n\\item e\n\\item p\n\\item e\n\\item e\n\\item e\n\\item p\n\\item p\n\\item p\n\\item e\n\\item p\n\\item p\n\\item e\n\\item p\n\\item p\n\\item e\n\\item e\n\\item p\n\\item e\n\\item e\n\\item e\n\\item e\n\\item p\n\\item p\n\\item p\n\\item p\n\\item p\n\\item e\n\\item p\n\\item p\n\\item p\n\\item e\n\\item e\n\\item p\n\\item e\n\\item p\n\\item p\n\\item e\n\\item e\n\\item e\n\\item e\n\\item e\n\\item p\n\\item p\n\\item p\n\\item e\n\\item e\n\\item e\n\\item e\n\\item p\n\\item e\n\\item e\n\\item e\n\\item e\n\\item e\n\\item p\n\\item p\n\\item e\n\\item p\n\\item p\n\\item p\n\\item e\n\\item p\n\\item p\n\\item p\n\\item e\n\\item e\n\\item p\n\\item p\n\\item p\n\\item e\n\\item e\n\\item p\n\\item e\n\\item p\n\\item e\n\\item p\n\\item p\n\\item p\n\\end{enumerate*}\n\n\\emph{Levels}: \\begin{enumerate*}\n\\item 'e'\n\\item 'p'\n\\end{enumerate*}\n",
            "text/markdown": "1. e\n2. p\n3. p\n4. e\n5. e\n6. e\n7. e\n8. e\n9. p\n10. e\n11. p\n12. p\n13. p\n14. e\n15. e\n16. e\n17. e\n18. p\n19. p\n20. e\n21. e\n22. e\n23. p\n24. p\n25. p\n26. e\n27. e\n28. e\n29. p\n30. p\n31. p\n32. e\n33. e\n34. e\n35. e\n36. e\n37. e\n38. p\n39. e\n40. p\n41. e\n42. e\n43. e\n44. e\n45. p\n46. e\n47. e\n48. e\n49. p\n50. e\n51. p\n52. e\n53. e\n54. e\n55. e\n56. e\n57. e\n58. e\n59. e\n60. e\n61. p\n62. e\n63. e\n64. p\n65. e\n66. e\n67. e\n68. p\n69. e\n70. p\n71. e\n72. e\n73. p\n74. e\n75. e\n76. e\n77. e\n78. e\n79. e\n80. p\n81. e\n82. e\n83. p\n84. p\n85. e\n86. p\n87. e\n88. e\n89. e\n90. p\n91. p\n92. p\n93. e\n94. e\n95. e\n96. p\n97. p\n98. p\n99. p\n100. p\n101. p\n102. e\n103. e\n104. e\n105. e\n106. e\n107. e\n108. e\n109. p\n110. e\n111. e\n112. e\n113. e\n114. e\n115. p\n116. e\n117. e\n118. e\n119. p\n120. p\n121. e\n122. p\n123. e\n124. e\n125. p\n126. e\n127. e\n128. e\n129. e\n130. p\n131. e\n132. p\n133. e\n134. e\n135. e\n136. e\n137. e\n138. e\n139. e\n140. e\n141. e\n142. e\n143. e\n144. e\n145. p\n146. e\n147. e\n148. e\n149. e\n150. p\n151. p\n152. e\n153. e\n154. p\n155. e\n156. e\n157. e\n158. e\n159. e\n160. e\n161. e\n162. e\n163. p\n164. e\n165. e\n166. e\n167. e\n168. e\n169. p\n170. p\n171. e\n172. p\n173. e\n174. p\n175. e\n176. e\n177. e\n178. p\n179. e\n180. e\n181. e\n182. e\n183. e\n184. e\n185. p\n186. e\n187. p\n188. e\n189. p\n190. e\n191. p\n192. p\n193. e\n194. e\n195. e\n196. p\n197. e\n198. p\n199. e\n200. e\n201. ⋯\n202. e\n203. e\n204. e\n205. e\n206. e\n207. e\n208. p\n209. p\n210. e\n211. e\n212. p\n213. p\n214. p\n215. e\n216. p\n217. p\n218. p\n219. e\n220. e\n221. p\n222. e\n223. e\n224. e\n225. e\n226. e\n227. e\n228. p\n229. p\n230. p\n231. p\n232. e\n233. p\n234. e\n235. e\n236. p\n237. p\n238. e\n239. e\n240. p\n241. e\n242. e\n243. e\n244. p\n245. e\n246. p\n247. p\n248. e\n249. e\n250. p\n251. e\n252. e\n253. e\n254. p\n255. p\n256. p\n257. e\n258. p\n259. e\n260. p\n261. p\n262. e\n263. e\n264. p\n265. e\n266. e\n267. p\n268. p\n269. e\n270. p\n271. p\n272. e\n273. e\n274. e\n275. p\n276. e\n277. p\n278. p\n279. e\n280. e\n281. e\n282. p\n283. p\n284. p\n285. e\n286. e\n287. e\n288. p\n289. p\n290. p\n291. p\n292. p\n293. e\n294. e\n295. p\n296. e\n297. e\n298. p\n299. e\n300. e\n301. p\n302. p\n303. p\n304. e\n305. p\n306. p\n307. e\n308. p\n309. p\n310. e\n311. p\n312. p\n313. p\n314. p\n315. e\n316. p\n317. e\n318. e\n319. e\n320. p\n321. e\n322. e\n323. e\n324. e\n325. p\n326. e\n327. e\n328. e\n329. p\n330. p\n331. p\n332. e\n333. p\n334. p\n335. e\n336. p\n337. p\n338. e\n339. e\n340. p\n341. e\n342. e\n343. e\n344. e\n345. p\n346. p\n347. p\n348. p\n349. p\n350. e\n351. p\n352. p\n353. p\n354. e\n355. e\n356. p\n357. e\n358. p\n359. p\n360. e\n361. e\n362. e\n363. e\n364. e\n365. p\n366. p\n367. p\n368. e\n369. e\n370. e\n371. e\n372. p\n373. e\n374. e\n375. e\n376. e\n377. e\n378. p\n379. p\n380. e\n381. p\n382. p\n383. p\n384. e\n385. p\n386. p\n387. p\n388. e\n389. e\n390. p\n391. p\n392. p\n393. e\n394. e\n395. p\n396. e\n397. p\n398. e\n399. p\n400. p\n401. p\n\n\n\n**Levels**: 1. 'e'\n2. 'p'\n\n\n",
            "text/html": [
              "<style>\n",
              ".list-inline {list-style: none; margin:0; padding: 0}\n",
              ".list-inline>li {display: inline-block}\n",
              ".list-inline>li:not(:last-child)::after {content: \"\\00b7\"; padding: 0 .5ex}\n",
              "</style>\n",
              "<ol class=list-inline><li>e</li><li>p</li><li>p</li><li>e</li><li>e</li><li>e</li><li>e</li><li>e</li><li>p</li><li>e</li><li>p</li><li>p</li><li>p</li><li>e</li><li>e</li><li>e</li><li>e</li><li>p</li><li>p</li><li>e</li><li>e</li><li>e</li><li>p</li><li>p</li><li>p</li><li>e</li><li>e</li><li>e</li><li>p</li><li>p</li><li>p</li><li>e</li><li>e</li><li>e</li><li>e</li><li>e</li><li>e</li><li>p</li><li>e</li><li>p</li><li>e</li><li>e</li><li>e</li><li>e</li><li>p</li><li>e</li><li>e</li><li>e</li><li>p</li><li>e</li><li>p</li><li>e</li><li>e</li><li>e</li><li>e</li><li>e</li><li>e</li><li>e</li><li>e</li><li>e</li><li>p</li><li>e</li><li>e</li><li>p</li><li>e</li><li>e</li><li>e</li><li>p</li><li>e</li><li>p</li><li>e</li><li>e</li><li>p</li><li>e</li><li>e</li><li>e</li><li>e</li><li>e</li><li>e</li><li>p</li><li>e</li><li>e</li><li>p</li><li>p</li><li>e</li><li>p</li><li>e</li><li>e</li><li>e</li><li>p</li><li>p</li><li>p</li><li>e</li><li>e</li><li>e</li><li>p</li><li>p</li><li>p</li><li>p</li><li>p</li><li>p</li><li>e</li><li>e</li><li>e</li><li>e</li><li>e</li><li>e</li><li>e</li><li>p</li><li>e</li><li>e</li><li>e</li><li>e</li><li>e</li><li>p</li><li>e</li><li>e</li><li>e</li><li>p</li><li>p</li><li>e</li><li>p</li><li>e</li><li>e</li><li>p</li><li>e</li><li>e</li><li>e</li><li>e</li><li>p</li><li>e</li><li>p</li><li>e</li><li>e</li><li>e</li><li>e</li><li>e</li><li>e</li><li>e</li><li>e</li><li>e</li><li>e</li><li>e</li><li>e</li><li>p</li><li>e</li><li>e</li><li>e</li><li>e</li><li>p</li><li>p</li><li>e</li><li>e</li><li>p</li><li>e</li><li>e</li><li>e</li><li>e</li><li>e</li><li>e</li><li>e</li><li>e</li><li>p</li><li>e</li><li>e</li><li>e</li><li>e</li><li>e</li><li>p</li><li>p</li><li>e</li><li>p</li><li>e</li><li>p</li><li>e</li><li>e</li><li>e</li><li>p</li><li>e</li><li>e</li><li>e</li><li>e</li><li>e</li><li>e</li><li>p</li><li>e</li><li>p</li><li>e</li><li>p</li><li>e</li><li>p</li><li>p</li><li>e</li><li>e</li><li>e</li><li>p</li><li>e</li><li>p</li><li>e</li><li>e</li><li>⋯</li><li>e</li><li>e</li><li>e</li><li>e</li><li>e</li><li>e</li><li>p</li><li>p</li><li>e</li><li>e</li><li>p</li><li>p</li><li>p</li><li>e</li><li>p</li><li>p</li><li>p</li><li>e</li><li>e</li><li>p</li><li>e</li><li>e</li><li>e</li><li>e</li><li>e</li><li>e</li><li>p</li><li>p</li><li>p</li><li>p</li><li>e</li><li>p</li><li>e</li><li>e</li><li>p</li><li>p</li><li>e</li><li>e</li><li>p</li><li>e</li><li>e</li><li>e</li><li>p</li><li>e</li><li>p</li><li>p</li><li>e</li><li>e</li><li>p</li><li>e</li><li>e</li><li>e</li><li>p</li><li>p</li><li>p</li><li>e</li><li>p</li><li>e</li><li>p</li><li>p</li><li>e</li><li>e</li><li>p</li><li>e</li><li>e</li><li>p</li><li>p</li><li>e</li><li>p</li><li>p</li><li>e</li><li>e</li><li>e</li><li>p</li><li>e</li><li>p</li><li>p</li><li>e</li><li>e</li><li>e</li><li>p</li><li>p</li><li>p</li><li>e</li><li>e</li><li>e</li><li>p</li><li>p</li><li>p</li><li>p</li><li>p</li><li>e</li><li>e</li><li>p</li><li>e</li><li>e</li><li>p</li><li>e</li><li>e</li><li>p</li><li>p</li><li>p</li><li>e</li><li>p</li><li>p</li><li>e</li><li>p</li><li>p</li><li>e</li><li>p</li><li>p</li><li>p</li><li>p</li><li>e</li><li>p</li><li>e</li><li>e</li><li>e</li><li>p</li><li>e</li><li>e</li><li>e</li><li>e</li><li>p</li><li>e</li><li>e</li><li>e</li><li>p</li><li>p</li><li>p</li><li>e</li><li>p</li><li>p</li><li>e</li><li>p</li><li>p</li><li>e</li><li>e</li><li>p</li><li>e</li><li>e</li><li>e</li><li>e</li><li>p</li><li>p</li><li>p</li><li>p</li><li>p</li><li>e</li><li>p</li><li>p</li><li>p</li><li>e</li><li>e</li><li>p</li><li>e</li><li>p</li><li>p</li><li>e</li><li>e</li><li>e</li><li>e</li><li>e</li><li>p</li><li>p</li><li>p</li><li>e</li><li>e</li><li>e</li><li>e</li><li>p</li><li>e</li><li>e</li><li>e</li><li>e</li><li>e</li><li>p</li><li>p</li><li>e</li><li>p</li><li>p</li><li>p</li><li>e</li><li>p</li><li>p</li><li>p</li><li>e</li><li>e</li><li>p</li><li>p</li><li>p</li><li>e</li><li>e</li><li>p</li><li>e</li><li>p</li><li>e</li><li>p</li><li>p</li><li>p</li></ol>\n",
              "\n",
              "<details>\n",
              "\t<summary style=display:list-item;cursor:pointer>\n",
              "\t\t<strong>Levels</strong>:\n",
              "\t</summary>\n",
              "\t<style>\n",
              "\t.list-inline {list-style: none; margin:0; padding: 0}\n",
              "\t.list-inline>li {display: inline-block}\n",
              "\t.list-inline>li:not(:last-child)::after {content: \"\\00b7\"; padding: 0 .5ex}\n",
              "\t</style>\n",
              "\t<ol class=list-inline><li>'e'</li><li>'p'</li></ol>\n",
              "</details>"
            ]
          },
          "metadata": {}
        }
      ]
    },
    {
      "cell_type": "markdown",
      "metadata": {
        "id": "AtmR3D-w5UXk"
      },
      "source": [
        "A função predict( ) como modelo naiveBayes retornará um vetor \n",
        "com as classes resultantes da predição. Esse é o padrão (default) da \n",
        "função e corresponde ao type=class.\n",
        "\n",
        "Se você quiser ter a probabilidade associada a cada classe você \n",
        "pode empregar o parâmetro type=”raw”.\n"
      ]
    },
    {
      "cell_type": "code",
      "metadata": {
        "colab": {
          "base_uri": "https://localhost:8080/"
        },
        "id": "o8EhYSnjfjNb",
        "outputId": "c5c91b81-7c2e-45e2-b19a-f5eb53251575"
      },
      "source": [
        "# matriz de confus�o\n",
        "matconf = table(predBayes,test$class, dnn = list(\"Previsto\", \"Real\"))\n",
        "print(matconf)\n"
      ],
      "execution_count": null,
      "outputs": [
        {
          "output_type": "stream",
          "name": "stdout",
          "text": [
            "        Real\n",
            "Previsto    e    p\n",
            "       e 1365  142\n",
            "       p    8 1193\n"
          ]
        }
      ]
    },
    {
      "cell_type": "code",
      "metadata": {
        "id": "z1w32Bo-f1S0"
      },
      "source": [
        "VP <- matconf[4]\n",
        "VN <- matconf[1]\n",
        "FP <- matconf[2]\n",
        "FN <- matconf[3]\n",
        "P <- VP + FN\n",
        "N <- VN + FP"
      ],
      "execution_count": null,
      "outputs": []
    },
    {
      "cell_type": "code",
      "metadata": {
        "colab": {
          "base_uri": "https://localhost:8080/",
          "height": 116
        },
        "id": "WiQrqroBhA9t",
        "outputId": "f9db3abe-9478-467d-880e-8d248ecd91f6"
      },
      "source": [
        "glue('Verdadeiro Positivo = {VP}')\n",
        "glue('Verdadeiro Negativo = {VN}')\n",
        "glue('Falso Positivo =      {FP}')\n",
        "glue('Falso Negativo =      {FN}')\n",
        "glue('Número de eventos = {P}')\n",
        "glue('Número de não eventos = {N}')"
      ],
      "execution_count": null,
      "outputs": [
        {
          "output_type": "display_data",
          "data": {
            "text/plain": [
              "Verdadeiro Positivo = 1193"
            ],
            "text/latex": "'Verdadeiro Positivo = 1193'",
            "text/markdown": "'Verdadeiro Positivo = 1193'",
            "text/html": [
              "'Verdadeiro Positivo = 1193'"
            ]
          },
          "metadata": {}
        },
        {
          "output_type": "display_data",
          "data": {
            "text/plain": [
              "Verdadeiro Negativo = 1365"
            ],
            "text/latex": "'Verdadeiro Negativo = 1365'",
            "text/markdown": "'Verdadeiro Negativo = 1365'",
            "text/html": [
              "'Verdadeiro Negativo = 1365'"
            ]
          },
          "metadata": {}
        },
        {
          "output_type": "display_data",
          "data": {
            "text/plain": [
              "Falso Positivo =      8"
            ],
            "text/latex": "'Falso Positivo =      8'",
            "text/markdown": "<span style=white-space:pre-wrap>'Falso Positivo =      8'</span>",
            "text/html": [
              "<span style=white-space:pre-wrap>'Falso Positivo =      8'</span>"
            ]
          },
          "metadata": {}
        },
        {
          "output_type": "display_data",
          "data": {
            "text/plain": [
              "Falso Negativo =      142"
            ],
            "text/latex": "'Falso Negativo =      142'",
            "text/markdown": "<span style=white-space:pre-wrap>'Falso Negativo =      142'</span>",
            "text/html": [
              "<span style=white-space:pre-wrap>'Falso Negativo =      142'</span>"
            ]
          },
          "metadata": {}
        },
        {
          "output_type": "display_data",
          "data": {
            "text/plain": [
              "Número de eventos = 1335"
            ],
            "text/latex": "'Número de eventos = 1335'",
            "text/markdown": "'Número de eventos = 1335'",
            "text/html": [
              "'Número de eventos = 1335'"
            ]
          },
          "metadata": {}
        },
        {
          "output_type": "display_data",
          "data": {
            "text/plain": [
              "Número de não eventos = 1373"
            ],
            "text/latex": "'Número de não eventos = 1373'",
            "text/markdown": "'Número de não eventos = 1373'",
            "text/html": [
              "'Número de não eventos = 1373'"
            ]
          },
          "metadata": {}
        }
      ]
    },
    {
      "cell_type": "code",
      "metadata": {
        "colab": {
          "base_uri": "https://localhost:8080/",
          "height": 33
        },
        "id": "3d7joxfrhEEM",
        "outputId": "b28de51a-5b69-483d-a216-45a5d6aa7f80"
      },
      "source": [
        "acuracia <- (VN + VP) / (P + N) \n",
        "round(acuracia,3)"
      ],
      "execution_count": null,
      "outputs": [
        {
          "output_type": "display_data",
          "data": {
            "text/plain": [
              "[1] 0.945"
            ],
            "text/latex": "0.945",
            "text/markdown": "0.945",
            "text/html": [
              "0.945"
            ]
          },
          "metadata": {}
        }
      ]
    },
    {
      "cell_type": "code",
      "metadata": {
        "colab": {
          "base_uri": "https://localhost:8080/",
          "height": 33
        },
        "id": "LM5dMFjChMUD",
        "outputId": "df6f3192-63e0-4a47-ee16-24844c357f28"
      },
      "source": [
        "sensibilidade <- VP / (VP + FN)\n",
        "round(sensibilidade,3)"
      ],
      "execution_count": null,
      "outputs": [
        {
          "output_type": "display_data",
          "data": {
            "text/plain": [
              "[1] 0.894"
            ],
            "text/latex": "0.894",
            "text/markdown": "0.894",
            "text/html": [
              "0.894"
            ]
          },
          "metadata": {}
        }
      ]
    },
    {
      "cell_type": "code",
      "metadata": {
        "colab": {
          "base_uri": "https://localhost:8080/",
          "height": 33
        },
        "id": "i6GSxwPGhPfo",
        "outputId": "f68e1803-29c4-40ca-d33d-e1bb65e323da"
      },
      "source": [
        "especificidade <- VN / (VN + FP)\n",
        "round(especificidade,3)"
      ],
      "execution_count": null,
      "outputs": [
        {
          "output_type": "display_data",
          "data": {
            "text/plain": [
              "[1] 0.994"
            ],
            "text/latex": "0.994",
            "text/markdown": "0.994",
            "text/html": [
              "0.994"
            ]
          },
          "metadata": {}
        }
      ]
    },
    {
      "cell_type": "markdown",
      "metadata": {
        "id": "ikeljgilhcDj"
      },
      "source": [
        "## Árvore de Decisão"
      ]
    },
    {
      "cell_type": "markdown",
      "metadata": {
        "id": "85JzcwIarFP6"
      },
      "source": [
        "CONSIDERAÇÕES SOBRE ÁRVORES DE DECISÃO:\n",
        "\n",
        "i. É um modelo de Aprendizado Supervisionado\n",
        "\n",
        "ii. Permite empregar dados categóricos diretamente sem transformações\n",
        "\n",
        "iii. A escolha do atributo raíz é dada pela entropia e ganho de informaçao que a variável proporciona\n",
        "\n",
        "iv. Os nós da árvore têm todos a mesma estrutura. Os nós são os \n",
        "atributos, e seus ramos se dividem nos valores possíveis que esses \n",
        "atributos assumem.\n",
        "\n",
        "v. normalmente empregada uma discretização (binning) em valores contínuos\n",
        "\n",
        "vi. Se todas as instâncias que possuem determinado valor do atributo \n",
        "são da mesma classe, esse é um ramo que leva a um nó folha \n",
        "ou terminal, constituído dos valores do atributo classe. (atributo único que sozinho permite determinar a classe)\n"
      ]
    },
    {
      "cell_type": "code",
      "metadata": {
        "colab": {
          "base_uri": "https://localhost:8080/",
          "height": 204
        },
        "id": "w7N2XPZ4hUdV",
        "outputId": "742752e6-509f-4be3-d14a-d1e869441f3e"
      },
      "source": [
        "#Modelo\n",
        "modelo_arvore = ctree(class~.,data= train)\n",
        "\n",
        "# predict Output \n",
        "previsao_arvore = predict(modelo_arvore, test)\n",
        "previsao_arvore"
      ],
      "execution_count": null,
      "outputs": [
        {
          "output_type": "stream",
          "name": "stderr",
          "text": [
            "Warning message in factor_trafo(x):\n",
            "“factors at only one level may lead to problems”\n",
            "Warning message in factor_trafo(x):\n",
            "“factors at only one level may lead to problems”\n"
          ]
        },
        {
          "output_type": "display_data",
          "data": {
            "text/plain": [
              "   [1] p p p e e e e e p e p p p p e e e p p e e e p p p e e e p p p e e e e e e\n",
              "  [38] p e p e e e e p e e e p e p e e e e e e e e e p e e p p e e p e p p e p e\n",
              "  [75] e e e e e p e e p p e p e e e p p p e e e p p p p p p e e e e e p p p e e\n",
              " [112] e e e p e e p p p e p e e p e e e e p e e e e e e e p e e e e e e p e e e\n",
              " [149] e p p e e p e e e e e e e e p e e e e e p p e p e p e e e p e e e e e e p\n",
              " [186] e p e p e p p e e e p e p e e p e e e e e e e e p p p p p e p e p e e p e\n",
              " [223] e e e p p e p p e p e e p p p e p p p p e e e p e p p p p p e p p e e p p\n",
              " [260] e p e e e p e p p e e p e e e e p p e e p p e e p p p p p p p e e e p p e\n",
              " [297] e p p e p e p p e p p p p e p e p e e e e e e e p p p e p p p p e p p e e\n",
              " [334] e e p p p e p p p e p p p e e p e p e p p p e p p p p p e p p e p p e e p\n",
              " [371] e e e e p e e e e e e e p e p p p p e p e p e p p p e e e e e p e e e e e\n",
              " [408] p p p p p e e p e e e p p p e e p p p p e e p e e p e p e e p e e p p e p\n",
              " [445] p p p e p e p e p e e p p p p e e e p p e e p p e e p e e e e e p p e p e\n",
              " [482] e e p p p e e e p e e e p e e p p p p p e p e e p e p e e p e e e p e e p\n",
              " [519] e p p e p p p e p p p p p p e p e p e e e p e e p e e e p p p p p e e p e\n",
              " [556] p e p p e p p p p p p p e e e p e e e e e p e e e e p e p p p p p p p p p\n",
              " [593] e e e e e p p p p e p e e p p e e e p p e p p e p p e e e p p p e p e p e\n",
              " [630] p p p e p p p p e p e e p e e e e e p p p e e p e e e e e e p e p p p p p\n",
              " [667] e p e e p p e e p p e e p e p e p e p p p p e p p p e e e p e p p e p p e\n",
              " [704] p e p p p p p e p e p p e p e p e p p e e p p p e e e p p e p e p e e e e\n",
              " [741] p p e e e p e e e p e p e e p p p p p p p e p e p p p e e e e e e p e p p\n",
              " [778] p p e p p p e e e p e e e e e e e p e p e p e e e e p e p p e e p e p p p\n",
              " [815] e e e e p e e e p p p e e e e e p p p e e e e e p p p p p e e e p p e e p\n",
              " [852] p p e e e e p p p e p e e e e e e e p e e p p p p p e e p p p e e e e e p\n",
              " [889] p e p p e e e e e p e e p e e e p e e e p p p e e e e p e p p p p e e p e\n",
              " [926] e p p p e e p e e p p p e e p p p e e p p p p e e e e p p p p p e p p e e\n",
              " [963] e p e e e p p e e p e e p e p e e p p p p e p p p p p e e e e p p e e p p\n",
              "[1000] e e e e e p e p p e p e p e p p p e p e e e p e e p e p e e p e p p p e e\n",
              "[1037] e p e e p e p e p e e e p p p p e p p e p p p e p p e p p p p e p p p p e\n",
              "[1074] e p p e p p e p p p p e e e p p e e e e e p e e e e p e p p p e p e e p e\n",
              "[1111] p p p e e p p p e p p e e p e e p e p p e p p p e e e p e p e p p p p p p\n",
              "[1148] p e p e p e p e p p e p e e e e e e e e e e p e p p p p p e p e e e p e e\n",
              "[1185] e e p e e e p p e p e e e e p p e p p e p p p e e p p p e p e p p e e e e\n",
              "[1222] p p e e p e p e p p p e p p e e e e e e p p p p p p p e p e p p e e e e e\n",
              "[1259] p p p e p p e p e e p p e e e e e e e e e p e p p e p e e p p p p p p e p\n",
              "[1296] e e p e e p p e e p e e p p e p e e e e p p p p p e e e e e p p p e e p e\n",
              "[1333] p e p p p e p p p e e e e e e p e p e e p p p p e p e e e p e p p p p p e\n",
              "[1370] p e e e p p e p e p e e e p e e e p p p e p p e p p e p p p p e e p e p e\n",
              "[1407] p p p e e e p p p e p e p e e e p e e e e e e p e e e e p p e p p p p p p\n",
              "[1444] e e e e p e p p p e p p e e e e p p e e e p p p e p p e p p e e e e p p e\n",
              "[1481] e e p e p p e p e p e p e p p p p p p p e p e e e e e p p p p p p e p e e\n",
              "[1518] e p e e e p e e e p e e e e e p e p p p e e p e e e p e e e e e e p e e p\n",
              "[1555] p p e e e e e p p e e e p e e e e e e e p e p e e p e p p p e e e e e e e\n",
              "[1592] e p p e p e p p p p p e p e e p e p e e p e p e p p e p e e p e p p e p e\n",
              "[1629] e e p p p e p p e e p e e e e e p p p p p p p e p e p e p p e e e p p e e\n",
              "[1666] p p e p e e e p p p p e p e p p p e p e p e p p e p p e p e p e e e e e e\n",
              "[1703] e p e e p p e p p p p p p p e p p p p e e e e p p e p e e p p e e e e p p\n",
              "[1740] p e p e e p p e e p p e e p e e e e p e e p p p e e p p p p p e p e e p p\n",
              "[1777] p p e p e p p e p p e p p p p p e p p e p p e e e e e p p p e p e e p p e\n",
              "[1814] e p p e p p p e p e p e p p p p e e e p e e p p e p e e e p e p e e p p p\n",
              "[1851] e e p e p p p e e e e e p p p p e p p p p e e p e e p p e e p e e p p e p\n",
              "[1888] p p p e e e e e p e p e e p p p p e p p p p e e p e p e e p e e e e p p p\n",
              "[1925] e p e p p e p p e e p e e p p p p p e p e p p e p e e p e p e p p p e p p\n",
              "[1962] p p e p p p p p p e p e p p e e p p e p e p e p e e e e p e e e e e p p e\n",
              "[1999] e p e p p e p e p e p p p p e e e e e e e e p e p e e p e p p e p p p e p\n",
              "[2036] p p e p e e e p p p p p e e p e e p p e e e p e p p p p p p e e p e p e p\n",
              "[2073] e e e e p e p p p p e e e p e p e p p e p p e p e e p e e e e p e p e p e\n",
              "[2110] p p p p e e e e e p p p p e p p p e e e e p p e e e e p p e p p e e e e p\n",
              "[2147] e p p e p e p p p p e e p e e p e e p e p e p p p p p p e p e e p p e e p\n",
              "[2184] e p e e p p p p e e e p e e p p e e e p p p p p e p e p e e p e e e e e p\n",
              "[2221] p e p p p e p e p p e e p e p e p e e p p p p e p e e e p e e p e p e p e\n",
              "[2258] p e p p p e e e e e p e p p p p p e e e e e p e e p p p p p p e p p p e e\n",
              "[2295] e e p p e p e p p e p e e p e e p p e e p p p p e e e e p p e e e e e e e\n",
              "[2332] p e e e e e p p p p p e p p e p p e p e p e p e p p p e e e e p p p p e p\n",
              "[2369] e p p e e p e e p p p e p e e p e e e p p e p e e p p p e p e p p p e e p\n",
              "[2406] e e e p p e p e e p p e e e p e p p p e e e e p p p p p p e e p e e e e p\n",
              "[2443] e e e p p p e p p p p e p e e p e e e p p e e e p e p e e p e e p p e e e\n",
              "[2480] p e e p e e p e p p p e e p e e p e p p p e p p p e e p e e e e p e e p p\n",
              "[2517] e e p p p p p p p e e p e e e e e e p p p p e p e e p p e e p e e e p e p\n",
              "[2554] p e e p e e e p p p e p e p p e e p e e p p e p p e e p p e p p e e e p p\n",
              "[2591] p e e e p p p p p e e p p e p e p p p p e p p p p p p p p p p e p e e p p\n",
              "[2628] e e e e p e e e p p p e p p e p p e p p e e e e p p p p p e p p p e e p e\n",
              "[2665] p p e e e e e p p p e e e e p p e e e e p p e p p p e p p p e e p p p e e\n",
              "[2702] p p p e p p p\n",
              "Levels: e p"
            ],
            "text/latex": "\\begin{enumerate*}\n\\item p\n\\item p\n\\item p\n\\item e\n\\item e\n\\item e\n\\item e\n\\item e\n\\item p\n\\item e\n\\item p\n\\item p\n\\item p\n\\item p\n\\item e\n\\item e\n\\item e\n\\item p\n\\item p\n\\item e\n\\item e\n\\item e\n\\item p\n\\item p\n\\item p\n\\item e\n\\item e\n\\item e\n\\item p\n\\item p\n\\item p\n\\item e\n\\item e\n\\item e\n\\item e\n\\item e\n\\item e\n\\item p\n\\item e\n\\item p\n\\item e\n\\item e\n\\item e\n\\item e\n\\item p\n\\item e\n\\item e\n\\item e\n\\item p\n\\item e\n\\item p\n\\item e\n\\item e\n\\item e\n\\item e\n\\item e\n\\item e\n\\item e\n\\item e\n\\item e\n\\item p\n\\item e\n\\item e\n\\item p\n\\item p\n\\item e\n\\item e\n\\item p\n\\item e\n\\item p\n\\item p\n\\item e\n\\item p\n\\item e\n\\item e\n\\item e\n\\item e\n\\item e\n\\item e\n\\item p\n\\item e\n\\item e\n\\item p\n\\item p\n\\item e\n\\item p\n\\item e\n\\item e\n\\item e\n\\item p\n\\item p\n\\item p\n\\item e\n\\item e\n\\item e\n\\item p\n\\item p\n\\item p\n\\item p\n\\item p\n\\item p\n\\item e\n\\item e\n\\item e\n\\item e\n\\item e\n\\item p\n\\item p\n\\item p\n\\item e\n\\item e\n\\item e\n\\item e\n\\item e\n\\item p\n\\item e\n\\item e\n\\item p\n\\item p\n\\item p\n\\item e\n\\item p\n\\item e\n\\item e\n\\item p\n\\item e\n\\item e\n\\item e\n\\item e\n\\item p\n\\item e\n\\item e\n\\item e\n\\item e\n\\item e\n\\item e\n\\item e\n\\item p\n\\item e\n\\item e\n\\item e\n\\item e\n\\item e\n\\item e\n\\item p\n\\item e\n\\item e\n\\item e\n\\item e\n\\item p\n\\item p\n\\item e\n\\item e\n\\item p\n\\item e\n\\item e\n\\item e\n\\item e\n\\item e\n\\item e\n\\item e\n\\item e\n\\item p\n\\item e\n\\item e\n\\item e\n\\item e\n\\item e\n\\item p\n\\item p\n\\item e\n\\item p\n\\item e\n\\item p\n\\item e\n\\item e\n\\item e\n\\item p\n\\item e\n\\item e\n\\item e\n\\item e\n\\item e\n\\item e\n\\item p\n\\item e\n\\item p\n\\item e\n\\item p\n\\item e\n\\item p\n\\item p\n\\item e\n\\item e\n\\item e\n\\item p\n\\item e\n\\item p\n\\item e\n\\item e\n\\item ⋯\n\\item e\n\\item e\n\\item e\n\\item p\n\\item e\n\\item e\n\\item p\n\\item p\n\\item e\n\\item e\n\\item p\n\\item p\n\\item p\n\\item p\n\\item p\n\\item p\n\\item p\n\\item e\n\\item e\n\\item p\n\\item e\n\\item e\n\\item e\n\\item e\n\\item e\n\\item e\n\\item p\n\\item p\n\\item p\n\\item p\n\\item e\n\\item p\n\\item e\n\\item e\n\\item p\n\\item p\n\\item e\n\\item e\n\\item p\n\\item e\n\\item e\n\\item e\n\\item p\n\\item e\n\\item p\n\\item p\n\\item e\n\\item e\n\\item p\n\\item e\n\\item e\n\\item e\n\\item p\n\\item p\n\\item p\n\\item e\n\\item p\n\\item e\n\\item p\n\\item p\n\\item e\n\\item e\n\\item p\n\\item e\n\\item e\n\\item p\n\\item p\n\\item e\n\\item p\n\\item p\n\\item e\n\\item e\n\\item p\n\\item p\n\\item e\n\\item p\n\\item p\n\\item e\n\\item e\n\\item e\n\\item p\n\\item p\n\\item p\n\\item e\n\\item e\n\\item e\n\\item p\n\\item p\n\\item p\n\\item p\n\\item p\n\\item e\n\\item e\n\\item p\n\\item p\n\\item e\n\\item p\n\\item e\n\\item p\n\\item p\n\\item p\n\\item p\n\\item e\n\\item p\n\\item p\n\\item p\n\\item p\n\\item p\n\\item p\n\\item p\n\\item p\n\\item p\n\\item p\n\\item e\n\\item p\n\\item e\n\\item e\n\\item p\n\\item p\n\\item e\n\\item e\n\\item e\n\\item e\n\\item p\n\\item e\n\\item e\n\\item e\n\\item p\n\\item p\n\\item p\n\\item e\n\\item p\n\\item p\n\\item e\n\\item p\n\\item p\n\\item e\n\\item p\n\\item p\n\\item e\n\\item e\n\\item e\n\\item e\n\\item p\n\\item p\n\\item p\n\\item p\n\\item p\n\\item e\n\\item p\n\\item p\n\\item p\n\\item e\n\\item e\n\\item p\n\\item e\n\\item p\n\\item p\n\\item e\n\\item e\n\\item e\n\\item e\n\\item e\n\\item p\n\\item p\n\\item p\n\\item e\n\\item e\n\\item e\n\\item e\n\\item p\n\\item p\n\\item e\n\\item e\n\\item e\n\\item e\n\\item p\n\\item p\n\\item e\n\\item p\n\\item p\n\\item p\n\\item e\n\\item p\n\\item p\n\\item p\n\\item e\n\\item e\n\\item p\n\\item p\n\\item p\n\\item e\n\\item e\n\\item p\n\\item p\n\\item p\n\\item e\n\\item p\n\\item p\n\\item p\n\\end{enumerate*}\n\n\\emph{Levels}: \\begin{enumerate*}\n\\item 'e'\n\\item 'p'\n\\end{enumerate*}\n",
            "text/markdown": "1. p\n2. p\n3. p\n4. e\n5. e\n6. e\n7. e\n8. e\n9. p\n10. e\n11. p\n12. p\n13. p\n14. p\n15. e\n16. e\n17. e\n18. p\n19. p\n20. e\n21. e\n22. e\n23. p\n24. p\n25. p\n26. e\n27. e\n28. e\n29. p\n30. p\n31. p\n32. e\n33. e\n34. e\n35. e\n36. e\n37. e\n38. p\n39. e\n40. p\n41. e\n42. e\n43. e\n44. e\n45. p\n46. e\n47. e\n48. e\n49. p\n50. e\n51. p\n52. e\n53. e\n54. e\n55. e\n56. e\n57. e\n58. e\n59. e\n60. e\n61. p\n62. e\n63. e\n64. p\n65. p\n66. e\n67. e\n68. p\n69. e\n70. p\n71. p\n72. e\n73. p\n74. e\n75. e\n76. e\n77. e\n78. e\n79. e\n80. p\n81. e\n82. e\n83. p\n84. p\n85. e\n86. p\n87. e\n88. e\n89. e\n90. p\n91. p\n92. p\n93. e\n94. e\n95. e\n96. p\n97. p\n98. p\n99. p\n100. p\n101. p\n102. e\n103. e\n104. e\n105. e\n106. e\n107. p\n108. p\n109. p\n110. e\n111. e\n112. e\n113. e\n114. e\n115. p\n116. e\n117. e\n118. p\n119. p\n120. p\n121. e\n122. p\n123. e\n124. e\n125. p\n126. e\n127. e\n128. e\n129. e\n130. p\n131. e\n132. e\n133. e\n134. e\n135. e\n136. e\n137. e\n138. p\n139. e\n140. e\n141. e\n142. e\n143. e\n144. e\n145. p\n146. e\n147. e\n148. e\n149. e\n150. p\n151. p\n152. e\n153. e\n154. p\n155. e\n156. e\n157. e\n158. e\n159. e\n160. e\n161. e\n162. e\n163. p\n164. e\n165. e\n166. e\n167. e\n168. e\n169. p\n170. p\n171. e\n172. p\n173. e\n174. p\n175. e\n176. e\n177. e\n178. p\n179. e\n180. e\n181. e\n182. e\n183. e\n184. e\n185. p\n186. e\n187. p\n188. e\n189. p\n190. e\n191. p\n192. p\n193. e\n194. e\n195. e\n196. p\n197. e\n198. p\n199. e\n200. e\n201. ⋯\n202. e\n203. e\n204. e\n205. p\n206. e\n207. e\n208. p\n209. p\n210. e\n211. e\n212. p\n213. p\n214. p\n215. p\n216. p\n217. p\n218. p\n219. e\n220. e\n221. p\n222. e\n223. e\n224. e\n225. e\n226. e\n227. e\n228. p\n229. p\n230. p\n231. p\n232. e\n233. p\n234. e\n235. e\n236. p\n237. p\n238. e\n239. e\n240. p\n241. e\n242. e\n243. e\n244. p\n245. e\n246. p\n247. p\n248. e\n249. e\n250. p\n251. e\n252. e\n253. e\n254. p\n255. p\n256. p\n257. e\n258. p\n259. e\n260. p\n261. p\n262. e\n263. e\n264. p\n265. e\n266. e\n267. p\n268. p\n269. e\n270. p\n271. p\n272. e\n273. e\n274. p\n275. p\n276. e\n277. p\n278. p\n279. e\n280. e\n281. e\n282. p\n283. p\n284. p\n285. e\n286. e\n287. e\n288. p\n289. p\n290. p\n291. p\n292. p\n293. e\n294. e\n295. p\n296. p\n297. e\n298. p\n299. e\n300. p\n301. p\n302. p\n303. p\n304. e\n305. p\n306. p\n307. p\n308. p\n309. p\n310. p\n311. p\n312. p\n313. p\n314. p\n315. e\n316. p\n317. e\n318. e\n319. p\n320. p\n321. e\n322. e\n323. e\n324. e\n325. p\n326. e\n327. e\n328. e\n329. p\n330. p\n331. p\n332. e\n333. p\n334. p\n335. e\n336. p\n337. p\n338. e\n339. p\n340. p\n341. e\n342. e\n343. e\n344. e\n345. p\n346. p\n347. p\n348. p\n349. p\n350. e\n351. p\n352. p\n353. p\n354. e\n355. e\n356. p\n357. e\n358. p\n359. p\n360. e\n361. e\n362. e\n363. e\n364. e\n365. p\n366. p\n367. p\n368. e\n369. e\n370. e\n371. e\n372. p\n373. p\n374. e\n375. e\n376. e\n377. e\n378. p\n379. p\n380. e\n381. p\n382. p\n383. p\n384. e\n385. p\n386. p\n387. p\n388. e\n389. e\n390. p\n391. p\n392. p\n393. e\n394. e\n395. p\n396. p\n397. p\n398. e\n399. p\n400. p\n401. p\n\n\n\n**Levels**: 1. 'e'\n2. 'p'\n\n\n",
            "text/html": [
              "<style>\n",
              ".list-inline {list-style: none; margin:0; padding: 0}\n",
              ".list-inline>li {display: inline-block}\n",
              ".list-inline>li:not(:last-child)::after {content: \"\\00b7\"; padding: 0 .5ex}\n",
              "</style>\n",
              "<ol class=list-inline><li>p</li><li>p</li><li>p</li><li>e</li><li>e</li><li>e</li><li>e</li><li>e</li><li>p</li><li>e</li><li>p</li><li>p</li><li>p</li><li>p</li><li>e</li><li>e</li><li>e</li><li>p</li><li>p</li><li>e</li><li>e</li><li>e</li><li>p</li><li>p</li><li>p</li><li>e</li><li>e</li><li>e</li><li>p</li><li>p</li><li>p</li><li>e</li><li>e</li><li>e</li><li>e</li><li>e</li><li>e</li><li>p</li><li>e</li><li>p</li><li>e</li><li>e</li><li>e</li><li>e</li><li>p</li><li>e</li><li>e</li><li>e</li><li>p</li><li>e</li><li>p</li><li>e</li><li>e</li><li>e</li><li>e</li><li>e</li><li>e</li><li>e</li><li>e</li><li>e</li><li>p</li><li>e</li><li>e</li><li>p</li><li>p</li><li>e</li><li>e</li><li>p</li><li>e</li><li>p</li><li>p</li><li>e</li><li>p</li><li>e</li><li>e</li><li>e</li><li>e</li><li>e</li><li>e</li><li>p</li><li>e</li><li>e</li><li>p</li><li>p</li><li>e</li><li>p</li><li>e</li><li>e</li><li>e</li><li>p</li><li>p</li><li>p</li><li>e</li><li>e</li><li>e</li><li>p</li><li>p</li><li>p</li><li>p</li><li>p</li><li>p</li><li>e</li><li>e</li><li>e</li><li>e</li><li>e</li><li>p</li><li>p</li><li>p</li><li>e</li><li>e</li><li>e</li><li>e</li><li>e</li><li>p</li><li>e</li><li>e</li><li>p</li><li>p</li><li>p</li><li>e</li><li>p</li><li>e</li><li>e</li><li>p</li><li>e</li><li>e</li><li>e</li><li>e</li><li>p</li><li>e</li><li>e</li><li>e</li><li>e</li><li>e</li><li>e</li><li>e</li><li>p</li><li>e</li><li>e</li><li>e</li><li>e</li><li>e</li><li>e</li><li>p</li><li>e</li><li>e</li><li>e</li><li>e</li><li>p</li><li>p</li><li>e</li><li>e</li><li>p</li><li>e</li><li>e</li><li>e</li><li>e</li><li>e</li><li>e</li><li>e</li><li>e</li><li>p</li><li>e</li><li>e</li><li>e</li><li>e</li><li>e</li><li>p</li><li>p</li><li>e</li><li>p</li><li>e</li><li>p</li><li>e</li><li>e</li><li>e</li><li>p</li><li>e</li><li>e</li><li>e</li><li>e</li><li>e</li><li>e</li><li>p</li><li>e</li><li>p</li><li>e</li><li>p</li><li>e</li><li>p</li><li>p</li><li>e</li><li>e</li><li>e</li><li>p</li><li>e</li><li>p</li><li>e</li><li>e</li><li>⋯</li><li>e</li><li>e</li><li>e</li><li>p</li><li>e</li><li>e</li><li>p</li><li>p</li><li>e</li><li>e</li><li>p</li><li>p</li><li>p</li><li>p</li><li>p</li><li>p</li><li>p</li><li>e</li><li>e</li><li>p</li><li>e</li><li>e</li><li>e</li><li>e</li><li>e</li><li>e</li><li>p</li><li>p</li><li>p</li><li>p</li><li>e</li><li>p</li><li>e</li><li>e</li><li>p</li><li>p</li><li>e</li><li>e</li><li>p</li><li>e</li><li>e</li><li>e</li><li>p</li><li>e</li><li>p</li><li>p</li><li>e</li><li>e</li><li>p</li><li>e</li><li>e</li><li>e</li><li>p</li><li>p</li><li>p</li><li>e</li><li>p</li><li>e</li><li>p</li><li>p</li><li>e</li><li>e</li><li>p</li><li>e</li><li>e</li><li>p</li><li>p</li><li>e</li><li>p</li><li>p</li><li>e</li><li>e</li><li>p</li><li>p</li><li>e</li><li>p</li><li>p</li><li>e</li><li>e</li><li>e</li><li>p</li><li>p</li><li>p</li><li>e</li><li>e</li><li>e</li><li>p</li><li>p</li><li>p</li><li>p</li><li>p</li><li>e</li><li>e</li><li>p</li><li>p</li><li>e</li><li>p</li><li>e</li><li>p</li><li>p</li><li>p</li><li>p</li><li>e</li><li>p</li><li>p</li><li>p</li><li>p</li><li>p</li><li>p</li><li>p</li><li>p</li><li>p</li><li>p</li><li>e</li><li>p</li><li>e</li><li>e</li><li>p</li><li>p</li><li>e</li><li>e</li><li>e</li><li>e</li><li>p</li><li>e</li><li>e</li><li>e</li><li>p</li><li>p</li><li>p</li><li>e</li><li>p</li><li>p</li><li>e</li><li>p</li><li>p</li><li>e</li><li>p</li><li>p</li><li>e</li><li>e</li><li>e</li><li>e</li><li>p</li><li>p</li><li>p</li><li>p</li><li>p</li><li>e</li><li>p</li><li>p</li><li>p</li><li>e</li><li>e</li><li>p</li><li>e</li><li>p</li><li>p</li><li>e</li><li>e</li><li>e</li><li>e</li><li>e</li><li>p</li><li>p</li><li>p</li><li>e</li><li>e</li><li>e</li><li>e</li><li>p</li><li>p</li><li>e</li><li>e</li><li>e</li><li>e</li><li>p</li><li>p</li><li>e</li><li>p</li><li>p</li><li>p</li><li>e</li><li>p</li><li>p</li><li>p</li><li>e</li><li>e</li><li>p</li><li>p</li><li>p</li><li>e</li><li>e</li><li>p</li><li>p</li><li>p</li><li>e</li><li>p</li><li>p</li><li>p</li></ol>\n",
              "\n",
              "<details>\n",
              "\t<summary style=display:list-item;cursor:pointer>\n",
              "\t\t<strong>Levels</strong>:\n",
              "\t</summary>\n",
              "\t<style>\n",
              "\t.list-inline {list-style: none; margin:0; padding: 0}\n",
              "\t.list-inline>li {display: inline-block}\n",
              "\t.list-inline>li:not(:last-child)::after {content: \"\\00b7\"; padding: 0 .5ex}\n",
              "\t</style>\n",
              "\t<ol class=list-inline><li>'e'</li><li>'p'</li></ol>\n",
              "</details>"
            ]
          },
          "metadata": {}
        }
      ]
    },
    {
      "cell_type": "code",
      "metadata": {
        "id": "gfmxPpYMhuuU",
        "colab": {
          "base_uri": "https://localhost:8080/",
          "height": 436
        },
        "outputId": "81994b80-70e6-4859-98e6-1710f31592fe"
      },
      "source": [
        "plot(modelo_arvore)"
      ],
      "execution_count": null,
      "outputs": [
        {
          "output_type": "display_data",
          "data": {
            "image/png": "[encoded data removed]",
            "text/plain": [
              "plot without title"
            ]
          },
          "metadata": {
            "image/png": {
              "width": 420,
              "height": 420
            }
          }
        }
      ]
    },
    {
      "cell_type": "markdown",
      "metadata": {
        "id": "AaUSva5cynQG"
      },
      "source": [
        "Verifica-se que dos 23 atributos apenas 7 estão presentes na árvore e os demais foram podados. A poda, eliminação  de alguns nós ou níveis, é frequentemente usada para aumentar a generalidade do modelo e reduzir o sobreajuste."
      ]
    },
    {
      "cell_type": "code",
      "metadata": {
        "id": "p5QfSuXViCCD",
        "colab": {
          "base_uri": "https://localhost:8080/"
        },
        "outputId": "eb9e98b4-f52e-4005-a62f-b16bd7fc81d1"
      },
      "source": [
        "# matriz de confus�o\n",
        "matconf = table(previsao_arvore,test$class, dnn = list(\"Previsto\", \"Real\"))\n",
        "print(matconf)\n"
      ],
      "execution_count": null,
      "outputs": [
        {
          "output_type": "stream",
          "name": "stdout",
          "text": [
            "        Real\n",
            "Previsto    e    p\n",
            "       e 1373    3\n",
            "       p    0 1332\n"
          ]
        }
      ]
    },
    {
      "cell_type": "code",
      "metadata": {
        "id": "y3TTw5GziCCG"
      },
      "source": [
        "VP <- matconf[4]\n",
        "VN <- matconf[1]\n",
        "FP <- matconf[2]\n",
        "FN <- matconf[3]\n",
        "P <- VP + FN\n",
        "N <- VN + FP"
      ],
      "execution_count": null,
      "outputs": []
    },
    {
      "cell_type": "code",
      "metadata": {
        "id": "56nONXkeiCCI",
        "colab": {
          "base_uri": "https://localhost:8080/",
          "height": 116
        },
        "outputId": "fe0f557e-bc5a-4a58-e31e-adde54868d84"
      },
      "source": [
        "glue('Verdadeiro Positivo = {VP}')\n",
        "glue('Verdadeiro Negativo = {VN}')\n",
        "glue('Falso Positivo =      {FP}')\n",
        "glue('Falso Negativo =      {FN}')\n",
        "glue('Número de eventos = {P}')\n",
        "glue('Número de não eventos = {N}')"
      ],
      "execution_count": null,
      "outputs": [
        {
          "output_type": "display_data",
          "data": {
            "text/plain": [
              "Verdadeiro Positivo = 1332"
            ],
            "text/latex": "'Verdadeiro Positivo = 1332'",
            "text/markdown": "'Verdadeiro Positivo = 1332'",
            "text/html": [
              "'Verdadeiro Positivo = 1332'"
            ]
          },
          "metadata": {}
        },
        {
          "output_type": "display_data",
          "data": {
            "text/plain": [
              "Verdadeiro Negativo = 1373"
            ],
            "text/latex": "'Verdadeiro Negativo = 1373'",
            "text/markdown": "'Verdadeiro Negativo = 1373'",
            "text/html": [
              "'Verdadeiro Negativo = 1373'"
            ]
          },
          "metadata": {}
        },
        {
          "output_type": "display_data",
          "data": {
            "text/plain": [
              "Falso Positivo =      0"
            ],
            "text/latex": "'Falso Positivo =      0'",
            "text/markdown": "<span style=white-space:pre-wrap>'Falso Positivo =      0'</span>",
            "text/html": [
              "<span style=white-space:pre-wrap>'Falso Positivo =      0'</span>"
            ]
          },
          "metadata": {}
        },
        {
          "output_type": "display_data",
          "data": {
            "text/plain": [
              "Falso Negativo =      3"
            ],
            "text/latex": "'Falso Negativo =      3'",
            "text/markdown": "<span style=white-space:pre-wrap>'Falso Negativo =      3'</span>",
            "text/html": [
              "<span style=white-space:pre-wrap>'Falso Negativo =      3'</span>"
            ]
          },
          "metadata": {}
        },
        {
          "output_type": "display_data",
          "data": {
            "text/plain": [
              "Número de eventos = 1335"
            ],
            "text/latex": "'Número de eventos = 1335'",
            "text/markdown": "'Número de eventos = 1335'",
            "text/html": [
              "'Número de eventos = 1335'"
            ]
          },
          "metadata": {}
        },
        {
          "output_type": "display_data",
          "data": {
            "text/plain": [
              "Número de não eventos = 1373"
            ],
            "text/latex": "'Número de não eventos = 1373'",
            "text/markdown": "'Número de não eventos = 1373'",
            "text/html": [
              "'Número de não eventos = 1373'"
            ]
          },
          "metadata": {}
        }
      ]
    },
    {
      "cell_type": "code",
      "metadata": {
        "id": "6pW7IcDliCCK",
        "colab": {
          "base_uri": "https://localhost:8080/",
          "height": 33
        },
        "outputId": "668c4e2b-68ab-4985-f3cb-af65dea5e14c"
      },
      "source": [
        "acuracia <- (VN + VP) / (P + N) \n",
        "round(acuracia,3)"
      ],
      "execution_count": null,
      "outputs": [
        {
          "output_type": "display_data",
          "data": {
            "text/plain": [
              "[1] 0.999"
            ],
            "text/latex": "0.999",
            "text/markdown": "0.999",
            "text/html": [
              "0.999"
            ]
          },
          "metadata": {}
        }
      ]
    },
    {
      "cell_type": "code",
      "metadata": {
        "id": "96VceHNsiCCL",
        "colab": {
          "base_uri": "https://localhost:8080/",
          "height": 33
        },
        "outputId": "1dcc2646-c990-4878-aa3c-bdbe5cef47b4"
      },
      "source": [
        "sensibilidade <- VP / (VP + FN)\n",
        "round(sensibilidade,3)"
      ],
      "execution_count": null,
      "outputs": [
        {
          "output_type": "display_data",
          "data": {
            "text/plain": [
              "[1] 0.998"
            ],
            "text/latex": "0.998",
            "text/markdown": "0.998",
            "text/html": [
              "0.998"
            ]
          },
          "metadata": {}
        }
      ]
    },
    {
      "cell_type": "code",
      "metadata": {
        "id": "7QbmhzkciCCM",
        "colab": {
          "base_uri": "https://localhost:8080/",
          "height": 33
        },
        "outputId": "0fdc300b-8221-4816-f27d-109dff910899"
      },
      "source": [
        "especificidade <- VN / (VN + FP)\n",
        "round(especificidade,3)"
      ],
      "execution_count": null,
      "outputs": [
        {
          "output_type": "display_data",
          "data": {
            "text/plain": [
              "[1] 1"
            ],
            "text/latex": "1",
            "text/markdown": "1",
            "text/html": [
              "1"
            ]
          },
          "metadata": {}
        }
      ]
    },
    {
      "cell_type": "markdown",
      "metadata": {
        "id": "WCt8fv92zaPd"
      },
      "source": [
        "Sobre Random Forests:\n",
        "\n",
        "A ideia é que um grande conjunto de dados pode ser particionado, \n",
        "em geral aleatoriamente para evitar viés dos conjuntos dados, e \n",
        "podemos treinar a árvore em separado para cada conjunto. A vantagem é paralelisar o processamento tornando o mais rápido, outra vantagem é que ao obter a média de diferentes processamentos o modelo tenderá a ser mais generalizado, evitando o overfitting."
      ]
    }
  ]
}