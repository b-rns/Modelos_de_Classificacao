{
  "nbformat": 4,
  "nbformat_minor": 0,
  "metadata": {
    "colab": {
      "name": "NaiveBayes_DecisionTree_credito.ipynb",
      "provenance": [],
      "collapsed_sections": [
        "flkvuBRb4oXt",
        "EJ_i3G2iqA92",
        "Ulat2ZRDhYG2",
        "ikeljgilhcDj"
      ]
    },
    "kernelspec": {
      "name": "ir",
      "display_name": "R"
    },
    "language_info": {
      "name": "R"
    }
  },
  "cells": [
    {
      "cell_type": "markdown",
      "source": [
        "## Modelos de Naive Bayes e Árvores de Decisão \n",
        "\n",
        "Aplicados à dados de crédito bancário\n",
        "\n"
      ],
      "metadata": {
        "id": "flkvuBRb4oXt"
      }
    },
    {
      "cell_type": "code",
      "metadata": {
        "colab": {
          "base_uri": "https://localhost:8080/"
        },
        "id": "j6dpC62dMUCi",
        "outputId": "df0e9233-0505-4944-9231-735330249692"
      },
      "source": [
        "install.packages(\"e1071\") \n",
        "install.packages(\"party\")\n",
        "\n",
        "library(party)\n",
        "library(e1071) # modelo arvore\n",
        "library(dplyr) # Analises estatisticas\n",
        "library(ggplot2) # Exploração Gráfica\n",
        "library(glue) # print especial"
      ],
      "execution_count": null,
      "outputs": [
        {
          "output_type": "stream",
          "name": "stderr",
          "text": [
            "Installing package into ‘/usr/local/lib/R/site-library’\n",
            "(as ‘lib’ is unspecified)\n",
            "\n",
            "Installing package into ‘/usr/local/lib/R/site-library’\n",
            "(as ‘lib’ is unspecified)\n",
            "\n"
          ]
        }
      ]
    },
    {
      "cell_type": "markdown",
      "metadata": {
        "id": "EJ_i3G2iqA92"
      },
      "source": [
        "## Dados de crédito"
      ]
    },
    {
      "cell_type": "code",
      "metadata": {
        "id": "BrPywGoBfC70"
      },
      "source": [
        "credit = read.csv(\"https://www.openml.org/data/get_csv/29/dataset_29_credit-a.arff\",\n",
        "\t\t\theader=T,\n",
        "\t\t\tstringsAsFactors=TRUE) "
      ],
      "execution_count": null,
      "outputs": []
    },
    {
      "cell_type": "code",
      "metadata": {
        "colab": {
          "base_uri": "https://localhost:8080/",
          "height": 274
        },
        "id": "P2i2GJ-bfDyC",
        "outputId": "7db3c016-92f7-4e28-b999-9959e51575e2"
      },
      "source": [
        "head(credit)"
      ],
      "execution_count": null,
      "outputs": [
        {
          "output_type": "display_data",
          "data": {
            "text/plain": [
              "  A1 A2    A3    A4 A5 A6 A7 A8   A9 A10 A11 A12 A13 A14   A15 class\n",
              "1 b  30.83 0.000 u  g  w  v  1.25 t  t   1   f   g   00202   0 +    \n",
              "2 a  58.67 4.460 u  g  q  h  3.04 t  t   6   f   g   00043 560 +    \n",
              "3 a  24.50 0.500 u  g  q  h  1.50 t  f   0   f   g   00280 824 +    \n",
              "4 b  27.83 1.540 u  g  w  v  3.75 t  t   5   t   g   00100   3 +    \n",
              "5 b  20.17 5.625 u  g  w  v  1.71 t  f   0   f   s   00120   0 +    \n",
              "6 b  32.08 4.000 u  g  m  v  2.50 t  f   0   t   g   00360   0 +    "
            ],
            "text/latex": "A data.frame: 6 × 16\n\\begin{tabular}{r|llllllllllllllll}\n  & A1 & A2 & A3 & A4 & A5 & A6 & A7 & A8 & A9 & A10 & A11 & A12 & A13 & A14 & A15 & class\\\\\n  & <fct> & <fct> & <dbl> & <fct> & <fct> & <fct> & <fct> & <dbl> & <fct> & <fct> & <int> & <fct> & <fct> & <fct> & <int> & <fct>\\\\\n\\hline\n\t1 & b & 30.83 & 0.000 & u & g & w & v & 1.25 & t & t & 1 & f & g & 00202 &   0 & +\\\\\n\t2 & a & 58.67 & 4.460 & u & g & q & h & 3.04 & t & t & 6 & f & g & 00043 & 560 & +\\\\\n\t3 & a & 24.50 & 0.500 & u & g & q & h & 1.50 & t & f & 0 & f & g & 00280 & 824 & +\\\\\n\t4 & b & 27.83 & 1.540 & u & g & w & v & 3.75 & t & t & 5 & t & g & 00100 &   3 & +\\\\\n\t5 & b & 20.17 & 5.625 & u & g & w & v & 1.71 & t & f & 0 & f & s & 00120 &   0 & +\\\\\n\t6 & b & 32.08 & 4.000 & u & g & m & v & 2.50 & t & f & 0 & t & g & 00360 &   0 & +\\\\\n\\end{tabular}\n",
            "text/markdown": "\nA data.frame: 6 × 16\n\n| <!--/--> | A1 &lt;fct&gt; | A2 &lt;fct&gt; | A3 &lt;dbl&gt; | A4 &lt;fct&gt; | A5 &lt;fct&gt; | A6 &lt;fct&gt; | A7 &lt;fct&gt; | A8 &lt;dbl&gt; | A9 &lt;fct&gt; | A10 &lt;fct&gt; | A11 &lt;int&gt; | A12 &lt;fct&gt; | A13 &lt;fct&gt; | A14 &lt;fct&gt; | A15 &lt;int&gt; | class &lt;fct&gt; |\n|---|---|---|---|---|---|---|---|---|---|---|---|---|---|---|---|---|\n| 1 | b | 30.83 | 0.000 | u | g | w | v | 1.25 | t | t | 1 | f | g | 00202 |   0 | + |\n| 2 | a | 58.67 | 4.460 | u | g | q | h | 3.04 | t | t | 6 | f | g | 00043 | 560 | + |\n| 3 | a | 24.50 | 0.500 | u | g | q | h | 1.50 | t | f | 0 | f | g | 00280 | 824 | + |\n| 4 | b | 27.83 | 1.540 | u | g | w | v | 3.75 | t | t | 5 | t | g | 00100 |   3 | + |\n| 5 | b | 20.17 | 5.625 | u | g | w | v | 1.71 | t | f | 0 | f | s | 00120 |   0 | + |\n| 6 | b | 32.08 | 4.000 | u | g | m | v | 2.50 | t | f | 0 | t | g | 00360 |   0 | + |\n\n",
            "text/html": [
              "<table class=\"dataframe\">\n",
              "<caption>A data.frame: 6 × 16</caption>\n",
              "<thead>\n",
              "\t<tr><th></th><th scope=col>A1</th><th scope=col>A2</th><th scope=col>A3</th><th scope=col>A4</th><th scope=col>A5</th><th scope=col>A6</th><th scope=col>A7</th><th scope=col>A8</th><th scope=col>A9</th><th scope=col>A10</th><th scope=col>A11</th><th scope=col>A12</th><th scope=col>A13</th><th scope=col>A14</th><th scope=col>A15</th><th scope=col>class</th></tr>\n",
              "\t<tr><th></th><th scope=col>&lt;fct&gt;</th><th scope=col>&lt;fct&gt;</th><th scope=col>&lt;dbl&gt;</th><th scope=col>&lt;fct&gt;</th><th scope=col>&lt;fct&gt;</th><th scope=col>&lt;fct&gt;</th><th scope=col>&lt;fct&gt;</th><th scope=col>&lt;dbl&gt;</th><th scope=col>&lt;fct&gt;</th><th scope=col>&lt;fct&gt;</th><th scope=col>&lt;int&gt;</th><th scope=col>&lt;fct&gt;</th><th scope=col>&lt;fct&gt;</th><th scope=col>&lt;fct&gt;</th><th scope=col>&lt;int&gt;</th><th scope=col>&lt;fct&gt;</th></tr>\n",
              "</thead>\n",
              "<tbody>\n",
              "\t<tr><th scope=row>1</th><td>b</td><td>30.83</td><td>0.000</td><td>u</td><td>g</td><td>w</td><td>v</td><td>1.25</td><td>t</td><td>t</td><td>1</td><td>f</td><td>g</td><td>00202</td><td>  0</td><td>+</td></tr>\n",
              "\t<tr><th scope=row>2</th><td>a</td><td>58.67</td><td>4.460</td><td>u</td><td>g</td><td>q</td><td>h</td><td>3.04</td><td>t</td><td>t</td><td>6</td><td>f</td><td>g</td><td>00043</td><td>560</td><td>+</td></tr>\n",
              "\t<tr><th scope=row>3</th><td>a</td><td>24.50</td><td>0.500</td><td>u</td><td>g</td><td>q</td><td>h</td><td>1.50</td><td>t</td><td>f</td><td>0</td><td>f</td><td>g</td><td>00280</td><td>824</td><td>+</td></tr>\n",
              "\t<tr><th scope=row>4</th><td>b</td><td>27.83</td><td>1.540</td><td>u</td><td>g</td><td>w</td><td>v</td><td>3.75</td><td>t</td><td>t</td><td>5</td><td>t</td><td>g</td><td>00100</td><td>  3</td><td>+</td></tr>\n",
              "\t<tr><th scope=row>5</th><td>b</td><td>20.17</td><td>5.625</td><td>u</td><td>g</td><td>w</td><td>v</td><td>1.71</td><td>t</td><td>f</td><td>0</td><td>f</td><td>s</td><td>00120</td><td>  0</td><td>+</td></tr>\n",
              "\t<tr><th scope=row>6</th><td>b</td><td>32.08</td><td>4.000</td><td>u</td><td>g</td><td>m</td><td>v</td><td>2.50</td><td>t</td><td>f</td><td>0</td><td>t</td><td>g</td><td>00360</td><td>  0</td><td>+</td></tr>\n",
              "</tbody>\n",
              "</table>\n"
            ]
          },
          "metadata": {}
        }
      ]
    },
    {
      "cell_type": "code",
      "metadata": {
        "colab": {
          "base_uri": "https://localhost:8080/"
        },
        "id": "-kEhsSLMfF49",
        "outputId": "a6cd4def-022f-47f6-8345-c2d7ef2f4101"
      },
      "source": [
        "RNGversion(\"3.5.2\")\n",
        "set.seed(1987)\n",
        "\n",
        "# Elimina valores NA\n",
        "credit[credit[]==\"?\"]=NA\n",
        "credit=na.omit(credit)\n",
        "\n"
      ],
      "execution_count": null,
      "outputs": [
        {
          "output_type": "stream",
          "name": "stderr",
          "text": [
            "Warning message in RNGkind(\"Mersenne-Twister\", \"Inversion\", \"Rounding\"):\n",
            "“non-uniform 'Rounding' sampler used”\n"
          ]
        }
      ]
    },
    {
      "cell_type": "markdown",
      "metadata": {
        "id": "Ulat2ZRDhYG2"
      },
      "source": [
        "## Naive Bayes"
      ]
    },
    {
      "cell_type": "code",
      "metadata": {
        "id": "7q5l6fR3f5sJ"
      },
      "source": [
        "# Gera Conjuntos de Treinamento e Teste\n",
        "L <- sample(1:nrow(credit),round(nrow(credit)/3))\n",
        "train <- credit[-L,]\n",
        "test <- credit[L,]"
      ],
      "execution_count": null,
      "outputs": []
    },
    {
      "cell_type": "code",
      "metadata": {
        "colab": {
          "base_uri": "https://localhost:8080/",
          "height": 83
        },
        "id": "K7Yt3ei2gLqM",
        "outputId": "67a7fabf-457e-4ec7-ee3b-f6223694f1c6"
      },
      "source": [
        "fitBayes = naiveBayes(class~.,data=train,laplace=1)\n",
        "\n",
        "# predict Output \n",
        "predBayes = predict(fitBayes, test)\n",
        "predBayes"
      ],
      "execution_count": null,
      "outputs": [
        {
          "output_type": "display_data",
          "data": {
            "text/plain": [
              "  [1] + + - - - - - + - - - + - + + - - - + + - - - - - + + + - - - - + - - + -\n",
              " [38] - + - + - - - + - + - - - - - - + + - - + + - - + - - - + - - - - - - + +\n",
              " [75] + + + + - - + + - + - - + - - - + - - + + - - - - - - - - + - - + + - - +\n",
              "[112] - - + - + + - - - + - - + - + - - - - - - - + - - - - + + + - + - + - - -\n",
              "[149] - - - - + + + + + - - - + + - - - - - - - - - - - - - + - - + - - - + - -\n",
              "[186] + - - - - - - - + - - + - - - - + + + - - + + + - - - - - + - - -\n",
              "Levels: - +"
            ],
            "text/latex": "\\begin{enumerate*}\n\\item +\n\\item +\n\\item -\n\\item -\n\\item -\n\\item -\n\\item -\n\\item +\n\\item -\n\\item -\n\\item -\n\\item +\n\\item -\n\\item +\n\\item +\n\\item -\n\\item -\n\\item -\n\\item +\n\\item +\n\\item -\n\\item -\n\\item -\n\\item -\n\\item -\n\\item +\n\\item +\n\\item +\n\\item -\n\\item -\n\\item -\n\\item -\n\\item +\n\\item -\n\\item -\n\\item +\n\\item -\n\\item -\n\\item +\n\\item -\n\\item +\n\\item -\n\\item -\n\\item -\n\\item +\n\\item -\n\\item +\n\\item -\n\\item -\n\\item -\n\\item -\n\\item -\n\\item -\n\\item +\n\\item +\n\\item -\n\\item -\n\\item +\n\\item +\n\\item -\n\\item -\n\\item +\n\\item -\n\\item -\n\\item -\n\\item +\n\\item -\n\\item -\n\\item -\n\\item -\n\\item -\n\\item -\n\\item +\n\\item +\n\\item +\n\\item +\n\\item +\n\\item +\n\\item -\n\\item -\n\\item +\n\\item +\n\\item -\n\\item +\n\\item -\n\\item -\n\\item +\n\\item -\n\\item -\n\\item -\n\\item +\n\\item -\n\\item -\n\\item +\n\\item +\n\\item -\n\\item -\n\\item -\n\\item -\n\\item -\n\\item -\n\\item -\n\\item -\n\\item +\n\\item -\n\\item -\n\\item +\n\\item +\n\\item -\n\\item -\n\\item +\n\\item -\n\\item -\n\\item +\n\\item -\n\\item +\n\\item +\n\\item -\n\\item -\n\\item -\n\\item +\n\\item -\n\\item -\n\\item +\n\\item -\n\\item +\n\\item -\n\\item -\n\\item -\n\\item -\n\\item -\n\\item -\n\\item -\n\\item +\n\\item -\n\\item -\n\\item -\n\\item -\n\\item +\n\\item +\n\\item +\n\\item -\n\\item +\n\\item -\n\\item +\n\\item -\n\\item -\n\\item -\n\\item -\n\\item -\n\\item -\n\\item -\n\\item +\n\\item +\n\\item +\n\\item +\n\\item +\n\\item -\n\\item -\n\\item -\n\\item +\n\\item +\n\\item -\n\\item -\n\\item -\n\\item -\n\\item -\n\\item -\n\\item -\n\\item -\n\\item -\n\\item -\n\\item -\n\\item -\n\\item -\n\\item +\n\\item -\n\\item -\n\\item +\n\\item -\n\\item -\n\\item -\n\\item +\n\\item -\n\\item -\n\\item +\n\\item -\n\\item -\n\\item -\n\\item -\n\\item -\n\\item -\n\\item -\n\\item +\n\\item -\n\\item -\n\\item +\n\\item -\n\\item -\n\\item -\n\\item -\n\\item +\n\\item +\n\\item +\n\\item -\n\\item -\n\\item +\n\\item +\n\\item +\n\\item -\n\\item -\n\\item -\n\\item -\n\\item -\n\\item +\n\\item -\n\\item -\n\\item -\n\\end{enumerate*}\n\n\\emph{Levels}: \\begin{enumerate*}\n\\item '-'\n\\item '+'\n\\end{enumerate*}\n",
            "text/markdown": "1. +\n2. +\n3. -\n4. -\n5. -\n6. -\n7. -\n8. +\n9. -\n10. -\n11. -\n12. +\n13. -\n14. +\n15. +\n16. -\n17. -\n18. -\n19. +\n20. +\n21. -\n22. -\n23. -\n24. -\n25. -\n26. +\n27. +\n28. +\n29. -\n30. -\n31. -\n32. -\n33. +\n34. -\n35. -\n36. +\n37. -\n38. -\n39. +\n40. -\n41. +\n42. -\n43. -\n44. -\n45. +\n46. -\n47. +\n48. -\n49. -\n50. -\n51. -\n52. -\n53. -\n54. +\n55. +\n56. -\n57. -\n58. +\n59. +\n60. -\n61. -\n62. +\n63. -\n64. -\n65. -\n66. +\n67. -\n68. -\n69. -\n70. -\n71. -\n72. -\n73. +\n74. +\n75. +\n76. +\n77. +\n78. +\n79. -\n80. -\n81. +\n82. +\n83. -\n84. +\n85. -\n86. -\n87. +\n88. -\n89. -\n90. -\n91. +\n92. -\n93. -\n94. +\n95. +\n96. -\n97. -\n98. -\n99. -\n100. -\n101. -\n102. -\n103. -\n104. +\n105. -\n106. -\n107. +\n108. +\n109. -\n110. -\n111. +\n112. -\n113. -\n114. +\n115. -\n116. +\n117. +\n118. -\n119. -\n120. -\n121. +\n122. -\n123. -\n124. +\n125. -\n126. +\n127. -\n128. -\n129. -\n130. -\n131. -\n132. -\n133. -\n134. +\n135. -\n136. -\n137. -\n138. -\n139. +\n140. +\n141. +\n142. -\n143. +\n144. -\n145. +\n146. -\n147. -\n148. -\n149. -\n150. -\n151. -\n152. -\n153. +\n154. +\n155. +\n156. +\n157. +\n158. -\n159. -\n160. -\n161. +\n162. +\n163. -\n164. -\n165. -\n166. -\n167. -\n168. -\n169. -\n170. -\n171. -\n172. -\n173. -\n174. -\n175. -\n176. +\n177. -\n178. -\n179. +\n180. -\n181. -\n182. -\n183. +\n184. -\n185. -\n186. +\n187. -\n188. -\n189. -\n190. -\n191. -\n192. -\n193. -\n194. +\n195. -\n196. -\n197. +\n198. -\n199. -\n200. -\n201. -\n202. +\n203. +\n204. +\n205. -\n206. -\n207. +\n208. +\n209. +\n210. -\n211. -\n212. -\n213. -\n214. -\n215. +\n216. -\n217. -\n218. -\n\n\n\n**Levels**: 1. '-'\n2. '+'\n\n\n",
            "text/html": [
              "<style>\n",
              ".list-inline {list-style: none; margin:0; padding: 0}\n",
              ".list-inline>li {display: inline-block}\n",
              ".list-inline>li:not(:last-child)::after {content: \"\\00b7\"; padding: 0 .5ex}\n",
              "</style>\n",
              "<ol class=list-inline><li>+</li><li>+</li><li>-</li><li>-</li><li>-</li><li>-</li><li>-</li><li>+</li><li>-</li><li>-</li><li>-</li><li>+</li><li>-</li><li>+</li><li>+</li><li>-</li><li>-</li><li>-</li><li>+</li><li>+</li><li>-</li><li>-</li><li>-</li><li>-</li><li>-</li><li>+</li><li>+</li><li>+</li><li>-</li><li>-</li><li>-</li><li>-</li><li>+</li><li>-</li><li>-</li><li>+</li><li>-</li><li>-</li><li>+</li><li>-</li><li>+</li><li>-</li><li>-</li><li>-</li><li>+</li><li>-</li><li>+</li><li>-</li><li>-</li><li>-</li><li>-</li><li>-</li><li>-</li><li>+</li><li>+</li><li>-</li><li>-</li><li>+</li><li>+</li><li>-</li><li>-</li><li>+</li><li>-</li><li>-</li><li>-</li><li>+</li><li>-</li><li>-</li><li>-</li><li>-</li><li>-</li><li>-</li><li>+</li><li>+</li><li>+</li><li>+</li><li>+</li><li>+</li><li>-</li><li>-</li><li>+</li><li>+</li><li>-</li><li>+</li><li>-</li><li>-</li><li>+</li><li>-</li><li>-</li><li>-</li><li>+</li><li>-</li><li>-</li><li>+</li><li>+</li><li>-</li><li>-</li><li>-</li><li>-</li><li>-</li><li>-</li><li>-</li><li>-</li><li>+</li><li>-</li><li>-</li><li>+</li><li>+</li><li>-</li><li>-</li><li>+</li><li>-</li><li>-</li><li>+</li><li>-</li><li>+</li><li>+</li><li>-</li><li>-</li><li>-</li><li>+</li><li>-</li><li>-</li><li>+</li><li>-</li><li>+</li><li>-</li><li>-</li><li>-</li><li>-</li><li>-</li><li>-</li><li>-</li><li>+</li><li>-</li><li>-</li><li>-</li><li>-</li><li>+</li><li>+</li><li>+</li><li>-</li><li>+</li><li>-</li><li>+</li><li>-</li><li>-</li><li>-</li><li>-</li><li>-</li><li>-</li><li>-</li><li>+</li><li>+</li><li>+</li><li>+</li><li>+</li><li>-</li><li>-</li><li>-</li><li>+</li><li>+</li><li>-</li><li>-</li><li>-</li><li>-</li><li>-</li><li>-</li><li>-</li><li>-</li><li>-</li><li>-</li><li>-</li><li>-</li><li>-</li><li>+</li><li>-</li><li>-</li><li>+</li><li>-</li><li>-</li><li>-</li><li>+</li><li>-</li><li>-</li><li>+</li><li>-</li><li>-</li><li>-</li><li>-</li><li>-</li><li>-</li><li>-</li><li>+</li><li>-</li><li>-</li><li>+</li><li>-</li><li>-</li><li>-</li><li>-</li><li>+</li><li>+</li><li>+</li><li>-</li><li>-</li><li>+</li><li>+</li><li>+</li><li>-</li><li>-</li><li>-</li><li>-</li><li>-</li><li>+</li><li>-</li><li>-</li><li>-</li></ol>\n",
              "\n",
              "<details>\n",
              "\t<summary style=display:list-item;cursor:pointer>\n",
              "\t\t<strong>Levels</strong>:\n",
              "\t</summary>\n",
              "\t<style>\n",
              "\t.list-inline {list-style: none; margin:0; padding: 0}\n",
              "\t.list-inline>li {display: inline-block}\n",
              "\t.list-inline>li:not(:last-child)::after {content: \"\\00b7\"; padding: 0 .5ex}\n",
              "\t</style>\n",
              "\t<ol class=list-inline><li>'-'</li><li>'+'</li></ol>\n",
              "</details>"
            ]
          },
          "metadata": {}
        }
      ]
    },
    {
      "cell_type": "code",
      "metadata": {
        "colab": {
          "base_uri": "https://localhost:8080/"
        },
        "id": "o8EhYSnjfjNb",
        "outputId": "f4289825-4566-4a4e-c0b6-04238c974cfc"
      },
      "source": [
        "# matriz de confus�o\n",
        "matconf = table(predBayes,test$class, dnn = list(\"Previsto\", \"Real\"))\n",
        "print(matconf)\n"
      ],
      "execution_count": null,
      "outputs": [
        {
          "output_type": "stream",
          "name": "stdout",
          "text": [
            "        Real\n",
            "Previsto  -  +\n",
            "       - 83 63\n",
            "       + 39 33\n"
          ]
        }
      ]
    },
    {
      "cell_type": "code",
      "metadata": {
        "id": "z1w32Bo-f1S0"
      },
      "source": [
        "VP <- matconf[4]\n",
        "VN <- matconf[1]\n",
        "FP <- matconf[2]\n",
        "FN <- matconf[3]\n",
        "P <- VP + FN\n",
        "N <- VN + FP"
      ],
      "execution_count": null,
      "outputs": []
    },
    {
      "cell_type": "code",
      "metadata": {
        "colab": {
          "base_uri": "https://localhost:8080/",
          "height": 116
        },
        "id": "WiQrqroBhA9t",
        "outputId": "a73feed3-042c-4b44-f9d5-e91ae35a54dd"
      },
      "source": [
        "glue('Verdadeiro Positivo = {VP}')\n",
        "glue('Verdadeiro Negativo = {VN}')\n",
        "glue('Falso Positivo =      {FP}')\n",
        "glue('Falso Negativo =      {FN}')\n",
        "glue('Número de eventos = {P}')\n",
        "glue('Número de não eventos = {N}')"
      ],
      "execution_count": null,
      "outputs": [
        {
          "output_type": "display_data",
          "data": {
            "text/plain": [
              "Verdadeiro Positivo = 33"
            ],
            "text/latex": "'Verdadeiro Positivo = 33'",
            "text/markdown": "'Verdadeiro Positivo = 33'",
            "text/html": [
              "'Verdadeiro Positivo = 33'"
            ]
          },
          "metadata": {}
        },
        {
          "output_type": "display_data",
          "data": {
            "text/plain": [
              "Verdadeiro Negativo = 83"
            ],
            "text/latex": "'Verdadeiro Negativo = 83'",
            "text/markdown": "'Verdadeiro Negativo = 83'",
            "text/html": [
              "'Verdadeiro Negativo = 83'"
            ]
          },
          "metadata": {}
        },
        {
          "output_type": "display_data",
          "data": {
            "text/plain": [
              "Falso Positivo =      39"
            ],
            "text/latex": "'Falso Positivo =      39'",
            "text/markdown": "<span style=white-space:pre-wrap>'Falso Positivo =      39'</span>",
            "text/html": [
              "<span style=white-space:pre-wrap>'Falso Positivo =      39'</span>"
            ]
          },
          "metadata": {}
        },
        {
          "output_type": "display_data",
          "data": {
            "text/plain": [
              "Falso Negativo =      63"
            ],
            "text/latex": "'Falso Negativo =      63'",
            "text/markdown": "<span style=white-space:pre-wrap>'Falso Negativo =      63'</span>",
            "text/html": [
              "<span style=white-space:pre-wrap>'Falso Negativo =      63'</span>"
            ]
          },
          "metadata": {}
        },
        {
          "output_type": "display_data",
          "data": {
            "text/plain": [
              "Número de eventos = 96"
            ],
            "text/latex": "'Número de eventos = 96'",
            "text/markdown": "'Número de eventos = 96'",
            "text/html": [
              "'Número de eventos = 96'"
            ]
          },
          "metadata": {}
        },
        {
          "output_type": "display_data",
          "data": {
            "text/plain": [
              "Número de não eventos = 122"
            ],
            "text/latex": "'Número de não eventos = 122'",
            "text/markdown": "'Número de não eventos = 122'",
            "text/html": [
              "'Número de não eventos = 122'"
            ]
          },
          "metadata": {}
        }
      ]
    },
    {
      "cell_type": "code",
      "metadata": {
        "colab": {
          "base_uri": "https://localhost:8080/",
          "height": 33
        },
        "id": "3d7joxfrhEEM",
        "outputId": "8cfeed4a-1758-4743-8979-4af2201b7df3"
      },
      "source": [
        "acuracia <- (VN + VP) / (P + N) \n",
        "round(acuracia,3)"
      ],
      "execution_count": null,
      "outputs": [
        {
          "output_type": "display_data",
          "data": {
            "text/plain": [
              "[1] 0.532"
            ],
            "text/latex": "0.532",
            "text/markdown": "0.532",
            "text/html": [
              "0.532"
            ]
          },
          "metadata": {}
        }
      ]
    },
    {
      "cell_type": "code",
      "metadata": {
        "colab": {
          "base_uri": "https://localhost:8080/",
          "height": 33
        },
        "id": "LM5dMFjChMUD",
        "outputId": "9a8b602f-a77b-489d-d94a-0b8f09120aad"
      },
      "source": [
        "sensibilidade <- VP / (VP + FN)\n",
        "round(sensibilidade,3)"
      ],
      "execution_count": null,
      "outputs": [
        {
          "output_type": "display_data",
          "data": {
            "text/plain": [
              "[1] 0.344"
            ],
            "text/latex": "0.344",
            "text/markdown": "0.344",
            "text/html": [
              "0.344"
            ]
          },
          "metadata": {}
        }
      ]
    },
    {
      "cell_type": "code",
      "metadata": {
        "colab": {
          "base_uri": "https://localhost:8080/",
          "height": 33
        },
        "id": "i6GSxwPGhPfo",
        "outputId": "481f81de-5b67-417f-f748-a1b873d56c0f"
      },
      "source": [
        "especificidade <- VN / (VN + FP)\n",
        "round(especificidade,3)"
      ],
      "execution_count": null,
      "outputs": [
        {
          "output_type": "display_data",
          "data": {
            "text/plain": [
              "[1] 0.68"
            ],
            "text/latex": "0.68",
            "text/markdown": "0.68",
            "text/html": [
              "0.68"
            ]
          },
          "metadata": {}
        }
      ]
    },
    {
      "cell_type": "markdown",
      "metadata": {
        "id": "ikeljgilhcDj"
      },
      "source": [
        "## Árvore de Decisão"
      ]
    },
    {
      "cell_type": "code",
      "metadata": {
        "colab": {
          "base_uri": "https://localhost:8080/",
          "height": 83
        },
        "id": "w7N2XPZ4hUdV",
        "outputId": "63fac032-4c89-4aaf-de63-5a735272d151"
      },
      "source": [
        "#Modelo\n",
        "\n",
        "modelo_arvore = ctree(class~.,data=train)\n",
        "\n",
        "# predict Output \n",
        "previsao_arvore = predict(modelo_arvore, test)\n",
        "previsao_arvore"
      ],
      "execution_count": null,
      "outputs": [
        {
          "output_type": "display_data",
          "data": {
            "text/plain": [
              "  [1] + - - + - + - + + - + - + - + - + - - + + + - - + - - - + - - - + + - + -\n",
              " [38] - + - - + + + - + - - + - - + - + + + + + + + - + - + + - - + + - - + - -\n",
              " [75] + + - - + - - + - + + + - + + + - - + + + - + + + + + + - + - + + - - - +\n",
              "[112] - - + - + + + - + + + - - + - - - + + + - + + + - - + - + - - + + - - + +\n",
              "[149] + + + - - + - + - + + + - - + - - - - + - - - + + - + + - - - + + - + - +\n",
              "[186] + + + - + - - - + + - - - - + - + + + + - + - - + + + + + - + - +\n",
              "Levels: - +"
            ],
            "text/latex": "\\begin{enumerate*}\n\\item +\n\\item -\n\\item -\n\\item +\n\\item -\n\\item +\n\\item -\n\\item +\n\\item +\n\\item -\n\\item +\n\\item -\n\\item +\n\\item -\n\\item +\n\\item -\n\\item +\n\\item -\n\\item -\n\\item +\n\\item +\n\\item +\n\\item -\n\\item -\n\\item +\n\\item -\n\\item -\n\\item -\n\\item +\n\\item -\n\\item -\n\\item -\n\\item +\n\\item +\n\\item -\n\\item +\n\\item -\n\\item -\n\\item +\n\\item -\n\\item -\n\\item +\n\\item +\n\\item +\n\\item -\n\\item +\n\\item -\n\\item -\n\\item +\n\\item -\n\\item -\n\\item +\n\\item -\n\\item +\n\\item +\n\\item +\n\\item +\n\\item +\n\\item +\n\\item +\n\\item -\n\\item +\n\\item -\n\\item +\n\\item +\n\\item -\n\\item -\n\\item +\n\\item +\n\\item -\n\\item -\n\\item +\n\\item -\n\\item -\n\\item +\n\\item +\n\\item -\n\\item -\n\\item +\n\\item -\n\\item -\n\\item +\n\\item -\n\\item +\n\\item +\n\\item +\n\\item -\n\\item +\n\\item +\n\\item +\n\\item -\n\\item -\n\\item +\n\\item +\n\\item +\n\\item -\n\\item +\n\\item +\n\\item +\n\\item +\n\\item +\n\\item +\n\\item -\n\\item +\n\\item -\n\\item +\n\\item +\n\\item -\n\\item -\n\\item -\n\\item +\n\\item -\n\\item -\n\\item +\n\\item -\n\\item +\n\\item +\n\\item +\n\\item -\n\\item +\n\\item +\n\\item +\n\\item -\n\\item -\n\\item +\n\\item -\n\\item -\n\\item -\n\\item +\n\\item +\n\\item +\n\\item -\n\\item +\n\\item +\n\\item +\n\\item -\n\\item -\n\\item +\n\\item -\n\\item +\n\\item -\n\\item -\n\\item +\n\\item +\n\\item -\n\\item -\n\\item +\n\\item +\n\\item +\n\\item +\n\\item +\n\\item -\n\\item -\n\\item +\n\\item -\n\\item +\n\\item -\n\\item +\n\\item +\n\\item +\n\\item -\n\\item -\n\\item +\n\\item -\n\\item -\n\\item -\n\\item -\n\\item +\n\\item -\n\\item -\n\\item -\n\\item +\n\\item +\n\\item -\n\\item +\n\\item +\n\\item -\n\\item -\n\\item -\n\\item +\n\\item +\n\\item -\n\\item +\n\\item -\n\\item +\n\\item +\n\\item +\n\\item +\n\\item -\n\\item +\n\\item -\n\\item -\n\\item -\n\\item +\n\\item +\n\\item -\n\\item -\n\\item -\n\\item -\n\\item +\n\\item -\n\\item +\n\\item +\n\\item +\n\\item +\n\\item -\n\\item +\n\\item -\n\\item -\n\\item +\n\\item +\n\\item +\n\\item +\n\\item +\n\\item -\n\\item +\n\\item -\n\\item +\n\\end{enumerate*}\n\n\\emph{Levels}: \\begin{enumerate*}\n\\item '-'\n\\item '+'\n\\end{enumerate*}\n",
            "text/markdown": "1. +\n2. -\n3. -\n4. +\n5. -\n6. +\n7. -\n8. +\n9. +\n10. -\n11. +\n12. -\n13. +\n14. -\n15. +\n16. -\n17. +\n18. -\n19. -\n20. +\n21. +\n22. +\n23. -\n24. -\n25. +\n26. -\n27. -\n28. -\n29. +\n30. -\n31. -\n32. -\n33. +\n34. +\n35. -\n36. +\n37. -\n38. -\n39. +\n40. -\n41. -\n42. +\n43. +\n44. +\n45. -\n46. +\n47. -\n48. -\n49. +\n50. -\n51. -\n52. +\n53. -\n54. +\n55. +\n56. +\n57. +\n58. +\n59. +\n60. +\n61. -\n62. +\n63. -\n64. +\n65. +\n66. -\n67. -\n68. +\n69. +\n70. -\n71. -\n72. +\n73. -\n74. -\n75. +\n76. +\n77. -\n78. -\n79. +\n80. -\n81. -\n82. +\n83. -\n84. +\n85. +\n86. +\n87. -\n88. +\n89. +\n90. +\n91. -\n92. -\n93. +\n94. +\n95. +\n96. -\n97. +\n98. +\n99. +\n100. +\n101. +\n102. +\n103. -\n104. +\n105. -\n106. +\n107. +\n108. -\n109. -\n110. -\n111. +\n112. -\n113. -\n114. +\n115. -\n116. +\n117. +\n118. +\n119. -\n120. +\n121. +\n122. +\n123. -\n124. -\n125. +\n126. -\n127. -\n128. -\n129. +\n130. +\n131. +\n132. -\n133. +\n134. +\n135. +\n136. -\n137. -\n138. +\n139. -\n140. +\n141. -\n142. -\n143. +\n144. +\n145. -\n146. -\n147. +\n148. +\n149. +\n150. +\n151. +\n152. -\n153. -\n154. +\n155. -\n156. +\n157. -\n158. +\n159. +\n160. +\n161. -\n162. -\n163. +\n164. -\n165. -\n166. -\n167. -\n168. +\n169. -\n170. -\n171. -\n172. +\n173. +\n174. -\n175. +\n176. +\n177. -\n178. -\n179. -\n180. +\n181. +\n182. -\n183. +\n184. -\n185. +\n186. +\n187. +\n188. +\n189. -\n190. +\n191. -\n192. -\n193. -\n194. +\n195. +\n196. -\n197. -\n198. -\n199. -\n200. +\n201. -\n202. +\n203. +\n204. +\n205. +\n206. -\n207. +\n208. -\n209. -\n210. +\n211. +\n212. +\n213. +\n214. +\n215. -\n216. +\n217. -\n218. +\n\n\n\n**Levels**: 1. '-'\n2. '+'\n\n\n",
            "text/html": [
              "<style>\n",
              ".list-inline {list-style: none; margin:0; padding: 0}\n",
              ".list-inline>li {display: inline-block}\n",
              ".list-inline>li:not(:last-child)::after {content: \"\\00b7\"; padding: 0 .5ex}\n",
              "</style>\n",
              "<ol class=list-inline><li>+</li><li>-</li><li>-</li><li>+</li><li>-</li><li>+</li><li>-</li><li>+</li><li>+</li><li>-</li><li>+</li><li>-</li><li>+</li><li>-</li><li>+</li><li>-</li><li>+</li><li>-</li><li>-</li><li>+</li><li>+</li><li>+</li><li>-</li><li>-</li><li>+</li><li>-</li><li>-</li><li>-</li><li>+</li><li>-</li><li>-</li><li>-</li><li>+</li><li>+</li><li>-</li><li>+</li><li>-</li><li>-</li><li>+</li><li>-</li><li>-</li><li>+</li><li>+</li><li>+</li><li>-</li><li>+</li><li>-</li><li>-</li><li>+</li><li>-</li><li>-</li><li>+</li><li>-</li><li>+</li><li>+</li><li>+</li><li>+</li><li>+</li><li>+</li><li>+</li><li>-</li><li>+</li><li>-</li><li>+</li><li>+</li><li>-</li><li>-</li><li>+</li><li>+</li><li>-</li><li>-</li><li>+</li><li>-</li><li>-</li><li>+</li><li>+</li><li>-</li><li>-</li><li>+</li><li>-</li><li>-</li><li>+</li><li>-</li><li>+</li><li>+</li><li>+</li><li>-</li><li>+</li><li>+</li><li>+</li><li>-</li><li>-</li><li>+</li><li>+</li><li>+</li><li>-</li><li>+</li><li>+</li><li>+</li><li>+</li><li>+</li><li>+</li><li>-</li><li>+</li><li>-</li><li>+</li><li>+</li><li>-</li><li>-</li><li>-</li><li>+</li><li>-</li><li>-</li><li>+</li><li>-</li><li>+</li><li>+</li><li>+</li><li>-</li><li>+</li><li>+</li><li>+</li><li>-</li><li>-</li><li>+</li><li>-</li><li>-</li><li>-</li><li>+</li><li>+</li><li>+</li><li>-</li><li>+</li><li>+</li><li>+</li><li>-</li><li>-</li><li>+</li><li>-</li><li>+</li><li>-</li><li>-</li><li>+</li><li>+</li><li>-</li><li>-</li><li>+</li><li>+</li><li>+</li><li>+</li><li>+</li><li>-</li><li>-</li><li>+</li><li>-</li><li>+</li><li>-</li><li>+</li><li>+</li><li>+</li><li>-</li><li>-</li><li>+</li><li>-</li><li>-</li><li>-</li><li>-</li><li>+</li><li>-</li><li>-</li><li>-</li><li>+</li><li>+</li><li>-</li><li>+</li><li>+</li><li>-</li><li>-</li><li>-</li><li>+</li><li>+</li><li>-</li><li>+</li><li>-</li><li>+</li><li>+</li><li>+</li><li>+</li><li>-</li><li>+</li><li>-</li><li>-</li><li>-</li><li>+</li><li>+</li><li>-</li><li>-</li><li>-</li><li>-</li><li>+</li><li>-</li><li>+</li><li>+</li><li>+</li><li>+</li><li>-</li><li>+</li><li>-</li><li>-</li><li>+</li><li>+</li><li>+</li><li>+</li><li>+</li><li>-</li><li>+</li><li>-</li><li>+</li></ol>\n",
              "\n",
              "<details>\n",
              "\t<summary style=display:list-item;cursor:pointer>\n",
              "\t\t<strong>Levels</strong>:\n",
              "\t</summary>\n",
              "\t<style>\n",
              "\t.list-inline {list-style: none; margin:0; padding: 0}\n",
              "\t.list-inline>li {display: inline-block}\n",
              "\t.list-inline>li:not(:last-child)::after {content: \"\\00b7\"; padding: 0 .5ex}\n",
              "\t</style>\n",
              "\t<ol class=list-inline><li>'-'</li><li>'+'</li></ol>\n",
              "</details>"
            ]
          },
          "metadata": {}
        }
      ]
    },
    {
      "cell_type": "code",
      "metadata": {
        "colab": {
          "base_uri": "https://localhost:8080/",
          "height": 436
        },
        "id": "gfmxPpYMhuuU",
        "outputId": "0a41f9e0-c363-4614-a293-47a5effaa1c4"
      },
      "source": [
        "plot(modelo_arvore)"
      ],
      "execution_count": null,
      "outputs": [
        {
          "output_type": "display_data",
          "data": {
            "image/png": "[encoded data removed]",
            "text/plain": [
              "plot without title"
            ]
          },
          "metadata": {
            "image/png": {
              "width": 420,
              "height": 420
            }
          }
        }
      ]
    },
    {
      "cell_type": "code",
      "metadata": {
        "colab": {
          "base_uri": "https://localhost:8080/"
        },
        "id": "p5QfSuXViCCD",
        "outputId": "b036dab7-d5c3-4031-be49-106fc83d8108"
      },
      "source": [
        "# matriz de confus�o\n",
        "matconf = table(previsao_arvore,test$class, dnn = list(\"Previsto\", \"Real\"))\n",
        "print(matconf)\n"
      ],
      "execution_count": null,
      "outputs": [
        {
          "output_type": "stream",
          "name": "stdout",
          "text": [
            "        Real\n",
            "Previsto  -  +\n",
            "       - 98  3\n",
            "       + 24 93\n"
          ]
        }
      ]
    },
    {
      "cell_type": "code",
      "metadata": {
        "id": "y3TTw5GziCCG"
      },
      "source": [
        "VP <- matconf[4]\n",
        "VN <- matconf[1]\n",
        "FP <- matconf[2]\n",
        "FN <- matconf[3]\n",
        "P <- VP + FN\n",
        "N <- VN + FP"
      ],
      "execution_count": null,
      "outputs": []
    },
    {
      "cell_type": "code",
      "metadata": {
        "colab": {
          "base_uri": "https://localhost:8080/",
          "height": 116
        },
        "id": "56nONXkeiCCI",
        "outputId": "899f0497-997c-4661-b154-e692a9d72e49"
      },
      "source": [
        "glue('Verdadeiro Positivo = {VP}')\n",
        "glue('Verdadeiro Negativo = {VN}')\n",
        "glue('Falso Positivo =      {FP}')\n",
        "glue('Falso Negativo =      {FN}')\n",
        "glue('Número de eventos = {P}')\n",
        "glue('Número de não eventos = {N}')"
      ],
      "execution_count": null,
      "outputs": [
        {
          "output_type": "display_data",
          "data": {
            "text/plain": [
              "Verdadeiro Positivo = 93"
            ],
            "text/latex": "'Verdadeiro Positivo = 93'",
            "text/markdown": "'Verdadeiro Positivo = 93'",
            "text/html": [
              "'Verdadeiro Positivo = 93'"
            ]
          },
          "metadata": {}
        },
        {
          "output_type": "display_data",
          "data": {
            "text/plain": [
              "Verdadeiro Negativo = 98"
            ],
            "text/latex": "'Verdadeiro Negativo = 98'",
            "text/markdown": "'Verdadeiro Negativo = 98'",
            "text/html": [
              "'Verdadeiro Negativo = 98'"
            ]
          },
          "metadata": {}
        },
        {
          "output_type": "display_data",
          "data": {
            "text/plain": [
              "Falso Positivo =      24"
            ],
            "text/latex": "'Falso Positivo =      24'",
            "text/markdown": "<span style=white-space:pre-wrap>'Falso Positivo =      24'</span>",
            "text/html": [
              "<span style=white-space:pre-wrap>'Falso Positivo =      24'</span>"
            ]
          },
          "metadata": {}
        },
        {
          "output_type": "display_data",
          "data": {
            "text/plain": [
              "Falso Negativo =      3"
            ],
            "text/latex": "'Falso Negativo =      3'",
            "text/markdown": "<span style=white-space:pre-wrap>'Falso Negativo =      3'</span>",
            "text/html": [
              "<span style=white-space:pre-wrap>'Falso Negativo =      3'</span>"
            ]
          },
          "metadata": {}
        },
        {
          "output_type": "display_data",
          "data": {
            "text/plain": [
              "Número de eventos = 96"
            ],
            "text/latex": "'Número de eventos = 96'",
            "text/markdown": "'Número de eventos = 96'",
            "text/html": [
              "'Número de eventos = 96'"
            ]
          },
          "metadata": {}
        },
        {
          "output_type": "display_data",
          "data": {
            "text/plain": [
              "Número de não eventos = 122"
            ],
            "text/latex": "'Número de não eventos = 122'",
            "text/markdown": "'Número de não eventos = 122'",
            "text/html": [
              "'Número de não eventos = 122'"
            ]
          },
          "metadata": {}
        }
      ]
    },
    {
      "cell_type": "code",
      "metadata": {
        "colab": {
          "base_uri": "https://localhost:8080/",
          "height": 33
        },
        "id": "6pW7IcDliCCK",
        "outputId": "dadde3b8-0c1b-4ed3-a512-ec905a4d1ab2"
      },
      "source": [
        "acuracia <- (VN + VP) / (P + N) \n",
        "round(acuracia,3)"
      ],
      "execution_count": null,
      "outputs": [
        {
          "output_type": "display_data",
          "data": {
            "text/plain": [
              "[1] 0.876"
            ],
            "text/latex": "0.876",
            "text/markdown": "0.876",
            "text/html": [
              "0.876"
            ]
          },
          "metadata": {}
        }
      ]
    },
    {
      "cell_type": "code",
      "metadata": {
        "colab": {
          "base_uri": "https://localhost:8080/",
          "height": 33
        },
        "id": "96VceHNsiCCL",
        "outputId": "e5cf82cf-a512-4bfa-b577-5dad92c1be8a"
      },
      "source": [
        "sensibilidade <- VP / (VP + FN)\n",
        "round(sensibilidade,3)"
      ],
      "execution_count": null,
      "outputs": [
        {
          "output_type": "display_data",
          "data": {
            "text/plain": [
              "[1] 0.969"
            ],
            "text/latex": "0.969",
            "text/markdown": "0.969",
            "text/html": [
              "0.969"
            ]
          },
          "metadata": {}
        }
      ]
    },
    {
      "cell_type": "code",
      "metadata": {
        "colab": {
          "base_uri": "https://localhost:8080/",
          "height": 33
        },
        "id": "7QbmhzkciCCM",
        "outputId": "968452b1-0617-4152-8d71-d5aa48f815d8"
      },
      "source": [
        "especificidade <- VN / (VN + FP)\n",
        "round(especificidade,3)"
      ],
      "execution_count": null,
      "outputs": [
        {
          "output_type": "display_data",
          "data": {
            "text/plain": [
              "[1] 0.803"
            ],
            "text/latex": "0.803",
            "text/markdown": "0.803",
            "text/html": [
              "0.803"
            ]
          },
          "metadata": {}
        }
      ]
    },
    {
      "cell_type": "code",
      "metadata": {
        "id": "6DYHdh5_ieLa"
      },
      "source": [
        ""
      ],
      "execution_count": null,
      "outputs": []
    }
  ]
}