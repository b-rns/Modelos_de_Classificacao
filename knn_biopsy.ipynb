{
  "nbformat": 4,
  "nbformat_minor": 0,
  "metadata": {
    "colab": {
      "name": "knn_biopsy.ipynb",
      "provenance": [],
      "collapsed_sections": [
        "TDsgbWgct4tj",
        "Ah0U8xMnZKwV",
        "ktEiCPGtwP1d",
        "sjp5MNMBnI3K",
        "8klG3UoEMd1_",
        "ZV9XvVXePA_M",
        "aRdOfuqma5Tz",
        "plMMGVjForOX"
      ]
    },
    "kernelspec": {
      "name": "ir",
      "display_name": "R"
    },
    "language_info": {
      "name": "R"
    }
  },
  "cells": [
    {
      "cell_type": "markdown",
      "metadata": {
        "id": "v8qz7hV_tx26"
      },
      "source": [
        "#**Knn para classificação de Breast Cancer Patients**\n",
        "\n",
        "Aplicando um modelo KNN sobre o dataframe biopsy (biblioteca MASS). Ele traz dados sobre biopsias e classifica seus resultados como benignos e malignos.\n",
        "\n",
        "Explorando a base e aplicando o modelo após inspecionar se existem atributos que não podem ser aplicados, se existe a necessidade de normalização ou transformação dos dados, tratar dados faltantes.Experimentando diferentes valores de K, calculando a acuracidade obtida sobre o conjunto de testes.\n",
        "\n",
        "Empregarei nesse modelo 1/3 de dados de teste e 2/3 para treino, neste exercício aplicarei a média de 100 diferentes execuções para obter a acuracidade final do modelo."
      ]
    },
    {
      "cell_type": "markdown",
      "metadata": {
        "id": "j6Pc-y6X91kc"
      },
      "source": [
        "OBSERVAÇÕES SOBRE O KNN NO R:\n",
        "\n",
        "i. É um modelo de Aprendizado Supervisionado\n",
        "\n",
        "ii. Os dados de entrada x ( x -- > y ) não podem ser categóricos (usar one hot encode quand neccessário)\n",
        "\n",
        "iii. A saída do modelo será a classe atribuída ao registro\n",
        "\n",
        "iv. Os dados devem estar na mesma escala (padronizados ou normalizados quando necessário)\n",
        "\n",
        "v. A avaliação do modelo é realizada com a matriz de confusão\n",
        "\n",
        "vi. Dados ausentes precisam ser tratados antes, outliers não necessáriamente"
      ]
    },
    {
      "cell_type": "markdown",
      "metadata": {
        "id": "TDsgbWgct4tj"
      },
      "source": [
        "## Preparação"
      ]
    },
    {
      "cell_type": "code",
      "metadata": {
        "colab": {
          "base_uri": "https://localhost:8080/"
        },
        "id": "rPPPis-RMk5T",
        "outputId": "04006251-4047-4fdb-9c64-6a37c91a2101"
      },
      "source": [
        "install.packages('caret')\n",
        "\n",
        "library(MASS)    # Biblioteca com a base de dados \"biopsy\" que será usada neste estudo\n",
        "library(dplyr)   # Analises estatisticas\n",
        "library(ggplot2) # Exploração Gráfica\n",
        "library(caret)   # Forma opcional de amostragem (CreateDataPartition) e matrix de confusão (confusionMatrix)\n",
        "library(class)   # Para usar a função knn() para o modelo de k-vizinhos mais próximos\n",
        "library(glue)    # print especial"
      ],
      "execution_count": null,
      "outputs": [
        {
          "output_type": "stream",
          "name": "stderr",
          "text": [
            "Installing package into ‘/usr/local/lib/R/site-library’\n",
            "(as ‘lib’ is unspecified)\n",
            "\n",
            "also installing the dependencies ‘listenv’, ‘parallelly’, ‘future’, ‘globals’, ‘future.apply’, ‘progressr’, ‘numDeriv’, ‘SQUAREM’, ‘lava’, ‘prodlim’, ‘proxy’, ‘iterators’, ‘gower’, ‘ipred’, ‘timeDate’, ‘e1071’, ‘foreach’, ‘ModelMetrics’, ‘plyr’, ‘pROC’, ‘recipes’, ‘reshape2’\n",
            "\n",
            "\n",
            "\n",
            "Attaching package: ‘dplyr’\n",
            "\n",
            "\n",
            "The following object is masked from ‘package:MASS’:\n",
            "\n",
            "    select\n",
            "\n",
            "\n",
            "The following objects are masked from ‘package:stats’:\n",
            "\n",
            "    filter, lag\n",
            "\n",
            "\n",
            "The following objects are masked from ‘package:base’:\n",
            "\n",
            "    intersect, setdiff, setequal, union\n",
            "\n",
            "\n",
            "Loading required package: lattice\n",
            "\n",
            "Warning message in system(\"timedatectl\", intern = TRUE):\n",
            "“running command 'timedatectl' had status 1”\n"
          ]
        }
      ]
    },
    {
      "cell_type": "markdown",
      "metadata": {
        "id": "Ah0U8xMnZKwV"
      },
      "source": [
        "## Analise Exploratória dos dados"
      ]
    },
    {
      "cell_type": "markdown",
      "metadata": {
        "id": "TgvedcmmOfOP"
      },
      "source": [
        "Dicionário de dados:\n",
        "\n",
        "Todas as colunas, com a excessão da variável \"ID\" (qualitativa nominal) e da variável \"class\"(qualitativa ordinal com 2 fatores) são quantitativas discretas com números entre 1 e 10. \n",
        "\n",
        "\n",
        "     ‘V1’ clump thickness.\n",
        "\n",
        "     ‘V2’ uniformidade do tamanho da célula\n",
        "\n",
        "     ‘V3’ uniformidade da forma celular.\n",
        "\n",
        "     ‘V4’ adesão marginal\n",
        "\n",
        "     ‘V5’ tamanho único da célula epitelial.\n",
        "\n",
        "     ‘V6’ núcleos nus (16 values are missing).\n",
        "\n",
        "     ‘V7’ cromatina branda.\n",
        "\n",
        "     ‘V8’ nucléolos normais.\n",
        "\n",
        "     ‘V9’ mitoses.\n",
        "\n",
        "     ‘ID’ sample code number (not unique).\n",
        "\n",
        "     ‘class’ ‘\"benign\"’ or ‘\"malignant\"’"
      ]
    },
    {
      "cell_type": "code",
      "metadata": {
        "id": "W11xL-5tNREa"
      },
      "source": [
        "df <- biopsy"
      ],
      "execution_count": null,
      "outputs": []
    },
    {
      "cell_type": "code",
      "metadata": {
        "colab": {
          "base_uri": "https://localhost:8080/",
          "height": 33
        },
        "id": "frkjn6MFTrUR",
        "outputId": "9525491f-799d-45da-ac9d-4aa585e4afb3"
      },
      "source": [
        "nrow(df)"
      ],
      "execution_count": null,
      "outputs": [
        {
          "output_type": "display_data",
          "data": {
            "text/plain": [
              "[1] 699"
            ],
            "text/latex": "699",
            "text/markdown": "699",
            "text/html": [
              "699"
            ]
          },
          "metadata": {}
        }
      ]
    },
    {
      "cell_type": "code",
      "metadata": {
        "colab": {
          "base_uri": "https://localhost:8080/",
          "height": 33
        },
        "id": "OWkf3tY_TwmB",
        "outputId": "c143832d-fb62-4460-a7a7-ee1b4cd97f42"
      },
      "source": [
        "ncol(df)"
      ],
      "execution_count": null,
      "outputs": [
        {
          "output_type": "display_data",
          "data": {
            "text/plain": [
              "[1] 11"
            ],
            "text/latex": "11",
            "text/markdown": "11",
            "text/html": [
              "11"
            ]
          },
          "metadata": {}
        }
      ]
    },
    {
      "cell_type": "markdown",
      "metadata": {
        "id": "UVedaRFiZTeR"
      },
      "source": [
        "Dataframe com 11 variáveis, 699 registros, e 16 dados faltantes na coluna V6"
      ]
    },
    {
      "cell_type": "code",
      "metadata": {
        "colab": {
          "base_uri": "https://localhost:8080/",
          "height": 244
        },
        "id": "Zo2IO-uAOLdF",
        "outputId": "0a68fff4-bc83-4842-df19-4597f54df351"
      },
      "source": [
        "head(df, 5)"
      ],
      "execution_count": null,
      "outputs": [
        {
          "output_type": "display_data",
          "data": {
            "text/plain": [
              "  ID      V1 V2 V3 V4 V5 V6 V7 V8 V9 class \n",
              "1 1000025 5  1  1  1  2   1 3  1  1  benign\n",
              "2 1002945 5  4  4  5  7  10 3  2  1  benign\n",
              "3 1015425 3  1  1  1  2   2 3  1  1  benign\n",
              "4 1016277 6  8  8  1  3   4 3  7  1  benign\n",
              "5 1017023 4  1  1  3  2   1 3  1  1  benign"
            ],
            "text/latex": "A data.frame: 5 × 11\n\\begin{tabular}{r|lllllllllll}\n  & ID & V1 & V2 & V3 & V4 & V5 & V6 & V7 & V8 & V9 & class\\\\\n  & <chr> & <int> & <int> & <int> & <int> & <int> & <int> & <int> & <int> & <int> & <fct>\\\\\n\\hline\n\t1 & 1000025 & 5 & 1 & 1 & 1 & 2 &  1 & 3 & 1 & 1 & benign\\\\\n\t2 & 1002945 & 5 & 4 & 4 & 5 & 7 & 10 & 3 & 2 & 1 & benign\\\\\n\t3 & 1015425 & 3 & 1 & 1 & 1 & 2 &  2 & 3 & 1 & 1 & benign\\\\\n\t4 & 1016277 & 6 & 8 & 8 & 1 & 3 &  4 & 3 & 7 & 1 & benign\\\\\n\t5 & 1017023 & 4 & 1 & 1 & 3 & 2 &  1 & 3 & 1 & 1 & benign\\\\\n\\end{tabular}\n",
            "text/markdown": "\nA data.frame: 5 × 11\n\n| <!--/--> | ID &lt;chr&gt; | V1 &lt;int&gt; | V2 &lt;int&gt; | V3 &lt;int&gt; | V4 &lt;int&gt; | V5 &lt;int&gt; | V6 &lt;int&gt; | V7 &lt;int&gt; | V8 &lt;int&gt; | V9 &lt;int&gt; | class &lt;fct&gt; |\n|---|---|---|---|---|---|---|---|---|---|---|---|\n| 1 | 1000025 | 5 | 1 | 1 | 1 | 2 |  1 | 3 | 1 | 1 | benign |\n| 2 | 1002945 | 5 | 4 | 4 | 5 | 7 | 10 | 3 | 2 | 1 | benign |\n| 3 | 1015425 | 3 | 1 | 1 | 1 | 2 |  2 | 3 | 1 | 1 | benign |\n| 4 | 1016277 | 6 | 8 | 8 | 1 | 3 |  4 | 3 | 7 | 1 | benign |\n| 5 | 1017023 | 4 | 1 | 1 | 3 | 2 |  1 | 3 | 1 | 1 | benign |\n\n",
            "text/html": [
              "<table class=\"dataframe\">\n",
              "<caption>A data.frame: 5 × 11</caption>\n",
              "<thead>\n",
              "\t<tr><th></th><th scope=col>ID</th><th scope=col>V1</th><th scope=col>V2</th><th scope=col>V3</th><th scope=col>V4</th><th scope=col>V5</th><th scope=col>V6</th><th scope=col>V7</th><th scope=col>V8</th><th scope=col>V9</th><th scope=col>class</th></tr>\n",
              "\t<tr><th></th><th scope=col>&lt;chr&gt;</th><th scope=col>&lt;int&gt;</th><th scope=col>&lt;int&gt;</th><th scope=col>&lt;int&gt;</th><th scope=col>&lt;int&gt;</th><th scope=col>&lt;int&gt;</th><th scope=col>&lt;int&gt;</th><th scope=col>&lt;int&gt;</th><th scope=col>&lt;int&gt;</th><th scope=col>&lt;int&gt;</th><th scope=col>&lt;fct&gt;</th></tr>\n",
              "</thead>\n",
              "<tbody>\n",
              "\t<tr><th scope=row>1</th><td>1000025</td><td>5</td><td>1</td><td>1</td><td>1</td><td>2</td><td> 1</td><td>3</td><td>1</td><td>1</td><td>benign</td></tr>\n",
              "\t<tr><th scope=row>2</th><td>1002945</td><td>5</td><td>4</td><td>4</td><td>5</td><td>7</td><td>10</td><td>3</td><td>2</td><td>1</td><td>benign</td></tr>\n",
              "\t<tr><th scope=row>3</th><td>1015425</td><td>3</td><td>1</td><td>1</td><td>1</td><td>2</td><td> 2</td><td>3</td><td>1</td><td>1</td><td>benign</td></tr>\n",
              "\t<tr><th scope=row>4</th><td>1016277</td><td>6</td><td>8</td><td>8</td><td>1</td><td>3</td><td> 4</td><td>3</td><td>7</td><td>1</td><td>benign</td></tr>\n",
              "\t<tr><th scope=row>5</th><td>1017023</td><td>4</td><td>1</td><td>1</td><td>3</td><td>2</td><td> 1</td><td>3</td><td>1</td><td>1</td><td>benign</td></tr>\n",
              "</tbody>\n",
              "</table>\n"
            ]
          },
          "metadata": {}
        }
      ]
    },
    {
      "cell_type": "code",
      "metadata": {
        "colab": {
          "base_uri": "https://localhost:8080/",
          "height": 244
        },
        "id": "amCmVDhtS-xq",
        "outputId": "f2d83918-a30e-453d-86d5-18c5420f32b1"
      },
      "source": [
        "tail(df,5)"
      ],
      "execution_count": null,
      "outputs": [
        {
          "output_type": "display_data",
          "data": {
            "text/plain": [
              "    ID     V1 V2 V3 V4 V5 V6 V7 V8 V9 class    \n",
              "695 776715 3   1  1 1  3  2   1  1 1  benign   \n",
              "696 841769 2   1  1 1  2  1   1  1 1  benign   \n",
              "697 888820 5  10 10 3  7  3   8 10 2  malignant\n",
              "698 897471 4   8  6 4  3  4  10  6 1  malignant\n",
              "699 897471 4   8  8 5  4  5  10  4 1  malignant"
            ],
            "text/latex": "A data.frame: 5 × 11\n\\begin{tabular}{r|lllllllllll}\n  & ID & V1 & V2 & V3 & V4 & V5 & V6 & V7 & V8 & V9 & class\\\\\n  & <chr> & <int> & <int> & <int> & <int> & <int> & <int> & <int> & <int> & <int> & <fct>\\\\\n\\hline\n\t695 & 776715 & 3 &  1 &  1 & 1 & 3 & 2 &  1 &  1 & 1 & benign   \\\\\n\t696 & 841769 & 2 &  1 &  1 & 1 & 2 & 1 &  1 &  1 & 1 & benign   \\\\\n\t697 & 888820 & 5 & 10 & 10 & 3 & 7 & 3 &  8 & 10 & 2 & malignant\\\\\n\t698 & 897471 & 4 &  8 &  6 & 4 & 3 & 4 & 10 &  6 & 1 & malignant\\\\\n\t699 & 897471 & 4 &  8 &  8 & 5 & 4 & 5 & 10 &  4 & 1 & malignant\\\\\n\\end{tabular}\n",
            "text/markdown": "\nA data.frame: 5 × 11\n\n| <!--/--> | ID &lt;chr&gt; | V1 &lt;int&gt; | V2 &lt;int&gt; | V3 &lt;int&gt; | V4 &lt;int&gt; | V5 &lt;int&gt; | V6 &lt;int&gt; | V7 &lt;int&gt; | V8 &lt;int&gt; | V9 &lt;int&gt; | class &lt;fct&gt; |\n|---|---|---|---|---|---|---|---|---|---|---|---|\n| 695 | 776715 | 3 |  1 |  1 | 1 | 3 | 2 |  1 |  1 | 1 | benign    |\n| 696 | 841769 | 2 |  1 |  1 | 1 | 2 | 1 |  1 |  1 | 1 | benign    |\n| 697 | 888820 | 5 | 10 | 10 | 3 | 7 | 3 |  8 | 10 | 2 | malignant |\n| 698 | 897471 | 4 |  8 |  6 | 4 | 3 | 4 | 10 |  6 | 1 | malignant |\n| 699 | 897471 | 4 |  8 |  8 | 5 | 4 | 5 | 10 |  4 | 1 | malignant |\n\n",
            "text/html": [
              "<table class=\"dataframe\">\n",
              "<caption>A data.frame: 5 × 11</caption>\n",
              "<thead>\n",
              "\t<tr><th></th><th scope=col>ID</th><th scope=col>V1</th><th scope=col>V2</th><th scope=col>V3</th><th scope=col>V4</th><th scope=col>V5</th><th scope=col>V6</th><th scope=col>V7</th><th scope=col>V8</th><th scope=col>V9</th><th scope=col>class</th></tr>\n",
              "\t<tr><th></th><th scope=col>&lt;chr&gt;</th><th scope=col>&lt;int&gt;</th><th scope=col>&lt;int&gt;</th><th scope=col>&lt;int&gt;</th><th scope=col>&lt;int&gt;</th><th scope=col>&lt;int&gt;</th><th scope=col>&lt;int&gt;</th><th scope=col>&lt;int&gt;</th><th scope=col>&lt;int&gt;</th><th scope=col>&lt;int&gt;</th><th scope=col>&lt;fct&gt;</th></tr>\n",
              "</thead>\n",
              "<tbody>\n",
              "\t<tr><th scope=row>695</th><td>776715</td><td>3</td><td> 1</td><td> 1</td><td>1</td><td>3</td><td>2</td><td> 1</td><td> 1</td><td>1</td><td>benign   </td></tr>\n",
              "\t<tr><th scope=row>696</th><td>841769</td><td>2</td><td> 1</td><td> 1</td><td>1</td><td>2</td><td>1</td><td> 1</td><td> 1</td><td>1</td><td>benign   </td></tr>\n",
              "\t<tr><th scope=row>697</th><td>888820</td><td>5</td><td>10</td><td>10</td><td>3</td><td>7</td><td>3</td><td> 8</td><td>10</td><td>2</td><td>malignant</td></tr>\n",
              "\t<tr><th scope=row>698</th><td>897471</td><td>4</td><td> 8</td><td> 6</td><td>4</td><td>3</td><td>4</td><td>10</td><td> 6</td><td>1</td><td>malignant</td></tr>\n",
              "\t<tr><th scope=row>699</th><td>897471</td><td>4</td><td> 8</td><td> 8</td><td>5</td><td>4</td><td>5</td><td>10</td><td> 4</td><td>1</td><td>malignant</td></tr>\n",
              "</tbody>\n",
              "</table>\n"
            ]
          },
          "metadata": {}
        }
      ]
    },
    {
      "cell_type": "markdown",
      "metadata": {
        "id": "6XxEIHYEZiS7"
      },
      "source": [
        "Os dados mantém a mesma estrutura no começo e no final"
      ]
    },
    {
      "cell_type": "code",
      "metadata": {
        "colab": {
          "base_uri": "https://localhost:8080/"
        },
        "id": "M6ikunSFOSx3",
        "outputId": "9f318662-aa2c-401c-bdee-dfb169330bed"
      },
      "source": [
        "str(df)"
      ],
      "execution_count": null,
      "outputs": [
        {
          "output_type": "stream",
          "name": "stdout",
          "text": [
            "'data.frame':\t699 obs. of  11 variables:\n",
            " $ ID   : chr  \"1000025\" \"1002945\" \"1015425\" \"1016277\" ...\n",
            " $ V1   : int  5 5 3 6 4 8 1 2 2 4 ...\n",
            " $ V2   : int  1 4 1 8 1 10 1 1 1 2 ...\n",
            " $ V3   : int  1 4 1 8 1 10 1 2 1 1 ...\n",
            " $ V4   : int  1 5 1 1 3 8 1 1 1 1 ...\n",
            " $ V5   : int  2 7 2 3 2 7 2 2 2 2 ...\n",
            " $ V6   : int  1 10 2 4 1 10 10 1 1 1 ...\n",
            " $ V7   : int  3 3 3 3 3 9 3 3 1 2 ...\n",
            " $ V8   : int  1 2 1 7 1 7 1 1 1 1 ...\n",
            " $ V9   : int  1 1 1 1 1 1 1 1 5 1 ...\n",
            " $ class: Factor w/ 2 levels \"benign\",\"malignant\": 1 1 1 1 1 2 1 1 1 1 ...\n"
          ]
        }
      ]
    },
    {
      "cell_type": "markdown",
      "metadata": {
        "id": "NctMwEBaZpSd"
      },
      "source": [
        "Confirmamos com o str() a estrutura dos dados e o tipo de cada variável"
      ]
    },
    {
      "cell_type": "code",
      "metadata": {
        "colab": {
          "base_uri": "https://localhost:8080/",
          "height": 443
        },
        "id": "MfS3tK9zPrIL",
        "outputId": "f59007bd-a593-4c9f-f267-b7a239135256"
      },
      "source": [
        "summary(df)"
      ],
      "execution_count": null,
      "outputs": [
        {
          "output_type": "display_data",
          "data": {
            "text/plain": [
              "      ID                  V1               V2               V3        \n",
              " Length:699         Min.   : 1.000   Min.   : 1.000   Min.   : 1.000  \n",
              " Class :character   1st Qu.: 2.000   1st Qu.: 1.000   1st Qu.: 1.000  \n",
              " Mode  :character   Median : 4.000   Median : 1.000   Median : 1.000  \n",
              "                    Mean   : 4.418   Mean   : 3.134   Mean   : 3.207  \n",
              "                    3rd Qu.: 6.000   3rd Qu.: 5.000   3rd Qu.: 5.000  \n",
              "                    Max.   :10.000   Max.   :10.000   Max.   :10.000  \n",
              "                                                                      \n",
              "       V4               V5               V6               V7        \n",
              " Min.   : 1.000   Min.   : 1.000   Min.   : 1.000   Min.   : 1.000  \n",
              " 1st Qu.: 1.000   1st Qu.: 2.000   1st Qu.: 1.000   1st Qu.: 2.000  \n",
              " Median : 1.000   Median : 2.000   Median : 1.000   Median : 3.000  \n",
              " Mean   : 2.807   Mean   : 3.216   Mean   : 3.545   Mean   : 3.438  \n",
              " 3rd Qu.: 4.000   3rd Qu.: 4.000   3rd Qu.: 6.000   3rd Qu.: 5.000  \n",
              " Max.   :10.000   Max.   :10.000   Max.   :10.000   Max.   :10.000  \n",
              "                                   NA's   :16                       \n",
              "       V8               V9               class    \n",
              " Min.   : 1.000   Min.   : 1.000   benign   :458  \n",
              " 1st Qu.: 1.000   1st Qu.: 1.000   malignant:241  \n",
              " Median : 1.000   Median : 1.000                  \n",
              " Mean   : 2.867   Mean   : 1.589                  \n",
              " 3rd Qu.: 4.000   3rd Qu.: 1.000                  \n",
              " Max.   :10.000   Max.   :10.000                  \n",
              "                                                  "
            ]
          },
          "metadata": {}
        }
      ]
    },
    {
      "cell_type": "markdown",
      "metadata": {
        "id": "chH4l3nAZ1l_"
      },
      "source": [
        "Com a função summmary() visualizamos as medidas de tendência central e distribuição dos dados, vemos que para todos eles o menor valor é 1 e o maior é 10, em todos a mediana está abaixo de 3, e 75% dos valores são menores que 6. Existem 458 registros de benigno e 241 de maligno."
      ]
    },
    {
      "cell_type": "markdown",
      "metadata": {
        "id": "ayYgbjD7Z0F6"
      },
      "source": [
        ""
      ]
    },
    {
      "cell_type": "code",
      "metadata": {
        "colab": {
          "base_uri": "https://localhost:8080/",
          "height": 33
        },
        "id": "IuqLql1cQKv7",
        "outputId": "6066b2ab-fc61-4096-d1d7-1317a7d649f1"
      },
      "source": [
        "sum(is.na(df$V6))"
      ],
      "execution_count": null,
      "outputs": [
        {
          "output_type": "display_data",
          "data": {
            "text/plain": [
              "[1] 16"
            ],
            "text/latex": "16",
            "text/markdown": "16",
            "text/html": [
              "16"
            ]
          },
          "metadata": {}
        }
      ]
    },
    {
      "cell_type": "code",
      "metadata": {
        "colab": {
          "base_uri": "https://localhost:8080/",
          "height": 33
        },
        "id": "s0VLbqibYfZz",
        "outputId": "7ec22898-2d94-4446-a22f-ca1e6032389a"
      },
      "source": [
        "df <- na.omit(biopsy)\n",
        "sum(is.na(df$V6))"
      ],
      "execution_count": null,
      "outputs": [
        {
          "output_type": "display_data",
          "data": {
            "text/plain": [
              "[1] 0"
            ],
            "text/latex": "0",
            "text/markdown": "0",
            "text/html": [
              "0"
            ]
          },
          "metadata": {}
        }
      ]
    },
    {
      "cell_type": "code",
      "metadata": {
        "colab": {
          "base_uri": "https://localhost:8080/",
          "height": 33
        },
        "id": "B0zx484bSiAu",
        "outputId": "19bb8ba4-cac8-490f-94f0-3d1ab802c8a8"
      },
      "source": [
        "nrow(df)"
      ],
      "execution_count": null,
      "outputs": [
        {
          "output_type": "display_data",
          "data": {
            "text/plain": [
              "[1] 683"
            ],
            "text/latex": "683",
            "text/markdown": "683",
            "text/html": [
              "683"
            ]
          },
          "metadata": {}
        }
      ]
    },
    {
      "cell_type": "code",
      "metadata": {
        "colab": {
          "base_uri": "https://localhost:8080/",
          "height": 70
        },
        "id": "mF0x81sFbVaG",
        "outputId": "e98d49ee-d66b-4e9e-80ec-006e39d597e1"
      },
      "source": [
        "table(df$class)"
      ],
      "execution_count": null,
      "outputs": [
        {
          "output_type": "display_data",
          "data": {
            "text/plain": [
              "\n",
              "   benign malignant \n",
              "      444       239 "
            ]
          },
          "metadata": {}
        }
      ]
    },
    {
      "cell_type": "markdown",
      "metadata": {
        "id": "MBUlVsQXa68v"
      },
      "source": [
        "Como a quantidade de dados faltantes é pequena (2%). Optei pela remoção dos dados que passaram a ter 444 registros de benigno e 239 registros de maligno"
      ]
    },
    {
      "cell_type": "code",
      "metadata": {
        "colab": {
          "base_uri": "https://localhost:8080/",
          "height": 334
        },
        "id": "cg7LiSA0UBNi",
        "outputId": "1fd66b23-c5c3-46f8-de58-3cf1c6fe45e8"
      },
      "source": [
        "correlacao <- cor(select(df, -ID, -class))\n",
        "correlacao"
      ],
      "execution_count": null,
      "outputs": [
        {
          "output_type": "display_data",
          "data": {
            "text/plain": [
              "   V1        V2        V3        V4        V5        V6        V7       \n",
              "V1 1.0000000 0.6424815 0.6534700 0.4878287 0.5235960 0.5930914 0.5537424\n",
              "V2 0.6424815 1.0000000 0.9072282 0.7069770 0.7535440 0.6917088 0.7555592\n",
              "V3 0.6534700 0.9072282 1.0000000 0.6859481 0.7224624 0.7138775 0.7353435\n",
              "V4 0.4878287 0.7069770 0.6859481 1.0000000 0.5945478 0.6706483 0.6685671\n",
              "V5 0.5235960 0.7535440 0.7224624 0.5945478 1.0000000 0.5857161 0.6181279\n",
              "V6 0.5930914 0.6917088 0.7138775 0.6706483 0.5857161 1.0000000 0.6806149\n",
              "V7 0.5537424 0.7555592 0.7353435 0.6685671 0.6181279 0.6806149 1.0000000\n",
              "V8 0.5340659 0.7193460 0.7179634 0.6031211 0.6289264 0.5842802 0.6656015\n",
              "V9 0.3509572 0.4607547 0.4412576 0.4188983 0.4805833 0.3392104 0.3460109\n",
              "   V8        V9       \n",
              "V1 0.5340659 0.3509572\n",
              "V2 0.7193460 0.4607547\n",
              "V3 0.7179634 0.4412576\n",
              "V4 0.6031211 0.4188983\n",
              "V5 0.6289264 0.4805833\n",
              "V6 0.5842802 0.3392104\n",
              "V7 0.6656015 0.3460109\n",
              "V8 1.0000000 0.4337573\n",
              "V9 0.4337573 1.0000000"
            ],
            "text/latex": "A matrix: 9 × 9 of type dbl\n\\begin{tabular}{r|lllllllll}\n  & V1 & V2 & V3 & V4 & V5 & V6 & V7 & V8 & V9\\\\\n\\hline\n\tV1 & 1.0000000 & 0.6424815 & 0.6534700 & 0.4878287 & 0.5235960 & 0.5930914 & 0.5537424 & 0.5340659 & 0.3509572\\\\\n\tV2 & 0.6424815 & 1.0000000 & 0.9072282 & 0.7069770 & 0.7535440 & 0.6917088 & 0.7555592 & 0.7193460 & 0.4607547\\\\\n\tV3 & 0.6534700 & 0.9072282 & 1.0000000 & 0.6859481 & 0.7224624 & 0.7138775 & 0.7353435 & 0.7179634 & 0.4412576\\\\\n\tV4 & 0.4878287 & 0.7069770 & 0.6859481 & 1.0000000 & 0.5945478 & 0.6706483 & 0.6685671 & 0.6031211 & 0.4188983\\\\\n\tV5 & 0.5235960 & 0.7535440 & 0.7224624 & 0.5945478 & 1.0000000 & 0.5857161 & 0.6181279 & 0.6289264 & 0.4805833\\\\\n\tV6 & 0.5930914 & 0.6917088 & 0.7138775 & 0.6706483 & 0.5857161 & 1.0000000 & 0.6806149 & 0.5842802 & 0.3392104\\\\\n\tV7 & 0.5537424 & 0.7555592 & 0.7353435 & 0.6685671 & 0.6181279 & 0.6806149 & 1.0000000 & 0.6656015 & 0.3460109\\\\\n\tV8 & 0.5340659 & 0.7193460 & 0.7179634 & 0.6031211 & 0.6289264 & 0.5842802 & 0.6656015 & 1.0000000 & 0.4337573\\\\\n\tV9 & 0.3509572 & 0.4607547 & 0.4412576 & 0.4188983 & 0.4805833 & 0.3392104 & 0.3460109 & 0.4337573 & 1.0000000\\\\\n\\end{tabular}\n",
            "text/markdown": "\nA matrix: 9 × 9 of type dbl\n\n| <!--/--> | V1 | V2 | V3 | V4 | V5 | V6 | V7 | V8 | V9 |\n|---|---|---|---|---|---|---|---|---|---|\n| V1 | 1.0000000 | 0.6424815 | 0.6534700 | 0.4878287 | 0.5235960 | 0.5930914 | 0.5537424 | 0.5340659 | 0.3509572 |\n| V2 | 0.6424815 | 1.0000000 | 0.9072282 | 0.7069770 | 0.7535440 | 0.6917088 | 0.7555592 | 0.7193460 | 0.4607547 |\n| V3 | 0.6534700 | 0.9072282 | 1.0000000 | 0.6859481 | 0.7224624 | 0.7138775 | 0.7353435 | 0.7179634 | 0.4412576 |\n| V4 | 0.4878287 | 0.7069770 | 0.6859481 | 1.0000000 | 0.5945478 | 0.6706483 | 0.6685671 | 0.6031211 | 0.4188983 |\n| V5 | 0.5235960 | 0.7535440 | 0.7224624 | 0.5945478 | 1.0000000 | 0.5857161 | 0.6181279 | 0.6289264 | 0.4805833 |\n| V6 | 0.5930914 | 0.6917088 | 0.7138775 | 0.6706483 | 0.5857161 | 1.0000000 | 0.6806149 | 0.5842802 | 0.3392104 |\n| V7 | 0.5537424 | 0.7555592 | 0.7353435 | 0.6685671 | 0.6181279 | 0.6806149 | 1.0000000 | 0.6656015 | 0.3460109 |\n| V8 | 0.5340659 | 0.7193460 | 0.7179634 | 0.6031211 | 0.6289264 | 0.5842802 | 0.6656015 | 1.0000000 | 0.4337573 |\n| V9 | 0.3509572 | 0.4607547 | 0.4412576 | 0.4188983 | 0.4805833 | 0.3392104 | 0.3460109 | 0.4337573 | 1.0000000 |\n\n",
            "text/html": [
              "<table class=\"dataframe\">\n",
              "<caption>A matrix: 9 × 9 of type dbl</caption>\n",
              "<thead>\n",
              "\t<tr><th></th><th scope=col>V1</th><th scope=col>V2</th><th scope=col>V3</th><th scope=col>V4</th><th scope=col>V5</th><th scope=col>V6</th><th scope=col>V7</th><th scope=col>V8</th><th scope=col>V9</th></tr>\n",
              "</thead>\n",
              "<tbody>\n",
              "\t<tr><th scope=row>V1</th><td>1.0000000</td><td>0.6424815</td><td>0.6534700</td><td>0.4878287</td><td>0.5235960</td><td>0.5930914</td><td>0.5537424</td><td>0.5340659</td><td>0.3509572</td></tr>\n",
              "\t<tr><th scope=row>V2</th><td>0.6424815</td><td>1.0000000</td><td>0.9072282</td><td>0.7069770</td><td>0.7535440</td><td>0.6917088</td><td>0.7555592</td><td>0.7193460</td><td>0.4607547</td></tr>\n",
              "\t<tr><th scope=row>V3</th><td>0.6534700</td><td>0.9072282</td><td>1.0000000</td><td>0.6859481</td><td>0.7224624</td><td>0.7138775</td><td>0.7353435</td><td>0.7179634</td><td>0.4412576</td></tr>\n",
              "\t<tr><th scope=row>V4</th><td>0.4878287</td><td>0.7069770</td><td>0.6859481</td><td>1.0000000</td><td>0.5945478</td><td>0.6706483</td><td>0.6685671</td><td>0.6031211</td><td>0.4188983</td></tr>\n",
              "\t<tr><th scope=row>V5</th><td>0.5235960</td><td>0.7535440</td><td>0.7224624</td><td>0.5945478</td><td>1.0000000</td><td>0.5857161</td><td>0.6181279</td><td>0.6289264</td><td>0.4805833</td></tr>\n",
              "\t<tr><th scope=row>V6</th><td>0.5930914</td><td>0.6917088</td><td>0.7138775</td><td>0.6706483</td><td>0.5857161</td><td>1.0000000</td><td>0.6806149</td><td>0.5842802</td><td>0.3392104</td></tr>\n",
              "\t<tr><th scope=row>V7</th><td>0.5537424</td><td>0.7555592</td><td>0.7353435</td><td>0.6685671</td><td>0.6181279</td><td>0.6806149</td><td>1.0000000</td><td>0.6656015</td><td>0.3460109</td></tr>\n",
              "\t<tr><th scope=row>V8</th><td>0.5340659</td><td>0.7193460</td><td>0.7179634</td><td>0.6031211</td><td>0.6289264</td><td>0.5842802</td><td>0.6656015</td><td>1.0000000</td><td>0.4337573</td></tr>\n",
              "\t<tr><th scope=row>V9</th><td>0.3509572</td><td>0.4607547</td><td>0.4412576</td><td>0.4188983</td><td>0.4805833</td><td>0.3392104</td><td>0.3460109</td><td>0.4337573</td><td>1.0000000</td></tr>\n",
              "</tbody>\n",
              "</table>\n"
            ]
          },
          "metadata": {}
        }
      ]
    },
    {
      "cell_type": "markdown",
      "metadata": {
        "id": "sEMgPA2qb0TF"
      },
      "source": [
        "As colunas V3 e V2 são as mais correlacionadas com as demais\n",
        "\n",
        "A coluna V9 e V1 são as que parecem ter menor correlação entre si"
      ]
    },
    {
      "cell_type": "code",
      "metadata": {
        "colab": {
          "base_uri": "https://localhost:8080/",
          "height": 436
        },
        "id": "-nSoyB3BX5Af",
        "outputId": "b59d003f-75ab-4199-8d64-3a09bc7e16c0"
      },
      "source": [
        "ggplot(df, aes(x=class, y= V1)) + geom_boxplot() + labs(x = \"Class\", y = \"V1\") + theme_linedraw()"
      ],
      "execution_count": null,
      "outputs": [
        {
          "output_type": "display_data",
          "data": {
            "image/png": "[encoded data removed]",
            "text/plain": [
              "plot without title"
            ]
          },
          "metadata": {
            "image/png": {
              "width": 420,
              "height": 420
            }
          }
        }
      ]
    },
    {
      "cell_type": "code",
      "metadata": {
        "colab": {
          "base_uri": "https://localhost:8080/",
          "height": 436
        },
        "id": "NIRkMOuWdW9S",
        "outputId": "5a3927d7-9f04-4cf1-a148-affec4f51642"
      },
      "source": [
        "ggplot(df, aes(x=class, y= V2)) + geom_boxplot() + labs(x = \"Class\", y = \"V2\") + theme_linedraw()"
      ],
      "execution_count": null,
      "outputs": [
        {
          "output_type": "display_data",
          "data": {
            "image/png": "[encoded data removed]",
            "text/plain": [
              "plot without title"
            ]
          },
          "metadata": {
            "image/png": {
              "width": 420,
              "height": 420
            }
          }
        }
      ]
    },
    {
      "cell_type": "code",
      "metadata": {
        "colab": {
          "base_uri": "https://localhost:8080/",
          "height": 436
        },
        "id": "Uh3Tx8N6g51d",
        "outputId": "cefc4e82-906a-4437-f6af-af1a3b9f041a"
      },
      "source": [
        "ggplot(df, aes(x=class, y= V3)) + geom_boxplot() + labs(x = \"Class\", y = \"V3\") + theme_linedraw()"
      ],
      "execution_count": null,
      "outputs": [
        {
          "output_type": "display_data",
          "data": {
            "image/png": "[encoded data removed]",
            "text/plain": [
              "plot without title"
            ]
          },
          "metadata": {
            "image/png": {
              "width": 420,
              "height": 420
            }
          }
        }
      ]
    },
    {
      "cell_type": "code",
      "metadata": {
        "colab": {
          "base_uri": "https://localhost:8080/",
          "height": 436
        },
        "id": "EA0Yo7pKg_83",
        "outputId": "5acff89a-53de-4df8-b0b1-ef4a8bb6ea91"
      },
      "source": [
        "ggplot(df, aes(x=class, y= V4)) + geom_boxplot() + labs(x = \"Class\", y = \"V4\") + theme_linedraw()"
      ],
      "execution_count": null,
      "outputs": [
        {
          "output_type": "display_data",
          "data": {
            "image/png": "[encoded data removed]",
            "text/plain": [
              "plot without title"
            ]
          },
          "metadata": {
            "image/png": {
              "width": 420,
              "height": 420
            }
          }
        }
      ]
    },
    {
      "cell_type": "code",
      "metadata": {
        "colab": {
          "base_uri": "https://localhost:8080/",
          "height": 436
        },
        "id": "sl9T6mWshiCw",
        "outputId": "39db679d-2a95-4ca8-b9c3-68ac2bd9aff7"
      },
      "source": [
        "ggplot(df, aes(x=class, y= V5)) + geom_boxplot() + labs(x = \"Class\", y = \"V5\") + theme_linedraw()"
      ],
      "execution_count": null,
      "outputs": [
        {
          "output_type": "display_data",
          "data": {
            "image/png": "[encoded data removed]",
            "text/plain": [
              "plot without title"
            ]
          },
          "metadata": {
            "image/png": {
              "width": 420,
              "height": 420
            }
          }
        }
      ]
    },
    {
      "cell_type": "code",
      "metadata": {
        "colab": {
          "base_uri": "https://localhost:8080/",
          "height": 436
        },
        "id": "6WZpoPEIhnCZ",
        "outputId": "c4d3d930-bf52-4faf-d030-bd662ccb760b"
      },
      "source": [
        "ggplot(df, aes(x=class, y= V6)) + geom_boxplot() + labs(x = \"Class\", y = \"V6\") + theme_linedraw()"
      ],
      "execution_count": null,
      "outputs": [
        {
          "output_type": "display_data",
          "data": {
            "image/png": "[encoded data removed]",
            "text/plain": [
              "plot without title"
            ]
          },
          "metadata": {
            "image/png": {
              "width": 420,
              "height": 420
            }
          }
        }
      ]
    },
    {
      "cell_type": "code",
      "metadata": {
        "colab": {
          "base_uri": "https://localhost:8080/",
          "height": 436
        },
        "id": "ckFpWOK-hthI",
        "outputId": "cdacb9b4-2bfa-49c8-faf6-a2023f54e7ea"
      },
      "source": [
        "ggplot(df, aes(x=class, y= V7)) + geom_boxplot() + labs(x = \"Class\", y = \"V7\") + theme_linedraw()"
      ],
      "execution_count": null,
      "outputs": [
        {
          "output_type": "display_data",
          "data": {
            "image/png": "[encoded data removed]",
            "text/plain": [
              "plot without title"
            ]
          },
          "metadata": {
            "image/png": {
              "width": 420,
              "height": 420
            }
          }
        }
      ]
    },
    {
      "cell_type": "code",
      "metadata": {
        "colab": {
          "base_uri": "https://localhost:8080/",
          "height": 436
        },
        "id": "AtwjDQjuhwAk",
        "outputId": "8657d5ae-0674-4c97-ea5c-0014ba3e81be"
      },
      "source": [
        "ggplot(df, aes(x=class, y= V8)) + geom_boxplot() + labs(x = \"Class\", y = \"V8\") + theme_linedraw()"
      ],
      "execution_count": null,
      "outputs": [
        {
          "output_type": "display_data",
          "data": {
            "image/png": "[encoded data removed]",
            "text/plain": [
              "plot without title"
            ]
          },
          "metadata": {
            "image/png": {
              "width": 420,
              "height": 420
            }
          }
        }
      ]
    },
    {
      "cell_type": "code",
      "metadata": {
        "colab": {
          "base_uri": "https://localhost:8080/",
          "height": 436
        },
        "id": "uXAe44XbhzPG",
        "outputId": "d15c0a10-c3a4-4806-dd27-473cb99b9a31"
      },
      "source": [
        "ggplot(df, aes(x=class, y= V9)) + geom_boxplot() + labs(x = \"Class\", y = \"V9\") + theme_linedraw()"
      ],
      "execution_count": null,
      "outputs": [
        {
          "output_type": "display_data",
          "data": {
            "image/png": "[encoded data removed]",
            "text/plain": [
              "plot without title"
            ]
          },
          "metadata": {
            "image/png": {
              "width": 420,
              "height": 420
            }
          }
        }
      ]
    },
    {
      "cell_type": "markdown",
      "metadata": {
        "id": "4XBIHfqYiEVQ"
      },
      "source": [
        "Analisando graficamente com os boxplots percebemos que quanto maior o valor da variável, maior parece ser a chance de se enquadrar como maligno e vice versa e as variáveis 1, 5 e 7 na lcasse benigna aceitam medias maiores"
      ]
    },
    {
      "cell_type": "code",
      "metadata": {
        "colab": {
          "base_uri": "https://localhost:8080/",
          "height": 390
        },
        "id": "m67thwmlh5OE",
        "outputId": "2a6a7eb6-5416-4fe4-c546-c7990cdd000c"
      },
      "source": [
        "summary(df[df$class == 'benign',])"
      ],
      "execution_count": null,
      "outputs": [
        {
          "output_type": "display_data",
          "data": {
            "text/plain": [
              "      ID                  V1              V2              V3       \n",
              " Length:444         Min.   :1.000   Min.   :1.000   Min.   :1.000  \n",
              " Class :character   1st Qu.:1.000   1st Qu.:1.000   1st Qu.:1.000  \n",
              " Mode  :character   Median :3.000   Median :1.000   Median :1.000  \n",
              "                    Mean   :2.964   Mean   :1.306   Mean   :1.414  \n",
              "                    3rd Qu.:4.000   3rd Qu.:1.000   3rd Qu.:1.000  \n",
              "                    Max.   :8.000   Max.   :9.000   Max.   :8.000  \n",
              "       V4               V5               V6               V7       \n",
              " Min.   : 1.000   Min.   : 1.000   Min.   : 1.000   Min.   :1.000  \n",
              " 1st Qu.: 1.000   1st Qu.: 2.000   1st Qu.: 1.000   1st Qu.:1.000  \n",
              " Median : 1.000   Median : 2.000   Median : 1.000   Median :2.000  \n",
              " Mean   : 1.347   Mean   : 2.108   Mean   : 1.347   Mean   :2.083  \n",
              " 3rd Qu.: 1.000   3rd Qu.: 2.000   3rd Qu.: 1.000   3rd Qu.:3.000  \n",
              " Max.   :10.000   Max.   :10.000   Max.   :10.000   Max.   :7.000  \n",
              "       V8              V9              class    \n",
              " Min.   :1.000   Min.   :1.000   benign   :444  \n",
              " 1st Qu.:1.000   1st Qu.:1.000   malignant:  0  \n",
              " Median :1.000   Median :1.000                  \n",
              " Mean   :1.261   Mean   :1.065                  \n",
              " 3rd Qu.:1.000   3rd Qu.:1.000                  \n",
              " Max.   :8.000   Max.   :8.000                  "
            ]
          },
          "metadata": {}
        }
      ]
    },
    {
      "cell_type": "code",
      "metadata": {
        "colab": {
          "base_uri": "https://localhost:8080/",
          "height": 390
        },
        "id": "3TiXMOkOkjd9",
        "outputId": "607e7dcc-1418-4ec3-b829-2b50d77a68f6"
      },
      "source": [
        "summary(df[df$class == 'malignant',])"
      ],
      "execution_count": null,
      "outputs": [
        {
          "output_type": "display_data",
          "data": {
            "text/plain": [
              "      ID                  V1               V2               V3        \n",
              " Length:239         Min.   : 1.000   Min.   : 1.000   Min.   : 1.000  \n",
              " Class :character   1st Qu.: 5.000   1st Qu.: 4.000   1st Qu.: 4.000  \n",
              " Mode  :character   Median : 8.000   Median : 6.000   Median : 6.000  \n",
              "                    Mean   : 7.188   Mean   : 6.577   Mean   : 6.561  \n",
              "                    3rd Qu.:10.000   3rd Qu.:10.000   3rd Qu.: 9.000  \n",
              "                    Max.   :10.000   Max.   :10.000   Max.   :10.000  \n",
              "       V4               V5               V6               V7        \n",
              " Min.   : 1.000   Min.   : 1.000   Min.   : 1.000   Min.   : 1.000  \n",
              " 1st Qu.: 3.000   1st Qu.: 3.000   1st Qu.: 5.000   1st Qu.: 4.000  \n",
              " Median : 5.000   Median : 5.000   Median :10.000   Median : 7.000  \n",
              " Mean   : 5.586   Mean   : 5.326   Mean   : 7.628   Mean   : 5.975  \n",
              " 3rd Qu.: 8.000   3rd Qu.: 6.500   3rd Qu.:10.000   3rd Qu.: 7.000  \n",
              " Max.   :10.000   Max.   :10.000   Max.   :10.000   Max.   :10.000  \n",
              "       V8               V9               class    \n",
              " Min.   : 1.000   Min.   : 1.000   benign   :  0  \n",
              " 1st Qu.: 3.000   1st Qu.: 1.000   malignant:239  \n",
              " Median : 6.000   Median : 1.000                  \n",
              " Mean   : 5.858   Mean   : 2.603                  \n",
              " 3rd Qu.: 9.500   3rd Qu.: 3.000                  \n",
              " Max.   :10.000   Max.   :10.000                  "
            ]
          },
          "metadata": {}
        }
      ]
    },
    {
      "cell_type": "markdown",
      "metadata": {
        "id": "zNAFPbMgla0e"
      },
      "source": [
        "Para todos os benignos a mediana é menor que 3 e 75% estão abaixo de 4 e para os malignos a mediana está entre 6 e 10, com a exceção do V9. Esses números confirmam que que quanto maior o valor dos atributos maior a chance de ser maligno. "
      ]
    },
    {
      "cell_type": "markdown",
      "metadata": {
        "id": "ktEiCPGtwP1d"
      },
      "source": [
        "## Modelo KNN (K-Vizinhos mais próximos)\n"
      ]
    },
    {
      "cell_type": "markdown",
      "metadata": {
        "id": "sjp5MNMBnI3K"
      },
      "source": [
        "### Dados de treino e teste"
      ]
    },
    {
      "cell_type": "code",
      "metadata": {
        "id": "UMhmEvvBkZup"
      },
      "source": [
        "# Forma 1 de criar a divisão da amostra com a biblioteca claret\n",
        "#set.seed(1234)\n",
        "#df_divisao <- createDataPartition(df$class, p=0.7, list = F)\n",
        "\n",
        "#df_treino <- df[df_divisao, ] # 70% das observações\n",
        "#df_teste <- df[-df_divisao, ] # 30% das observações"
      ],
      "execution_count": null,
      "outputs": []
    },
    {
      "cell_type": "code",
      "metadata": {
        "id": "qgrKcpDxnLUo"
      },
      "source": [
        "# Forma 2 de criar a amostra com a função sample()\n",
        "\n",
        "#set.seed(1234)\n",
        "df_divisao = sample(1:nrow(df), round(nrow(df)/3))\n",
        "\n",
        "df_treino <- df[-df_divisao, ] # 70% das observações\n",
        "df_teste <- df[df_divisao, ] # 30% das observações"
      ],
      "execution_count": null,
      "outputs": []
    },
    {
      "cell_type": "code",
      "metadata": {
        "colab": {
          "base_uri": "https://localhost:8080/",
          "height": 274
        },
        "id": "GxK87YMZYosj",
        "outputId": "4b2cb25c-fe2a-4c40-eca5-7e45c1bfc153"
      },
      "source": [
        "head(df_treino)"
      ],
      "execution_count": null,
      "outputs": [
        {
          "output_type": "display_data",
          "data": {
            "text/plain": [
              "   ID      V1 V2 V3 V4 V5 V6 V7 V8 V9 class \n",
              "1  1000025 5  1  1  1  2   1 3  1  1  benign\n",
              "4  1016277 6  8  8  1  3   4 3  7  1  benign\n",
              "5  1017023 4  1  1  3  2   1 3  1  1  benign\n",
              "7  1018099 1  1  1  1  2  10 3  1  1  benign\n",
              "8  1018561 2  1  2  1  2   1 3  1  1  benign\n",
              "10 1033078 4  2  1  1  2   1 2  1  1  benign"
            ],
            "text/latex": "A data.frame: 6 × 11\n\\begin{tabular}{r|lllllllllll}\n  & ID & V1 & V2 & V3 & V4 & V5 & V6 & V7 & V8 & V9 & class\\\\\n  & <chr> & <int> & <int> & <int> & <int> & <int> & <int> & <int> & <int> & <int> & <fct>\\\\\n\\hline\n\t1 & 1000025 & 5 & 1 & 1 & 1 & 2 &  1 & 3 & 1 & 1 & benign\\\\\n\t4 & 1016277 & 6 & 8 & 8 & 1 & 3 &  4 & 3 & 7 & 1 & benign\\\\\n\t5 & 1017023 & 4 & 1 & 1 & 3 & 2 &  1 & 3 & 1 & 1 & benign\\\\\n\t7 & 1018099 & 1 & 1 & 1 & 1 & 2 & 10 & 3 & 1 & 1 & benign\\\\\n\t8 & 1018561 & 2 & 1 & 2 & 1 & 2 &  1 & 3 & 1 & 1 & benign\\\\\n\t10 & 1033078 & 4 & 2 & 1 & 1 & 2 &  1 & 2 & 1 & 1 & benign\\\\\n\\end{tabular}\n",
            "text/markdown": "\nA data.frame: 6 × 11\n\n| <!--/--> | ID &lt;chr&gt; | V1 &lt;int&gt; | V2 &lt;int&gt; | V3 &lt;int&gt; | V4 &lt;int&gt; | V5 &lt;int&gt; | V6 &lt;int&gt; | V7 &lt;int&gt; | V8 &lt;int&gt; | V9 &lt;int&gt; | class &lt;fct&gt; |\n|---|---|---|---|---|---|---|---|---|---|---|---|\n| 1 | 1000025 | 5 | 1 | 1 | 1 | 2 |  1 | 3 | 1 | 1 | benign |\n| 4 | 1016277 | 6 | 8 | 8 | 1 | 3 |  4 | 3 | 7 | 1 | benign |\n| 5 | 1017023 | 4 | 1 | 1 | 3 | 2 |  1 | 3 | 1 | 1 | benign |\n| 7 | 1018099 | 1 | 1 | 1 | 1 | 2 | 10 | 3 | 1 | 1 | benign |\n| 8 | 1018561 | 2 | 1 | 2 | 1 | 2 |  1 | 3 | 1 | 1 | benign |\n| 10 | 1033078 | 4 | 2 | 1 | 1 | 2 |  1 | 2 | 1 | 1 | benign |\n\n",
            "text/html": [
              "<table class=\"dataframe\">\n",
              "<caption>A data.frame: 6 × 11</caption>\n",
              "<thead>\n",
              "\t<tr><th></th><th scope=col>ID</th><th scope=col>V1</th><th scope=col>V2</th><th scope=col>V3</th><th scope=col>V4</th><th scope=col>V5</th><th scope=col>V6</th><th scope=col>V7</th><th scope=col>V8</th><th scope=col>V9</th><th scope=col>class</th></tr>\n",
              "\t<tr><th></th><th scope=col>&lt;chr&gt;</th><th scope=col>&lt;int&gt;</th><th scope=col>&lt;int&gt;</th><th scope=col>&lt;int&gt;</th><th scope=col>&lt;int&gt;</th><th scope=col>&lt;int&gt;</th><th scope=col>&lt;int&gt;</th><th scope=col>&lt;int&gt;</th><th scope=col>&lt;int&gt;</th><th scope=col>&lt;int&gt;</th><th scope=col>&lt;fct&gt;</th></tr>\n",
              "</thead>\n",
              "<tbody>\n",
              "\t<tr><th scope=row>1</th><td>1000025</td><td>5</td><td>1</td><td>1</td><td>1</td><td>2</td><td> 1</td><td>3</td><td>1</td><td>1</td><td>benign</td></tr>\n",
              "\t<tr><th scope=row>4</th><td>1016277</td><td>6</td><td>8</td><td>8</td><td>1</td><td>3</td><td> 4</td><td>3</td><td>7</td><td>1</td><td>benign</td></tr>\n",
              "\t<tr><th scope=row>5</th><td>1017023</td><td>4</td><td>1</td><td>1</td><td>3</td><td>2</td><td> 1</td><td>3</td><td>1</td><td>1</td><td>benign</td></tr>\n",
              "\t<tr><th scope=row>7</th><td>1018099</td><td>1</td><td>1</td><td>1</td><td>1</td><td>2</td><td>10</td><td>3</td><td>1</td><td>1</td><td>benign</td></tr>\n",
              "\t<tr><th scope=row>8</th><td>1018561</td><td>2</td><td>1</td><td>2</td><td>1</td><td>2</td><td> 1</td><td>3</td><td>1</td><td>1</td><td>benign</td></tr>\n",
              "\t<tr><th scope=row>10</th><td>1033078</td><td>4</td><td>2</td><td>1</td><td>1</td><td>2</td><td> 1</td><td>2</td><td>1</td><td>1</td><td>benign</td></tr>\n",
              "</tbody>\n",
              "</table>\n"
            ]
          },
          "metadata": {}
        }
      ]
    },
    {
      "cell_type": "code",
      "metadata": {
        "colab": {
          "base_uri": "https://localhost:8080/",
          "height": 33
        },
        "id": "GX2qPuRZZZJ3",
        "outputId": "259097c9-caca-417c-b868-90b2de726aee"
      },
      "source": [
        "# Conferindo a proporção das amostras\n",
        "glue('Tamanho Treino: {nrow(df_treino)} ({round(nrow(df_treino) / nrow(df),2)*100}%) /  Tamanho teste: {nrow(df_teste)} ({round(nrow(df_teste) / nrow(df),2)*100}%)')"
      ],
      "execution_count": null,
      "outputs": [
        {
          "output_type": "display_data",
          "data": {
            "text/plain": [
              "Tamanho Treino: 455 (67%) /  Tamanho teste: 228 (33%)"
            ],
            "text/latex": "'Tamanho Treino: 455 (67\\%) /  Tamanho teste: 228 (33\\%)'",
            "text/markdown": "<span style=white-space:pre-wrap>'Tamanho Treino: 455 (67%) /  Tamanho teste: 228 (33%)'</span>",
            "text/html": [
              "<span style=white-space:pre-wrap>'Tamanho Treino: 455 (67%) /  Tamanho teste: 228 (33%)'</span>"
            ]
          },
          "metadata": {}
        }
      ]
    },
    {
      "cell_type": "code",
      "metadata": {
        "colab": {
          "base_uri": "https://localhost:8080/",
          "height": 390
        },
        "id": "BPhyFIzIr3Y3",
        "outputId": "50aa8c3e-1d58-4347-f62b-3b474ed3e8ce"
      },
      "source": [
        "summary(df_treino)"
      ],
      "execution_count": null,
      "outputs": [
        {
          "output_type": "display_data",
          "data": {
            "text/plain": [
              "      ID                  V1               V2               V3        \n",
              " Length:455         Min.   : 1.000   Min.   : 1.000   Min.   : 1.000  \n",
              " Class :character   1st Qu.: 2.000   1st Qu.: 1.000   1st Qu.: 1.000  \n",
              " Mode  :character   Median : 4.000   Median : 1.000   Median : 1.000  \n",
              "                    Mean   : 4.484   Mean   : 3.134   Mean   : 3.178  \n",
              "                    3rd Qu.: 6.000   3rd Qu.: 5.000   3rd Qu.: 5.000  \n",
              "                    Max.   :10.000   Max.   :10.000   Max.   :10.000  \n",
              "       V4               V5               V6               V7        \n",
              " Min.   : 1.000   Min.   : 1.000   Min.   : 1.000   Min.   : 1.000  \n",
              " 1st Qu.: 1.000   1st Qu.: 2.000   1st Qu.: 1.000   1st Qu.: 2.000  \n",
              " Median : 1.000   Median : 2.000   Median : 1.000   Median : 3.000  \n",
              " Mean   : 2.868   Mean   : 3.231   Mean   : 3.576   Mean   : 3.437  \n",
              " 3rd Qu.: 4.000   3rd Qu.: 4.000   3rd Qu.: 7.000   3rd Qu.: 4.000  \n",
              " Max.   :10.000   Max.   :10.000   Max.   :10.000   Max.   :10.000  \n",
              "       V8               V9               class    \n",
              " Min.   : 1.000   Min.   : 1.000   benign   :296  \n",
              " 1st Qu.: 1.000   1st Qu.: 1.000   malignant:159  \n",
              " Median : 1.000   Median : 1.000                  \n",
              " Mean   : 2.771   Mean   : 1.593                  \n",
              " 3rd Qu.: 3.000   3rd Qu.: 1.000                  \n",
              " Max.   :10.000   Max.   :10.000                  "
            ]
          },
          "metadata": {}
        }
      ]
    },
    {
      "cell_type": "code",
      "metadata": {
        "colab": {
          "base_uri": "https://localhost:8080/",
          "height": 390
        },
        "id": "7AAt0iJHr3s-",
        "outputId": "c3d2b408-dc68-4989-fd0a-f40f643ccf01"
      },
      "source": [
        "summary(df_teste)"
      ],
      "execution_count": null,
      "outputs": [
        {
          "output_type": "display_data",
          "data": {
            "text/plain": [
              "      ID                  V1              V2               V3        \n",
              " Length:228         Min.   : 1.00   Min.   : 1.000   Min.   : 1.000  \n",
              " Class :character   1st Qu.: 2.00   1st Qu.: 1.000   1st Qu.: 1.000  \n",
              " Mode  :character   Median : 4.00   Median : 1.000   Median : 2.000  \n",
              "                    Mean   : 4.36   Mean   : 3.184   Mean   : 3.289  \n",
              "                    3rd Qu.: 6.00   3rd Qu.: 5.000   3rd Qu.: 5.000  \n",
              "                    Max.   :10.00   Max.   :10.000   Max.   :10.000  \n",
              "       V4               V5               V6               V7        \n",
              " Min.   : 1.000   Min.   : 1.000   Min.   : 1.000   Min.   : 1.000  \n",
              " 1st Qu.: 1.000   1st Qu.: 2.000   1st Qu.: 1.000   1st Qu.: 2.000  \n",
              " Median : 1.000   Median : 2.000   Median : 1.000   Median : 3.000  \n",
              " Mean   : 2.754   Mean   : 3.241   Mean   : 3.482   Mean   : 3.461  \n",
              " 3rd Qu.: 3.250   3rd Qu.: 4.000   3rd Qu.: 5.000   3rd Qu.: 5.000  \n",
              " Max.   :10.000   Max.   :10.000   Max.   :10.000   Max.   :10.000  \n",
              "       V8               V9               class    \n",
              " Min.   : 1.000   Min.   : 1.000   benign   :148  \n",
              " 1st Qu.: 1.000   1st Qu.: 1.000   malignant: 80  \n",
              " Median : 1.000   Median : 1.000                  \n",
              " Mean   : 3.066   Mean   : 1.623                  \n",
              " 3rd Qu.: 4.000   3rd Qu.: 1.000                  \n",
              " Max.   :10.000   Max.   :10.000                  "
            ]
          },
          "metadata": {}
        }
      ]
    },
    {
      "cell_type": "markdown",
      "metadata": {
        "id": "5Uz2SlQ0uEaU"
      },
      "source": [
        "Os dados de treino e teste estão homogêneos e balanceados na proporção 70%, 30%"
      ]
    },
    {
      "cell_type": "markdown",
      "metadata": {
        "id": "8klG3UoEMd1_"
      },
      "source": [
        "### Criando o modelo:"
      ]
    },
    {
      "cell_type": "markdown",
      "metadata": {
        "id": "vzqCd3-HOqmt"
      },
      "source": [
        "library class, funçao knn()\n",
        "\n",
        "parametros: dados de treino, dados de teste, cl = a variável resposta dos dados de treino e k = número de vizinhos mais proximos qu devem ser considerados na classificação."
      ]
    },
    {
      "cell_type": "code",
      "metadata": {
        "id": "bJvBywbvsBTQ",
        "colab": {
          "base_uri": "https://localhost:8080/",
          "height": 216
        },
        "outputId": "4ff83e32-e5f4-458b-e223-a9d9c956a36d"
      },
      "source": [
        "previsao <- knn(train = df_treino[2:10], test = df_teste[2:10], cl = factor(df_treino[,11]), k= 3)\n",
        "previsao"
      ],
      "execution_count": null,
      "outputs": [
        {
          "output_type": "display_data",
          "data": {
            "text/plain": [
              "  [1] benign    malignant benign    benign    benign    malignant benign   \n",
              "  [8] benign    benign    benign    malignant benign    benign    benign   \n",
              " [15] benign    benign    benign    benign    malignant malignant benign   \n",
              " [22] benign    malignant benign    benign    benign    benign    malignant\n",
              " [29] malignant benign    benign    benign    benign    malignant benign   \n",
              " [36] benign    benign    benign    benign    benign    benign    benign   \n",
              " [43] benign    benign    benign    malignant malignant benign    malignant\n",
              " [50] benign    benign    benign    benign    malignant malignant malignant\n",
              " [57] benign    malignant benign    benign    benign    malignant benign   \n",
              " [64] malignant benign    benign    benign    benign    benign    malignant\n",
              " [71] benign    malignant benign    malignant malignant benign    malignant\n",
              " [78] malignant malignant malignant benign    benign    benign    benign   \n",
              " [85] benign    malignant malignant benign    benign    malignant benign   \n",
              " [92] malignant malignant malignant benign    malignant benign    malignant\n",
              " [99] benign    malignant benign    benign    benign    benign    malignant\n",
              "[106] malignant malignant benign    benign    benign    benign    malignant\n",
              "[113] benign    benign    benign    malignant malignant benign    benign   \n",
              "[120] benign    benign    benign    benign    malignant malignant malignant\n",
              "[127] malignant benign    benign    malignant benign    malignant benign   \n",
              "[134] benign    benign    malignant malignant benign    benign    benign   \n",
              "[141] benign    malignant malignant benign    malignant malignant benign   \n",
              "[148] benign    benign    benign    benign    malignant malignant benign   \n",
              "[155] malignant benign    malignant malignant malignant malignant benign   \n",
              "[162] malignant benign    benign    benign    benign    benign    benign   \n",
              "[169] malignant malignant benign    benign    benign    benign    benign   \n",
              "[176] benign    benign    malignant benign    benign    malignant malignant\n",
              "[183] malignant malignant benign    malignant benign    malignant benign   \n",
              "[190] benign    malignant malignant benign    benign    malignant malignant\n",
              "[197] malignant benign    malignant benign    malignant benign    benign   \n",
              "[204] benign    benign    benign    benign    benign    benign    benign   \n",
              "[211] benign    benign    benign    malignant malignant malignant benign   \n",
              "[218] benign    benign    benign    benign    malignant benign    benign   \n",
              "[225] benign    benign    benign    benign   \n",
              "Levels: benign malignant"
            ],
            "text/latex": "\\begin{enumerate*}\n\\item benign\n\\item malignant\n\\item benign\n\\item benign\n\\item benign\n\\item malignant\n\\item benign\n\\item benign\n\\item benign\n\\item benign\n\\item malignant\n\\item benign\n\\item benign\n\\item benign\n\\item benign\n\\item benign\n\\item benign\n\\item benign\n\\item malignant\n\\item malignant\n\\item benign\n\\item benign\n\\item malignant\n\\item benign\n\\item benign\n\\item benign\n\\item benign\n\\item malignant\n\\item malignant\n\\item benign\n\\item benign\n\\item benign\n\\item benign\n\\item malignant\n\\item benign\n\\item benign\n\\item benign\n\\item benign\n\\item benign\n\\item benign\n\\item benign\n\\item benign\n\\item benign\n\\item benign\n\\item benign\n\\item malignant\n\\item malignant\n\\item benign\n\\item malignant\n\\item benign\n\\item benign\n\\item benign\n\\item benign\n\\item malignant\n\\item malignant\n\\item malignant\n\\item benign\n\\item malignant\n\\item benign\n\\item benign\n\\item benign\n\\item malignant\n\\item benign\n\\item malignant\n\\item benign\n\\item benign\n\\item benign\n\\item benign\n\\item benign\n\\item malignant\n\\item benign\n\\item malignant\n\\item benign\n\\item malignant\n\\item malignant\n\\item benign\n\\item malignant\n\\item malignant\n\\item malignant\n\\item malignant\n\\item benign\n\\item benign\n\\item benign\n\\item benign\n\\item benign\n\\item malignant\n\\item malignant\n\\item benign\n\\item benign\n\\item malignant\n\\item benign\n\\item malignant\n\\item malignant\n\\item malignant\n\\item benign\n\\item malignant\n\\item benign\n\\item malignant\n\\item benign\n\\item malignant\n\\item benign\n\\item benign\n\\item benign\n\\item benign\n\\item malignant\n\\item malignant\n\\item malignant\n\\item benign\n\\item benign\n\\item benign\n\\item benign\n\\item malignant\n\\item benign\n\\item benign\n\\item benign\n\\item malignant\n\\item malignant\n\\item benign\n\\item benign\n\\item benign\n\\item benign\n\\item benign\n\\item benign\n\\item malignant\n\\item malignant\n\\item malignant\n\\item malignant\n\\item benign\n\\item benign\n\\item malignant\n\\item benign\n\\item malignant\n\\item benign\n\\item benign\n\\item benign\n\\item malignant\n\\item malignant\n\\item benign\n\\item benign\n\\item benign\n\\item benign\n\\item malignant\n\\item malignant\n\\item benign\n\\item malignant\n\\item malignant\n\\item benign\n\\item benign\n\\item benign\n\\item benign\n\\item benign\n\\item malignant\n\\item malignant\n\\item benign\n\\item malignant\n\\item benign\n\\item malignant\n\\item malignant\n\\item malignant\n\\item malignant\n\\item benign\n\\item malignant\n\\item benign\n\\item benign\n\\item benign\n\\item benign\n\\item benign\n\\item benign\n\\item malignant\n\\item malignant\n\\item benign\n\\item benign\n\\item benign\n\\item benign\n\\item benign\n\\item benign\n\\item benign\n\\item malignant\n\\item benign\n\\item benign\n\\item malignant\n\\item malignant\n\\item malignant\n\\item malignant\n\\item benign\n\\item malignant\n\\item benign\n\\item malignant\n\\item benign\n\\item benign\n\\item malignant\n\\item malignant\n\\item benign\n\\item benign\n\\item malignant\n\\item malignant\n\\item malignant\n\\item benign\n\\item malignant\n\\item benign\n\\item malignant\n\\item benign\n\\item benign\n\\item benign\n\\item benign\n\\item benign\n\\item benign\n\\item benign\n\\item benign\n\\item benign\n\\item benign\n\\item benign\n\\item benign\n\\item malignant\n\\item malignant\n\\item malignant\n\\item benign\n\\item benign\n\\item benign\n\\item benign\n\\item benign\n\\item malignant\n\\item benign\n\\item benign\n\\item benign\n\\item benign\n\\item benign\n\\item benign\n\\end{enumerate*}\n\n\\emph{Levels}: \\begin{enumerate*}\n\\item 'benign'\n\\item 'malignant'\n\\end{enumerate*}\n",
            "text/markdown": "1. benign\n2. malignant\n3. benign\n4. benign\n5. benign\n6. malignant\n7. benign\n8. benign\n9. benign\n10. benign\n11. malignant\n12. benign\n13. benign\n14. benign\n15. benign\n16. benign\n17. benign\n18. benign\n19. malignant\n20. malignant\n21. benign\n22. benign\n23. malignant\n24. benign\n25. benign\n26. benign\n27. benign\n28. malignant\n29. malignant\n30. benign\n31. benign\n32. benign\n33. benign\n34. malignant\n35. benign\n36. benign\n37. benign\n38. benign\n39. benign\n40. benign\n41. benign\n42. benign\n43. benign\n44. benign\n45. benign\n46. malignant\n47. malignant\n48. benign\n49. malignant\n50. benign\n51. benign\n52. benign\n53. benign\n54. malignant\n55. malignant\n56. malignant\n57. benign\n58. malignant\n59. benign\n60. benign\n61. benign\n62. malignant\n63. benign\n64. malignant\n65. benign\n66. benign\n67. benign\n68. benign\n69. benign\n70. malignant\n71. benign\n72. malignant\n73. benign\n74. malignant\n75. malignant\n76. benign\n77. malignant\n78. malignant\n79. malignant\n80. malignant\n81. benign\n82. benign\n83. benign\n84. benign\n85. benign\n86. malignant\n87. malignant\n88. benign\n89. benign\n90. malignant\n91. benign\n92. malignant\n93. malignant\n94. malignant\n95. benign\n96. malignant\n97. benign\n98. malignant\n99. benign\n100. malignant\n101. benign\n102. benign\n103. benign\n104. benign\n105. malignant\n106. malignant\n107. malignant\n108. benign\n109. benign\n110. benign\n111. benign\n112. malignant\n113. benign\n114. benign\n115. benign\n116. malignant\n117. malignant\n118. benign\n119. benign\n120. benign\n121. benign\n122. benign\n123. benign\n124. malignant\n125. malignant\n126. malignant\n127. malignant\n128. benign\n129. benign\n130. malignant\n131. benign\n132. malignant\n133. benign\n134. benign\n135. benign\n136. malignant\n137. malignant\n138. benign\n139. benign\n140. benign\n141. benign\n142. malignant\n143. malignant\n144. benign\n145. malignant\n146. malignant\n147. benign\n148. benign\n149. benign\n150. benign\n151. benign\n152. malignant\n153. malignant\n154. benign\n155. malignant\n156. benign\n157. malignant\n158. malignant\n159. malignant\n160. malignant\n161. benign\n162. malignant\n163. benign\n164. benign\n165. benign\n166. benign\n167. benign\n168. benign\n169. malignant\n170. malignant\n171. benign\n172. benign\n173. benign\n174. benign\n175. benign\n176. benign\n177. benign\n178. malignant\n179. benign\n180. benign\n181. malignant\n182. malignant\n183. malignant\n184. malignant\n185. benign\n186. malignant\n187. benign\n188. malignant\n189. benign\n190. benign\n191. malignant\n192. malignant\n193. benign\n194. benign\n195. malignant\n196. malignant\n197. malignant\n198. benign\n199. malignant\n200. benign\n201. malignant\n202. benign\n203. benign\n204. benign\n205. benign\n206. benign\n207. benign\n208. benign\n209. benign\n210. benign\n211. benign\n212. benign\n213. benign\n214. malignant\n215. malignant\n216. malignant\n217. benign\n218. benign\n219. benign\n220. benign\n221. benign\n222. malignant\n223. benign\n224. benign\n225. benign\n226. benign\n227. benign\n228. benign\n\n\n\n**Levels**: 1. 'benign'\n2. 'malignant'\n\n\n",
            "text/html": [
              "<style>\n",
              ".list-inline {list-style: none; margin:0; padding: 0}\n",
              ".list-inline>li {display: inline-block}\n",
              ".list-inline>li:not(:last-child)::after {content: \"\\00b7\"; padding: 0 .5ex}\n",
              "</style>\n",
              "<ol class=list-inline><li>benign</li><li>malignant</li><li>benign</li><li>benign</li><li>benign</li><li>malignant</li><li>benign</li><li>benign</li><li>benign</li><li>benign</li><li>malignant</li><li>benign</li><li>benign</li><li>benign</li><li>benign</li><li>benign</li><li>benign</li><li>benign</li><li>malignant</li><li>malignant</li><li>benign</li><li>benign</li><li>malignant</li><li>benign</li><li>benign</li><li>benign</li><li>benign</li><li>malignant</li><li>malignant</li><li>benign</li><li>benign</li><li>benign</li><li>benign</li><li>malignant</li><li>benign</li><li>benign</li><li>benign</li><li>benign</li><li>benign</li><li>benign</li><li>benign</li><li>benign</li><li>benign</li><li>benign</li><li>benign</li><li>malignant</li><li>malignant</li><li>benign</li><li>malignant</li><li>benign</li><li>benign</li><li>benign</li><li>benign</li><li>malignant</li><li>malignant</li><li>malignant</li><li>benign</li><li>malignant</li><li>benign</li><li>benign</li><li>benign</li><li>malignant</li><li>benign</li><li>malignant</li><li>benign</li><li>benign</li><li>benign</li><li>benign</li><li>benign</li><li>malignant</li><li>benign</li><li>malignant</li><li>benign</li><li>malignant</li><li>malignant</li><li>benign</li><li>malignant</li><li>malignant</li><li>malignant</li><li>malignant</li><li>benign</li><li>benign</li><li>benign</li><li>benign</li><li>benign</li><li>malignant</li><li>malignant</li><li>benign</li><li>benign</li><li>malignant</li><li>benign</li><li>malignant</li><li>malignant</li><li>malignant</li><li>benign</li><li>malignant</li><li>benign</li><li>malignant</li><li>benign</li><li>malignant</li><li>benign</li><li>benign</li><li>benign</li><li>benign</li><li>malignant</li><li>malignant</li><li>malignant</li><li>benign</li><li>benign</li><li>benign</li><li>benign</li><li>malignant</li><li>benign</li><li>benign</li><li>benign</li><li>malignant</li><li>malignant</li><li>benign</li><li>benign</li><li>benign</li><li>benign</li><li>benign</li><li>benign</li><li>malignant</li><li>malignant</li><li>malignant</li><li>malignant</li><li>benign</li><li>benign</li><li>malignant</li><li>benign</li><li>malignant</li><li>benign</li><li>benign</li><li>benign</li><li>malignant</li><li>malignant</li><li>benign</li><li>benign</li><li>benign</li><li>benign</li><li>malignant</li><li>malignant</li><li>benign</li><li>malignant</li><li>malignant</li><li>benign</li><li>benign</li><li>benign</li><li>benign</li><li>benign</li><li>malignant</li><li>malignant</li><li>benign</li><li>malignant</li><li>benign</li><li>malignant</li><li>malignant</li><li>malignant</li><li>malignant</li><li>benign</li><li>malignant</li><li>benign</li><li>benign</li><li>benign</li><li>benign</li><li>benign</li><li>benign</li><li>malignant</li><li>malignant</li><li>benign</li><li>benign</li><li>benign</li><li>benign</li><li>benign</li><li>benign</li><li>benign</li><li>malignant</li><li>benign</li><li>benign</li><li>malignant</li><li>malignant</li><li>malignant</li><li>malignant</li><li>benign</li><li>malignant</li><li>benign</li><li>malignant</li><li>benign</li><li>benign</li><li>malignant</li><li>malignant</li><li>benign</li><li>benign</li><li>malignant</li><li>malignant</li><li>malignant</li><li>benign</li><li>malignant</li><li>benign</li><li>malignant</li><li>benign</li><li>benign</li><li>benign</li><li>benign</li><li>benign</li><li>benign</li><li>benign</li><li>benign</li><li>benign</li><li>benign</li><li>benign</li><li>benign</li><li>malignant</li><li>malignant</li><li>malignant</li><li>benign</li><li>benign</li><li>benign</li><li>benign</li><li>benign</li><li>malignant</li><li>benign</li><li>benign</li><li>benign</li><li>benign</li><li>benign</li><li>benign</li></ol>\n",
              "\n",
              "<details>\n",
              "\t<summary style=display:list-item;cursor:pointer>\n",
              "\t\t<strong>Levels</strong>:\n",
              "\t</summary>\n",
              "\t<style>\n",
              "\t.list-inline {list-style: none; margin:0; padding: 0}\n",
              "\t.list-inline>li {display: inline-block}\n",
              "\t.list-inline>li:not(:last-child)::after {content: \"\\00b7\"; padding: 0 .5ex}\n",
              "\t</style>\n",
              "\t<ol class=list-inline><li>'benign'</li><li>'malignant'</li></ol>\n",
              "</details>"
            ]
          },
          "metadata": {}
        }
      ]
    },
    {
      "cell_type": "code",
      "metadata": {
        "colab": {
          "base_uri": "https://localhost:8080/",
          "height": 33
        },
        "id": "PX80d0RvO8l7",
        "outputId": "ce380867-0711-4ab6-d746-bb1ec465f4c3"
      },
      "source": [
        "summary(previsao)"
      ],
      "execution_count": null,
      "outputs": [
        {
          "output_type": "display_data",
          "data": {
            "text/plain": [
              "   benign malignant \n",
              "      147        81 "
            ],
            "text/latex": "\\begin{description*}\n\\item[benign] 147\n\\item[malignant] 81\n\\end{description*}\n",
            "text/markdown": "benign\n:   147malignant\n:   81\n\n",
            "text/html": [
              "<style>\n",
              ".dl-inline {width: auto; margin:0; padding: 0}\n",
              ".dl-inline>dt, .dl-inline>dd {float: none; width: auto; display: inline-block}\n",
              ".dl-inline>dt::after {content: \":\\0020\"; padding-right: .5ex}\n",
              ".dl-inline>dt:not(:first-of-type) {padding-left: .5ex}\n",
              "</style><dl class=dl-inline><dt>benign</dt><dd>147</dd><dt>malignant</dt><dd>81</dd></dl>\n"
            ]
          },
          "metadata": {}
        }
      ]
    },
    {
      "cell_type": "markdown",
      "metadata": {
        "id": "ZV9XvVXePA_M"
      },
      "source": [
        "### Avaliando o modelo"
      ]
    },
    {
      "cell_type": "code",
      "metadata": {
        "id": "lfTBOEIhu0uV",
        "colab": {
          "base_uri": "https://localhost:8080/",
          "height": 87
        },
        "outputId": "26979071-30f1-4c2d-bfe3-9e859d60b4f7"
      },
      "source": [
        "matconf = table(df_teste[, 11], previsao, dnn = list(\"Previsto\", \"Real\"))\n",
        "matconf"
      ],
      "execution_count": null,
      "outputs": [
        {
          "output_type": "display_data",
          "data": {
            "text/plain": [
              "           Real\n",
              "Previsto    benign malignant\n",
              "  benign       143         5\n",
              "  malignant      4        76"
            ]
          },
          "metadata": {}
        }
      ]
    },
    {
      "cell_type": "code",
      "metadata": {
        "id": "9FdE9Hs5IN9X"
      },
      "source": [
        "VP <- matconf[4]\n",
        "VN <- matconf[1]\n",
        "FP <- matconf[2]\n",
        "FN <- matconf[3]\n",
        "P <- VP + FN\n",
        "N <- VN + FP"
      ],
      "execution_count": null,
      "outputs": []
    },
    {
      "cell_type": "code",
      "metadata": {
        "colab": {
          "base_uri": "https://localhost:8080/",
          "height": 116
        },
        "id": "1HbFQPVxIrsn",
        "outputId": "62fd423d-4c63-409c-9ad1-2fcaac02946f"
      },
      "source": [
        "glue('Verdadeiro Positivo = {VP}')\n",
        "glue('Verdadeiro Negativo = {VN}')\n",
        "glue('Falso Positivo =      {FP}')\n",
        "glue('Falso Negativo =      {FN}')\n",
        "glue('Número de eventos = {P}')\n",
        "glue('Número de não eventos = {N}')"
      ],
      "execution_count": null,
      "outputs": [
        {
          "output_type": "display_data",
          "data": {
            "text/plain": [
              "Verdadeiro Positivo = 76"
            ],
            "text/latex": "'Verdadeiro Positivo = 76'",
            "text/markdown": "'Verdadeiro Positivo = 76'",
            "text/html": [
              "'Verdadeiro Positivo = 76'"
            ]
          },
          "metadata": {}
        },
        {
          "output_type": "display_data",
          "data": {
            "text/plain": [
              "Verdadeiro Negativo = 143"
            ],
            "text/latex": "'Verdadeiro Negativo = 143'",
            "text/markdown": "'Verdadeiro Negativo = 143'",
            "text/html": [
              "'Verdadeiro Negativo = 143'"
            ]
          },
          "metadata": {}
        },
        {
          "output_type": "display_data",
          "data": {
            "text/plain": [
              "Falso Positivo =      4"
            ],
            "text/latex": "'Falso Positivo =      4'",
            "text/markdown": "<span style=white-space:pre-wrap>'Falso Positivo =      4'</span>",
            "text/html": [
              "<span style=white-space:pre-wrap>'Falso Positivo =      4'</span>"
            ]
          },
          "metadata": {}
        },
        {
          "output_type": "display_data",
          "data": {
            "text/plain": [
              "Falso Negativo =      5"
            ],
            "text/latex": "'Falso Negativo =      5'",
            "text/markdown": "<span style=white-space:pre-wrap>'Falso Negativo =      5'</span>",
            "text/html": [
              "<span style=white-space:pre-wrap>'Falso Negativo =      5'</span>"
            ]
          },
          "metadata": {}
        },
        {
          "output_type": "display_data",
          "data": {
            "text/plain": [
              "Número de eventos = 81"
            ],
            "text/latex": "'Número de eventos = 81'",
            "text/markdown": "'Número de eventos = 81'",
            "text/html": [
              "'Número de eventos = 81'"
            ]
          },
          "metadata": {}
        },
        {
          "output_type": "display_data",
          "data": {
            "text/plain": [
              "Número de não eventos = 147"
            ],
            "text/latex": "'Número de não eventos = 147'",
            "text/markdown": "'Número de não eventos = 147'",
            "text/html": [
              "'Número de não eventos = 147'"
            ]
          },
          "metadata": {}
        }
      ]
    },
    {
      "cell_type": "markdown",
      "metadata": {
        "id": "D_7WBQs1I9EB"
      },
      "source": [
        "Com a matriz de confusão vemos os acertos e erros de previsão do modelo. Perebemos que no que se refere à detecção de tumores malignos existem 70 previsões que são corretas (Verdadeiros positivos) e 1 que foi entendida como maligno mesmo sendo maligno (Falso positivo). Houve também 128 tumores benignos previstos corretamente (Verdadeiros Negativos) e 5 que foram classificados como benignos sendo malignos (Falsos Negativos)."
      ]
    },
    {
      "cell_type": "markdown",
      "metadata": {
        "id": "MKP0l-nqHpHP"
      },
      "source": [
        "**Acurácia = (VN + VP) / (P + N) É a proporção de predições corretas**"
      ]
    },
    {
      "cell_type": "code",
      "metadata": {
        "colab": {
          "base_uri": "https://localhost:8080/",
          "height": 33
        },
        "id": "JjkrqHJzE3A6",
        "outputId": "f27607d7-1375-4df6-8704-74ba00c1ddff"
      },
      "source": [
        "acuracia <- (VN + VP) / (P + N) \n",
        "round(acuracia,4)"
      ],
      "execution_count": null,
      "outputs": [
        {
          "output_type": "display_data",
          "data": {
            "text/plain": [
              "[1] 0.9605"
            ],
            "text/latex": "0.9605",
            "text/markdown": "0.9605",
            "text/html": [
              "0.9605"
            ]
          },
          "metadata": {}
        }
      ]
    },
    {
      "cell_type": "code",
      "metadata": {
        "colab": {
          "base_uri": "https://localhost:8080/",
          "height": 33
        },
        "id": "kFgL3_pnhJLN",
        "outputId": "eed14be2-2a8a-4758-87a7-b391360c79f2"
      },
      "source": [
        "# Outra forma de obter a acurácia\n",
        "round(sum(diag(matconf))/sum(matconf),4)"
      ],
      "execution_count": null,
      "outputs": [
        {
          "output_type": "display_data",
          "data": {
            "text/plain": [
              "[1] 0.9605"
            ],
            "text/latex": "0.9605",
            "text/markdown": "0.9605",
            "text/html": [
              "0.9605"
            ]
          },
          "metadata": {}
        }
      ]
    },
    {
      "cell_type": "markdown",
      "metadata": {
        "id": "efbL1jLLLBJH"
      },
      "source": [
        "Ao compararmos os resultados de estimados pelo modelo com os resutados reais da base de teste temos que houve acerto em 97% dos casos."
      ]
    },
    {
      "cell_type": "markdown",
      "metadata": {
        "id": "Rg-tCWA5Hrw8"
      },
      "source": [
        "**Sensibilidade = VP / (VP + FN) É a proporção de verdadeiros positivos**\n",
        "\n",
        "Casos positivos identificados corretamente"
      ]
    },
    {
      "cell_type": "code",
      "metadata": {
        "colab": {
          "base_uri": "https://localhost:8080/",
          "height": 33
        },
        "id": "lxS10XB3HtCA",
        "outputId": "cad30018-d23f-46ae-c8d5-834faa010779"
      },
      "source": [
        "sensibilidade <- VP / (VP + FN)\n",
        "round(sensibilidade,3)"
      ],
      "execution_count": null,
      "outputs": [
        {
          "output_type": "display_data",
          "data": {
            "text/plain": [
              "[1] 0.938"
            ],
            "text/latex": "0.938",
            "text/markdown": "0.938",
            "text/html": [
              "0.938"
            ]
          },
          "metadata": {}
        }
      ]
    },
    {
      "cell_type": "markdown",
      "metadata": {
        "id": "af-O6fvcL5QK"
      },
      "source": [
        "Na previsão de tumores malignos, modelo criado acertou em 93% das previsões"
      ]
    },
    {
      "cell_type": "markdown",
      "metadata": {
        "id": "ZTrGfTZ_HvDj"
      },
      "source": [
        "**Especificidade = VN / (VN + FP) É a proporção de verdadeiros negativos**\n",
        "\n",
        "Casos negativos identificados corretamente"
      ]
    },
    {
      "cell_type": "code",
      "metadata": {
        "colab": {
          "base_uri": "https://localhost:8080/",
          "height": 33
        },
        "id": "XzfSCmBuHt9V",
        "outputId": "3db190db-86a6-42fb-85d2-61ac7c650d6a"
      },
      "source": [
        "especificidade <- VN / (VN + FP)\n",
        "round(especificidade, 3)"
      ],
      "execution_count": null,
      "outputs": [
        {
          "output_type": "display_data",
          "data": {
            "text/plain": [
              "[1] 0.973"
            ],
            "text/latex": "0.973",
            "text/markdown": "0.973",
            "text/html": [
              "0.973"
            ]
          },
          "metadata": {}
        }
      ]
    },
    {
      "cell_type": "markdown",
      "metadata": {
        "id": "0TlpWrUgLmXT"
      },
      "source": [
        "Ao avaliarmos os casos de detecção de tumores benignos o modelo foi ainda mais assertivo e previu corretamente 93% dos casos"
      ]
    },
    {
      "cell_type": "code",
      "metadata": {
        "colab": {
          "base_uri": "https://localhost:8080/",
          "height": 496
        },
        "id": "eo78aYe4q_py",
        "outputId": "b0b50a14-18f4-409c-93b3-08e5751d1957"
      },
      "source": [
        "# Podemos também obter a matriz de confusão com a função confusionMatrix():\n",
        "\n",
        "matriz <- confusionMatrix(matconf, positive = 'malignant')\n",
        "matriz"
      ],
      "execution_count": null,
      "outputs": [
        {
          "output_type": "display_data",
          "data": {
            "text/plain": [
              "Confusion Matrix and Statistics\n",
              "\n",
              "           Real\n",
              "Previsto    benign malignant\n",
              "  benign       143         5\n",
              "  malignant      4        76\n",
              "                                          \n",
              "               Accuracy : 0.9605          \n",
              "                 95% CI : (0.9264, 0.9818)\n",
              "    No Information Rate : 0.6447          \n",
              "    P-Value [Acc > NIR] : <2e-16          \n",
              "                                          \n",
              "                  Kappa : 0.9136          \n",
              "                                          \n",
              " Mcnemar's Test P-Value : 1               \n",
              "                                          \n",
              "            Sensitivity : 0.9383          \n",
              "            Specificity : 0.9728          \n",
              "         Pos Pred Value : 0.9500          \n",
              "         Neg Pred Value : 0.9662          \n",
              "             Prevalence : 0.3553          \n",
              "         Detection Rate : 0.3333          \n",
              "   Detection Prevalence : 0.3509          \n",
              "      Balanced Accuracy : 0.9555          \n",
              "                                          \n",
              "       'Positive' Class : malignant       \n",
              "                                          "
            ]
          },
          "metadata": {}
        }
      ]
    },
    {
      "cell_type": "code",
      "metadata": {
        "colab": {
          "base_uri": "https://localhost:8080/",
          "height": 33
        },
        "id": "bdOEfQrMudU5",
        "outputId": "70c215a6-58a8-4610-ccec-f2e8b32ad93d"
      },
      "source": [
        "matriz$overall[1]"
      ],
      "execution_count": null,
      "outputs": [
        {
          "output_type": "display_data",
          "data": {
            "text/plain": [
              " Accuracy \n",
              "0.9605263 "
            ],
            "text/latex": "\\textbf{Accuracy:} 0.960526315789474",
            "text/markdown": "**Accuracy:** 0.960526315789474",
            "text/html": [
              "<strong>Accuracy:</strong> 0.960526315789474"
            ]
          },
          "metadata": {}
        }
      ]
    },
    {
      "cell_type": "code",
      "metadata": {
        "colab": {
          "base_uri": "https://localhost:8080/",
          "height": 33
        },
        "id": "4eVTxsoAuJXl",
        "outputId": "179e57d2-117c-4140-b3df-5b6025920159"
      },
      "source": [
        "matriz$byClass[1]"
      ],
      "execution_count": null,
      "outputs": [
        {
          "output_type": "display_data",
          "data": {
            "text/plain": [
              "Sensitivity \n",
              "  0.9382716 "
            ],
            "text/latex": "\\textbf{Sensitivity:} 0.938271604938272",
            "text/markdown": "**Sensitivity:** 0.938271604938272",
            "text/html": [
              "<strong>Sensitivity:</strong> 0.938271604938272"
            ]
          },
          "metadata": {}
        }
      ]
    },
    {
      "cell_type": "code",
      "metadata": {
        "colab": {
          "base_uri": "https://localhost:8080/",
          "height": 33
        },
        "id": "_aUF_f8vua0f",
        "outputId": "22c6c2b7-94ce-4831-b4ba-5fe848f508d2"
      },
      "source": [
        "matriz$byClass[2]"
      ],
      "execution_count": null,
      "outputs": [
        {
          "output_type": "display_data",
          "data": {
            "text/plain": [
              "Specificity \n",
              "  0.9727891 "
            ],
            "text/latex": "\\textbf{Specificity:} 0.972789115646258",
            "text/markdown": "**Specificity:** 0.972789115646258",
            "text/html": [
              "<strong>Specificity:</strong> 0.972789115646258"
            ]
          },
          "metadata": {}
        }
      ]
    },
    {
      "cell_type": "markdown",
      "metadata": {
        "id": "aRdOfuqma5Tz"
      },
      "source": [
        "## KNN Com a reamostragem"
      ]
    },
    {
      "cell_type": "markdown",
      "metadata": {
        "id": "VdtFgGkYdT3c"
      },
      "source": [
        "Knn e muitos outros algoritmos de aprendizado de máquina podem apresentar resultados diferentes a cada execução, seja pela escolha aleatória dos dados de treinamento/teste, seja pela inicialização do próprio algoritmo. Assim não se deve considerar o resultado de uma única execução para se avaliar um modelos. Por esse motivo este exercício explora a execução repetidas vezes do Knn para obter a média dessas execuções. Isso pode ser feito através de um laço de programa (loop)."
      ]
    },
    {
      "cell_type": "code",
      "metadata": {
        "colab": {
          "base_uri": "https://localhost:8080/",
          "height": 66
        },
        "id": "16_401bOkv4J",
        "outputId": "2b66226d-d3e4-44fa-bb2d-ed7a16b856a8"
      },
      "source": [
        "acuracia2 = c(1:100)*0\n",
        "sensibilidade2 = c(1:100)*0\n",
        "especificidade2 = c(1:100)*0\n",
        "\n",
        "for (i in 1:100) {\n",
        "    df_divisao2 = sample(1:nrow(df), round(nrow(df)/3))\n",
        "\n",
        "    df_treino2 <- df[-df_divisao2, ] # 70% das observações\n",
        "    df_teste2 <- df[df_divisao2,] # 30% das observações\n",
        "\n",
        "    classes2 = factor(df_treino2[,11])\n",
        "\n",
        "    previsao2 <- knn(train = df_treino2[2:10], test = df_teste2[2:10], cl = classes2, k= 5)\n",
        "    matconf2 = table(df_teste2[, 11], previsao2, dnn = list(\"Previsto\", \"Real\"))\n",
        "\n",
        "    VP <- matconf2[4]\n",
        "    VN <- matconf2[1]\n",
        "    FP <- matconf2[2]\n",
        "    FN <- matconf2[3]\n",
        "    P <- VP + FN\n",
        "    N <- VN + FP\n",
        "    acuracia2[i] <- (VN + VP) / (P + N) \n",
        "    sensibilidade2[i] <- VP / (VP + FN)\n",
        "    especificidade2[i] <- VN / (VN + FP)\n",
        "}\n",
        "\n",
        "acu = mean(acuracia2)\n",
        "sen = mean(sensibilidade2)\n",
        "esp = mean(especificidade2)\n",
        "\n",
        "glue('A acuracidade do modelo baseada na média de 100 execuções é de {round(acu *100,2)}%')\n",
        "glue('A sensibilidade do modelo baseada na média de 100 execuções é de {round(sen *100,2)}%')\n",
        "glue('A especificidade do modelo baseada na média de 100 execuções é de {round(esp *100,2)}%')"
      ],
      "execution_count": null,
      "outputs": [
        {
          "output_type": "display_data",
          "data": {
            "text/plain": [
              "A acuracidade do modelo baseada na média de 100 execuções é de 97.14%"
            ],
            "text/latex": "'A acuracidade do modelo baseada na média de 100 execuções é de 97.14\\%'",
            "text/markdown": "'A acuracidade do modelo baseada na média de 100 execuções é de 97.14%'",
            "text/html": [
              "'A acuracidade do modelo baseada na média de 100 execuções é de 97.14%'"
            ]
          },
          "metadata": {}
        },
        {
          "output_type": "display_data",
          "data": {
            "text/plain": [
              "A sensibilidade do modelo baseada na média de 100 execuções é de 95.75%"
            ],
            "text/latex": "'A sensibilidade do modelo baseada na média de 100 execuções é de 95.75\\%'",
            "text/markdown": "'A sensibilidade do modelo baseada na média de 100 execuções é de 95.75%'",
            "text/html": [
              "'A sensibilidade do modelo baseada na média de 100 execuções é de 95.75%'"
            ]
          },
          "metadata": {}
        },
        {
          "output_type": "display_data",
          "data": {
            "text/plain": [
              "A especificidade do modelo baseada na média de 100 execuções é de 97.89%"
            ],
            "text/latex": "'A especificidade do modelo baseada na média de 100 execuções é de 97.89\\%'",
            "text/markdown": "'A especificidade do modelo baseada na média de 100 execuções é de 97.89%'",
            "text/html": [
              "'A especificidade do modelo baseada na média de 100 execuções é de 97.89%'"
            ]
          },
          "metadata": {}
        }
      ]
    },
    {
      "cell_type": "markdown",
      "metadata": {
        "id": "PYiLPw85yDJq"
      },
      "source": [
        "k = 2\n",
        "\n",
        "'A acuracidade do modelo baseada na média de 100 execuções é de 96.17%'\n",
        "\n",
        "'A sensibilidade do modelo baseada na média de 100 execuções é de 95.15%'\n",
        "\n",
        "'A especificidade do modelo baseada na média de 100 execuções é de 96.71%'\n",
        "\n",
        "**k = 3**\n",
        "\n",
        "'A acuracidade do modelo baseada na média de 100 execuções é de 97.25%'\n",
        "\n",
        "'A sensibilidade do modelo baseada na média de 100 execuções é de 95.88%'\n",
        "\n",
        "'A especificidade do modelo baseada na média de 100 execuções é de 98.01%'\n",
        "\n",
        "k = 5\n",
        "\n",
        "'A acuracidade do modelo baseada na média de 100 execuções é de 96.91%'\n",
        "\n",
        "'A sensibilidade do modelo baseada na média de 100 execuções é de 95.53%'\n",
        "\n",
        "'A especificidade do modelo baseada na média de 100 execuções é de 97.67%'\n",
        "\n",
        "k = 12\n",
        "\n",
        "'A acuracidade do modelo baseada na média de 100 execuções é de 96.69%'\n",
        "\n",
        "'A sensibilidade do modelo baseada na média de 100 execuções é de 95.81%'\n",
        "\n",
        "'A especificidade do modelo baseada na média de 100 execuções é de 97.18%'\n"
      ]
    },
    {
      "cell_type": "markdown",
      "metadata": {
        "id": "55187MCfn_uf"
      },
      "source": [
        "Os resultados da acuracidade (96.74%), sensibilidade (95.4%) e especificidade (97.47%) desse modelo são baseados na média de 100 diferentes execuções com 100 amostragens diferentes do conjunto total dos dados. Testando para diferentes valores de K observamos que o que apresenta o melhor desempenho é o modelo que considera 3 vizinhos."
      ]
    },
    {
      "cell_type": "markdown",
      "metadata": {
        "id": "plMMGVjForOX"
      },
      "source": [
        "## Diferente tratamento dos NA para modelagem\n",
        "Na primeira execução do modelo, o critério para o tratamento dos NANs foi o de excluir as 16 linhas faltantes, neste teste removeremos a coluna com os dados faltantes e faremos uma nova comparação. "
      ]
    },
    {
      "cell_type": "code",
      "metadata": {
        "id": "AqNqiT9tpTxa"
      },
      "source": [
        "df2 <- biopsy\n",
        "df2$V6 <- NULL"
      ],
      "execution_count": null,
      "outputs": []
    },
    {
      "cell_type": "code",
      "metadata": {
        "colab": {
          "base_uri": "https://localhost:8080/",
          "height": 274
        },
        "id": "7XeQMz82pT2R",
        "outputId": "bb820066-ff34-47b1-b7f3-c15d908ea73e"
      },
      "source": [
        "head(df2)"
      ],
      "execution_count": null,
      "outputs": [
        {
          "output_type": "display_data",
          "data": {
            "text/plain": [
              "  ID      V1 V2 V3 V4 V5 V7 V8 V9 class    \n",
              "1 1000025 5   1  1 1  2  3  1  1  benign   \n",
              "2 1002945 5   4  4 5  7  3  2  1  benign   \n",
              "3 1015425 3   1  1 1  2  3  1  1  benign   \n",
              "4 1016277 6   8  8 1  3  3  7  1  benign   \n",
              "5 1017023 4   1  1 3  2  3  1  1  benign   \n",
              "6 1017122 8  10 10 8  7  9  7  1  malignant"
            ],
            "text/latex": "A data.frame: 6 × 10\n\\begin{tabular}{r|llllllllll}\n  & ID & V1 & V2 & V3 & V4 & V5 & V7 & V8 & V9 & class\\\\\n  & <chr> & <int> & <int> & <int> & <int> & <int> & <int> & <int> & <int> & <fct>\\\\\n\\hline\n\t1 & 1000025 & 5 &  1 &  1 & 1 & 2 & 3 & 1 & 1 & benign   \\\\\n\t2 & 1002945 & 5 &  4 &  4 & 5 & 7 & 3 & 2 & 1 & benign   \\\\\n\t3 & 1015425 & 3 &  1 &  1 & 1 & 2 & 3 & 1 & 1 & benign   \\\\\n\t4 & 1016277 & 6 &  8 &  8 & 1 & 3 & 3 & 7 & 1 & benign   \\\\\n\t5 & 1017023 & 4 &  1 &  1 & 3 & 2 & 3 & 1 & 1 & benign   \\\\\n\t6 & 1017122 & 8 & 10 & 10 & 8 & 7 & 9 & 7 & 1 & malignant\\\\\n\\end{tabular}\n",
            "text/markdown": "\nA data.frame: 6 × 10\n\n| <!--/--> | ID &lt;chr&gt; | V1 &lt;int&gt; | V2 &lt;int&gt; | V3 &lt;int&gt; | V4 &lt;int&gt; | V5 &lt;int&gt; | V7 &lt;int&gt; | V8 &lt;int&gt; | V9 &lt;int&gt; | class &lt;fct&gt; |\n|---|---|---|---|---|---|---|---|---|---|---|\n| 1 | 1000025 | 5 |  1 |  1 | 1 | 2 | 3 | 1 | 1 | benign    |\n| 2 | 1002945 | 5 |  4 |  4 | 5 | 7 | 3 | 2 | 1 | benign    |\n| 3 | 1015425 | 3 |  1 |  1 | 1 | 2 | 3 | 1 | 1 | benign    |\n| 4 | 1016277 | 6 |  8 |  8 | 1 | 3 | 3 | 7 | 1 | benign    |\n| 5 | 1017023 | 4 |  1 |  1 | 3 | 2 | 3 | 1 | 1 | benign    |\n| 6 | 1017122 | 8 | 10 | 10 | 8 | 7 | 9 | 7 | 1 | malignant |\n\n",
            "text/html": [
              "<table class=\"dataframe\">\n",
              "<caption>A data.frame: 6 × 10</caption>\n",
              "<thead>\n",
              "\t<tr><th></th><th scope=col>ID</th><th scope=col>V1</th><th scope=col>V2</th><th scope=col>V3</th><th scope=col>V4</th><th scope=col>V5</th><th scope=col>V7</th><th scope=col>V8</th><th scope=col>V9</th><th scope=col>class</th></tr>\n",
              "\t<tr><th></th><th scope=col>&lt;chr&gt;</th><th scope=col>&lt;int&gt;</th><th scope=col>&lt;int&gt;</th><th scope=col>&lt;int&gt;</th><th scope=col>&lt;int&gt;</th><th scope=col>&lt;int&gt;</th><th scope=col>&lt;int&gt;</th><th scope=col>&lt;int&gt;</th><th scope=col>&lt;int&gt;</th><th scope=col>&lt;fct&gt;</th></tr>\n",
              "</thead>\n",
              "<tbody>\n",
              "\t<tr><th scope=row>1</th><td>1000025</td><td>5</td><td> 1</td><td> 1</td><td>1</td><td>2</td><td>3</td><td>1</td><td>1</td><td>benign   </td></tr>\n",
              "\t<tr><th scope=row>2</th><td>1002945</td><td>5</td><td> 4</td><td> 4</td><td>5</td><td>7</td><td>3</td><td>2</td><td>1</td><td>benign   </td></tr>\n",
              "\t<tr><th scope=row>3</th><td>1015425</td><td>3</td><td> 1</td><td> 1</td><td>1</td><td>2</td><td>3</td><td>1</td><td>1</td><td>benign   </td></tr>\n",
              "\t<tr><th scope=row>4</th><td>1016277</td><td>6</td><td> 8</td><td> 8</td><td>1</td><td>3</td><td>3</td><td>7</td><td>1</td><td>benign   </td></tr>\n",
              "\t<tr><th scope=row>5</th><td>1017023</td><td>4</td><td> 1</td><td> 1</td><td>3</td><td>2</td><td>3</td><td>1</td><td>1</td><td>benign   </td></tr>\n",
              "\t<tr><th scope=row>6</th><td>1017122</td><td>8</td><td>10</td><td>10</td><td>8</td><td>7</td><td>9</td><td>7</td><td>1</td><td>malignant</td></tr>\n",
              "</tbody>\n",
              "</table>\n"
            ]
          },
          "metadata": {}
        }
      ]
    },
    {
      "cell_type": "code",
      "metadata": {
        "colab": {
          "base_uri": "https://localhost:8080/",
          "height": 33
        },
        "id": "uFbo1eXMqXhN",
        "outputId": "31a55a31-7c69-49e3-d834-f8e2a57e648a"
      },
      "source": [
        "ncol(df2)"
      ],
      "execution_count": null,
      "outputs": [
        {
          "output_type": "display_data",
          "data": {
            "text/plain": [
              "[1] 10"
            ],
            "text/latex": "10",
            "text/markdown": "10",
            "text/html": [
              "10"
            ]
          },
          "metadata": {}
        }
      ]
    },
    {
      "cell_type": "code",
      "metadata": {
        "colab": {
          "base_uri": "https://localhost:8080/",
          "height": 66
        },
        "id": "DR6jpptLpT67",
        "outputId": "de097952-f996-40a0-d05a-4b316adca64e"
      },
      "source": [
        "acuracia2 = c(1:100)*0\n",
        "sensibilidade2 = c(1:100)*0\n",
        "especificidade2 = c(1:100)*0\n",
        "\n",
        "for (i in 1:100) {\n",
        "    df_divisao2 = sample(1:nrow(df2), round(nrow(df2)/3))\n",
        "\n",
        "    df_treino2 <- df2[-df_divisao2, ] # 70% das observações\n",
        "    df_teste2 <-  df2[df_divisao2,] # 30% das observações\n",
        "\n",
        "    classes2 = factor(df_treino2[,10])\n",
        "\n",
        "    previsao2 <- knn(train = df_treino2[2:9], test = df_teste2[2:9], cl = classes2, k= 3)\n",
        "    matconf2 = table(df_teste2[, 10], previsao2, dnn = list(\"Previsto\", \"Real\"))\n",
        "\n",
        "    VP <- matconf2[4]\n",
        "    VN <- matconf2[1]\n",
        "    FP <- matconf2[2]\n",
        "    FN <- matconf2[3]\n",
        "    P <- VP + FN\n",
        "    N <- VN + FP\n",
        "    acuracia2[i] <- (VN + VP) / (P + N) \n",
        "    sensibilidade2[i] <- VP / (VP + FN)\n",
        "    especificidade2[i] <- VN / (VN + FP)\n",
        "}\n",
        "\n",
        "acu = mean(acuracia2)\n",
        "sen = mean(sensibilidade2)\n",
        "esp = mean(especificidade2)\n",
        "\n",
        "glue('A acuracidade do modelo baseada na média de 100 execuções é de {round(acu *100,2)}%')\n",
        "glue('A sensibilidade do modelo baseada na média de 100 execuções é de {round(sen *100,2)}%')\n",
        "glue('A especificidade do modelo baseada na média de 100 execuções é de {round(esp *100,2)}%')"
      ],
      "execution_count": null,
      "outputs": [
        {
          "output_type": "display_data",
          "data": {
            "text/plain": [
              "A acuracidade do modelo baseada na média de 100 execuções é de 95.76%"
            ],
            "text/latex": "'A acuracidade do modelo baseada na média de 100 execuções é de 95.76\\%'",
            "text/markdown": "'A acuracidade do modelo baseada na média de 100 execuções é de 95.76%'",
            "text/html": [
              "'A acuracidade do modelo baseada na média de 100 execuções é de 95.76%'"
            ]
          },
          "metadata": {}
        },
        {
          "output_type": "display_data",
          "data": {
            "text/plain": [
              "A sensibilidade do modelo baseada na média de 100 execuções é de 93.76%"
            ],
            "text/latex": "'A sensibilidade do modelo baseada na média de 100 execuções é de 93.76\\%'",
            "text/markdown": "'A sensibilidade do modelo baseada na média de 100 execuções é de 93.76%'",
            "text/html": [
              "'A sensibilidade do modelo baseada na média de 100 execuções é de 93.76%'"
            ]
          },
          "metadata": {}
        },
        {
          "output_type": "display_data",
          "data": {
            "text/plain": [
              "A especificidade do modelo baseada na média de 100 execuções é de 96.85%"
            ],
            "text/latex": "'A especificidade do modelo baseada na média de 100 execuções é de 96.85\\%'",
            "text/markdown": "'A especificidade do modelo baseada na média de 100 execuções é de 96.85%'",
            "text/html": [
              "'A especificidade do modelo baseada na média de 100 execuções é de 96.85%'"
            ]
          },
          "metadata": {}
        }
      ]
    },
    {
      "cell_type": "markdown",
      "metadata": {
        "id": "k2WPYJ0Xwqv3"
      },
      "source": [
        "Vemos que o modelo que considerou o dataset com a exclusão das linhas com dados faltantes apresenta um resultado levemente melhor, enquanto o modelo que excluiu a coluna inteira apresenta um desempenho pior. "
      ]
    },
    {
      "cell_type": "code",
      "source": [
        ""
      ],
      "metadata": {
        "id": "H64Cnlca0voi"
      },
      "execution_count": null,
      "outputs": []
    }
  ]
}